{
 "cells": [
  {
   "cell_type": "code",
   "execution_count": 1,
   "metadata": {
    "collapsed": false,
    "deletable": true,
    "editable": true
   },
   "outputs": [
    {
     "data": {
      "text/plain": [
       "['Hello World!', \"It's good to see you.\", 'Thanks for buying this book.']"
      ]
     },
     "execution_count": 1,
     "metadata": {},
     "output_type": "execute_result"
    }
   ],
   "source": [
    "from nltk.tokenize import sent_tokenize\n",
    "para = \"Hello World! It's good to see you. Thanks for buying this book.\"\n",
    "sent_tokenize(para)"
   ]
  },
  {
   "cell_type": "code",
   "execution_count": 2,
   "metadata": {
    "collapsed": false,
    "deletable": true,
    "editable": true
   },
   "outputs": [
    {
     "data": {
      "text/plain": [
       "['Hello',\n",
       " 'World',\n",
       " '!',\n",
       " 'It',\n",
       " \"'s\",\n",
       " 'good',\n",
       " 'to',\n",
       " 'see',\n",
       " 'you',\n",
       " '.',\n",
       " 'Thanks',\n",
       " 'for',\n",
       " 'buying',\n",
       " 'this',\n",
       " 'book',\n",
       " '.']"
      ]
     },
     "execution_count": 2,
     "metadata": {},
     "output_type": "execute_result"
    }
   ],
   "source": [
    "from nltk import pos_tag\n",
    "from nltk.tokenize import word_tokenize\n",
    "word_tokenize(para)"
   ]
  },
  {
   "cell_type": "code",
   "execution_count": 3,
   "metadata": {
    "collapsed": false,
    "deletable": true,
    "editable": true
   },
   "outputs": [
    {
     "data": {
      "text/plain": [
       "[('Hello', 'NNP'),\n",
       " ('World', 'NNP'),\n",
       " ('!', '.'),\n",
       " ('It', 'PRP'),\n",
       " (\"'s\", 'VBZ'),\n",
       " ('good', 'JJ'),\n",
       " ('to', 'TO'),\n",
       " ('see', 'VB'),\n",
       " ('you', 'PRP'),\n",
       " ('.', '.'),\n",
       " ('Thanks', 'NNS'),\n",
       " ('for', 'IN'),\n",
       " ('buying', 'VBG'),\n",
       " ('this', 'DT'),\n",
       " ('book', 'NN'),\n",
       " ('.', '.')]"
      ]
     },
     "execution_count": 3,
     "metadata": {},
     "output_type": "execute_result"
    }
   ],
   "source": [
    "pos_tag(word_tokenize(para))"
   ]
  },
  {
   "cell_type": "code",
   "execution_count": 4,
   "metadata": {
    "collapsed": false,
    "deletable": true,
    "editable": true
   },
   "outputs": [
    {
     "data": {
      "text/plain": [
       "['Hello',\n",
       " 'World',\n",
       " '!',\n",
       " 'It',\n",
       " \"'s\",\n",
       " 'good',\n",
       " 'to',\n",
       " 'see',\n",
       " 'you.',\n",
       " 'Thanks',\n",
       " 'for',\n",
       " 'buying',\n",
       " 'this',\n",
       " 'book',\n",
       " '.']"
      ]
     },
     "execution_count": 4,
     "metadata": {},
     "output_type": "execute_result"
    }
   ],
   "source": [
    "from nltk.tokenize import TreebankWordTokenizer\n",
    "tokenizer = TreebankWordTokenizer()\n",
    "tokenizer.tokenize(para)"
   ]
  },
  {
   "cell_type": "code",
   "execution_count": 5,
   "metadata": {
    "collapsed": false,
    "deletable": true,
    "editable": true
   },
   "outputs": [
    {
     "name": "stdout",
     "output_type": "stream",
     "text": [
      "['Hello', '.', 'Isn', \"'\", 't', 'this', 'fun', '?']\n"
     ]
    }
   ],
   "source": [
    "import nltk\n",
    "text = \"Hello. Isn't this fun?\"\n",
    "pattern = r\"\\w+|[^\\w\\s]+\"           \n",
    "# r：regular expression；双引号\"\"可以用单引号''代替；\n",
    "#\\w表示单词字符，等同于字符集合[a-zA-Z0-9_]；\n",
    "#+表示一次或者多次，等同于{1,}，即c+ 和 c{1,} 是一个意思；\n",
    "#\"|\"：二选一，正则表达式中的\"或\"； [...]：字符集（字符类），其对应的位置可以是字符集中任意字符，例如，a[bcd]表abe、ace和ade；\n",
    "#^表示只匹配字符串的开头；\\s匹配单个空格，等同于[\\f\\n\\r\\t\\v]。\n",
    "print( nltk.tokenize.regexp_tokenize(text,pattern))"
   ]
  },
  {
   "cell_type": "code",
   "execution_count": 6,
   "metadata": {
    "collapsed": false,
    "deletable": true,
    "editable": true
   },
   "outputs": [
    {
     "data": {
      "text/plain": [
       "['Hello',\n",
       " 'World',\n",
       " \"It's\",\n",
       " 'good',\n",
       " 'to',\n",
       " 'see',\n",
       " 'you',\n",
       " 'Thanks',\n",
       " 'for',\n",
       " 'buying',\n",
       " 'this',\n",
       " 'book']"
      ]
     },
     "execution_count": 6,
     "metadata": {},
     "output_type": "execute_result"
    }
   ],
   "source": [
    "from nltk.tokenize import RegexpTokenizer\n",
    "tokenizer = RegexpTokenizer(\"[\\w']+\")\n",
    "tokenizer.tokenize(para)"
   ]
  },
  {
   "cell_type": "code",
   "execution_count": 7,
   "metadata": {
    "collapsed": false,
    "deletable": true,
    "editable": true
   },
   "outputs": [
    {
     "data": {
      "text/plain": [
       "['Hello',\n",
       " 'World',\n",
       " \"It's\",\n",
       " 'good',\n",
       " 'to',\n",
       " 'see',\n",
       " 'you',\n",
       " 'Thanks',\n",
       " 'for',\n",
       " 'buying',\n",
       " 'this',\n",
       " 'book']"
      ]
     },
     "execution_count": 7,
     "metadata": {},
     "output_type": "execute_result"
    }
   ],
   "source": [
    "from nltk.tokenize import regexp_tokenize\n",
    "regexp_tokenize(para,\"[\\w']+\")"
   ]
  },
  {
   "cell_type": "code",
   "execution_count": 8,
   "metadata": {
    "collapsed": false,
    "deletable": true,
    "editable": true
   },
   "outputs": [
    {
     "data": {
      "text/plain": [
       "[\"Can't\", 'contraction']"
      ]
     },
     "execution_count": 8,
     "metadata": {},
     "output_type": "execute_result"
    }
   ],
   "source": [
    "from nltk.corpus import stopwords\n",
    "english_stops = set(stopwords.words('english'))\n",
    "words = [\"Can't\", 'is', 'the', 'contraction']\n",
    "[word for word in words if word not in english_stops]"
   ]
  },
  {
   "cell_type": "code",
   "execution_count": 9,
   "metadata": {
    "collapsed": false,
    "deletable": true,
    "editable": true
   },
   "outputs": [
    {
     "data": {
      "text/plain": [
       "'cookbook.n.01'"
      ]
     },
     "execution_count": 9,
     "metadata": {},
     "output_type": "execute_result"
    }
   ],
   "source": [
    "#查找单词\n",
    "#方法一\n",
    "from nltk.corpus import wordnet \n",
    "syn = wordnet.synsets('cookbook')[0]\n",
    "syn.name()"
   ]
  },
  {
   "cell_type": "code",
   "execution_count": 10,
   "metadata": {
    "collapsed": false,
    "deletable": true,
    "editable": true
   },
   "outputs": [
    {
     "data": {
      "text/plain": [
       "'a book of recipes and cooking directions'"
      ]
     },
     "execution_count": 10,
     "metadata": {},
     "output_type": "execute_result"
    }
   ],
   "source": [
    "syn.definition()"
   ]
  },
  {
   "cell_type": "code",
   "execution_count": 11,
   "metadata": {
    "collapsed": false,
    "deletable": true,
    "editable": true
   },
   "outputs": [
    {
     "data": {
      "text/plain": [
       "'car.n.01'"
      ]
     },
     "execution_count": 11,
     "metadata": {},
     "output_type": "execute_result"
    }
   ],
   "source": [
    "syn1 = wordnet.synsets('motorcar')[0]\n",
    "syn1.name()"
   ]
  },
  {
   "cell_type": "code",
   "execution_count": 12,
   "metadata": {
    "collapsed": false,
    "deletable": true,
    "editable": true
   },
   "outputs": [
    {
     "data": {
      "text/plain": [
       "[Synset('airplane.n.01'),\n",
       " Synset('plane.n.02'),\n",
       " Synset('plane.n.03'),\n",
       " Synset('plane.n.04'),\n",
       " Synset('plane.n.05'),\n",
       " Synset('plane.v.01'),\n",
       " Synset('plane.v.02'),\n",
       " Synset('plane.v.03'),\n",
       " Synset('flat.s.01')]"
      ]
     },
     "execution_count": 12,
     "metadata": {},
     "output_type": "execute_result"
    }
   ],
   "source": [
    "#找到同义词集\n",
    "from nltk.corpus import wordnet as wn\n",
    "wn.synsets(\"plane\")         "
   ]
  },
  {
   "cell_type": "code",
   "execution_count": 13,
   "metadata": {
    "collapsed": false,
    "deletable": true,
    "editable": true
   },
   "outputs": [
    {
     "data": {
      "text/plain": [
       "[Synset('ambulance.n.01'),\n",
       " Synset('beach_wagon.n.01'),\n",
       " Synset('bus.n.04'),\n",
       " Synset('cab.n.03'),\n",
       " Synset('compact.n.03'),\n",
       " Synset('convertible.n.01'),\n",
       " Synset('coupe.n.01'),\n",
       " Synset('cruiser.n.01'),\n",
       " Synset('electric.n.01'),\n",
       " Synset('gas_guzzler.n.01'),\n",
       " Synset('hardtop.n.01'),\n",
       " Synset('hatchback.n.01'),\n",
       " Synset('horseless_carriage.n.01'),\n",
       " Synset('hot_rod.n.01'),\n",
       " Synset('jeep.n.01'),\n",
       " Synset('limousine.n.01'),\n",
       " Synset('loaner.n.02'),\n",
       " Synset('minicar.n.01'),\n",
       " Synset('minivan.n.01'),\n",
       " Synset('model_t.n.01'),\n",
       " Synset('pace_car.n.01'),\n",
       " Synset('racer.n.02'),\n",
       " Synset('roadster.n.01'),\n",
       " Synset('sedan.n.01'),\n",
       " Synset('sport_utility.n.01'),\n",
       " Synset('sports_car.n.01'),\n",
       " Synset('stanley_steamer.n.01'),\n",
       " Synset('stock_car.n.01'),\n",
       " Synset('subcompact.n.01'),\n",
       " Synset('touring_car.n.01'),\n",
       " Synset('used-car.n.01')]"
      ]
     },
     "execution_count": 13,
     "metadata": {},
     "output_type": "execute_result"
    }
   ],
   "source": [
    "# WordNet层次结构（词汇关系）——Hypernym /ˈhaɪpənɪm//hyponym/ ˈhaɪpənɪm / \n",
    "from nltk.corpus import wordnet as wn\n",
    "motorcar = wn.synset('car.n.01')\n",
    "types_of_motorcar = motorcar.hyponyms()  ##等号两边的表达式不能换位，否则会出现警示\n",
    "types_of_motorcar   "
   ]
  },
  {
   "cell_type": "code",
   "execution_count": 14,
   "metadata": {
    "collapsed": false,
    "deletable": true,
    "editable": true
   },
   "outputs": [
    {
     "data": {
      "text/plain": [
       "[Synset('burl.n.02'),\n",
       " Synset('crown.n.07'),\n",
       " Synset('limb.n.02'),\n",
       " Synset('stump.n.01'),\n",
       " Synset('trunk.n.01')]"
      ]
     },
     "execution_count": 14,
     "metadata": {},
     "output_type": "execute_result"
    }
   ],
   "source": [
    "# 部分整体关系（components (meronyms) holonyms）\n",
    "from nltk.corpus import wordnet as wn\n",
    "wn.synset('tree.n.01').part_meronyms()"
   ]
  },
  {
   "cell_type": "code",
   "execution_count": 15,
   "metadata": {
    "collapsed": false,
    "deletable": true,
    "editable": true
   },
   "outputs": [
    {
     "data": {
      "text/plain": [
       "[Lemma('ugly.a.01.ugly')]"
      ]
     },
     "execution_count": 15,
     "metadata": {},
     "output_type": "execute_result"
    }
   ],
   "source": [
    "# 反义词关系\n",
    "wn.lemma('beautiful.a.01.beautiful').antonyms() "
   ]
  },
  {
   "cell_type": "code",
   "execution_count": 16,
   "metadata": {
    "collapsed": false,
    "deletable": true,
    "editable": true
   },
   "outputs": [
    {
     "data": {
      "text/plain": [
       "['__class__',\n",
       " '__delattr__',\n",
       " '__dict__',\n",
       " '__dir__',\n",
       " '__doc__',\n",
       " '__eq__',\n",
       " '__format__',\n",
       " '__ge__',\n",
       " '__getattribute__',\n",
       " '__gt__',\n",
       " '__hash__',\n",
       " '__init__',\n",
       " '__init_subclass__',\n",
       " '__le__',\n",
       " '__lt__',\n",
       " '__module__',\n",
       " '__ne__',\n",
       " '__new__',\n",
       " '__reduce__',\n",
       " '__reduce_ex__',\n",
       " '__repr__',\n",
       " '__setattr__',\n",
       " '__sizeof__',\n",
       " '__slots__',\n",
       " '__str__',\n",
       " '__subclasshook__',\n",
       " '__unicode__',\n",
       " '__weakref__',\n",
       " '_all_hypernyms',\n",
       " '_definition',\n",
       " '_examples',\n",
       " '_frame_ids',\n",
       " '_hypernyms',\n",
       " '_instance_hypernyms',\n",
       " '_iter_hypernym_lists',\n",
       " '_lemma_names',\n",
       " '_lemma_pointers',\n",
       " '_lemmas',\n",
       " '_lexname',\n",
       " '_max_depth',\n",
       " '_min_depth',\n",
       " '_name',\n",
       " '_needs_root',\n",
       " '_offset',\n",
       " '_pointers',\n",
       " '_pos',\n",
       " '_related',\n",
       " '_shortest_hypernym_paths',\n",
       " '_wordnet_corpus_reader',\n",
       " 'also_sees',\n",
       " 'attributes',\n",
       " 'causes',\n",
       " 'closure',\n",
       " 'common_hypernyms',\n",
       " 'definition',\n",
       " 'entailments',\n",
       " 'examples',\n",
       " 'frame_ids',\n",
       " 'hypernym_distances',\n",
       " 'hypernym_paths',\n",
       " 'hypernyms',\n",
       " 'hyponyms',\n",
       " 'instance_hypernyms',\n",
       " 'instance_hyponyms',\n",
       " 'jcn_similarity',\n",
       " 'lch_similarity',\n",
       " 'lemma_names',\n",
       " 'lemmas',\n",
       " 'lexname',\n",
       " 'lin_similarity',\n",
       " 'lowest_common_hypernyms',\n",
       " 'max_depth',\n",
       " 'member_holonyms',\n",
       " 'member_meronyms',\n",
       " 'min_depth',\n",
       " 'name',\n",
       " 'offset',\n",
       " 'part_holonyms',\n",
       " 'part_meronyms',\n",
       " 'path_similarity',\n",
       " 'pos',\n",
       " 'region_domains',\n",
       " 'res_similarity',\n",
       " 'root_hypernyms',\n",
       " 'shortest_path_distance',\n",
       " 'similar_tos',\n",
       " 'substance_holonyms',\n",
       " 'substance_meronyms',\n",
       " 'topic_domains',\n",
       " 'tree',\n",
       " 'unicode_repr',\n",
       " 'usage_domains',\n",
       " 'verb_groups',\n",
       " 'wup_similarity']"
      ]
     },
     "execution_count": 16,
     "metadata": {},
     "output_type": "execute_result"
    }
   ],
   "source": [
    "# 查看词汇关系和同义词集上定义的其它方法\n",
    "dir(wn.synset('beautiful.a.01')) "
   ]
  },
  {
   "cell_type": "code",
   "execution_count": 17,
   "metadata": {
    "collapsed": false,
    "deletable": true,
    "editable": true
   },
   "outputs": [
    {
     "data": {
      "text/plain": [
       "'n'"
      ]
     },
     "execution_count": 17,
     "metadata": {},
     "output_type": "execute_result"
    }
   ],
   "source": [
    "# Part-of-Speech (POS)\n",
    "from nltk.corpus import wordnet\n",
    "syn = wordnet.synsets('motorcar')[0]\n",
    "syn.pos() "
   ]
  },
  {
   "cell_type": "code",
   "execution_count": 18,
   "metadata": {
    "collapsed": false,
    "deletable": true,
    "editable": true
   },
   "outputs": [
    {
     "data": {
      "text/plain": [
       "['car', 'auto', 'automobile', 'machine', 'motorcar']"
      ]
     },
     "execution_count": 18,
     "metadata": {},
     "output_type": "execute_result"
    }
   ],
   "source": [
    "#同义词关系\n",
    "#方法一\n",
    "from nltk.corpus import wordnet as wn\n",
    "wn.synset('car.n.01').lemma_names()"
   ]
  },
  {
   "cell_type": "code",
   "execution_count": 19,
   "metadata": {
    "collapsed": false,
    "deletable": true,
    "editable": true
   },
   "outputs": [
    {
     "name": "stdout",
     "output_type": "stream",
     "text": [
      "['car', 'auto', 'automobile', 'machine', 'motorcar']\n"
     ]
    }
   ],
   "source": [
    "#方法二\n",
    "a = wn.synset('car.n.01').lemma_names()\n",
    "print(a)"
   ]
  },
  {
   "cell_type": "code",
   "execution_count": 20,
   "metadata": {
    "collapsed": false,
    "deletable": true,
    "editable": true
   },
   "outputs": [
    {
     "data": {
      "text/plain": [
       "'a motor vehicle with four wheels; usually propelled by an internal combustion engine'"
      ]
     },
     "execution_count": 20,
     "metadata": {},
     "output_type": "execute_result"
    }
   ],
   "source": [
    "wn.synset('car.n.01').definition()"
   ]
  },
  {
   "cell_type": "code",
   "execution_count": 21,
   "metadata": {
    "collapsed": false,
    "deletable": true,
    "editable": true
   },
   "outputs": [
    {
     "data": {
      "text/plain": [
       "0.25"
      ]
     },
     "execution_count": 21,
     "metadata": {},
     "output_type": "execute_result"
    }
   ],
   "source": [
    "#量度一：path_similarity--基于上位词层次结构中相互连接的概念之间的最短路径在0-1之间打分\n",
    "#（两者之间没有路径返回-1，与自身比较返回1）\n",
    "from nltk.corpus import wordnet as wn\n",
    "right = wn.synset('right_whale.n.01')\n",
    "minke = wn.synset('minke_whale.n.01')\n",
    "right.path_similarity(minke)"
   ]
  },
  {
   "cell_type": "code",
   "execution_count": 22,
   "metadata": {
    "collapsed": false,
    "deletable": true,
    "editable": true
   },
   "outputs": [
    {
     "data": {
      "text/plain": [
       "0.9166666666666666"
      ]
     },
     "execution_count": 22,
     "metadata": {},
     "output_type": "execute_result"
    }
   ],
   "source": [
    "\"\"\"\n",
    "量度二：wup_similarity -- wup_similarity is short for Wu-Palmer Similarity, \n",
    "which is a scoring method based on how similar the word senses are and where the synsets \n",
    "occur relative to each other in the hypernym tree. \n",
    "\"\"\"\n",
    "from nltk.corpus import wordnet\n",
    "cb = wordnet.synset('cookbook.n.01')\n",
    "ib = wordnet.synset('instruction_book.n.01')\n",
    "cb.wup_similarity(ib)"
   ]
  },
  {
   "cell_type": "code",
   "execution_count": 23,
   "metadata": {
    "collapsed": false,
    "deletable": true,
    "editable": true
   },
   "outputs": [
    {
     "data": {
      "text/plain": [
       "[('Jaganadh', 'is'),\n",
       " ('is', 'testing'),\n",
       " ('testing', 'this'),\n",
       " ('this', 'application')]"
      ]
     },
     "execution_count": 23,
     "metadata": {},
     "output_type": "execute_result"
    }
   ],
   "source": [
    "#Bigram：把双词搭配（bigrams）作为特征\n",
    "from nltk import bigrams\n",
    "a = 'Jaganadh is testing this application'\n",
    "tokens = a.split()\n",
    "list(bigrams(tokens))      #必须加上list,不然结果出不来"
   ]
  },
  {
   "cell_type": "code",
   "execution_count": 24,
   "metadata": {
    "collapsed": false,
    "deletable": true,
    "editable": true
   },
   "outputs": [
    {
     "data": {
      "text/plain": [
       "[('more', 'is'), ('is', 'said'), ('said', 'than'), ('than', 'done')]"
      ]
     },
     "execution_count": 24,
     "metadata": {},
     "output_type": "execute_result"
    }
   ],
   "source": [
    "#如果已经分词，则\n",
    "list(bigrams(['more','is','said','than','done']))"
   ]
  },
  {
   "cell_type": "code",
   "execution_count": 25,
   "metadata": {
    "collapsed": false,
    "deletable": true,
    "editable": true
   },
   "outputs": [
    {
     "name": "stdout",
     "output_type": "stream",
     "text": [
      "*** Introductory Examples for the NLTK Book ***\n",
      "Loading text1, ..., text9 and sent1, ..., sent9\n",
      "Type the name of the text or sentence to view it.\n",
      "Type: 'texts()' or 'sents()' to list the materials.\n",
      "text1: Moby Dick by Herman Melville 1851\n",
      "text2: Sense and Sensibility by Jane Austen 1811\n",
      "text3: The Book of Genesis\n",
      "text4: Inaugural Address Corpus\n",
      "text5: Chat Corpus\n",
      "text6: Monty Python and the Holy Grail\n",
      "text7: Wall Street Journal\n",
      "text8: Personals Corpus\n",
      "text9: The Man Who Was Thursday by G . K . Chesterton 1908\n"
     ]
    }
   ],
   "source": [
    "#词频统计\n",
    "from nltk.book import text1"
   ]
  },
  {
   "cell_type": "code",
   "execution_count": 26,
   "metadata": {
    "collapsed": false,
    "deletable": true,
    "editable": true
   },
   "outputs": [
    {
     "name": "stdout",
     "output_type": "stream",
     "text": [
      "<FreqDist with 19317 samples and 260819 outcomes>\n"
     ]
    }
   ],
   "source": [
    "from nltk import FreqDist\n",
    "fdist1=FreqDist(text1)\n",
    "print(fdist1)"
   ]
  },
  {
   "cell_type": "code",
   "execution_count": 27,
   "metadata": {
    "collapsed": false,
    "deletable": true,
    "editable": true
   },
   "outputs": [
    {
     "data": {
      "text/plain": [
       "FreqDist({'[': 3,\n",
       "          'Moby': 84,\n",
       "          'Dick': 84,\n",
       "          'by': 1137,\n",
       "          'Herman': 1,\n",
       "          'Melville': 1,\n",
       "          '1851': 3,\n",
       "          ']': 1,\n",
       "          'ETYMOLOGY': 1,\n",
       "          '.': 6862,\n",
       "          '(': 210,\n",
       "          'Supplied': 2,\n",
       "          'a': 4569,\n",
       "          'Late': 1,\n",
       "          'Consumptive': 1,\n",
       "          'Usher': 2,\n",
       "          'to': 4542,\n",
       "          'Grammar': 2,\n",
       "          'School': 1,\n",
       "          ')': 78,\n",
       "          'The': 612,\n",
       "          'pale': 18,\n",
       "          '--': 1070,\n",
       "          'threadbare': 1,\n",
       "          'in': 3916,\n",
       "          'coat': 28,\n",
       "          ',': 18713,\n",
       "          'heart': 90,\n",
       "          'body': 110,\n",
       "          'and': 6024,\n",
       "          'brain': 37,\n",
       "          ';': 4072,\n",
       "          'I': 2124,\n",
       "          'see': 253,\n",
       "          'him': 1058,\n",
       "          'now': 646,\n",
       "          'He': 230,\n",
       "          'was': 1632,\n",
       "          'ever': 203,\n",
       "          'dusting': 2,\n",
       "          'his': 2459,\n",
       "          'old': 436,\n",
       "          'lexicons': 1,\n",
       "          'grammars': 2,\n",
       "          'with': 1659,\n",
       "          'queer': 44,\n",
       "          'handkerchief': 5,\n",
       "          'mockingly': 1,\n",
       "          'embellished': 3,\n",
       "          'all': 1462,\n",
       "          'the': 13721,\n",
       "          'gay': 13,\n",
       "          'flags': 1,\n",
       "          'of': 6536,\n",
       "          'known': 80,\n",
       "          'nations': 12,\n",
       "          'world': 173,\n",
       "          'loved': 3,\n",
       "          'dust': 10,\n",
       "          'it': 2209,\n",
       "          'somehow': 43,\n",
       "          'mildly': 10,\n",
       "          'reminded': 4,\n",
       "          'mortality': 1,\n",
       "          '\"': 1478,\n",
       "          'While': 30,\n",
       "          'you': 841,\n",
       "          'take': 118,\n",
       "          'hand': 205,\n",
       "          'school': 9,\n",
       "          'others': 37,\n",
       "          'teach': 5,\n",
       "          'them': 471,\n",
       "          'what': 442,\n",
       "          'name': 69,\n",
       "          'whale': 906,\n",
       "          '-': 2552,\n",
       "          'fish': 133,\n",
       "          'is': 1695,\n",
       "          'be': 1030,\n",
       "          'called': 116,\n",
       "          'our': 199,\n",
       "          'tongue': 11,\n",
       "          'leaving': 38,\n",
       "          'out': 529,\n",
       "          'through': 227,\n",
       "          'ignorance': 10,\n",
       "          'letter': 12,\n",
       "          'H': 2,\n",
       "          'which': 640,\n",
       "          'almost': 186,\n",
       "          'alone': 37,\n",
       "          'maketh': 5,\n",
       "          'signification': 1,\n",
       "          'word': 76,\n",
       "          'deliver': 3,\n",
       "          'that': 2982,\n",
       "          'not': 1103,\n",
       "          'true': 73,\n",
       "          '.\"': 489,\n",
       "          'HACKLUYT': 1,\n",
       "          'WHALE': 38,\n",
       "          '...': 11,\n",
       "          'Sw': 1,\n",
       "          'Dan': 4,\n",
       "          'HVAL': 1,\n",
       "          'This': 107,\n",
       "          'animal': 16,\n",
       "          'named': 11,\n",
       "          'from': 1052,\n",
       "          'roundness': 1,\n",
       "          'or': 697,\n",
       "          'rolling': 35,\n",
       "          'for': 1414,\n",
       "          'HVALT': 2,\n",
       "          'arched': 10,\n",
       "          'vaulted': 2,\n",
       "          'WEBSTER': 2,\n",
       "          \"'\": 2684,\n",
       "          'S': 63,\n",
       "          'DICTIONARY': 3,\n",
       "          'It': 310,\n",
       "          'more': 501,\n",
       "          'immediately': 14,\n",
       "          'Dut': 1,\n",
       "          'Ger': 1,\n",
       "          'WALLEN': 1,\n",
       "          'A': 167,\n",
       "          'WALW': 1,\n",
       "          'IAN': 1,\n",
       "          'roll': 16,\n",
       "          'wallow': 3,\n",
       "          'RICHARDSON': 1,\n",
       "          'KETOS': 1,\n",
       "          'GREEK': 1,\n",
       "          'CETUS': 1,\n",
       "          'LATIN': 1,\n",
       "          'WHOEL': 1,\n",
       "          'ANGLO': 1,\n",
       "          'SAXON': 1,\n",
       "          'DANISH': 2,\n",
       "          'WAL': 1,\n",
       "          'DUTCH': 2,\n",
       "          'HWAL': 1,\n",
       "          'SWEDISH': 1,\n",
       "          'ICELANDIC': 1,\n",
       "          'ENGLISH': 3,\n",
       "          'BALEINE': 1,\n",
       "          'FRENCH': 5,\n",
       "          'BALLENA': 1,\n",
       "          'SPANISH': 4,\n",
       "          'PEKEE': 2,\n",
       "          'NUEE': 4,\n",
       "          'FEGEE': 1,\n",
       "          'ERROMANGOAN': 1,\n",
       "          'EXTRACTS': 2,\n",
       "          'Sub': 7,\n",
       "          'Librarian': 1,\n",
       "          ').': 15,\n",
       "          'will': 379,\n",
       "          'seen': 161,\n",
       "          'this': 1280,\n",
       "          'mere': 42,\n",
       "          'painstaking': 1,\n",
       "          'burrower': 1,\n",
       "          'grub': 1,\n",
       "          'worm': 5,\n",
       "          'poor': 106,\n",
       "          'devil': 51,\n",
       "          'appears': 7,\n",
       "          'have': 760,\n",
       "          'gone': 58,\n",
       "          'long': 318,\n",
       "          'Vaticans': 1,\n",
       "          'street': 10,\n",
       "          'stalls': 1,\n",
       "          'earth': 46,\n",
       "          'picking': 4,\n",
       "          'up': 505,\n",
       "          'whatever': 44,\n",
       "          'random': 5,\n",
       "          'allusions': 7,\n",
       "          'whales': 237,\n",
       "          'he': 1661,\n",
       "          'could': 215,\n",
       "          'anyways': 2,\n",
       "          'find': 55,\n",
       "          'any': 320,\n",
       "          'book': 38,\n",
       "          'whatsoever': 5,\n",
       "          'sacred': 7,\n",
       "          'profane': 4,\n",
       "          'Therefore': 11,\n",
       "          'must': 282,\n",
       "          'every': 222,\n",
       "          'case': 69,\n",
       "          'at': 1231,\n",
       "          'least': 75,\n",
       "          'higgledy': 1,\n",
       "          'piggledy': 1,\n",
       "          'statements': 4,\n",
       "          'however': 80,\n",
       "          'authentic': 3,\n",
       "          'these': 381,\n",
       "          'extracts': 4,\n",
       "          'veritable': 4,\n",
       "          'gospel': 1,\n",
       "          'cetology': 4,\n",
       "          'Far': 4,\n",
       "          'As': 120,\n",
       "          'touching': 45,\n",
       "          'ancient': 28,\n",
       "          'authors': 3,\n",
       "          'generally': 30,\n",
       "          'as': 1620,\n",
       "          'well': 174,\n",
       "          'poets': 3,\n",
       "          'here': 272,\n",
       "          'appearing': 3,\n",
       "          'are': 586,\n",
       "          'solely': 6,\n",
       "          'valuable': 11,\n",
       "          'entertaining': 2,\n",
       "          'affording': 2,\n",
       "          'glancing': 12,\n",
       "          'bird': 17,\n",
       "          's': 1739,\n",
       "          'eye': 88,\n",
       "          'view': 46,\n",
       "          'has': 287,\n",
       "          'been': 415,\n",
       "          'promiscuously': 1,\n",
       "          'said': 302,\n",
       "          'thought': 149,\n",
       "          'fancied': 9,\n",
       "          'sung': 2,\n",
       "          'Leviathan': 64,\n",
       "          'many': 161,\n",
       "          'generations': 6,\n",
       "          'including': 8,\n",
       "          'own': 205,\n",
       "          'So': 147,\n",
       "          'fare': 10,\n",
       "          'thee': 129,\n",
       "          'whose': 86,\n",
       "          'commentator': 1,\n",
       "          'am': 86,\n",
       "          'Thou': 39,\n",
       "          'belongest': 1,\n",
       "          'hopeless': 8,\n",
       "          'sallow': 1,\n",
       "          'tribe': 9,\n",
       "          'no': 484,\n",
       "          'wine': 12,\n",
       "          'warm': 24,\n",
       "          'whom': 43,\n",
       "          'even': 181,\n",
       "          'Pale': 1,\n",
       "          'Sherry': 1,\n",
       "          'would': 421,\n",
       "          'too': 184,\n",
       "          'rosy': 2,\n",
       "          'strong': 34,\n",
       "          'but': 1113,\n",
       "          'one': 889,\n",
       "          'sometimes': 81,\n",
       "          'loves': 1,\n",
       "          'sit': 16,\n",
       "          'feel': 56,\n",
       "          'devilish': 9,\n",
       "          'grow': 24,\n",
       "          'convivial': 4,\n",
       "          'upon': 538,\n",
       "          'tears': 6,\n",
       "          'say': 237,\n",
       "          'bluntly': 1,\n",
       "          'full': 121,\n",
       "          'eyes': 155,\n",
       "          'empty': 22,\n",
       "          'glasses': 10,\n",
       "          'altogether': 29,\n",
       "          'unpleasant': 3,\n",
       "          'sadness': 2,\n",
       "          'Give': 15,\n",
       "          'Subs': 1,\n",
       "          '!': 1269,\n",
       "          'For': 197,\n",
       "          'how': 187,\n",
       "          'much': 218,\n",
       "          'pains': 15,\n",
       "          'ye': 460,\n",
       "          'please': 12,\n",
       "          'so': 918,\n",
       "          'shall': 84,\n",
       "          'go': 182,\n",
       "          'thankless': 1,\n",
       "          'Would': 11,\n",
       "          'clear': 39,\n",
       "          'Hampton': 1,\n",
       "          'Court': 1,\n",
       "          'Tuileries': 3,\n",
       "          'But': 705,\n",
       "          'gulp': 2,\n",
       "          'down': 364,\n",
       "          'your': 240,\n",
       "          'hie': 1,\n",
       "          'aloft': 53,\n",
       "          'royal': 29,\n",
       "          'mast': 124,\n",
       "          'hearts': 29,\n",
       "          'friends': 16,\n",
       "          'who': 319,\n",
       "          'before': 293,\n",
       "          'clearing': 4,\n",
       "          'seven': 15,\n",
       "          'storied': 4,\n",
       "          'heavens': 17,\n",
       "          'making': 45,\n",
       "          'refugees': 1,\n",
       "          'pampered': 1,\n",
       "          'Gabriel': 20,\n",
       "          'Michael': 1,\n",
       "          'Raphael': 1,\n",
       "          'against': 132,\n",
       "          'coming': 50,\n",
       "          'Here': 49,\n",
       "          'strike': 28,\n",
       "          'splintered': 7,\n",
       "          'together': 64,\n",
       "          'there': 715,\n",
       "          'unsplinterable': 1,\n",
       "          'And': 369,\n",
       "          'God': 132,\n",
       "          'created': 6,\n",
       "          'great': 293,\n",
       "          'GENESIS': 1,\n",
       "          'path': 10,\n",
       "          'shine': 3,\n",
       "          'after': 252,\n",
       "          'One': 28,\n",
       "          'think': 111,\n",
       "          'deep': 69,\n",
       "          'hoary': 2,\n",
       "          'JOB': 1,\n",
       "          'Now': 139,\n",
       "          'Lord': 44,\n",
       "          'had': 767,\n",
       "          'prepared': 12,\n",
       "          'swallow': 10,\n",
       "          'Jonah': 84,\n",
       "          'JONAH': 1,\n",
       "          'There': 147,\n",
       "          'ships': 87,\n",
       "          'thou': 232,\n",
       "          'hast': 19,\n",
       "          'made': 178,\n",
       "          'play': 29,\n",
       "          'therein': 5,\n",
       "          'PSALMS': 2,\n",
       "          'In': 237,\n",
       "          'day': 172,\n",
       "          'sore': 3,\n",
       "          'sword': 23,\n",
       "          'punish': 1,\n",
       "          'piercing': 4,\n",
       "          'serpent': 4,\n",
       "          'crooked': 8,\n",
       "          'slay': 4,\n",
       "          'dragon': 5,\n",
       "          'sea': 433,\n",
       "          'ISAIAH': 1,\n",
       "          'thing': 188,\n",
       "          'soever': 1,\n",
       "          'besides': 20,\n",
       "          'cometh': 1,\n",
       "          'within': 78,\n",
       "          'chaos': 4,\n",
       "          'monster': 49,\n",
       "          'mouth': 60,\n",
       "          'beast': 4,\n",
       "          'boat': 330,\n",
       "          'stone': 18,\n",
       "          'goes': 54,\n",
       "          'incontinently': 1,\n",
       "          'foul': 11,\n",
       "          'perisheth': 1,\n",
       "          'bottomless': 7,\n",
       "          'gulf': 4,\n",
       "          'paunch': 2,\n",
       "          'HOLLAND': 2,\n",
       "          'PLUTARCH': 1,\n",
       "          'MORALS': 1,\n",
       "          'Indian': 57,\n",
       "          'Sea': 22,\n",
       "          'breedeth': 1,\n",
       "          'most': 277,\n",
       "          'biggest': 2,\n",
       "          'fishes': 3,\n",
       "          ':': 162,\n",
       "          'among': 158,\n",
       "          'Whales': 29,\n",
       "          'Whirlpooles': 1,\n",
       "          'Balaene': 1,\n",
       "          'length': 78,\n",
       "          'four': 74,\n",
       "          'acres': 3,\n",
       "          'arpens': 1,\n",
       "          'land': 78,\n",
       "          'PLINY': 1,\n",
       "          'Scarcely': 1,\n",
       "          'we': 413,\n",
       "          'proceeded': 6,\n",
       "          'two': 285,\n",
       "          'days': 80,\n",
       "          'on': 1005,\n",
       "          'when': 553,\n",
       "          'about': 304,\n",
       "          'sunrise': 11,\n",
       "          'other': 412,\n",
       "          'monsters': 9,\n",
       "          'appeared': 10,\n",
       "          'Among': 8,\n",
       "          'former': 20,\n",
       "          'monstrous': 10,\n",
       "          'size': 12,\n",
       "          'came': 130,\n",
       "          'towards': 107,\n",
       "          'us': 228,\n",
       "          'open': 75,\n",
       "          'mouthed': 4,\n",
       "          'raising': 4,\n",
       "          'waves': 48,\n",
       "          'sides': 28,\n",
       "          'beating': 11,\n",
       "          'into': 520,\n",
       "          'foam': 19,\n",
       "          'TOOKE': 1,\n",
       "          'LUCIAN': 1,\n",
       "          'THE': 98,\n",
       "          'TRUE': 1,\n",
       "          'HISTORY': 4,\n",
       "          'visited': 7,\n",
       "          'country': 25,\n",
       "          'also': 88,\n",
       "          'catching': 7,\n",
       "          'horse': 26,\n",
       "          'bones': 48,\n",
       "          'very': 311,\n",
       "          'value': 6,\n",
       "          'their': 612,\n",
       "          'teeth': 47,\n",
       "          'brought': 38,\n",
       "          'some': 578,\n",
       "          'king': 25,\n",
       "          'best': 62,\n",
       "          'were': 680,\n",
       "          'catched': 1,\n",
       "          'forty': 28,\n",
       "          'eight': 24,\n",
       "          'fifty': 33,\n",
       "          'yards': 27,\n",
       "          'six': 31,\n",
       "          'killed': 33,\n",
       "          'sixty': 17,\n",
       "          'OTHER': 2,\n",
       "          'OR': 5,\n",
       "          'OCTHER': 1,\n",
       "          'VERBAL': 1,\n",
       "          'NARRATIVE': 4,\n",
       "          'TAKEN': 1,\n",
       "          'DOWN': 2,\n",
       "          'FROM': 10,\n",
       "          'HIS': 17,\n",
       "          'MOUTH': 1,\n",
       "          'BY': 15,\n",
       "          'KING': 2,\n",
       "          'ALFRED': 1,\n",
       "          'D': 23,\n",
       "          '890': 1,\n",
       "          'whereas': 14,\n",
       "          'things': 132,\n",
       "          'whether': 76,\n",
       "          'vessel': 54,\n",
       "          'enter': 9,\n",
       "          'dreadful': 6,\n",
       "          'lost': 45,\n",
       "          'swallowed': 13,\n",
       "          'gudgeon': 1,\n",
       "          'retires': 1,\n",
       "          'security': 3,\n",
       "          'sleeps': 7,\n",
       "          'MONTAIGNE': 1,\n",
       "          'APOLOGY': 1,\n",
       "          'FOR': 6,\n",
       "          'RAIMOND': 1,\n",
       "          'SEBOND': 1,\n",
       "          'Let': 38,\n",
       "          'fly': 14,\n",
       "          'let': 120,\n",
       "          'Old': 11,\n",
       "          'Nick': 1,\n",
       "          'me': 627,\n",
       "          'if': 421,\n",
       "          'described': 8,\n",
       "          'noble': 44,\n",
       "          'prophet': 13,\n",
       "          'Moses': 2,\n",
       "          'life': 162,\n",
       "          'patient': 6,\n",
       "          'Job': 5,\n",
       "          'RABELAIS': 1,\n",
       "          'liver': 4,\n",
       "          'cartloads': 1,\n",
       "          'STOWE': 1,\n",
       "          'ANNALS': 1,\n",
       "          'seas': 80,\n",
       "          'seethe': 3,\n",
       "          'like': 624,\n",
       "          'boiling': 15,\n",
       "          'pan': 3,\n",
       "          'LORD': 1,\n",
       "          'BACON': 1,\n",
       "          'VERSION': 2,\n",
       "          'OF': 49,\n",
       "          'Touching': 1,\n",
       "          'bulk': 32,\n",
       "          'ork': 1,\n",
       "          'received': 26,\n",
       "          'nothing': 102,\n",
       "          'certain': 87,\n",
       "          'They': 78,\n",
       "          'exceeding': 12,\n",
       "          'fat': 12,\n",
       "          'insomuch': 2,\n",
       "          'an': 582,\n",
       "          'incredible': 9,\n",
       "          'quantity': 13,\n",
       "          'oil': 90,\n",
       "          'extracted': 5,\n",
       "          'IBID': 3,\n",
       "          'LIFE': 2,\n",
       "          'AND': 37,\n",
       "          'DEATH': 1,\n",
       "          'sovereignest': 1,\n",
       "          'parmacetti': 3,\n",
       "          'inward': 4,\n",
       "          'bruise': 1,\n",
       "          'HENRY': 2,\n",
       "          'Very': 11,\n",
       "          'HAMLET': 1,\n",
       "          'Which': 6,\n",
       "          'secure': 12,\n",
       "          'skill': 10,\n",
       "          'leach': 1,\n",
       "          'art': 39,\n",
       "          'Mote': 1,\n",
       "          'availle': 1,\n",
       "          'returne': 1,\n",
       "          'againe': 1,\n",
       "          'To': 62,\n",
       "          'wound': 17,\n",
       "          'worker': 1,\n",
       "          'lowly': 8,\n",
       "          'dart': 24,\n",
       "          'Dinting': 1,\n",
       "          'breast': 7,\n",
       "          'bred': 9,\n",
       "          'restless': 4,\n",
       "          'paine': 1,\n",
       "          'Like': 23,\n",
       "          'wounded': 9,\n",
       "          'shore': 23,\n",
       "          'flies': 7,\n",
       "          'thro': 1,\n",
       "          'maine': 1,\n",
       "          'FAERIE': 1,\n",
       "          'QUEEN': 2,\n",
       "          'Immense': 1,\n",
       "          'motion': 17,\n",
       "          'vast': 73,\n",
       "          'bodies': 9,\n",
       "          'can': 220,\n",
       "          'peaceful': 6,\n",
       "          'calm': 41,\n",
       "          'trouble': 11,\n",
       "          'ocean': 71,\n",
       "          'til': 1,\n",
       "          'boil': 2,\n",
       "          'SIR': 4,\n",
       "          'WILLIAM': 2,\n",
       "          'DAVENANT': 1,\n",
       "          'PREFACE': 1,\n",
       "          'TO': 21,\n",
       "          'GONDIBERT': 1,\n",
       "          'What': 174,\n",
       "          'spermacetti': 1,\n",
       "          'men': 236,\n",
       "          'might': 183,\n",
       "          'justly': 3,\n",
       "          'doubt': 32,\n",
       "          'since': 63,\n",
       "          'learned': 25,\n",
       "          'Hosmannus': 1,\n",
       "          'work': 62,\n",
       "          'thirty': 26,\n",
       "          'years': 94,\n",
       "          'saith': 5,\n",
       "          'plainly': 39,\n",
       "          'Nescio': 1,\n",
       "          'quid': 2,\n",
       "          'T': 8,\n",
       "          'BROWNE': 3,\n",
       "          'SPERMA': 2,\n",
       "          'CETI': 2,\n",
       "          'VIDE': 1,\n",
       "          'V': 6,\n",
       "          'E': 5,\n",
       "          'Spencer': 1,\n",
       "          'Talus': 1,\n",
       "          'modern': 18,\n",
       "          'flail': 1,\n",
       "          'threatens': 1,\n",
       "          'ruin': 5,\n",
       "          'ponderous': 13,\n",
       "          'tail': 78,\n",
       "          'Their': 6,\n",
       "          'fixed': 37,\n",
       "          'jav': 1,\n",
       "          'lins': 1,\n",
       "          'side': 208,\n",
       "          'wears': 7,\n",
       "          'back': 151,\n",
       "          'grove': 3,\n",
       "          'pikes': 2,\n",
       "          'WALLER': 1,\n",
       "          'BATTLE': 2,\n",
       "          'SUMMER': 1,\n",
       "          'ISLANDS': 1,\n",
       "          'By': 52,\n",
       "          'Commonwealth': 1,\n",
       "          'State': 4,\n",
       "          '--(': 4,\n",
       "          'Latin': 4,\n",
       "          'Civitas': 1,\n",
       "          'artificial': 5,\n",
       "          'man': 508,\n",
       "          'OPENING': 1,\n",
       "          'SENTENCE': 1,\n",
       "          'HOBBES': 1,\n",
       "          'LEVIATHAN': 1,\n",
       "          'Silly': 1,\n",
       "          'Mansoul': 1,\n",
       "          'without': 154,\n",
       "          'chewing': 1,\n",
       "          'sprat': 1,\n",
       "          'PILGRIM': 1,\n",
       "          'PROGRESS': 1,\n",
       "          'That': 85,\n",
       "          'works': 30,\n",
       "          'Created': 1,\n",
       "          'hugest': 3,\n",
       "          'swim': 20,\n",
       "          'stream': 11,\n",
       "          'PARADISE': 1,\n",
       "          'LOST': 1,\n",
       "          '---\"': 1,\n",
       "          'Hugest': 1,\n",
       "          'living': 73,\n",
       "          'creatures': 34,\n",
       "          'Stretched': 1,\n",
       "          'promontory': 5,\n",
       "          'swims': 8,\n",
       "          'seems': 84,\n",
       "          'moving': 13,\n",
       "          'gills': 4,\n",
       "          'Draws': 1,\n",
       "          'breath': 18,\n",
       "          'spouts': 16,\n",
       "          'mighty': 47,\n",
       "          'water': 185,\n",
       "          'swimming': 29,\n",
       "          'FULLLER': 1,\n",
       "          'PROFANE': 1,\n",
       "          'HOLY': 1,\n",
       "          'STATE': 1,\n",
       "          'close': 54,\n",
       "          'behind': 50,\n",
       "          'lie': 26,\n",
       "          'huge': 29,\n",
       "          'attend': 9,\n",
       "          'prey': 14,\n",
       "          'give': 71,\n",
       "          'chance': 46,\n",
       "          'fry': 3,\n",
       "          'gaping': 3,\n",
       "          'jaws': 30,\n",
       "          'mistake': 9,\n",
       "          'way': 269,\n",
       "          'DRYDEN': 1,\n",
       "          'ANNUS': 1,\n",
       "          'MIRABILIS': 1,\n",
       "          'floating': 24,\n",
       "          'stern': 48,\n",
       "          'ship': 507,\n",
       "          'they': 586,\n",
       "          'cut': 50,\n",
       "          'off': 217,\n",
       "          'head': 335,\n",
       "          'tow': 16,\n",
       "          'near': 69,\n",
       "          'come': 150,\n",
       "          'aground': 1,\n",
       "          'twelve': 16,\n",
       "          'thirteen': 2,\n",
       "          'feet': 125,\n",
       "          'THOMAS': 3,\n",
       "          'EDGE': 1,\n",
       "          'TEN': 1,\n",
       "          'VOYAGES': 3,\n",
       "          'SPITZBERGEN': 1,\n",
       "          'IN': 19,\n",
       "          'PURCHAS': 1,\n",
       "          'saw': 115,\n",
       "          'sporting': 4,\n",
       "          'wantonness': 1,\n",
       "          'fuzzing': 1,\n",
       "          'pipes': 8,\n",
       "          'vents': 1,\n",
       "          'nature': 34,\n",
       "          'placed': 36,\n",
       "          'shoulders': 13,\n",
       "          'HERBERT': 1,\n",
       "          'INTO': 1,\n",
       "          'ASIA': 1,\n",
       "          'AFRICA': 1,\n",
       "          'HARRIS': 2,\n",
       "          'COLL': 2,\n",
       "          'such': 336,\n",
       "          'troops': 2,\n",
       "          'forced': 18,\n",
       "          'proceed': 14,\n",
       "          'deal': 12,\n",
       "          'caution': 2,\n",
       "          'fear': 32,\n",
       "          'should': 181,\n",
       "          'run': 51,\n",
       "          'SCHOUTEN': 1,\n",
       "          'SIXTH': 1,\n",
       "          'CIRCUMNAVIGATION': 1,\n",
       "          'We': 47,\n",
       "          'set': 74,\n",
       "          'sail': 96,\n",
       "          'Elbe': 1,\n",
       "          'wind': 67,\n",
       "          'N': 2,\n",
       "          'Jonas': 3,\n",
       "          'Whale': 282,\n",
       "          'Some': 38,\n",
       "          't': 283,\n",
       "          'fable': 5,\n",
       "          'frequently': 14,\n",
       "          'climb': 4,\n",
       "          'masts': 26,\n",
       "          'first': 210,\n",
       "          'discoverer': 2,\n",
       "          'ducat': 1,\n",
       "          'told': 45,\n",
       "          'taken': 50,\n",
       "          'Shetland': 2,\n",
       "          'above': 56,\n",
       "          'barrel': 5,\n",
       "          'herrings': 1,\n",
       "          'belly': 9,\n",
       "          'harpooneers': 55,\n",
       "          'caught': 44,\n",
       "          'once': 144,\n",
       "          'Spitzbergen': 4,\n",
       "          'white': 191,\n",
       "          'over': 403,\n",
       "          'VOYAGE': 7,\n",
       "          'GREENLAND': 1,\n",
       "          '1671': 2,\n",
       "          'Several': 1,\n",
       "          'coast': 40,\n",
       "          'Fife': 1,\n",
       "          'Anno': 1,\n",
       "          '1652': 1,\n",
       "          'eighty': 4,\n",
       "          'bone': 50,\n",
       "          'kind': 27,\n",
       "          'informed': 4,\n",
       "          '),': 62,\n",
       "          'did': 246,\n",
       "          'afford': 9,\n",
       "          '500': 2,\n",
       "          'weight': 17,\n",
       "          'baleen': 11,\n",
       "          'stand': 83,\n",
       "          'gate': 4,\n",
       "          'garden': 6,\n",
       "          'Pitferren': 1,\n",
       "          'SIBBALD': 1,\n",
       "          'FIFE': 1,\n",
       "          'KINROSS': 1,\n",
       "          'Myself': 1,\n",
       "          'agreed': 3,\n",
       "          'try': 49,\n",
       "          'master': 23,\n",
       "          'kill': 30,\n",
       "          'Sperma': 1,\n",
       "          'ceti': 1,\n",
       "          'never': 195,\n",
       "          'hear': 60,\n",
       "          'sort': 152,\n",
       "          'fierceness': 1,\n",
       "          'swiftness': 6,\n",
       "          'RICHARD': 1,\n",
       "          'STRAFFORD': 1,\n",
       "          'LETTER': 1,\n",
       "          'BERMUDAS': 1,\n",
       "          'PHIL': 1,\n",
       "          'TRANS': 1,\n",
       "          '1668': 1,\n",
       "          'voice': 46,\n",
       "          'obey': 8,\n",
       "          'PRIMER': 1,\n",
       "          'abundance': 4,\n",
       "          'large': 77,\n",
       "          'being': 219,\n",
       "          'those': 297,\n",
       "          'southern': 5,\n",
       "          'may': 230,\n",
       "          'hundred': 50,\n",
       "          'than': 309,\n",
       "          'northward': 4,\n",
       "          'CAPTAIN': 2,\n",
       "          'COWLEY': 1,\n",
       "          'ROUND': 2,\n",
       "          'GLOBE': 4,\n",
       "          '1729': 1,\n",
       "          '\"...': 1,\n",
       "          'frequendy': 1,\n",
       "          'attended': 6,\n",
       "          'insupportable': 1,\n",
       "          'smell': 11,\n",
       "          'bring': 18,\n",
       "          'disorder': 1,\n",
       "          'ULLOA': 1,\n",
       "          'SOUTH': 1,\n",
       "          'AMERICA': 1,\n",
       "          'chosen': 3,\n",
       "          'sylphs': 1,\n",
       "          'special': 15,\n",
       "          'note': 6,\n",
       "          'trust': 4,\n",
       "          'important': 19,\n",
       "          'charge': 10,\n",
       "          'petticoat': 1,\n",
       "          'Oft': 1,\n",
       "          'fold': 6,\n",
       "          'fence': 2,\n",
       "          'fail': 17,\n",
       "          'Tho': 1,\n",
       "          'stuffed': 5,\n",
       "          'hoops': 11,\n",
       "          'armed': 15,\n",
       "          'ribs': 20,\n",
       "          'RAPE': 1,\n",
       "          'LOCK': 1,\n",
       "          'If': 60,\n",
       "          'compare': 7,\n",
       "          'animals': 5,\n",
       "          'respect': 16,\n",
       "          'magnitude': 21,\n",
       "          'abode': 2,\n",
       "          'appear': 6,\n",
       "          'contemptible': 4,\n",
       "          'comparison': 6,\n",
       "          'doubtless': 12,\n",
       "          'largest': 19,\n",
       "          'creation': 7,\n",
       "          'GOLDSMITH': 2,\n",
       "          'NAT': 1,\n",
       "          'HIST': 2,\n",
       "          'write': 5,\n",
       "          'little': 247,\n",
       "          'make': 109,\n",
       "          'speak': 47,\n",
       "          'wales': 1,\n",
       "          'JOHNSON': 1,\n",
       "          'afternoon': 10,\n",
       "          'supposed': 15,\n",
       "          'rock': 14,\n",
       "          'found': 115,\n",
       "          'dead': 90,\n",
       "          'Asiatics': 2,\n",
       "          'then': 571,\n",
       "          'towing': 14,\n",
       "          'ashore': 33,\n",
       "          'seemed': 283,\n",
       "          'endeavor': 4,\n",
       "          'conceal': 2,\n",
       "          'themselves': 59,\n",
       "          'order': 64,\n",
       "          'avoid': 6,\n",
       "          'COOK': 1,\n",
       "          'larger': 9,\n",
       "          'seldom': 24,\n",
       "          'venture': 5,\n",
       "          'attack': 8,\n",
       "          'dread': 12,\n",
       "          'afraid': 15,\n",
       "          'mention': 15,\n",
       "          'names': 12,\n",
       "          'carry': 25,\n",
       "          'dung': 1,\n",
       "          'lime': 1,\n",
       "          'juniper': 1,\n",
       "          'wood': 34,\n",
       "          'articles': 10,\n",
       "          'same': 213,\n",
       "          'boats': 145,\n",
       "          'terrify': 3,\n",
       "          'prevent': 6,\n",
       "          'approach': 5,\n",
       "          'UNO': 1,\n",
       "          'VON': 1,\n",
       "          'TROIL': 1,\n",
       "          'LETTERS': 1,\n",
       "          'ON': 11,\n",
       "          'BANKS': 1,\n",
       "          'SOLANDER': 1,\n",
       "          'ICELAND': 2,\n",
       "          '1772': 1,\n",
       "          'Spermacetti': 2,\n",
       "          'Nantuckois': 1,\n",
       "          'active': 8,\n",
       "          'fierce': 11,\n",
       "          'requires': 7,\n",
       "          'address': 4,\n",
       "          'boldness': 2,\n",
       "          'fishermen': 28,\n",
       "          'JEFFERSON': 1,\n",
       "          'MEMORIAL': 1,\n",
       "          'MINISTER': 1,\n",
       "          '1778': 2,\n",
       "          'pray': 6,\n",
       "          'sir': 143,\n",
       "          'equal': 14,\n",
       "          '?\"': 252,\n",
       "          'EDMUND': 2,\n",
       "          'BURKE': 2,\n",
       "          'REFERENCE': 1,\n",
       "          'PARLIAMENT': 1,\n",
       "          'NANTUCKET': 11,\n",
       "          'FISHERY': 2,\n",
       "          'Spain': 5,\n",
       "          'stranded': 12,\n",
       "          'shores': 7,\n",
       "          'Europe': 5,\n",
       "          'SOMEWHERE': 1,\n",
       "          '.)': 22,\n",
       "          'tenth': 4,\n",
       "          'branch': 4,\n",
       "          'ordinary': 19,\n",
       "          'revenue': 2,\n",
       "          'grounded': 3,\n",
       "          'consideration': 8,\n",
       "          'guarding': 1,\n",
       "          'protecting': 1,\n",
       "          'pirates': 9,\n",
       "          'robbers': 1,\n",
       "          'right': 97,\n",
       "          'sturgeon': 3,\n",
       "          'either': 39,\n",
       "          'thrown': 25,\n",
       "          'property': 7,\n",
       "          'BLACKSTONE': 1,\n",
       "          'Soon': 17,\n",
       "          'sport': 3,\n",
       "          'death': 71,\n",
       "          'crews': 16,\n",
       "          'repair': 3,\n",
       "          'Rodmond': 1,\n",
       "          'unerring': 3,\n",
       "          'o': 16,\n",
       "          'er': 7,\n",
       "          'suspends': 1,\n",
       "          'barbed': 6,\n",
       "          'steel': 32,\n",
       "          'turn': 54,\n",
       "          'attends': 1,\n",
       "          'FALCONER': 1,\n",
       "          'SHIPWRECK': 2,\n",
       "          'Bright': 1,\n",
       "          'shone': 3,\n",
       "          'roofs': 1,\n",
       "          'domes': 1,\n",
       "          'spires': 6,\n",
       "          'rockets': 1,\n",
       "          ...})"
      ]
     },
     "execution_count": 27,
     "metadata": {},
     "output_type": "execute_result"
    }
   ],
   "source": [
    "fdist1"
   ]
  },
  {
   "cell_type": "code",
   "execution_count": 28,
   "metadata": {
    "collapsed": false,
    "deletable": true,
    "editable": true,
    "scrolled": true
   },
   "outputs": [
    {
     "data": {
      "text/plain": [
       "[(',', 18713),\n",
       " ('the', 13721),\n",
       " ('.', 6862),\n",
       " ('of', 6536),\n",
       " ('and', 6024),\n",
       " ('a', 4569),\n",
       " ('to', 4542),\n",
       " (';', 4072),\n",
       " ('in', 3916),\n",
       " ('that', 2982),\n",
       " (\"'\", 2684),\n",
       " ('-', 2552),\n",
       " ('his', 2459),\n",
       " ('it', 2209),\n",
       " ('I', 2124),\n",
       " ('s', 1739),\n",
       " ('is', 1695),\n",
       " ('he', 1661),\n",
       " ('with', 1659),\n",
       " ('was', 1632),\n",
       " ('as', 1620),\n",
       " ('\"', 1478),\n",
       " ('all', 1462),\n",
       " ('for', 1414),\n",
       " ('this', 1280),\n",
       " ('!', 1269),\n",
       " ('at', 1231),\n",
       " ('by', 1137),\n",
       " ('but', 1113),\n",
       " ('not', 1103),\n",
       " ('--', 1070),\n",
       " ('him', 1058),\n",
       " ('from', 1052),\n",
       " ('be', 1030),\n",
       " ('on', 1005),\n",
       " ('so', 918),\n",
       " ('whale', 906),\n",
       " ('one', 889),\n",
       " ('you', 841),\n",
       " ('had', 767),\n",
       " ('have', 760),\n",
       " ('there', 715),\n",
       " ('But', 705),\n",
       " ('or', 697),\n",
       " ('were', 680),\n",
       " ('now', 646),\n",
       " ('which', 640),\n",
       " ('?', 637),\n",
       " ('me', 627),\n",
       " ('like', 624)]"
      ]
     },
     "execution_count": 28,
     "metadata": {},
     "output_type": "execute_result"
    }
   ],
   "source": [
    "fdist1.most_common(50)"
   ]
  },
  {
   "cell_type": "code",
   "execution_count": 29,
   "metadata": {
    "collapsed": false,
    "deletable": true,
    "editable": true,
    "scrolled": true
   },
   "outputs": [
    {
     "data": {
      "image/png": "[encoded data removed]",
      "text/plain": [
       "<Figure size 432x288 with 1 Axes>"
      ]
     },
     "metadata": {},
     "output_type": "display_data"
    }
   ],
   "source": [
    "#绘制累积频率图\n",
    "import matplotlib  # 不能直接运行from matplotlib import plot\n",
    "fdist1.plot(50,cumulative = True)"
   ]
  }
 ],
 "metadata": {
  "kernelspec": {
   "display_name": "Python 3",
   "language": "python",
   "name": "python3"
  },
  "language_info": {
   "codemirror_mode": {
    "name": "ipython",
    "version": 3
   },
   "file_extension": ".py",
   "mimetype": "text/x-python",
   "name": "python",
   "nbconvert_exporter": "python",
   "pygments_lexer": "ipython3",
   "version": "3.6.0"
  }
 },
 "nbformat": 4,
 "nbformat_minor": 2
}

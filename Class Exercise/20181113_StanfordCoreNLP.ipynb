{
 "cells": [
  {
   "cell_type": "code",
   "execution_count": 1,
   "metadata": {
    "collapsed": true,
    "deletable": true,
    "editable": true
   },
   "outputs": [],
   "source": [
    "from stanfordcorenlp import StanfordCoreNLP"
   ]
  },
  {
   "cell_type": "code",
   "execution_count": 2,
   "metadata": {
    "collapsed": false,
    "deletable": true,
    "editable": true
   },
   "outputs": [
    {
     "data": {
      "text/plain": [
       "[('ROOT', 0, 6),\n",
       " ('advmod', 6, 1),\n",
       " ('advmod', 3, 2),\n",
       " ('amod', 6, 3),\n",
       " ('mark', 3, 4),\n",
       " ('amod', 6, 5),\n",
       " ('punct', 6, 7),\n",
       " ('ROOT', 0, 8),\n",
       " ('advmod', 8, 1),\n",
       " ('punct', 8, 2),\n",
       " ('nmod:tmod', 8, 3),\n",
       " ('punct', 8, 4),\n",
       " ('nmod:assmod', 7, 5),\n",
       " ('compound:nn', 7, 6),\n",
       " ('nsubj', 8, 7),\n",
       " ('compound:nn', 10, 9),\n",
       " ('dep', 19, 10),\n",
       " ('punct', 19, 11),\n",
       " ('nmod', 14, 12),\n",
       " ('amod', 14, 13),\n",
       " ('dep', 19, 14),\n",
       " ('punct', 19, 15),\n",
       " ('cc', 19, 16),\n",
       " ('conj', 19, 17),\n",
       " ('punct', 19, 18),\n",
       " ('dobj', 8, 19),\n",
       " ('punct', 19, 20),\n",
       " ('case', 23, 21),\n",
       " ('compound:nn', 23, 22),\n",
       " ('nmod', 25, 23),\n",
       " ('case', 23, 24),\n",
       " ('compound:nn', 26, 25),\n",
       " ('nsubj', 27, 26),\n",
       " ('conj', 19, 27),\n",
       " ('punct', 8, 28),\n",
       " ('ROOT', 0, 2),\n",
       " ('nsubj', 2, 1),\n",
       " ('punct', 2, 3),\n",
       " ('nsubj', 13, 4),\n",
       " ('cop', 13, 5),\n",
       " ('case', 11, 6),\n",
       " ('case', 10, 7),\n",
       " ('det', 10, 8),\n",
       " ('compound:nn', 10, 9),\n",
       " ('nmod:prep', 11, 10),\n",
       " ('nmod:prep', 13, 11),\n",
       " ('punct', 13, 12),\n",
       " ('ccomp', 2, 13),\n",
       " ('dobj', 13, 14),\n",
       " ('aux:ba', 21, 15),\n",
       " ('advmod', 17, 16),\n",
       " ('dep', 20, 17),\n",
       " ('case', 17, 18),\n",
       " ('compound:nn', 20, 19),\n",
       " ('dep', 21, 20),\n",
       " ('ccomp', 13, 21),\n",
       " ('dobj', 21, 22),\n",
       " ('conj', 21, 23),\n",
       " ('punct', 2, 24)]"
      ]
     },
     "execution_count": 2,
     "metadata": {},
     "output_type": "execute_result"
    }
   ],
   "source": [
    "#coding: utf-8\n",
    "\n",
    "# 引入库\n",
    "\n",
    "from stanfordcorenlp import StanfordCoreNLP\n",
    "\n",
    "# 用与英文处理的客户实例\n",
    "\n",
    "nlp_en = StanfordCoreNLP('http://127.0.0.1', port=2002)   # 请个修改为自己的ip地址和端口号\n",
    "\n",
    "# 用与中文处理的客户实例\n",
    "\n",
    "nlp_cn = StanfordCoreNLP('http://127.0.0.1', port=2003)   # 请个修改为自己的ip地址和端口号\n",
    "\n",
    "en_txt = \"There are more public options, too. For example, in 2013, Chinese state media accused Jaguar Land Rover and Audi of overcharging buyers for car parts, which analysts viewed as part of a campaign to pressure those automakers to locate more manufacturing in China.\"\n",
    "\n",
    "cn_txt = 还有更多的公开选择。比如，2013年，中国官方媒体指责捷豹路虎(Jaguar Land Rover)和奥迪(Audi)对汽车零部件的买家要价过高。分析师认为，那是在向这些汽车制造商施压，让它们把更多的制造工作搬到中国去。\"\n",
    "\n",
    "# 分词\n",
    "\n",
    "nlp_en.word_tokenize(en_txt)\n",
    "\n",
    "nlp_cn.word_tokenize(cn_txt)\n",
    "\n",
    "# 词性标注\n",
    "\n",
    "nlp_en.pos_tag(en_txt)\n",
    "\n",
    "nlp_cn.pos_tag(cn_txt)\n",
    "\n",
    "# 全名实体识别\n",
    "\n",
    "nlp_en.ner(en_txt)\n",
    "\n",
    "nlp_cn.ner(cn_txt)\n",
    "\n",
    "\n",
    "# 短语句法分析\n",
    "\n",
    "nlp_en.parse(en_txt)\n",
    "\n",
    "nlp_cn.parse(cn_txt)\n",
    "\n",
    "# 依存句法分析 \n",
    "\n",
    "nlp_en.dependency_parse(en_txt)\n",
    "\n",
    "nlp_cn.dependency_parse(cn_txt)\n",
    "\n"
   ]
  },
  {
   "cell_type": "code",
   "execution_count": 3,
   "metadata": {
    "collapsed": false,
    "deletable": true,
    "editable": true
   },
   "outputs": [
    {
     "data": {
      "text/plain": [
       "['',\n",
       " '',\n",
       " '',\n",
       " '',\n",
       " '',\n",
       " '',\n",
       " '',\n",
       " '',\n",
       " '',\n",
       " '',\n",
       " '',\n",
       " '',\n",
       " '',\n",
       " '',\n",
       " '',\n",
       " '',\n",
       " '',\n",
       " '',\n",
       " '',\n",
       " '',\n",
       " '',\n",
       " '',\n",
       " '',\n",
       " '',\n",
       " '',\n",
       " '',\n",
       " '',\n",
       " '',\n",
       " '',\n",
       " '',\n",
       " '',\n",
       " '',\n",
       " '',\n",
       " '',\n",
       " '',\n",
       " '',\n",
       " '',\n",
       " '',\n",
       " '',\n",
       " '',\n",
       " '',\n",
       " '',\n",
       " '',\n",
       " '',\n",
       " '',\n",
       " '',\n",
       " '',\n",
       " '',\n",
       " '',\n",
       " '',\n",
       " '',\n",
       " '',\n",
       " '',\n",
       " '',\n",
       " '',\n",
       " '',\n",
       " '',\n",
       " '',\n",
       " '']"
      ]
     },
     "execution_count": 3,
     "metadata": {},
     "output_type": "execute_result"
    }
   ],
   "source": [
    "nlp_cn.word_tokenize(cn_txt)"
   ]
  },
  {
   "cell_type": "code",
   "execution_count": 4,
   "metadata": {
    "collapsed": false,
    "deletable": true,
    "editable": true
   },
   "outputs": [
    {
     "data": {
      "text/plain": [
       "[('There', 'EX'),\n",
       " ('are', 'VBP'),\n",
       " ('more', 'RBR'),\n",
       " ('public', 'JJ'),\n",
       " ('options', 'NNS'),\n",
       " (',', ','),\n",
       " ('too', 'RB'),\n",
       " ('.', '.'),\n",
       " ('For', 'IN'),\n",
       " ('example', 'NN'),\n",
       " (',', ','),\n",
       " ('in', 'IN'),\n",
       " ('2013', 'CD'),\n",
       " (',', ','),\n",
       " ('Chinese', 'JJ'),\n",
       " ('state', 'NN'),\n",
       " ('media', 'NNS'),\n",
       " ('accused', 'VBD'),\n",
       " ('Jaguar', 'NNP'),\n",
       " ('Land', 'NNP'),\n",
       " ('Rover', 'NNP'),\n",
       " ('and', 'CC'),\n",
       " ('Audi', 'NNP'),\n",
       " ('of', 'IN'),\n",
       " ('overcharging', 'VBG'),\n",
       " ('buyers', 'NNS'),\n",
       " ('for', 'IN'),\n",
       " ('car', 'NN'),\n",
       " ('parts', 'NNS'),\n",
       " (',', ','),\n",
       " ('which', 'WDT'),\n",
       " ('analysts', 'NNS'),\n",
       " ('viewed', 'VBD'),\n",
       " ('as', 'IN'),\n",
       " ('part', 'NN'),\n",
       " ('of', 'IN'),\n",
       " ('a', 'DT'),\n",
       " ('campaign', 'NN'),\n",
       " ('to', 'TO'),\n",
       " ('pressure', 'VB'),\n",
       " ('those', 'DT'),\n",
       " ('automakers', 'NNS'),\n",
       " ('to', 'TO'),\n",
       " ('locate', 'VB'),\n",
       " ('more', 'JJR'),\n",
       " ('manufacturing', 'NN'),\n",
       " ('in', 'IN'),\n",
       " ('China', 'NNP'),\n",
       " ('.', '.')]"
      ]
     },
     "execution_count": 4,
     "metadata": {},
     "output_type": "execute_result"
    }
   ],
   "source": [
    "nlp_en.pos_tag(en_txt)"
   ]
  },
  {
   "cell_type": "code",
   "execution_count": 5,
   "metadata": {
    "collapsed": false,
    "deletable": true,
    "editable": true
   },
   "outputs": [
    {
     "data": {
      "text/plain": [
       "[('', 'AD'),\n",
       " ('', 'AD'),\n",
       " ('', 'VA'),\n",
       " ('', 'DEC'),\n",
       " ('', 'JJ'),\n",
       " ('', 'NN'),\n",
       " ('', 'PU'),\n",
       " ('', 'AD'),\n",
       " ('', 'PU'),\n",
       " ('', 'NT'),\n",
       " ('', 'PU'),\n",
       " ('', 'NR'),\n",
       " ('', 'NN'),\n",
       " ('', 'NN'),\n",
       " ('', 'VV'),\n",
       " ('', 'NN'),\n",
       " ('', 'NN'),\n",
       " ('', 'PU'),\n",
       " ('', 'NR'),\n",
       " ('', 'JJ'),\n",
       " ('', 'NN'),\n",
       " ('', 'PU'),\n",
       " ('', 'CC'),\n",
       " ('', 'NR'),\n",
       " ('', 'PU'),\n",
       " ('', 'NR'),\n",
       " ('', 'PU'),\n",
       " ('', 'P'),\n",
       " ('', 'NN'),\n",
       " ('', 'NN'),\n",
       " ('', 'DEG'),\n",
       " ('', 'NN'),\n",
       " ('', 'NN'),\n",
       " ('', 'VA'),\n",
       " ('', 'PU'),\n",
       " ('', 'NN'),\n",
       " ('', 'VV'),\n",
       " ('', 'PU'),\n",
       " ('', 'PN'),\n",
       " ('', 'VC'),\n",
       " ('', 'P'),\n",
       " ('', 'P'),\n",
       " ('', 'DT'),\n",
       " ('', 'NN'),\n",
       " ('', 'NN'),\n",
       " ('', 'VV'),\n",
       " ('', 'PU'),\n",
       " ('', 'VV'),\n",
       " ('', 'PN'),\n",
       " ('', 'BA'),\n",
       " ('', 'AD'),\n",
       " ('', 'CD'),\n",
       " ('', 'DEG'),\n",
       " ('', 'NN'),\n",
       " ('', 'NN'),\n",
       " ('', 'VV'),\n",
       " ('', 'NR'),\n",
       " ('', 'VV'),\n",
       " ('', 'PU')]"
      ]
     },
     "execution_count": 5,
     "metadata": {},
     "output_type": "execute_result"
    }
   ],
   "source": [
    "nlp_cn.pos_tag(cn_txt)"
   ]
  },
  {
   "cell_type": "code",
   "execution_count": 6,
   "metadata": {
    "collapsed": false,
    "deletable": true,
    "editable": true
   },
   "outputs": [
    {
     "data": {
      "text/plain": [
       "[('There', 'O'),\n",
       " ('are', 'O'),\n",
       " ('more', 'O'),\n",
       " ('public', 'O'),\n",
       " ('options', 'O'),\n",
       " (',', 'O'),\n",
       " ('too', 'O'),\n",
       " ('.', 'O'),\n",
       " ('For', 'O'),\n",
       " ('example', 'O'),\n",
       " (',', 'O'),\n",
       " ('in', 'O'),\n",
       " ('2013', 'DATE'),\n",
       " (',', 'O'),\n",
       " ('Chinese', 'MISC'),\n",
       " ('state', 'O'),\n",
       " ('media', 'O'),\n",
       " ('accused', 'O'),\n",
       " ('Jaguar', 'ORGANIZATION'),\n",
       " ('Land', 'ORGANIZATION'),\n",
       " ('Rover', 'ORGANIZATION'),\n",
       " ('and', 'O'),\n",
       " ('Audi', 'ORGANIZATION'),\n",
       " ('of', 'O'),\n",
       " ('overcharging', 'O'),\n",
       " ('buyers', 'O'),\n",
       " ('for', 'O'),\n",
       " ('car', 'O'),\n",
       " ('parts', 'O'),\n",
       " (',', 'O'),\n",
       " ('which', 'O'),\n",
       " ('analysts', 'O'),\n",
       " ('viewed', 'O'),\n",
       " ('as', 'O'),\n",
       " ('part', 'O'),\n",
       " ('of', 'O'),\n",
       " ('a', 'O'),\n",
       " ('campaign', 'O'),\n",
       " ('to', 'O'),\n",
       " ('pressure', 'O'),\n",
       " ('those', 'O'),\n",
       " ('automakers', 'O'),\n",
       " ('to', 'O'),\n",
       " ('locate', 'O'),\n",
       " ('more', 'O'),\n",
       " ('manufacturing', 'O'),\n",
       " ('in', 'O'),\n",
       " ('China', 'LOCATION'),\n",
       " ('.', 'O')]"
      ]
     },
     "execution_count": 6,
     "metadata": {},
     "output_type": "execute_result"
    }
   ],
   "source": [
    "nlp_en.ner(en_txt)"
   ]
  },
  {
   "cell_type": "code",
   "execution_count": 7,
   "metadata": {
    "collapsed": false,
    "deletable": true,
    "editable": true
   },
   "outputs": [
    {
     "data": {
      "text/plain": [
       "[('', 'O'),\n",
       " ('', 'O'),\n",
       " ('', 'O'),\n",
       " ('', 'O'),\n",
       " ('', 'O'),\n",
       " ('', 'O'),\n",
       " ('', 'O'),\n",
       " ('', 'O'),\n",
       " ('', 'O'),\n",
       " ('', 'DATE'),\n",
       " ('', 'O'),\n",
       " ('', 'DEMONYM'),\n",
       " ('', 'O'),\n",
       " ('', 'O'),\n",
       " ('', 'O'),\n",
       " ('', 'ORGANIZATION'),\n",
       " ('', 'ORGANIZATION'),\n",
       " ('', 'O'),\n",
       " ('', 'O'),\n",
       " ('', 'O'),\n",
       " ('', 'O'),\n",
       " ('', 'O'),\n",
       " ('', 'O'),\n",
       " ('', 'O'),\n",
       " ('', 'O'),\n",
       " ('', 'O'),\n",
       " ('', 'O'),\n",
       " ('', 'O'),\n",
       " ('', 'O'),\n",
       " ('', 'O'),\n",
       " ('', 'O'),\n",
       " ('', 'O'),\n",
       " ('', 'O'),\n",
       " ('', 'O'),\n",
       " ('', 'O'),\n",
       " ('', 'O'),\n",
       " ('', 'O'),\n",
       " ('', 'O'),\n",
       " ('', 'O'),\n",
       " ('', 'O'),\n",
       " ('', 'O'),\n",
       " ('', 'O'),\n",
       " ('', 'O'),\n",
       " ('', 'O'),\n",
       " ('', 'O'),\n",
       " ('', 'O'),\n",
       " ('', 'O'),\n",
       " ('', 'O'),\n",
       " ('', 'O'),\n",
       " ('', 'O'),\n",
       " ('', 'O'),\n",
       " ('', 'NUMBER'),\n",
       " ('', 'O'),\n",
       " ('', 'O'),\n",
       " ('', 'O'),\n",
       " ('', 'O'),\n",
       " ('', 'GPE'),\n",
       " ('', 'O'),\n",
       " ('', 'O')]"
      ]
     },
     "execution_count": 7,
     "metadata": {},
     "output_type": "execute_result"
    }
   ],
   "source": [
    "nlp_cn.ner(cn_txt)"
   ]
  },
  {
   "cell_type": "code",
   "execution_count": 8,
   "metadata": {
    "collapsed": false,
    "deletable": true,
    "editable": true
   },
   "outputs": [
    {
     "data": {
      "text/plain": [
       "'(ROOT\\r\\n  (S\\r\\n    (NP (EX There))\\r\\n    (VP (VBP are)\\r\\n      (NP\\r\\n        (ADJP (RBR more) (JJ public))\\r\\n        (NNS options))\\r\\n      (, ,)\\r\\n      (ADVP (RB too)))\\r\\n    (. .)))'"
      ]
     },
     "execution_count": 8,
     "metadata": {},
     "output_type": "execute_result"
    }
   ],
   "source": [
    "nlp_en.parse(en_txt)"
   ]
  },
  {
   "cell_type": "code",
   "execution_count": 9,
   "metadata": {
    "collapsed": false,
    "deletable": true,
    "editable": true
   },
   "outputs": [
    {
     "name": "stdout",
     "output_type": "stream",
     "text": [
      "(ROOT\r\n",
      "  (S\r\n",
      "    (NP (EX There))\r\n",
      "    (VP (VBP are)\r\n",
      "      (NP\r\n",
      "        (ADJP (RBR more) (JJ public))\r\n",
      "        (NNS options))\r\n",
      "      (, ,)\r\n",
      "      (ADVP (RB too)))\r\n",
      "    (. .)))\n"
     ]
    }
   ],
   "source": [
    "print(nlp_en.parse(en_txt))"
   ]
  },
  {
   "cell_type": "code",
   "execution_count": 10,
   "metadata": {
    "collapsed": false,
    "deletable": true,
    "editable": true
   },
   "outputs": [
    {
     "data": {
      "text/plain": [
       "'(ROOT\\r\\n  (IP\\r\\n    (VP\\r\\n      (ADVP (AD 还有))\\r\\n      (VP\\r\\n        (NP\\r\\n          (DNP\\r\\n            (QP\\r\\n              (ADVP (AD 更))\\r\\n              (QP (VA 多)))\\r\\n            (DEC 的))\\r\\n          (ADJP (JJ 公开))\\r\\n          (NP (NN 选择)))))\\r\\n    (PU 。)))'"
      ]
     },
     "execution_count": 10,
     "metadata": {},
     "output_type": "execute_result"
    }
   ],
   "source": [
    "nlp_cn.parse(cn_txt)"
   ]
  },
  {
   "cell_type": "code",
   "execution_count": 11,
   "metadata": {
    "collapsed": false,
    "deletable": true,
    "editable": true
   },
   "outputs": [
    {
     "name": "stdout",
     "output_type": "stream",
     "text": [
      "(ROOT\r\n",
      "  (IP\r\n",
      "    (VP\r\n",
      "      (ADVP (AD 还有))\r\n",
      "      (VP\r\n",
      "        (NP\r\n",
      "          (DNP\r\n",
      "            (QP\r\n",
      "              (ADVP (AD 更))\r\n",
      "              (QP (VA 多)))\r\n",
      "            (DEC 的))\r\n",
      "          (ADJP (JJ 公开))\r\n",
      "          (NP (NN 选择)))))\r\n",
      "    (PU 。)))\n"
     ]
    }
   ],
   "source": [
    "print(nlp_cn.parse(cn_txt))"
   ]
  },
  {
   "cell_type": "code",
   "execution_count": 12,
   "metadata": {
    "collapsed": false,
    "deletable": true,
    "editable": true
   },
   "outputs": [
    {
     "data": {
      "text/plain": [
       "[('ROOT', 0, 2),\n",
       " ('expl', 2, 1),\n",
       " ('advmod', 5, 3),\n",
       " ('amod', 5, 4),\n",
       " ('nsubj', 2, 5),\n",
       " ('punct', 2, 6),\n",
       " ('advmod', 2, 7),\n",
       " ('punct', 2, 8),\n",
       " ('ROOT', 0, 10),\n",
       " ('case', 2, 1),\n",
       " ('nmod', 10, 2),\n",
       " ('punct', 10, 3),\n",
       " ('case', 5, 4),\n",
       " ('nmod', 10, 5),\n",
       " ('punct', 10, 6),\n",
       " ('amod', 9, 7),\n",
       " ('compound', 9, 8),\n",
       " ('nsubj', 10, 9),\n",
       " ('compound', 13, 11),\n",
       " ('compound', 13, 12),\n",
       " ('dobj', 10, 13),\n",
       " ('cc', 13, 14),\n",
       " ('conj', 13, 15),\n",
       " ('mark', 17, 16),\n",
       " ('advcl', 10, 17),\n",
       " ('dobj', 17, 18),\n",
       " ('case', 21, 19),\n",
       " ('compound', 21, 20),\n",
       " ('nmod', 18, 21),\n",
       " ('punct', 21, 22),\n",
       " ('dobj', 25, 23),\n",
       " ('nsubj', 25, 24),\n",
       " ('acl:relcl', 21, 25),\n",
       " ('case', 27, 26),\n",
       " ('nmod', 25, 27),\n",
       " ('case', 30, 28),\n",
       " ('det', 30, 29),\n",
       " ('nmod', 27, 30),\n",
       " ('mark', 32, 31),\n",
       " ('acl', 30, 32),\n",
       " ('det', 34, 33),\n",
       " ('dobj', 32, 34),\n",
       " ('mark', 36, 35),\n",
       " ('advcl', 32, 36),\n",
       " ('amod', 38, 37),\n",
       " ('dobj', 36, 38),\n",
       " ('case', 40, 39),\n",
       " ('nmod', 36, 40),\n",
       " ('punct', 10, 41)]"
      ]
     },
     "execution_count": 12,
     "metadata": {},
     "output_type": "execute_result"
    }
   ],
   "source": [
    "nlp_en.dependency_parse(en_txt)"
   ]
  },
  {
   "cell_type": "code",
   "execution_count": 13,
   "metadata": {
    "collapsed": false,
    "deletable": true,
    "editable": true
   },
   "outputs": [
    {
     "data": {
      "text/plain": [
       "[('ROOT', 0, 6),\n",
       " ('advmod', 6, 1),\n",
       " ('advmod', 3, 2),\n",
       " ('amod', 6, 3),\n",
       " ('mark', 3, 4),\n",
       " ('amod', 6, 5),\n",
       " ('punct', 6, 7),\n",
       " ('ROOT', 0, 8),\n",
       " ('advmod', 8, 1),\n",
       " ('punct', 8, 2),\n",
       " ('nmod:tmod', 8, 3),\n",
       " ('punct', 8, 4),\n",
       " ('nmod:assmod', 7, 5),\n",
       " ('compound:nn', 7, 6),\n",
       " ('nsubj', 8, 7),\n",
       " ('compound:nn', 10, 9),\n",
       " ('dep', 19, 10),\n",
       " ('punct', 19, 11),\n",
       " ('nmod', 14, 12),\n",
       " ('amod', 14, 13),\n",
       " ('dep', 19, 14),\n",
       " ('punct', 19, 15),\n",
       " ('cc', 19, 16),\n",
       " ('conj', 19, 17),\n",
       " ('punct', 19, 18),\n",
       " ('dobj', 8, 19),\n",
       " ('punct', 19, 20),\n",
       " ('case', 23, 21),\n",
       " ('compound:nn', 23, 22),\n",
       " ('nmod', 25, 23),\n",
       " ('case', 23, 24),\n",
       " ('compound:nn', 26, 25),\n",
       " ('nsubj', 27, 26),\n",
       " ('conj', 19, 27),\n",
       " ('punct', 8, 28),\n",
       " ('ROOT', 0, 2),\n",
       " ('nsubj', 2, 1),\n",
       " ('punct', 2, 3),\n",
       " ('nsubj', 13, 4),\n",
       " ('cop', 13, 5),\n",
       " ('case', 11, 6),\n",
       " ('case', 10, 7),\n",
       " ('det', 10, 8),\n",
       " ('compound:nn', 10, 9),\n",
       " ('nmod:prep', 11, 10),\n",
       " ('nmod:prep', 13, 11),\n",
       " ('punct', 13, 12),\n",
       " ('ccomp', 2, 13),\n",
       " ('dobj', 13, 14),\n",
       " ('aux:ba', 21, 15),\n",
       " ('advmod', 17, 16),\n",
       " ('dep', 20, 17),\n",
       " ('case', 17, 18),\n",
       " ('compound:nn', 20, 19),\n",
       " ('dep', 21, 20),\n",
       " ('ccomp', 13, 21),\n",
       " ('dobj', 21, 22),\n",
       " ('conj', 21, 23),\n",
       " ('punct', 2, 24)]"
      ]
     },
     "execution_count": 13,
     "metadata": {},
     "output_type": "execute_result"
    }
   ],
   "source": [
    "nlp_cn.dependency_parse(cn_txt)"
   ]
  }
 ],
 "metadata": {
  "kernelspec": {
   "display_name": "Python 3",
   "language": "python",
   "name": "python3"
  },
  "language_info": {
   "codemirror_mode": {
    "name": "ipython",
    "version": 3
   },
   "file_extension": ".py",
   "mimetype": "text/x-python",
   "name": "python",
   "nbconvert_exporter": "python",
   "pygments_lexer": "ipython3",
   "version": "3.6.0"
  }
 },
 "nbformat": 4,
 "nbformat_minor": 2
}

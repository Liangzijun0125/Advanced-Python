{
 "cells": [
  {
   "cell_type": "code",
   "execution_count": 1,
   "metadata": {
    "collapsed": true,
    "deletable": true,
    "editable": true
   },
   "outputs": [],
   "source": [
    "import os"
   ]
  },
  {
   "cell_type": "code",
   "execution_count": 2,
   "metadata": {
    "collapsed": false,
    "deletable": true,
    "editable": true
   },
   "outputs": [
    {
     "data": {
      "text/plain": [
       "14260"
      ]
     },
     "execution_count": 2,
     "metadata": {},
     "output_type": "execute_result"
    }
   ],
   "source": [
    "os.getpid()        #进程号"
   ]
  },
  {
   "cell_type": "code",
   "execution_count": 3,
   "metadata": {
    "collapsed": true,
    "deletable": true,
    "editable": true
   },
   "outputs": [],
   "source": [
    "import multiprocessing"
   ]
  },
  {
   "cell_type": "code",
   "execution_count": 4,
   "metadata": {
    "collapsed": true,
    "deletable": true,
    "editable": true
   },
   "outputs": [],
   "source": [
    "from multiprocessing import Process"
   ]
  },
  {
   "cell_type": "code",
   "execution_count": 5,
   "metadata": {
    "collapsed": true,
    "deletable": true,
    "editable": true
   },
   "outputs": [],
   "source": [
    "def proc(i):\n",
    "    print(\"I'm process %d\"%(i))"
   ]
  },
  {
   "cell_type": "code",
   "execution_count": 6,
   "metadata": {
    "collapsed": false,
    "deletable": true,
    "editable": true
   },
   "outputs": [
    {
     "name": "stdout",
     "output_type": "stream",
     "text": [
      "p.id: 8920\n",
      "p.name: Process-1\n",
      "p.alive: True\n",
      "p.id: 10820\n",
      "p.name: Process-2\n",
      "p.alive: True\n",
      "p.id: 13220\n",
      "p.name: Process-3\n",
      "p.alive: True\n",
      "p.id: 752\n",
      "p.name: Process-4\n",
      "p.alive: True\n",
      "p.id: 7512\n",
      "p.name: Process-5\n",
      "p.alive: True\n",
      "p.id: 9288\n",
      "p.name: Process-6\n",
      "p.alive: True\n",
      "p.id: 4876\n",
      "p.name: Process-7\n",
      "p.alive: True\n",
      "p.id: 1052\n",
      "p.name: Process-8\n",
      "p.alive: True\n",
      "p.id: 9168\n",
      "p.name: Process-9\n",
      "p.alive: True\n",
      "p.id: 14204\n",
      "p.name: Process-10\n",
      "p.alive: True\n"
     ]
    }
   ],
   "source": [
    "for j in range(10):\n",
    "    p = Process(target=proc,args=(j,))\n",
    "    p.start()\n",
    "    print(\"p.id:\",p.pid)\n",
    "    print(\"p.name:\",p.name)\n",
    "    print(\"p.alive:\",p.is_alive())"
   ]
  },
  {
   "cell_type": "code",
   "execution_count": 7,
   "metadata": {
    "collapsed": false,
    "deletable": true,
    "editable": true
   },
   "outputs": [
    {
     "name": "stdout",
     "output_type": "stream",
     "text": [
      "p.id: 9184\n",
      "p.name: Process-11\n",
      "p.alive: True\n",
      "p.id: 7692\n",
      "p.name: Process-12\n",
      "p.alive: True\n",
      "p.id: 13676\n",
      "p.name: Process-13\n",
      "p.alive: True\n",
      "p.id: 14004\n",
      "p.name: Process-14\n",
      "p.alive: True\n",
      "p.id: 9840\n",
      "p.name: Process-15\n",
      "p.alive: True\n",
      "p.id: 13964\n",
      "p.name: Process-16\n",
      "p.alive: True\n",
      "p.id: 5044\n",
      "p.name: Process-17\n",
      "p.alive: True\n",
      "p.id: 14588\n",
      "p.name: Process-18\n",
      "p.alive: True\n",
      "p.id: 7352\n",
      "p.name: Process-19\n",
      "p.alive: True\n",
      "p.id: 7236\n",
      "p.name: Process-20\n",
      "p.alive: True\n",
      "p.id: 7516\n",
      "p.name: Process-21\n",
      "p.alive: True\n",
      "p.id: 14172\n",
      "p.name: Process-22\n",
      "p.alive: True\n",
      "p.id: 10444\n",
      "p.name: Process-23\n",
      "p.alive: True\n",
      "p.id: 6416\n",
      "p.name: Process-24\n",
      "p.alive: True\n",
      "p.id: 12744\n",
      "p.name: Process-25\n",
      "p.alive: True\n",
      "p.id: 9032\n",
      "p.name: Process-26\n",
      "p.alive: True\n",
      "p.id: 120\n",
      "p.name: Process-27\n",
      "p.alive: True\n",
      "p.id: 10640\n",
      "p.name: Process-28\n",
      "p.alive: True\n",
      "p.id: 7204\n",
      "p.name: Process-29\n",
      "p.alive: True\n",
      "p.id: 10840\n",
      "p.name: Process-30\n",
      "p.alive: True\n"
     ]
    }
   ],
   "source": [
    "import time\n",
    "def proc(i):\n",
    "    print(\"I'm process %d\"%(i))\n",
    "    time.sleep(2)\n",
    "\n",
    "for j in range(20):\n",
    "    p = Process(target=proc,args=(j,))\n",
    "    p.start()\n",
    "    print(\"p.id:\",p.pid)\n",
    "    print(\"p.name:\",p.name)\n",
    "    print(\"p.alive:\",p.is_alive())"
   ]
  },
  {
   "cell_type": "code",
   "execution_count": 8,
   "metadata": {
    "collapsed": true,
    "deletable": true,
    "editable": true
   },
   "outputs": [],
   "source": [
    "from multiprocessing import Process, Queue\n",
    "import os\n",
    "import time\n",
    "import random"
   ]
  },
  {
   "cell_type": "code",
   "execution_count": 9,
   "metadata": {
    "collapsed": true,
    "deletable": true,
    "editable": true
   },
   "outputs": [],
   "source": [
    "def wq(q):\n",
    "    print(\"Process to write:%s\"%os.getpid())\n",
    "    for value in['A','B','C','D','E','F','G','H','I','J','K']:\n",
    "        print(\"put %s into queue...\"%value)\n",
    "        q.put(value)\n",
    "        time.sleep(random.randint(1,5))"
   ]
  },
  {
   "cell_type": "code",
   "execution_count": 10,
   "metadata": {
    "collapsed": true,
    "deletable": true,
    "editable": true
   },
   "outputs": [],
   "source": [
    "def readq(q):\n",
    "    print('Process to read: %s'%os.getpid())\n",
    "    while True:\n",
    "        value = q.get()\n",
    "        print('Get %s from queue.'%value)"
   ]
  },
  {
   "cell_type": "code",
   "execution_count": 11,
   "metadata": {
    "collapsed": true,
    "deletable": true,
    "editable": true
   },
   "outputs": [],
   "source": [
    "q = Queue()"
   ]
  },
  {
   "cell_type": "code",
   "execution_count": 12,
   "metadata": {
    "collapsed": true,
    "deletable": true,
    "editable": true
   },
   "outputs": [],
   "source": [
    "p1 = Process(target=wq,args=(q,))"
   ]
  },
  {
   "cell_type": "code",
   "execution_count": 13,
   "metadata": {
    "collapsed": true,
    "deletable": true,
    "editable": true
   },
   "outputs": [],
   "source": [
    "p2 = Process(target=readq,args=(q,))"
   ]
  },
  {
   "cell_type": "code",
   "execution_count": 14,
   "metadata": {
    "collapsed": true,
    "deletable": true,
    "editable": true
   },
   "outputs": [],
   "source": [
    "p1.start()\n",
    "p2.start()\n",
    "p1.join()\n",
    "p2.terminate()"
   ]
  },
  {
   "cell_type": "code",
   "execution_count": 15,
   "metadata": {
    "collapsed": false,
    "deletable": true,
    "editable": true
   },
   "outputs": [
    {
     "ename": "AssertionError",
     "evalue": "cannot start a process twice",
     "output_type": "error",
     "traceback": [
      "\u001b[1;31m---------------------------------------------------------------------------\u001b[0m",
      "\u001b[1;31mAssertionError\u001b[0m                            Traceback (most recent call last)",
      "\u001b[1;32m<ipython-input-15-9aca56484d36>\u001b[0m in \u001b[0;36m<module>\u001b[1;34m()\u001b[0m\n\u001b[1;32m----> 1\u001b[1;33m \u001b[0mp1\u001b[0m\u001b[1;33m.\u001b[0m\u001b[0mstart\u001b[0m\u001b[1;33m(\u001b[0m\u001b[1;33m)\u001b[0m\u001b[1;33m\u001b[0m\u001b[0m\n\u001b[0m\u001b[0;32m      2\u001b[0m \u001b[0mp2\u001b[0m\u001b[1;33m.\u001b[0m\u001b[0mstart\u001b[0m\u001b[1;33m(\u001b[0m\u001b[1;33m)\u001b[0m\u001b[1;33m\u001b[0m\u001b[0m\n",
      "\u001b[1;32md:\\python36\\lib\\multiprocessing\\process.py\u001b[0m in \u001b[0;36mstart\u001b[1;34m(self)\u001b[0m\n\u001b[0;32m     97\u001b[0m         \u001b[0mStart\u001b[0m \u001b[0mchild\u001b[0m \u001b[0mprocess\u001b[0m\u001b[1;33m\u001b[0m\u001b[0m\n\u001b[0;32m     98\u001b[0m         '''\n\u001b[1;32m---> 99\u001b[1;33m         \u001b[1;32massert\u001b[0m \u001b[0mself\u001b[0m\u001b[1;33m.\u001b[0m\u001b[0m_popen\u001b[0m \u001b[1;32mis\u001b[0m \u001b[1;32mNone\u001b[0m\u001b[1;33m,\u001b[0m \u001b[1;34m'cannot start a process twice'\u001b[0m\u001b[1;33m\u001b[0m\u001b[0m\n\u001b[0m\u001b[0;32m    100\u001b[0m         \u001b[1;32massert\u001b[0m \u001b[0mself\u001b[0m\u001b[1;33m.\u001b[0m\u001b[0m_parent_pid\u001b[0m \u001b[1;33m==\u001b[0m \u001b[0mos\u001b[0m\u001b[1;33m.\u001b[0m\u001b[0mgetpid\u001b[0m\u001b[1;33m(\u001b[0m\u001b[1;33m)\u001b[0m\u001b[1;33m,\u001b[0m\u001b[0;31m \u001b[0m\u001b[0;31m\\\u001b[0m\u001b[1;33m\u001b[0m\u001b[0m\n\u001b[0;32m    101\u001b[0m                \u001b[1;34m'can only start a process object created by current process'\u001b[0m\u001b[1;33m\u001b[0m\u001b[0m\n",
      "\u001b[1;31mAssertionError\u001b[0m: cannot start a process twice"
     ]
    }
   ],
   "source": [
    "p1.start()\n",
    "p2.start()"
   ]
  },
  {
   "cell_type": "code",
   "execution_count": 16,
   "metadata": {
    "collapsed": true
   },
   "outputs": [],
   "source": [
    "p1.terminate()\n",
    "p2.terminate()"
   ]
  },
  {
   "cell_type": "code",
   "execution_count": 17,
   "metadata": {
    "collapsed": true
   },
   "outputs": [],
   "source": [
    "from multiprocessing import Process, Queue\n",
    "import os\n",
    "import time\n",
    "import random\n",
    "\n",
    "\n",
    "# 写数据进程执行的代码:\n",
    "def write(q):\n",
    "    print('Process to write: %s' % os.getpid())\n",
    "    for value in ['A','B','C','D','E','F','G','H','I','J','K']:\n",
    "        print('Put %s to queue...' % value)\n",
    "        q.put(value)\n",
    "        time.sleep(random.randint(1,5))\n",
    " \n",
    "# 读数据进程执行的代码:\n",
    "def read(q):\n",
    "    print('Process to read: %s' % os.getpid())\n",
    "    while True:\n",
    "        value = q.get()\n",
    "    print('Get %s from queue.' % value)\n",
    "\n",
    "if __name__ == '__main__': #父进程创建Queue， 并传给各个子进程：\n",
    "    q = Queue()\n",
    "    qhtml = Queue()\n",
    "    pw = Process(target = write, args = (q, ))\n",
    "    pr = Process(target = read, args = (q, ))# 启动子进程pw， 写入:\n",
    "    pw.start()# 启动子进程pr， 读取:\n",
    "    pr.start()# 等待pw结束:\n",
    "    pw.join()# pr进程里是死循环， 无法等待其结束， 只能强行终止:\n",
    "    pr.terminate()"
   ]
  },
  {
   "cell_type": "code",
   "execution_count": 18,
   "metadata": {
    "collapsed": true
   },
   "outputs": [],
   "source": [
    "#- * -coding: utf - 8 - * -\n",
    "from multiprocessing import Process, Queue\n",
    "import os\n",
    "import time\n",
    "import random\n",
    "import requests\n",
    "from pyquery import PyQuery as pq\n",
    "\n",
    "\n",
    "# 写数据进程执行的代码:\n",
    "def write(qurl):\n",
    "    print('Process to write: %s' % os.getpid())\n",
    "    urllist = [\"https://blog.csdn.net/taifei/article/details/78974408\",\"http://news.sina.com.cn/c/nd/2017-11-24/doc-ifypceiq0549798.shtml\",\"https://baijiahao.baidu.com/s?id=1615100328236091650&wfr=spider&for=pc\"]\n",
    "    for value in urllist:\n",
    "        print('Put %s to queue...' % value)\n",
    "        qurl.put(value)\n",
    "        time.sleep(random.randint(1,5))\n",
    " \n",
    "# 读数据进程执行的代码:\n",
    "def read_and_fetch(qurl, qhtml):\n",
    "    print('Process to read: %s' % os.getpid())\n",
    "    while True:\n",
    "        value = qurl.get()\n",
    "        print ('fetching web page %s' % value)\n",
    "        r = requests.get(value)\n",
    "        html = r.content\n",
    "        qhtml.put(html)\n",
    "    \n",
    "def extract(qhtml):\n",
    "    print('Process to extract: %s' % os.getpid())\n",
    "    while True:\n",
    "        value = qhtml.get()\n",
    "        doc = pq(value)\n",
    "        print ('fetching web page %s' % doc('title').text())\n",
    "\n",
    "if __name__ == '__main__': #父进程创建Queue， 并传给各个子进程：\n",
    "    qurl = Queue()\n",
    "    qhtml = Queue()\n",
    "    pwrite = Process(target = write, args = (qurl, ))\n",
    "    pread_and_fetch = Process(target = read_and_fetch, args = (qurl,qhtml, ))# 启动子进程pw， 写入:\n",
    "    pextract = Process(target = extract, args=(qhtml,))\n",
    "    pwrite.start()# 启动子进程pr， 读取:\n",
    "    pread_and_fetch.start()# 等待pw结束:\n",
    "    pextract.start()\n",
    "    \n",
    "    pwrite.join()# pr进程里是死循环， 无法等待其结束， 只能强行终止:\n",
    "    pread_and_fetch.terminate()\n",
    "    pextract.terminate()"
   ]
  },
  {
   "cell_type": "code",
   "execution_count": null,
   "metadata": {
    "collapsed": true
   },
   "outputs": [],
   "source": []
  }
 ],
 "metadata": {
  "kernelspec": {
   "display_name": "Python 3",
   "language": "python",
   "name": "python3"
  },
  "language_info": {
   "codemirror_mode": {
    "name": "ipython",
    "version": 3
   },
   "file_extension": ".py",
   "mimetype": "text/x-python",
   "name": "python",
   "nbconvert_exporter": "python",
   "pygments_lexer": "ipython3",
   "version": "3.6.0"
  }
 },
 "nbformat": 4,
 "nbformat_minor": 2
}

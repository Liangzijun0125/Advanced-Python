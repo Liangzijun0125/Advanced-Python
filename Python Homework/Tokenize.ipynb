{
 "cells": [
  {
   "cell_type": "code",
   "execution_count": 1,
   "metadata": {
    "collapsed": true
   },
   "outputs": [],
   "source": [
    "para = '''The drizzle kept falling. Cambridge seemed to be weeping as thousands of citizens and visitors gathered on Saturday in respectful mourning silence outside the university church, Great St May’s.\n",
    "\n",
    "　　周六，成千上万的市民和游客聚集在剑桥大学圣玛丽大教堂外举行默哀仪式，天空蒙蒙细雨，剑桥似乎在哭泣。\n",
    "\n",
    "　　Up to 500 families members, friends and colleagues attended the private funeral service after the legendary British physicist professor Stephen Hawking’s coffin was carried through Cambridge’s main King’s Parade street into the church.\n",
    "\n",
    "　　在传奇级英国物理学教授斯蒂芬.霍金的棺材经过剑桥国王街主游行街道被运往教堂之后，有多达500 名（霍金的）家庭成员、亲友和同事参加了其私人葬礼仪式。\n",
    "\n",
    "　　The solid oak coffin, carried by by six porters all in formal black uniform, was covered by an arrangement of white lilies, which represent the universe, and white roses symbolizing the polar star.\n",
    "\n",
    "　　结实坚硬的橡木棺材，被六个身着黑色西装的人员抬着，上面覆盖着代表了宇宙的百合花，以及象征着北极星的白玫瑰。\n",
    "\n",
    "　　The private service, officiated by the Reverend Dr. Cally Hammond, dean of Gonville and Caius College, Hawking’s academic home, was described as \"both inclusive and traditional, reflecting the breadth and diversity of his life,\" according to a statement by Hawking’s children.\n",
    "\n",
    "　　这样特别的仪式，由冈维尔.凯斯学院的院长、教士C.H博士主持，霍金也是凯斯学院的院士。“（葬礼）内容丰富而传统，展现了霍金一生的宽度和多样性”霍金子女在声明中如此描述。\n",
    "\n",
    "　　Also among those inside the church was Eddie Redmayne, who played the role of professor Hawking in the 2014 biographical drama The Theory of Everything.\n",
    "\n",
    "\n",
    "　　在教堂里的还有埃迪.雷德梅恩(小雀斑)，他在2014年的传记电影《万物理论》中饰演霍金教授。\n",
    "\n",
    "　　Great St Mary’s Church dates back to the 13th century, almost as old as Cambridge University itself. The church bell, considered the model for the Big Ben in London, chimed 76 times ahead of the funeral at around 1400 GMT to remember the great scientist who died at home on March 14 at the age of 76.\n",
    "\n",
    "　　圣玛丽大教堂可追溯到13世纪，几乎和剑桥一样悠久。教堂钟声，被认为是伦敦大本钟的标志。葬礼时间格林威治时间14:00前，钟声敲响76下，来悼念这位享年76岁、今年3月14日在家里去世的伟大的科学家。\n",
    "\n",
    "　　On the streets of Cambridge, the outpouring love and sorrow for Hawking’s death are heart-felt and genuine.\n",
    "\n",
    "　　在剑桥的街道上，人们对霍金的爱和对他死亡的悲痛倾泻而出，诚挚而又纯粹。'''"
   ]
  },
  {
   "cell_type": "code",
   "execution_count": 2,
   "metadata": {
    "collapsed": false
   },
   "outputs": [
    {
     "data": {
      "text/plain": [
       "['The drizzle kept falling',\n",
       " ' Cambridge seemed to be weeping as thousands of citizens and visitors gathered on Saturday in respectful mourning silence outside the university church, Great St May’s',\n",
       " '\\n\\n\\u3000\\u3000周六，成千上万的市民和游客聚集在剑桥大学圣玛丽大教堂外举行默哀仪式，天空蒙蒙细雨，剑桥似乎在哭泣。\\n\\n\\u3000\\u3000Up to 500 families members, friends and colleagues attended the private funeral service after the legendary British physicist professor Stephen Hawking’s coffin was carried through Cambridge’s main King’s Parade street into the church',\n",
       " '\\n\\n\\u3000\\u3000在传奇级英国物理学教授斯蒂芬',\n",
       " '霍金的棺材经过剑桥国王街主游行街道被运往教堂之后，有多达500 名（霍金的）家庭成员、亲友和同事参加了其私人葬礼仪式。\\n\\n\\u3000\\u3000The solid oak coffin, carried by by six porters all in formal black uniform, was covered by an arrangement of white lilies, which represent the universe, and white roses symbolizing the polar star',\n",
       " '\\n\\n\\u3000\\u3000结实坚硬的橡木棺材，被六个身着黑色西装的人员抬着，上面覆盖着代表了宇宙的百合花，以及象征着北极星的白玫瑰。\\n\\n\\u3000\\u3000The private service, officiated by the Reverend Dr',\n",
       " ' Cally Hammond, dean of Gonville and Caius College, Hawking’s academic home, was described as \"both inclusive and traditional, reflecting the breadth and diversity of his life,\" according to a statement by Hawking’s children',\n",
       " '\\n\\n\\u3000\\u3000这样特别的仪式，由冈维尔',\n",
       " '凯斯学院的院长、教士C',\n",
       " 'H博士主持，霍金也是凯斯学院的院士。“（葬礼）内容丰富而传统，展现了霍金一生的宽度和多样性”霍金子女在声明中如此描述。\\n\\n\\u3000\\u3000Also among those inside the church was Eddie Redmayne, who played the role of professor Hawking in the 2014 biographical drama The Theory of Everything',\n",
       " '\\n\\n\\n\\u3000\\u3000在教堂里的还有埃迪',\n",
       " '雷德梅恩(小雀斑)，他在2014年的传记电影《万物理论》中饰演霍金教授。\\n\\n\\u3000\\u3000Great St Mary’s Church dates back to the 13th century, almost as old as Cambridge University itself',\n",
       " ' The church bell, considered the model for the Big Ben in London, chimed 76 times ahead of the funeral at around 1400 GMT to remember the great scientist who died at home on March 14 at the age of 76',\n",
       " '\\n\\n\\u3000\\u3000圣玛丽大教堂可追溯到13世纪，几乎和剑桥一样悠久。教堂钟声，被认为是伦敦大本钟的标志。葬礼时间格林威治时间14:00前，钟声敲响76下，来悼念这位享年76岁、今年3月14日在家里去世的伟大的科学家。\\n\\n\\u3000\\u3000On the streets of Cambridge, the outpouring love and sorrow for Hawking’s death are heart-felt and genuine',\n",
       " '\\n\\n\\u3000\\u3000在剑桥的街道上，人们对霍金的爱和对他死亡的悲痛倾泻而出，诚挚而又纯粹。']"
      ]
     },
     "execution_count": 2,
     "metadata": {},
     "output_type": "execute_result"
    }
   ],
   "source": [
    "para.split('.')"
   ]
  },
  {
   "cell_type": "code",
   "execution_count": 3,
   "metadata": {
    "collapsed": true
   },
   "outputs": [],
   "source": [
    "from nltk.tokenize import sent_tokenize"
   ]
  },
  {
   "cell_type": "code",
   "execution_count": 4,
   "metadata": {
    "collapsed": false
   },
   "outputs": [
    {
     "data": {
      "text/plain": [
       "['The drizzle kept falling.',\n",
       " 'Cambridge seemed to be weeping as thousands of citizens and visitors gathered on Saturday in respectful mourning silence outside the university church, Great St May’s.',\n",
       " '周六，成千上万的市民和游客聚集在剑桥大学圣玛丽大教堂外举行默哀仪式，天空蒙蒙细雨，剑桥似乎在哭泣。\\n\\n\\u3000\\u3000Up to 500 families members, friends and colleagues attended the private funeral service after the legendary British physicist professor Stephen Hawking’s coffin was carried through Cambridge’s main King’s Parade street into the church.',\n",
       " '在传奇级英国物理学教授斯蒂芬.霍金的棺材经过剑桥国王街主游行街道被运往教堂之后，有多达500 名（霍金的）家庭成员、亲友和同事参加了其私人葬礼仪式。\\n\\n\\u3000\\u3000The solid oak coffin, carried by by six porters all in formal black uniform, was covered by an arrangement of white lilies, which represent the universe, and white roses symbolizing the polar star.',\n",
       " '结实坚硬的橡木棺材，被六个身着黑色西装的人员抬着，上面覆盖着代表了宇宙的百合花，以及象征着北极星的白玫瑰。\\n\\n\\u3000\\u3000The private service, officiated by the Reverend Dr. Cally Hammond, dean of Gonville and Caius College, Hawking’s academic home, was described as \"both inclusive and traditional, reflecting the breadth and diversity of his life,\" according to a statement by Hawking’s children.',\n",
       " '这样特别的仪式，由冈维尔.凯斯学院的院长、教士C.H博士主持，霍金也是凯斯学院的院士。“（葬礼）内容丰富而传统，展现了霍金一生的宽度和多样性”霍金子女在声明中如此描述。\\n\\n\\u3000\\u3000Also among those inside the church was Eddie Redmayne, who played the role of professor Hawking in the 2014 biographical drama The Theory of Everything.',\n",
       " '在教堂里的还有埃迪.雷德梅恩(小雀斑)，他在2014年的传记电影《万物理论》中饰演霍金教授。\\n\\n\\u3000\\u3000Great St Mary’s Church dates back to the 13th century, almost as old as Cambridge University itself.',\n",
       " 'The church bell, considered the model for the Big Ben in London, chimed 76 times ahead of the funeral at around 1400 GMT to remember the great scientist who died at home on March 14 at the age of 76.',\n",
       " '圣玛丽大教堂可追溯到13世纪，几乎和剑桥一样悠久。教堂钟声，被认为是伦敦大本钟的标志。葬礼时间格林威治时间14:00前，钟声敲响76下，来悼念这位享年76岁、今年3月14日在家里去世的伟大的科学家。\\n\\n\\u3000\\u3000On the streets of Cambridge, the outpouring love and sorrow for Hawking’s death are heart-felt and genuine.',\n",
       " '在剑桥的街道上，人们对霍金的爱和对他死亡的悲痛倾泻而出，诚挚而又纯粹。']"
      ]
     },
     "execution_count": 4,
     "metadata": {},
     "output_type": "execute_result"
    }
   ],
   "source": [
    "sent_tokenize(para)"
   ]
  },
  {
   "cell_type": "code",
   "execution_count": 5,
   "metadata": {
    "collapsed": true
   },
   "outputs": [],
   "source": [
    "from nltk.tokenize import word_tokenize"
   ]
  },
  {
   "cell_type": "code",
   "execution_count": 7,
   "metadata": {
    "collapsed": false
   },
   "outputs": [
    {
     "data": {
      "text/plain": [
       "['Cambridge',\n",
       " 'seemed',\n",
       " 'to',\n",
       " 'be',\n",
       " 'weeping',\n",
       " 'as',\n",
       " 'thousands',\n",
       " 'of',\n",
       " 'citizens',\n",
       " 'and',\n",
       " 'visitors',\n",
       " 'gathered',\n",
       " 'on',\n",
       " 'Saturday',\n",
       " 'in',\n",
       " 'respectful',\n",
       " 'mourning',\n",
       " 'silence',\n",
       " 'outside',\n",
       " 'the',\n",
       " 'university',\n",
       " 'church',\n",
       " ',',\n",
       " 'Great',\n",
       " 'St',\n",
       " 'May',\n",
       " '’',\n",
       " 's',\n",
       " '.']"
      ]
     },
     "execution_count": 7,
     "metadata": {},
     "output_type": "execute_result"
    }
   ],
   "source": [
    "word_tokenize(sent_tokenize(para)[1])"
   ]
  },
  {
   "cell_type": "code",
   "execution_count": 8,
   "metadata": {
    "collapsed": true
   },
   "outputs": [],
   "source": [
    "from nltk.corpus import wordnet"
   ]
  },
  {
   "cell_type": "code",
   "execution_count": 9,
   "metadata": {
    "collapsed": true
   },
   "outputs": [],
   "source": [
    "sys=wordnet.synsets('citizen')[0]"
   ]
  },
  {
   "cell_type": "code",
   "execution_count": 10,
   "metadata": {
    "collapsed": false
   },
   "outputs": [
    {
     "data": {
      "text/plain": [
       "'citizen.n.01'"
      ]
     },
     "execution_count": 10,
     "metadata": {},
     "output_type": "execute_result"
    }
   ],
   "source": [
    "sys.name()"
   ]
  },
  {
   "cell_type": "code",
   "execution_count": 11,
   "metadata": {
    "collapsed": true
   },
   "outputs": [],
   "source": [
    "from nltk.corpus import wordnet as wn"
   ]
  },
  {
   "cell_type": "code",
   "execution_count": 12,
   "metadata": {
    "collapsed": true
   },
   "outputs": [],
   "source": [
    "c=wn.synset('citizen.n.01')"
   ]
  },
  {
   "cell_type": "code",
   "execution_count": 13,
   "metadata": {
    "collapsed": true
   },
   "outputs": [],
   "source": [
    "types_of_c=c.hyponyms()"
   ]
  },
  {
   "cell_type": "code",
   "execution_count": 14,
   "metadata": {
    "collapsed": false
   },
   "outputs": [
    {
     "data": {
      "text/plain": [
       "[Synset('active_citizen.n.01'),\n",
       " Synset('civilian.n.01'),\n",
       " Synset('freeman.n.01'),\n",
       " Synset('private_citizen.n.01'),\n",
       " Synset('repatriate.n.01'),\n",
       " Synset('thane.n.02'),\n",
       " Synset('voter.n.01')]"
      ]
     },
     "execution_count": 14,
     "metadata": {},
     "output_type": "execute_result"
    }
   ],
   "source": [
    "types_of_c"
   ]
  },
  {
   "cell_type": "code",
   "execution_count": 15,
   "metadata": {
    "collapsed": true
   },
   "outputs": [],
   "source": [
    "from nltk import FreqDist"
   ]
  },
  {
   "cell_type": "code",
   "execution_count": 16,
   "metadata": {
    "collapsed": true
   },
   "outputs": [],
   "source": [
    "fdist1=FreqDist(para)"
   ]
  },
  {
   "cell_type": "code",
   "execution_count": 17,
   "metadata": {
    "collapsed": false
   },
   "outputs": [
    {
     "data": {
      "text/plain": [
       "FreqDist({'\\n': 27,\n",
       "          ' ': 229,\n",
       "          '\"': 2,\n",
       "          '(': 1,\n",
       "          ')': 1,\n",
       "          ',': 17,\n",
       "          '-': 1,\n",
       "          '.': 14,\n",
       "          '0': 10,\n",
       "          '1': 8,\n",
       "          '2': 2,\n",
       "          '3': 3,\n",
       "          '4': 6,\n",
       "          '5': 2,\n",
       "          '6': 4,\n",
       "          '7': 4,\n",
       "          ':': 1,\n",
       "          'A': 1,\n",
       "          'B': 3,\n",
       "          'C': 9,\n",
       "          'D': 1,\n",
       "          'E': 2,\n",
       "          'G': 4,\n",
       "          'H': 7,\n",
       "          'K': 1,\n",
       "          'L': 1,\n",
       "          'M': 4,\n",
       "          'O': 1,\n",
       "          'P': 1,\n",
       "          'R': 2,\n",
       "          'S': 4,\n",
       "          'T': 7,\n",
       "          'U': 2,\n",
       "          'a': 92,\n",
       "          'b': 20,\n",
       "          'c': 39,\n",
       "          'd': 57,\n",
       "          'e': 148,\n",
       "          'f': 32,\n",
       "          'g': 30,\n",
       "          'h': 63,\n",
       "          'i': 89,\n",
       "          'k': 9,\n",
       "          'l': 43,\n",
       "          'm': 29,\n",
       "          'n': 71,\n",
       "          'o': 69,\n",
       "          'p': 16,\n",
       "          'r': 84,\n",
       "          's': 70,\n",
       "          't': 86,\n",
       "          'u': 24,\n",
       "          'v': 15,\n",
       "          'w': 16,\n",
       "          'x': 1,\n",
       "          'y': 20,\n",
       "          'z': 4,\n",
       "          '’': 8,\n",
       "          '“': 1,\n",
       "          '”': 1,\n",
       "          '\\u3000': 26,\n",
       "          '、': 3,\n",
       "          '。': 10,\n",
       "          '《': 1,\n",
       "          '》': 1,\n",
       "          '一': 2,\n",
       "          '万': 2,\n",
       "          '上': 3,\n",
       "          '下': 1,\n",
       "          '世': 2,\n",
       "          '个': 1,\n",
       "          '中': 2,\n",
       "          '丰': 1,\n",
       "          '为': 1,\n",
       "          '主': 2,\n",
       "          '丽': 2,\n",
       "          '举': 1,\n",
       "          '久': 1,\n",
       "          '之': 1,\n",
       "          '乎': 2,\n",
       "          '也': 1,\n",
       "          '了': 3,\n",
       "          '事': 1,\n",
       "          '亡': 1,\n",
       "          '享': 1,\n",
       "          '亲': 1,\n",
       "          '人': 3,\n",
       "          '今': 1,\n",
       "          '他': 2,\n",
       "          '代': 1,\n",
       "          '以': 1,\n",
       "          '仪': 3,\n",
       "          '们': 1,\n",
       "          '伟': 1,\n",
       "          '传': 3,\n",
       "          '伦': 1,\n",
       "          '似': 1,\n",
       "          '位': 1,\n",
       "          '倾': 1,\n",
       "          '六': 2,\n",
       "          '其': 1,\n",
       "          '内': 1,\n",
       "          '冈': 1,\n",
       "          '几': 1,\n",
       "          '凯': 2,\n",
       "          '出': 1,\n",
       "          '别': 1,\n",
       "          '到': 1,\n",
       "          '前': 1,\n",
       "          '剑': 5,\n",
       "          '加': 1,\n",
       "          '北': 1,\n",
       "          '千': 1,\n",
       "          '博': 1,\n",
       "          '去': 1,\n",
       "          '参': 1,\n",
       "          '又': 1,\n",
       "          '及': 1,\n",
       "          '友': 1,\n",
       "          '可': 1,\n",
       "          '合': 1,\n",
       "          '同': 1,\n",
       "          '名': 1,\n",
       "          '后': 1,\n",
       "          '员': 2,\n",
       "          '周': 1,\n",
       "          '和': 5,\n",
       "          '哀': 1,\n",
       "          '响': 1,\n",
       "          '哭': 1,\n",
       "          '国': 2,\n",
       "          '圣': 2,\n",
       "          '在': 8,\n",
       "          '坚': 1,\n",
       "          '埃': 1,\n",
       "          '堂': 5,\n",
       "          '士': 3,\n",
       "          '声': 3,\n",
       "          '外': 1,\n",
       "          '多': 2,\n",
       "          '大': 5,\n",
       "          '天': 1,\n",
       "          '奇': 1,\n",
       "          '女': 1,\n",
       "          '如': 1,\n",
       "          '威': 1,\n",
       "          '子': 1,\n",
       "          '学': 5,\n",
       "          '宇': 1,\n",
       "          '宙': 1,\n",
       "          '实': 1,\n",
       "          '客': 1,\n",
       "          '家': 3,\n",
       "          '容': 1,\n",
       "          '宽': 1,\n",
       "          '富': 1,\n",
       "          '对': 2,\n",
       "          '小': 1,\n",
       "          '尔': 1,\n",
       "          '展': 1,\n",
       "          '岁': 1,\n",
       "          '市': 1,\n",
       "          '年': 3,\n",
       "          '度': 1,\n",
       "          '庭': 1,\n",
       "          '式': 3,\n",
       "          '影': 1,\n",
       "          '往': 1,\n",
       "          '征': 1,\n",
       "          '德': 1,\n",
       "          '志': 1,\n",
       "          '念': 1,\n",
       "          '性': 1,\n",
       "          '恩': 1,\n",
       "          '悠': 1,\n",
       "          '悲': 1,\n",
       "          '悼': 1,\n",
       "          '成': 2,\n",
       "          '抬': 1,\n",
       "          '持': 1,\n",
       "          '挚': 1,\n",
       "          '授': 2,\n",
       "          '描': 1,\n",
       "          '教': 8,\n",
       "          '敦': 1,\n",
       "          '敲': 1,\n",
       "          '斑': 1,\n",
       "          '斯': 3,\n",
       "          '日': 1,\n",
       "          '时': 2,\n",
       "          '明': 1,\n",
       "          '星': 1,\n",
       "          '是': 2,\n",
       "          '月': 1,\n",
       "          '有': 2,\n",
       "          '木': 1,\n",
       "          '本': 1,\n",
       "          '材': 2,\n",
       "          '来': 1,\n",
       "          '极': 1,\n",
       "          '林': 1,\n",
       "          '标': 1,\n",
       "          '样': 3,\n",
       "          '格': 1,\n",
       "          '桥': 5,\n",
       "          '梅': 1,\n",
       "          '棺': 2,\n",
       "          '橡': 1,\n",
       "          '此': 1,\n",
       "          '死': 1,\n",
       "          '民': 1,\n",
       "          '治': 1,\n",
       "          '泣': 1,\n",
       "          '泻': 1,\n",
       "          '游': 2,\n",
       "          '溯': 1,\n",
       "          '演': 1,\n",
       "          '爱': 1,\n",
       "          '物': 2,\n",
       "          '特': 1,\n",
       "          '王': 1,\n",
       "          '玛': 2,\n",
       "          '玫': 1,\n",
       "          '现': 1,\n",
       "          '理': 2,\n",
       "          '瑰': 1,\n",
       "          '生': 1,\n",
       "          '由': 1,\n",
       "          '电': 1,\n",
       "          '痛': 1,\n",
       "          '白': 1,\n",
       "          '百': 1,\n",
       "          '的': 19,\n",
       "          '盖': 1,\n",
       "          '着': 4,\n",
       "          '硬': 1,\n",
       "          '礼': 3,\n",
       "          '私': 1,\n",
       "          '科': 1,\n",
       "          '空': 1,\n",
       "          '粹': 1,\n",
       "          '级': 1,\n",
       "          '纪': 1,\n",
       "          '纯': 1,\n",
       "          '细': 1,\n",
       "          '经': 1,\n",
       "          '结': 1,\n",
       "          '统': 1,\n",
       "          '维': 1,\n",
       "          '而': 3,\n",
       "          '聚': 1,\n",
       "          '色': 1,\n",
       "          '芬': 1,\n",
       "          '花': 1,\n",
       "          '英': 1,\n",
       "          '葬': 3,\n",
       "          '蒂': 1,\n",
       "          '蒙': 2,\n",
       "          '行': 2,\n",
       "          '街': 3,\n",
       "          '表': 1,\n",
       "          '被': 3,\n",
       "          '装': 1,\n",
       "          '西': 1,\n",
       "          '覆': 1,\n",
       "          '认': 1,\n",
       "          '记': 1,\n",
       "          '论': 1,\n",
       "          '诚': 1,\n",
       "          '象': 1,\n",
       "          '身': 1,\n",
       "          '达': 1,\n",
       "          '过': 1,\n",
       "          '运': 1,\n",
       "          '还': 1,\n",
       "          '这': 2,\n",
       "          '迪': 1,\n",
       "          '述': 1,\n",
       "          '追': 1,\n",
       "          '道': 2,\n",
       "          '里': 2,\n",
       "          '金': 7,\n",
       "          '钟': 3,\n",
       "          '长': 1,\n",
       "          '间': 2,\n",
       "          '院': 4,\n",
       "          '雀': 1,\n",
       "          '集': 1,\n",
       "          '雨': 1,\n",
       "          '雷': 1,\n",
       "          '霍': 7,\n",
       "          '面': 1,\n",
       "          '饰': 1,\n",
       "          '黑': 1,\n",
       "          '默': 1,\n",
       "          '（': 2,\n",
       "          '）': 2,\n",
       "          '，': 17})"
      ]
     },
     "execution_count": 17,
     "metadata": {},
     "output_type": "execute_result"
    }
   ],
   "source": [
    "fdist1"
   ]
  },
  {
   "cell_type": "code",
   "execution_count": 18,
   "metadata": {
    "collapsed": false
   },
   "outputs": [
    {
     "data": {
      "text/plain": [
       "[(' ', 229), ('e', 148), ('a', 92), ('i', 89), ('t', 86)]"
      ]
     },
     "execution_count": 18,
     "metadata": {},
     "output_type": "execute_result"
    }
   ],
   "source": [
    "fdist1.most_common(5)"
   ]
  },
  {
   "cell_type": "code",
   "execution_count": 19,
   "metadata": {
    "collapsed": true
   },
   "outputs": [],
   "source": [
    "import matplotlib"
   ]
  },
  {
   "cell_type": "code",
   "execution_count": 20,
   "metadata": {
    "collapsed": false
   },
   "outputs": [
    {
     "data": {
      "image/png": "[encoded data removed]",
      "text/plain": [
       "<Figure size 432x288 with 1 Axes>"
      ]
     },
     "metadata": {},
     "output_type": "display_data"
    }
   ],
   "source": [
    "fdist1.plot(5,cumulative=True)"
   ]
  },
  {
   "cell_type": "code",
   "execution_count": 21,
   "metadata": {
    "collapsed": true
   },
   "outputs": [],
   "source": [
    "import matplotlib.pyplot as plt"
   ]
  },
  {
   "cell_type": "code",
   "execution_count": 22,
   "metadata": {
    "collapsed": false
   },
   "outputs": [
    {
     "data": {
      "text/plain": [
       "<matplotlib.axes._subplots.AxesSubplot at 0x21ebc38b390>"
      ]
     },
     "execution_count": 22,
     "metadata": {},
     "output_type": "execute_result"
    }
   ],
   "source": [
    "plt.axes(aspect=1)"
   ]
  },
  {
   "cell_type": "code",
   "execution_count": 23,
   "metadata": {
    "collapsed": true
   },
   "outputs": [],
   "source": [
    "labels=' ','e','a','i','t'"
   ]
  },
  {
   "cell_type": "code",
   "execution_count": 24,
   "metadata": {
    "collapsed": true
   },
   "outputs": [],
   "source": [
    "fracs=[229,148,92,89,86]"
   ]
  },
  {
   "cell_type": "code",
   "execution_count": 26,
   "metadata": {
    "collapsed": false
   },
   "outputs": [
    {
     "data": {
      "text/plain": [
       "([<matplotlib.patches.Wedge at 0x21ebc3fb2e8>,\n",
       "  <matplotlib.patches.Wedge at 0x21ebc3fbac8>,\n",
       "  <matplotlib.patches.Wedge at 0x21ebc408518>,\n",
       "  <matplotlib.patches.Wedge at 0x21ebc408eb8>,\n",
       "  <matplotlib.patches.Wedge at 0x21ebc412780>],\n",
       " [Text(-0.9887257390737508, 0.48210104012858673, ' '),\n",
       "  Text(-0.20274489885198638, -1.0811542470847988, 'e'),\n",
       "  Text(0.9168464349368002, -0.6077767803591051, 'a'),\n",
       "  Text(1.0516558763889152, 0.32252118946925473, 'i'),\n",
       "  Text(0.448063658695108, 1.0046088580919212, 't')],\n",
       " [Text(-0.5393049485856822, 0.2629642037065018, '35.6 %'),\n",
       "  Text(-0.11058812664653801, -0.5897204984098902, '23.0 %'),\n",
       "  Text(0.5000980554200728, -0.3315146074686028, '14.3 %'),\n",
       "  Text(0.5736304780303173, 0.17592064880141167, '13.8 %'),\n",
       "  Text(0.2443983592882407, 0.5479684680501388, '13.4 %')])"
      ]
     },
     "execution_count": 26,
     "metadata": {},
     "output_type": "execute_result"
    }
   ],
   "source": [
    "plt.pie(x=fracs,labels=labels,autopct='%3.1f %%',shadow=True,labeldistance=1.1,startangle=90,pctdistance=0.6)"
   ]
  }
 ],
 "metadata": {
  "kernelspec": {
   "display_name": "Python 3",
   "language": "python",
   "name": "python3"
  },
  "language_info": {
   "codemirror_mode": {
    "name": "ipython",
    "version": 3
   },
   "file_extension": ".py",
   "mimetype": "text/x-python",
   "name": "python",
   "nbconvert_exporter": "python",
   "pygments_lexer": "ipython3",
   "version": "3.6.0"
  }
 },
 "nbformat": 4,
 "nbformat_minor": 2
}

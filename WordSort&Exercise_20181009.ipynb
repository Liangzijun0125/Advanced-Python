{
 "cells": [
  {
   "cell_type": "code",
   "execution_count": 1,
   "metadata": {
    "collapsed": true,
    "deletable": true,
    "editable": true
   },
   "outputs": [],
   "source": [
    "from nltk.corpus import PlaintextCorpusReader"
   ]
  },
  {
   "cell_type": "code",
   "execution_count": 2,
   "metadata": {
    "collapsed": true,
    "deletable": true,
    "editable": true
   },
   "outputs": [],
   "source": [
    "from nltk import word_tokenize"
   ]
  },
  {
   "cell_type": "code",
   "execution_count": 3,
   "metadata": {
    "collapsed": true,
    "deletable": true,
    "editable": true
   },
   "outputs": [],
   "source": [
    "from nltk import Text"
   ]
  },
  {
   "cell_type": "code",
   "execution_count": 4,
   "metadata": {
    "collapsed": true,
    "deletable": true,
    "editable": true
   },
   "outputs": [],
   "source": [
    "from nltk import FreqDist"
   ]
  },
  {
   "cell_type": "code",
   "execution_count": 5,
   "metadata": {
    "collapsed": true,
    "deletable": true,
    "editable": true
   },
   "outputs": [],
   "source": [
    "corpus_root='D:/Echo/Advanced Python/corpara1'"
   ]
  },
  {
   "cell_type": "code",
   "execution_count": 6,
   "metadata": {
    "collapsed": false,
    "deletable": true,
    "editable": true
   },
   "outputs": [
    {
     "data": {
      "text/plain": [
       "['1.txt', '2.txt', '3.txt', '4.txt', '5.txt']"
      ]
     },
     "execution_count": 6,
     "metadata": {},
     "output_type": "execute_result"
    }
   ],
   "source": [
    "files = PlaintextCorpusReader(corpus_root,'.*\\.txt')\n",
    "files.fileids()"
   ]
  },
  {
   "cell_type": "code",
   "execution_count": 7,
   "metadata": {
    "collapsed": true,
    "deletable": true,
    "editable": true
   },
   "outputs": [],
   "source": [
    "words=word_tokenize(files.raw(fileids=files.fileids()))   //将文本读到字符串中"
   ]
  },
  {
   "cell_type": "code",
   "execution_count": 8,
   "metadata": {
    "collapsed": false,
    "deletable": true,
    "editable": true
   },
   "outputs": [
    {
     "data": {
      "text/plain": [
       "['The',\n",
       " 'next',\n",
       " 'financial',\n",
       " 'crisis',\n",
       " 'may',\n",
       " 'be',\n",
       " 'triggered',\n",
       " 'by',\n",
       " 'central',\n",
       " 'banks',\n",
       " '.',\n",
       " 'As',\n",
       " 'with',\n",
       " 'London',\n",
       " 'buses',\n",
       " ',',\n",
       " 'don',\n",
       " '’',\n",
       " 't',\n",
       " 'worry',\n",
       " 'if',\n",
       " 'you',\n",
       " 'miss',\n",
       " 'a',\n",
       " 'financial',\n",
       " 'crisis',\n",
       " ';',\n",
       " 'another',\n",
       " 'will',\n",
       " 'be',\n",
       " 'along',\n",
       " 'shortly',\n",
       " '.',\n",
       " 'The',\n",
       " 'latest',\n",
       " 'study',\n",
       " 'on',\n",
       " 'long-term',\n",
       " 'asset',\n",
       " 'returns',\n",
       " 'from',\n",
       " 'Deutsche',\n",
       " 'Bank',\n",
       " 'shows',\n",
       " 'that',\n",
       " 'crises',\n",
       " 'in',\n",
       " 'developed',\n",
       " 'markets',\n",
       " 'have',\n",
       " 'become',\n",
       " 'much',\n",
       " 'more',\n",
       " 'common',\n",
       " 'in',\n",
       " 'recent',\n",
       " 'decades',\n",
       " '.',\n",
       " 'That',\n",
       " 'does',\n",
       " 'not',\n",
       " 'bode',\n",
       " 'well',\n",
       " '.',\n",
       " 'Deutsche',\n",
       " 'defines',\n",
       " 'a',\n",
       " 'crisis',\n",
       " 'as',\n",
       " 'a',\n",
       " 'period',\n",
       " 'when',\n",
       " 'a',\n",
       " 'country',\n",
       " 'suffers',\n",
       " 'one',\n",
       " 'of',\n",
       " 'the',\n",
       " 'following',\n",
       " ':',\n",
       " 'a',\n",
       " '15',\n",
       " '%',\n",
       " 'annual',\n",
       " 'decline',\n",
       " 'in',\n",
       " 'equities',\n",
       " ';',\n",
       " 'a',\n",
       " '10',\n",
       " '%',\n",
       " 'fall',\n",
       " 'in',\n",
       " 'its',\n",
       " 'currency',\n",
       " 'or',\n",
       " 'its',\n",
       " 'government',\n",
       " 'bonds',\n",
       " ';',\n",
       " 'a',\n",
       " 'default',\n",
       " 'on',\n",
       " 'its',\n",
       " 'national',\n",
       " 'debt',\n",
       " ';',\n",
       " 'or',\n",
       " 'a',\n",
       " 'period',\n",
       " 'of',\n",
       " 'double-digit',\n",
       " 'inflation',\n",
       " '.',\n",
       " 'During',\n",
       " 'the',\n",
       " '19th',\n",
       " 'century',\n",
       " ',',\n",
       " 'only',\n",
       " 'occasionally',\n",
       " 'did',\n",
       " 'more',\n",
       " 'than',\n",
       " 'half',\n",
       " 'of',\n",
       " 'countries',\n",
       " 'for',\n",
       " 'which',\n",
       " 'there',\n",
       " 'are',\n",
       " 'data',\n",
       " 'suffer',\n",
       " 'such',\n",
       " 'a',\n",
       " 'shock',\n",
       " 'in',\n",
       " 'a',\n",
       " 'single',\n",
       " 'year',\n",
       " '.',\n",
       " 'But',\n",
       " 'since',\n",
       " 'the',\n",
       " '1980s',\n",
       " ',',\n",
       " 'in',\n",
       " 'numerous',\n",
       " 'years',\n",
       " 'more',\n",
       " 'than',\n",
       " 'half',\n",
       " 'of',\n",
       " 'them',\n",
       " 'have',\n",
       " 'been',\n",
       " 'in',\n",
       " 'a',\n",
       " 'financial',\n",
       " 'crisis',\n",
       " 'of',\n",
       " 'some',\n",
       " 'kind',\n",
       " '.',\n",
       " 'The',\n",
       " 'main',\n",
       " 'reason',\n",
       " 'for',\n",
       " 'this',\n",
       " ',',\n",
       " 'argues',\n",
       " 'Deutsche',\n",
       " ',',\n",
       " 'is',\n",
       " 'the',\n",
       " 'monetary',\n",
       " 'system',\n",
       " '.',\n",
       " 'Under',\n",
       " 'the',\n",
       " 'gold',\n",
       " 'standard',\n",
       " 'and',\n",
       " 'its',\n",
       " 'successor',\n",
       " ',',\n",
       " 'the',\n",
       " 'Bretton',\n",
       " 'Woods',\n",
       " 'system',\n",
       " 'of',\n",
       " 'fixed',\n",
       " 'exchange',\n",
       " 'rates',\n",
       " ',',\n",
       " 'the',\n",
       " 'amount',\n",
       " 'of',\n",
       " 'credit',\n",
       " 'creation',\n",
       " 'was',\n",
       " 'limited',\n",
       " '.',\n",
       " 'A',\n",
       " 'country',\n",
       " 'that',\n",
       " 'expanded',\n",
       " 'its',\n",
       " 'money',\n",
       " 'supply',\n",
       " 'too',\n",
       " 'quickly',\n",
       " 'would',\n",
       " 'suffer',\n",
       " 'a',\n",
       " 'trade',\n",
       " 'deficit',\n",
       " 'and',\n",
       " 'pressure',\n",
       " 'on',\n",
       " 'its',\n",
       " 'currency',\n",
       " '’',\n",
       " 's',\n",
       " 'exchange',\n",
       " 'rate',\n",
       " ';',\n",
       " 'the',\n",
       " 'government',\n",
       " 'would',\n",
       " 'react',\n",
       " 'by',\n",
       " 'slamming',\n",
       " 'on',\n",
       " 'the',\n",
       " 'monetary',\n",
       " 'brakes',\n",
       " '.',\n",
       " 'The',\n",
       " 'result',\n",
       " 'was',\n",
       " 'that',\n",
       " 'it',\n",
       " 'was',\n",
       " 'harder',\n",
       " 'for',\n",
       " 'financial',\n",
       " 'bubbles',\n",
       " 'to',\n",
       " 'inflate',\n",
       " '.',\n",
       " 'But',\n",
       " 'since',\n",
       " 'the',\n",
       " 'early',\n",
       " '1970s',\n",
       " 'more',\n",
       " 'countries',\n",
       " 'have',\n",
       " 'moved',\n",
       " 'to',\n",
       " 'a',\n",
       " 'floating',\n",
       " 'exchange-rate',\n",
       " 'system',\n",
       " '.',\n",
       " 'This',\n",
       " 'gives',\n",
       " 'governments',\n",
       " 'the',\n",
       " 'flexibility',\n",
       " 'to',\n",
       " 'deal',\n",
       " 'with',\n",
       " 'an',\n",
       " 'economic',\n",
       " 'crisis',\n",
       " ',',\n",
       " 'and',\n",
       " 'means',\n",
       " 'they',\n",
       " 'do',\n",
       " 'not',\n",
       " 'have',\n",
       " 'to',\n",
       " 'subordinate',\n",
       " 'other',\n",
       " 'policy',\n",
       " 'goals',\n",
       " 'to',\n",
       " 'maintaining',\n",
       " 'a',\n",
       " 'currency',\n",
       " 'peg',\n",
       " '.',\n",
       " 'It',\n",
       " 'has',\n",
       " 'also',\n",
       " 'created',\n",
       " 'a',\n",
       " 'trend',\n",
       " 'towards',\n",
       " 'greater',\n",
       " 'trade',\n",
       " 'imbalances',\n",
       " ',',\n",
       " 'which',\n",
       " 'no',\n",
       " 'longer',\n",
       " 'constrain',\n",
       " 'policymakers—the',\n",
       " 'currency',\n",
       " 'is',\n",
       " 'often',\n",
       " 'allowed',\n",
       " 'to',\n",
       " 'take',\n",
       " 'the',\n",
       " 'strain',\n",
       " '.',\n",
       " 'Similarly',\n",
       " ',',\n",
       " 'government',\n",
       " 'debt',\n",
       " 'has',\n",
       " 'risen',\n",
       " 'steadily',\n",
       " 'as',\n",
       " 'a',\n",
       " 'proportion',\n",
       " 'of',\n",
       " 'GDP',\n",
       " 'since',\n",
       " 'the',\n",
       " 'mid-1970s',\n",
       " '.',\n",
       " 'There',\n",
       " 'has',\n",
       " 'been',\n",
       " 'little',\n",
       " 'pressure',\n",
       " 'from',\n",
       " 'the',\n",
       " 'markets',\n",
       " 'to',\n",
       " 'balance',\n",
       " 'the',\n",
       " 'budget',\n",
       " ';',\n",
       " 'Japan',\n",
       " 'has',\n",
       " 'had',\n",
       " 'a',\n",
       " 'deficit',\n",
       " 'every',\n",
       " 'year',\n",
       " 'since',\n",
       " '1966',\n",
       " ',',\n",
       " 'and',\n",
       " 'France',\n",
       " 'since',\n",
       " '1993',\n",
       " '.',\n",
       " 'Italy',\n",
       " 'has',\n",
       " 'managed',\n",
       " 'just',\n",
       " 'one',\n",
       " 'year',\n",
       " 'of',\n",
       " 'surplus',\n",
       " 'since',\n",
       " '1950',\n",
       " '.',\n",
       " 'In',\n",
       " 'the',\n",
       " 'developed',\n",
       " 'world',\n",
       " ',',\n",
       " 'consumers',\n",
       " 'and',\n",
       " 'companies',\n",
       " 'have',\n",
       " 'also',\n",
       " 'taken',\n",
       " 'on',\n",
       " 'more',\n",
       " 'debt',\n",
       " '.',\n",
       " 'The',\n",
       " 'result',\n",
       " 'has',\n",
       " 'been',\n",
       " 'a',\n",
       " 'cycle',\n",
       " 'of',\n",
       " 'credit',\n",
       " 'expansion',\n",
       " 'and',\n",
       " 'collapse.China',\n",
       " 'has',\n",
       " 'warned',\n",
       " 'that',\n",
       " 'it',\n",
       " 'does',\n",
       " 'not',\n",
       " 'want',\n",
       " 'a',\n",
       " 'trade',\n",
       " 'war',\n",
       " 'with',\n",
       " 'the',\n",
       " 'US',\n",
       " ',',\n",
       " 'but',\n",
       " 'will',\n",
       " 'not',\n",
       " 'sit',\n",
       " 'idly',\n",
       " 'by',\n",
       " 'if',\n",
       " 'its',\n",
       " 'economy',\n",
       " 'is',\n",
       " 'hurt',\n",
       " '.',\n",
       " 'Zhang',\n",
       " 'Yesui',\n",
       " ',',\n",
       " 'spokesperson',\n",
       " 'for',\n",
       " 'China',\n",
       " '’',\n",
       " 's',\n",
       " 'National',\n",
       " 'People',\n",
       " '’',\n",
       " 's',\n",
       " 'Congress',\n",
       " ',',\n",
       " 'made',\n",
       " 'the',\n",
       " 'comments',\n",
       " 'amid',\n",
       " 'controversy',\n",
       " 'over',\n",
       " 'Donald',\n",
       " 'Trump',\n",
       " '’',\n",
       " 's',\n",
       " 'announcement',\n",
       " 'of',\n",
       " 'tariffs',\n",
       " 'on',\n",
       " 'steel',\n",
       " 'and',\n",
       " 'aluminium',\n",
       " 'imports',\n",
       " '.',\n",
       " 'The',\n",
       " 'US',\n",
       " 'president',\n",
       " 'has',\n",
       " 'also',\n",
       " 'threatened',\n",
       " 'to',\n",
       " 'impose',\n",
       " 'a',\n",
       " 'tax',\n",
       " 'on',\n",
       " 'EU-made',\n",
       " 'cars',\n",
       " ',',\n",
       " 'and',\n",
       " 'earlier',\n",
       " 'said',\n",
       " '``',\n",
       " 'trade',\n",
       " 'wars',\n",
       " 'are',\n",
       " 'good',\n",
       " \"''\",\n",
       " '.',\n",
       " 'US',\n",
       " 'trading',\n",
       " 'partners',\n",
       " ',',\n",
       " 'the',\n",
       " 'IMF',\n",
       " 'and',\n",
       " 'the',\n",
       " 'WTO',\n",
       " 'have',\n",
       " 'strongly',\n",
       " 'criticised',\n",
       " 'his',\n",
       " 'moves',\n",
       " '.',\n",
       " 'Mr',\n",
       " 'Trump',\n",
       " 'has',\n",
       " 'decried',\n",
       " 'the',\n",
       " '``',\n",
       " '$',\n",
       " '800',\n",
       " 'Billion',\n",
       " 'Dollar',\n",
       " 'Yearly',\n",
       " 'Trade',\n",
       " 'Deficit',\n",
       " 'because',\n",
       " 'of',\n",
       " 'our',\n",
       " '’',\n",
       " 'very',\n",
       " 'stupid',\n",
       " '’',\n",
       " 'trade',\n",
       " 'deals',\n",
       " 'and',\n",
       " 'policies',\n",
       " \"''\",\n",
       " ',',\n",
       " 'and',\n",
       " 'vowed',\n",
       " 'to',\n",
       " 'end',\n",
       " 'it',\n",
       " '.',\n",
       " 'On',\n",
       " 'Thursday',\n",
       " ',',\n",
       " 'he',\n",
       " 'said',\n",
       " 'steel',\n",
       " 'imports',\n",
       " 'would',\n",
       " 'face',\n",
       " 'a',\n",
       " '25',\n",
       " '%',\n",
       " 'tariff',\n",
       " 'and',\n",
       " 'aluminium',\n",
       " '10',\n",
       " '%',\n",
       " '.',\n",
       " 'Then',\n",
       " 'came',\n",
       " 'Saturday',\n",
       " '’',\n",
       " 's',\n",
       " 'threat',\n",
       " 'on',\n",
       " 'EU-made',\n",
       " 'cars',\n",
       " '.',\n",
       " 'In',\n",
       " 'January',\n",
       " ',',\n",
       " 'he',\n",
       " 'had',\n",
       " 'already',\n",
       " 'announced',\n",
       " 'tariffs',\n",
       " 'on',\n",
       " 'solar',\n",
       " 'panels',\n",
       " 'and',\n",
       " 'washing',\n",
       " 'machines',\n",
       " '.',\n",
       " 'China',\n",
       " '’',\n",
       " 's',\n",
       " 'Zhang',\n",
       " 'Yesui',\n",
       " 'said',\n",
       " 'it',\n",
       " 'was',\n",
       " 'natural',\n",
       " 'that',\n",
       " '``',\n",
       " 'some',\n",
       " 'friction',\n",
       " 'will',\n",
       " 'exist',\n",
       " \"''\",\n",
       " 'between',\n",
       " 'the',\n",
       " 'US',\n",
       " 'and',\n",
       " 'China',\n",
       " ',',\n",
       " 'given',\n",
       " 'the',\n",
       " 'volume',\n",
       " 'of',\n",
       " 'trade',\n",
       " 'between',\n",
       " 'them',\n",
       " 'surpassed',\n",
       " '580bn',\n",
       " 'last',\n",
       " 'year',\n",
       " '.',\n",
       " 'But',\n",
       " 'he',\n",
       " 'said',\n",
       " 'China',\n",
       " 'would',\n",
       " 'take',\n",
       " '``',\n",
       " 'necessary',\n",
       " 'measures',\n",
       " \"''\",\n",
       " 'if',\n",
       " 'its',\n",
       " 'interests',\n",
       " 'were',\n",
       " 'hurt.The',\n",
       " 'US',\n",
       " 'economic',\n",
       " 'expansion',\n",
       " 'is',\n",
       " 'set',\n",
       " 'to',\n",
       " 'gain',\n",
       " 'momentum',\n",
       " ',',\n",
       " 'hardening',\n",
       " 'the',\n",
       " 'arguments',\n",
       " 'for',\n",
       " 'increases',\n",
       " 'in',\n",
       " 'short-term',\n",
       " 'interest',\n",
       " 'rates',\n",
       " ',',\n",
       " 'Federal',\n",
       " 'Reserve',\n",
       " 'policymakers',\n",
       " 'said',\n",
       " 'at',\n",
       " 'their',\n",
       " 'latest',\n",
       " 'meeting',\n",
       " '.',\n",
       " 'A',\n",
       " 'number',\n",
       " 'of',\n",
       " 'participants',\n",
       " 'in',\n",
       " 'the',\n",
       " 'US',\n",
       " 'central',\n",
       " 'bank',\n",
       " '’',\n",
       " 's',\n",
       " 'January',\n",
       " '30-31',\n",
       " 'meeting',\n",
       " 'said',\n",
       " 'they',\n",
       " 'had',\n",
       " 'marked',\n",
       " 'up',\n",
       " 'their',\n",
       " 'growth',\n",
       " 'forecasts',\n",
       " 'since',\n",
       " 'the',\n",
       " 'previous',\n",
       " 'month',\n",
       " ',',\n",
       " 'encouraged',\n",
       " 'by',\n",
       " 'firm',\n",
       " 'global',\n",
       " 'growth',\n",
       " ',',\n",
       " 'supportive',\n",
       " 'financial',\n",
       " 'markets',\n",
       " 'and',\n",
       " 'the',\n",
       " 'potential',\n",
       " 'for',\n",
       " 'US',\n",
       " 'tax',\n",
       " 'cuts',\n",
       " 'to',\n",
       " 'boost',\n",
       " 'the',\n",
       " 'economy',\n",
       " 'more',\n",
       " 'than',\n",
       " 'expected',\n",
       " '.',\n",
       " 'Others',\n",
       " 'said',\n",
       " 'the',\n",
       " '“',\n",
       " 'upside',\n",
       " 'risks',\n",
       " '”',\n",
       " 'to',\n",
       " 'growth',\n",
       " 'may',\n",
       " 'have',\n",
       " 'increased',\n",
       " ',',\n",
       " 'according',\n",
       " 'to',\n",
       " 'minutes',\n",
       " 'of',\n",
       " 'the',\n",
       " 'gathering',\n",
       " '.',\n",
       " '“',\n",
       " 'A',\n",
       " 'majority',\n",
       " 'of',\n",
       " 'participants',\n",
       " 'noted',\n",
       " 'that',\n",
       " 'a',\n",
       " 'stronger',\n",
       " 'outlook',\n",
       " 'for',\n",
       " 'economic',\n",
       " 'growth',\n",
       " 'raised',\n",
       " 'the',\n",
       " 'likelihood',\n",
       " 'that',\n",
       " 'further',\n",
       " 'gradual',\n",
       " 'policy',\n",
       " 'firming',\n",
       " 'would',\n",
       " 'be',\n",
       " 'appropriate',\n",
       " ',',\n",
       " '”',\n",
       " 'according',\n",
       " 'to',\n",
       " 'the',\n",
       " 'record',\n",
       " 'released',\n",
       " 'on',\n",
       " 'Wednesday',\n",
       " '.',\n",
       " 'The',\n",
       " 'Fed',\n",
       " '’',\n",
       " 's',\n",
       " 'rate-setters',\n",
       " 'reflected',\n",
       " 'the',\n",
       " 'increased',\n",
       " 'arguments',\n",
       " 'for',\n",
       " 'rate',\n",
       " 'rises',\n",
       " 'by',\n",
       " 'changing',\n",
       " 'the',\n",
       " 'language',\n",
       " 'in',\n",
       " 'their',\n",
       " 'post-meeting',\n",
       " 'statement',\n",
       " 'to',\n",
       " 'point',\n",
       " 'to',\n",
       " '“',\n",
       " 'further',\n",
       " '”',\n",
       " 'rate',\n",
       " 'rises',\n",
       " '.',\n",
       " 'The',\n",
       " 'Fed',\n",
       " '’',\n",
       " 's',\n",
       " 'most',\n",
       " 'recent',\n",
       " 'policy',\n",
       " 'meeting',\n",
       " 'was',\n",
       " 'held',\n",
       " 'shortly',\n",
       " 'before',\n",
       " 'the',\n",
       " 'departure',\n",
       " 'of',\n",
       " 'Janet',\n",
       " 'Yellen',\n",
       " 'as',\n",
       " 'chair',\n",
       " 'and',\n",
       " 'the',\n",
       " 'outbreak',\n",
       " 'of',\n",
       " 'market',\n",
       " 'volatility',\n",
       " 'that',\n",
       " 'greeted',\n",
       " 'Jay',\n",
       " 'Powell',\n",
       " ',',\n",
       " 'her',\n",
       " 'successor',\n",
       " ',',\n",
       " 'during',\n",
       " 'his',\n",
       " 'first',\n",
       " 'days',\n",
       " 'on',\n",
       " 'the',\n",
       " 'job',\n",
       " '.',\n",
       " 'Policymakers',\n",
       " 'including',\n",
       " 'Bill',\n",
       " 'Dudley',\n",
       " ',',\n",
       " 'the',\n",
       " 'New',\n",
       " 'York',\n",
       " 'Fed',\n",
       " 'president',\n",
       " ',',\n",
       " 'have',\n",
       " 'stressed',\n",
       " 'that',\n",
       " 'the',\n",
       " 'gyrations',\n",
       " 'in',\n",
       " 'the',\n",
       " 'equity',\n",
       " 'market',\n",
       " 'were',\n",
       " 'unlikely',\n",
       " 'to',\n",
       " 'shake',\n",
       " 'the',\n",
       " 'central',\n",
       " 'bank',\n",
       " '’',\n",
       " 's',\n",
       " 'plans',\n",
       " 'to',\n",
       " 'continue',\n",
       " 'its',\n",
       " 'gradual',\n",
       " 'programme',\n",
       " 'of',\n",
       " 'rate',\n",
       " 'rises',\n",
       " '.',\n",
       " 'While',\n",
       " 'January',\n",
       " '’',\n",
       " 's',\n",
       " 'deliberations',\n",
       " 'predated',\n",
       " 'the',\n",
       " 'worst',\n",
       " 'of',\n",
       " 'the',\n",
       " 'market',\n",
       " 'fluctuations',\n",
       " ',',\n",
       " 'the',\n",
       " 'record',\n",
       " 'suggests',\n",
       " 'that',\n",
       " 'Fed',\n",
       " 'officials',\n",
       " 'have',\n",
       " 'become',\n",
       " 'more',\n",
       " 'confident',\n",
       " 'about',\n",
       " 'the',\n",
       " 'economy',\n",
       " 'since',\n",
       " 'their',\n",
       " 'December',\n",
       " 'meeting',\n",
       " ',',\n",
       " 'when',\n",
       " 'they',\n",
       " 'last',\n",
       " 'raised',\n",
       " 'interest',\n",
       " 'rates',\n",
       " '.',\n",
       " 'The',\n",
       " 'Federal',\n",
       " 'Open',\n",
       " 'Market',\n",
       " 'Committee',\n",
       " 'left',\n",
       " 'its',\n",
       " 'target',\n",
       " 'range',\n",
       " 'for',\n",
       " 'the',\n",
       " 'federal',\n",
       " 'funds',\n",
       " 'rate',\n",
       " 'on',\n",
       " 'hold',\n",
       " 'at',\n",
       " '1.25',\n",
       " 'to',\n",
       " '1.5',\n",
       " 'per',\n",
       " 'cent',\n",
       " 'at',\n",
       " 'the',\n",
       " 'January',\n",
       " 'meeting',\n",
       " ',',\n",
       " 'while',\n",
       " 'laying',\n",
       " 'the',\n",
       " 'ground',\n",
       " 'for',\n",
       " 'another',\n",
       " 'move',\n",
       " 'at',\n",
       " 'the',\n",
       " 'March',\n",
       " '20-21',\n",
       " 'meeting',\n",
       " '.',\n",
       " 'A',\n",
       " 'key',\n",
       " 'question',\n",
       " 'in',\n",
       " 'markets',\n",
       " 'now',\n",
       " 'is',\n",
       " 'whether',\n",
       " 'the',\n",
       " 'Fed',\n",
       " 'could',\n",
       " 'opt',\n",
       " 'to',\n",
       " 'boost',\n",
       " 'rates',\n",
       " 'four',\n",
       " 'times',\n",
       " 'in',\n",
       " '2018',\n",
       " ',',\n",
       " 'rather',\n",
       " 'than',\n",
       " 'the',\n",
       " 'three',\n",
       " 'moves',\n",
       " 'currently',\n",
       " 'forecast',\n",
       " '.',\n",
       " 'The',\n",
       " 'immediate',\n",
       " 'market',\n",
       " 'response',\n",
       " 'to',\n",
       " 'the',\n",
       " 'minutes',\n",
       " 'suggested',\n",
       " 'they',\n",
       " 'did',\n",
       " 'not',\n",
       " 'significantly',\n",
       " 'advance',\n",
       " 'that',\n",
       " 'debate',\n",
       " ':',\n",
       " 'the',\n",
       " 'yield',\n",
       " 'on',\n",
       " 'the',\n",
       " '10-year',\n",
       " 'Treasury',\n",
       " 'declined',\n",
       " 'modestly',\n",
       " 'and',\n",
       " 'the',\n",
       " 'dollar',\n",
       " 'softened',\n",
       " 'a',\n",
       " ...]"
      ]
     },
     "execution_count": 8,
     "metadata": {},
     "output_type": "execute_result"
    }
   ],
   "source": [
    "words"
   ]
  },
  {
   "cell_type": "code",
   "execution_count": 9,
   "metadata": {
    "collapsed": true,
    "deletable": true,
    "editable": true
   },
   "outputs": [],
   "source": [
    "cps1=Text(words)"
   ]
  },
  {
   "cell_type": "code",
   "execution_count": 10,
   "metadata": {
    "collapsed": true,
    "deletable": true,
    "editable": true
   },
   "outputs": [],
   "source": [
    "fdist1 = FreqDist(cps1)"
   ]
  },
  {
   "cell_type": "code",
   "execution_count": 13,
   "metadata": {
    "collapsed": false,
    "deletable": true,
    "editable": true
   },
   "outputs": [
    {
     "data": {
      "text/plain": [
       "dict_items([('The', 20), ('next', 3), ('financial', 9), ('crisis', 10), ('may', 3), ('be', 5), ('triggered', 2), ('by', 12), ('central', 4), ('banks', 2), ('.', 72), ('As', 2), ('with', 6), ('London', 2), ('buses', 2), (',', 71), ('don', 2), ('’', 27), ('t', 2), ('worry', 2), ('if', 4), ('you', 2), ('miss', 2), ('a', 52), (';', 12), ('another', 3), ('will', 5), ('along', 2), ('shortly', 3), ('latest', 3), ('study', 2), ('on', 20), ('long-term', 2), ('asset', 2), ('returns', 2), ('from', 8), ('Deutsche', 6), ('Bank', 3), ('shows', 2), ('that', 17), ('crises', 2), ('in', 41), ('developed', 4), ('markets', 6), ('have', 14), ('become', 3), ('much', 3), ('more', 14), ('common', 2), ('recent', 4), ('decades', 2), ('That', 3), ('does', 3), ('not', 7), ('bode', 2), ('well', 2), ('defines', 2), ('as', 11), ('period', 5), ('when', 3), ('country', 7), ('suffers', 2), ('one', 5), ('of', 50), ('the', 109), ('following', 5), (':', 5), ('15', 2), ('%', 7), ('annual', 3), ('decline', 2), ('equities', 2), ('10', 3), ('fall', 2), ('its', 18), ('currency', 8), ('or', 4), ('government', 6), ('bonds', 2), ('default', 2), ('national', 2), ('debt', 6), ('double-digit', 2), ('inflation', 2), ('During', 2), ('19th', 2), ('century', 2), ('only', 2), ('occasionally', 2), ('did', 3), ('than', 8), ('half', 4), ('countries', 4), ('for', 19), ('which', 7), ('there', 2), ('are', 5), ('data', 5), ('suffer', 5), ('such', 2), ('shock', 2), ('single', 2), ('year', 14), ('But', 6), ('since', 14), ('1980s', 2), ('numerous', 2), ('years', 2), ('them', 3), ('been', 9), ('some', 5), ('kind', 2), ('main', 2), ('reason', 2), ('this', 2), ('argues', 2), ('is', 9), ('monetary', 4), ('system', 7), ('Under', 2), ('gold', 2), ('standard', 2), ('and', 29), ('successor', 3), ('Bretton', 2), ('Woods', 2), ('fixed', 2), ('exchange', 4), ('rates', 5), ('amount', 2), ('credit', 5), ('creation', 2), ('was', 10), ('limited', 2), ('A', 5), ('expanded', 2), ('money', 2), ('supply', 2), ('too', 2), ('quickly', 2), ('would', 8), ('trade', 8), ('deficit', 4), ('pressure', 5), ('s', 23), ('rate', 7), ('react', 2), ('slamming', 2), ('brakes', 2), ('result', 4), ('it', 8), ('harder', 2), ('bubbles', 2), ('to', 45), ('inflate', 2), ('early', 2), ('1970s', 2), ('moved', 2), ('floating', 2), ('exchange-rate', 2), ('This', 3), ('gives', 2), ('governments', 2), ('flexibility', 2), ('deal', 2), ('an', 5), ('economic', 6), ('means', 2), ('they', 5), ('do', 2), ('subordinate', 2), ('other', 2), ('policy', 4), ('goals', 2), ('maintaining', 2), ('peg', 2), ('It', 3), ('has', 19), ('also', 6), ('created', 2), ('trend', 2), ('towards', 2), ('greater', 2), ('imbalances', 2), ('no', 2), ('longer', 2), ('constrain', 2), ('policymakers—the', 2), ('often', 2), ('allowed', 2), ('take', 3), ('strain', 2), ('Similarly', 2), ('risen', 2), ('steadily', 2), ('proportion', 2), ('GDP', 3), ('mid-1970s', 2), ('There', 3), ('little', 4), ('balance', 2), ('budget', 3), ('Japan', 2), ('had', 7), ('every', 2), ('1966', 2), ('France', 2), ('1993', 2), ('Italy', 2), ('managed', 2), ('just', 4), ('surplus', 2), ('1950', 2), ('In', 3), ('world', 3), ('consumers', 2), ('companies', 2), ('taken', 2), ('cycle', 2), ('expansion', 3), ('collapse.China', 1), ('warned', 1), ('want', 1), ('war', 1), ('US', 7), ('but', 2), ('sit', 1), ('idly', 1), ('economy', 10), ('hurt', 1), ('Zhang', 2), ('Yesui', 2), ('spokesperson', 1), ('China', 5), ('National', 2), ('People', 1), ('Congress', 1), ('made', 1), ('comments', 1), ('amid', 1), ('controversy', 1), ('over', 2), ('Donald', 1), ('Trump', 2), ('announcement', 1), ('tariffs', 2), ('steel', 2), ('aluminium', 2), ('imports', 2), ('president', 2), ('threatened', 1), ('impose', 1), ('tax', 4), ('EU-made', 2), ('cars', 2), ('earlier', 1), ('said', 9), ('``', 4), ('wars', 1), ('good', 1), (\"''\", 4), ('trading', 1), ('partners', 1), ('IMF', 1), ('WTO', 1), ('strongly', 2), ('criticised', 1), ('his', 5), ('moves', 4), ('Mr', 3), ('decried', 1), ('$', 2), ('800', 1), ('Billion', 1), ('Dollar', 1), ('Yearly', 1), ('Trade', 1), ('Deficit', 1), ('because', 2), ('our', 1), ('very', 2), ('stupid', 1), ('deals', 2), ('policies', 1), ('vowed', 1), ('end', 1), ('On', 1), ('Thursday', 1), ('he', 4), ('face', 1), ('25', 1), ('tariff', 1), ('Then', 1), ('came', 2), ('Saturday', 1), ('threat', 1), ('January', 4), ('already', 1), ('announced', 2), ('solar', 1), ('panels', 1), ('washing', 1), ('machines', 1), ('natural', 1), ('friction', 1), ('exist', 1), ('between', 2), ('given', 1), ('volume', 1), ('surpassed', 1), ('580bn', 1), ('last', 6), ('necessary', 1), ('measures', 1), ('interests', 1), ('were', 5), ('hurt.The', 1), ('set', 1), ('gain', 1), ('momentum', 2), ('hardening', 1), ('arguments', 2), ('increases', 1), ('short-term', 1), ('interest', 2), ('Federal', 2), ('Reserve', 1), ('policymakers', 1), ('at', 6), ('their', 4), ('meeting', 6), ('number', 2), ('participants', 2), ('bank', 2), ('30-31', 1), ('marked', 1), ('up', 1), ('growth', 7), ('forecasts', 1), ('previous', 1), ('month', 2), ('encouraged', 1), ('firm', 1), ('global', 1), ('supportive', 1), ('potential', 1), ('cuts', 1), ('boost', 4), ('expected', 3), ('Others', 1), ('“', 6), ('upside', 1), ('risks', 1), ('”', 6), ('increased', 2), ('according', 2), ('minutes', 2), ('gathering', 1), ('majority', 1), ('noted', 1), ('stronger', 2), ('outlook', 1), ('raised', 2), ('likelihood', 1), ('further', 2), ('gradual', 2), ('firming', 1), ('appropriate', 1), ('record', 3), ('released', 2), ('Wednesday', 1), ('Fed', 6), ('rate-setters', 1), ('reflected', 1), ('rises', 3), ('changing', 1), ('language', 1), ('post-meeting', 1), ('statement', 1), ('point', 1), ('most', 4), ('held', 1), ('before', 1), ('departure', 1), ('Janet', 1), ('Yellen', 1), ('chair', 1), ('outbreak', 1), ('market', 4), ('volatility', 1), ('greeted', 1), ('Jay', 1), ('Powell', 1), ('her', 1), ('during', 1), ('first', 2), ('days', 1), ('job', 1), ('Policymakers', 1), ('including', 1), ('Bill', 1), ('Dudley', 1), ('New', 1), ('York', 1), ('stressed', 1), ('gyrations', 1), ('equity', 1), ('unlikely', 1), ('shake', 1), ('plans', 1), ('continue', 1), ('programme', 1), ('While', 1), ('deliberations', 1), ('predated', 1), ('worst', 1), ('fluctuations', 1), ('suggests', 1), ('officials', 1), ('confident', 1), ('about', 1), ('December', 2), ('Open', 1), ('Market', 1), ('Committee', 1), ('left', 1), ('target', 1), ('range', 1), ('federal', 1), ('funds', 2), ('hold', 1), ('1.25', 1), ('1.5', 1), ('per', 12), ('cent', 12), ('while', 2), ('laying', 1), ('ground', 1), ('move', 1), ('March', 1), ('20-21', 1), ('key', 1), ('question', 1), ('now', 1), ('whether', 1), ('could', 1), ('opt', 1), ('four', 1), ('times', 1), ('2018', 3), ('rather', 1), ('three', 3), ('currently', 1), ('forecast', 2), ('immediate', 1), ('response', 1), ('suggested', 1), ('significantly', 1), ('advance', 1), ('debate', 1), ('yield', 1), ('10-year', 1), ('Treasury', 1), ('declined', 1), ('modestly', 1), ('dollar', 1), ('softened', 1), ('both', 2), ('muted', 1), ('futures', 1), ('changed.The', 1), ('collapse.India', 1), ('regained', 1), ('title', 1), ('fastest-growing', 1), ('major', 1), ('after', 1), ('figures', 3), ('confirmed', 1), ('grew', 4), ('7', 1), ('annualised', 2), ('basis', 2), ('months', 2), ('overtaking', 1), ('once', 1), ('Data', 1), ('yesterday', 3), ('show', 1), ('7.2', 2), ('final', 1), ('quarter', 6), ('continuing', 1), ('bounceback', 1), ('sharp', 1), ('slowdown', 4), ('middle', 1), ('2017', 2), ('Chinese', 1), ('6.8', 2), ('same', 1), ('Narendra', 1), ('Modi', 3), ('prime', 1), ('minister', 3), ('who', 2), ('come', 2), ('under', 2), ('ahead', 1), ('general', 1), ('election', 1), ('due', 1), ('news', 1), ('comes', 1), ('welcome', 1), ('relief', 1), ('week', 1), ('administration', 1), ('attacked', 1), ('failing', 1), ('prevent', 1), ('1.8bn', 1), ('fraud', 1), ('state-owned', 1), ('Punjab', 1), ('Piyush', 1), ('Goyal', 1), ('railways', 1), ('seen', 1), ('close', 1), ('welcomed', 1), ('tweeting', 1), ('India', 6), ('continues', 1), ('&', 1), ('sustainably', 1), ('—', 2), ('jumps', 1), ('3rd', 1), ('2017-18', 1), ('makes', 1), ('fastest', 1), ('growing', 1), ('large', 1), ('world.', 1), ('Pronab', 1), ('Sen', 1), ('former', 1), ('chief', 1), ('statistician', 1), ('called', 1), ('strong', 1), ('power', 1), ('2014', 1), ('promising', 1), ('reforms', 1), ('help', 1), ('create', 1), ('10m', 1), ('jobs', 1), ('shy', 1), ('estimated', 1), ('13m', 1), ('needs', 1), ('account', 1), ('young', 1), ('people', 1), ('entering', 1), ('workforce', 1), ('each', 1), ('fire', 1), ('sudden', 1), ('decision', 1), ('2016', 3), ('cancel', 1), ('banknotes', 1), ('followed', 1), ('botched', 1), ('attempt', 1), ('reform', 1), ('complex', 1), ('sales', 1), ('problems', 1), ('arising', 1), ('these', 1), ('helped', 1), ('knock', 1), ('off', 1), ('course', 1), ('fell', 1), ('9.1', 1), ('5.7', 1), ('June', 1), ('Last', 1), ('Arun', 1), ('Jaitley', 1), ('finance', 1), ('attempted', 1), ('mitigate', 1), ('effects', 1), ('included', 1), ('higher', 1), ('minimum', 1), ('prices', 1), ('farmers', 1), ('free', 1), ('health', 1), ('insurance', 1), ('100m', 1), ('poor', 1), ('families', 1), ('reversed', 1), ('third', 1), ('showed', 1), ('improvement', 1), ('con', 1), ('?', 2), ('tinued', 1), ('boosted', 1), ('particular', 1), ('recovery', 1), ('construction', 1), ('ex', 1), ('panded', 1), ('sectors', 1), ('wake', 1), ('demonetisation', 2), ('many', 1), ('property', 1), ('having', 1), ('previously', 1), ('paid', 1), ('cash', 1), ('way', 1), ('avoid', 1), ('Manufacturing', 1), ('meanwhile', 1), ('8.1', 1), ('important', 1), ('agricultural', 1), ('sector', 1), ('4.1', 1), ('larger', 1), ('Earlier', 1), ('day', 1), ('rating', 1), ('agency', 1), ('Moody', 1), ('grow', 2), ('7.6', 1), ('signs', 1), ('Indian', 1), ('starting', 1), ('recover', 1), ('soft', 1), ('patch', 1), ('attributed', 1), ('negative', 1), ('impact', 1), ('undertaken', 1), ('disruption', 1), ('related', 1), ('rollout', 1), ('Goods', 1), ('Service', 1), ('Tax.', 1), ('International', 1), ('Monetary', 1), ('Fund', 1), ('7.4', 1), ('7.8', 1), ('2019', 1)])"
      ]
     },
     "execution_count": 13,
     "metadata": {},
     "output_type": "execute_result"
    }
   ],
   "source": [
    "fdist1.items()\n"
   ]
  },
  {
   "cell_type": "code",
   "execution_count": 15,
   "metadata": {
    "collapsed": false,
    "deletable": true,
    "editable": true
   },
   "outputs": [
    {
     "data": {
      "text/plain": [
       "[('the', 109),\n",
       " ('.', 72),\n",
       " (',', 71),\n",
       " ('a', 52),\n",
       " ('of', 50),\n",
       " ('to', 45),\n",
       " ('in', 41),\n",
       " ('and', 29),\n",
       " ('’', 27),\n",
       " ('s', 23)]"
      ]
     },
     "execution_count": 15,
     "metadata": {},
     "output_type": "execute_result"
    }
   ],
   "source": [
    "fdist1.most_common(10)"
   ]
  },
  {
   "cell_type": "code",
   "execution_count": 18,
   "metadata": {
    "collapsed": false,
    "deletable": true,
    "editable": true
   },
   "outputs": [
    {
     "name": "stdout",
     "output_type": "stream",
     "text": [
      "the \t 109\n",
      ". \t 72\n",
      ", \t 71\n",
      "a \t 52\n",
      "of \t 50\n",
      "to \t 45\n",
      "in \t 41\n",
      "and \t 29\n",
      "’ \t 27\n",
      "s \t 23\n"
     ]
    }
   ],
   "source": [
    "for tpl in fdist1.most_common(10):print(tpl[0],'\\t',tpl[1])"
   ]
  },
  {
   "cell_type": "code",
   "execution_count": 16,
   "metadata": {
    "collapsed": true,
    "deletable": true,
    "editable": true
   },
   "outputs": [],
   "source": [
    "wl_sorted_desc = sorted(wl, key=lambda w:w[1], reverse=True)\n",
    "wl_sorted_asc = sorted(wl, key=lambda w:w[1])"
   ]
  },
  {
   "cell_type": "code",
   "execution_count": 17,
   "metadata": {
    "collapsed": false,
    "deletable": true,
    "editable": true
   },
   "outputs": [
    {
     "name": "stdout",
     "output_type": "stream",
     "text": [
      "[('the', 109), ('.', 72), (',', 71), ('a', 52), ('of', 50), ('to', 45), ('in', 41), ('and', 29), ('’', 27), ('s', 23), ('The', 20), ('on', 20), ('for', 19), ('has', 19), ('its', 18), ('that', 17), ('have', 14), ('more', 14), ('year', 14), ('since', 14), ('by', 12), (';', 12), ('per', 12), ('cent', 12), ('as', 11), ('crisis', 10), ('was', 10), ('economy', 10), ('financial', 9), ('been', 9), ('is', 9), ('said', 9), ('from', 8), ('currency', 8), ('than', 8), ('would', 8), ('trade', 8), ('it', 8), ('not', 7), ('country', 7), ('%', 7), ('which', 7), ('system', 7), ('rate', 7), ('had', 7), ('US', 7), ('growth', 7), ('with', 6), ('Deutsche', 6), ('markets', 6), ('government', 6), ('debt', 6), ('But', 6), ('economic', 6), ('also', 6), ('last', 6), ('at', 6), ('meeting', 6), ('“', 6), ('”', 6), ('Fed', 6), ('quarter', 6), ('India', 6), ('be', 5), ('will', 5), ('period', 5), ('one', 5), ('following', 5), (':', 5), ('are', 5), ('data', 5), ('suffer', 5), ('some', 5), ('rates', 5), ('credit', 5), ('A', 5), ('pressure', 5), ('an', 5), ('they', 5), ('China', 5), ('his', 5), ('were', 5), ('central', 4), ('if', 4), ('developed', 4), ('recent', 4), ('or', 4), ('half', 4), ('countries', 4), ('monetary', 4), ('exchange', 4), ('deficit', 4), ('result', 4), ('policy', 4), ('little', 4), ('just', 4), ('tax', 4), ('``', 4), (\"''\", 4), ('moves', 4), ('he', 4), ('January', 4), ('their', 4), ('boost', 4), ('most', 4), ('market', 4), ('grew', 4), ('slowdown', 4), ('next', 3), ('may', 3), ('another', 3), ('shortly', 3), ('latest', 3), ('Bank', 3), ('become', 3), ('much', 3), ('That', 3), ('does', 3), ('when', 3), ('annual', 3), ('10', 3), ('did', 3), ('them', 3), ('successor', 3), ('This', 3), ('It', 3), ('take', 3), ('GDP', 3), ('There', 3), ('budget', 3), ('In', 3), ('world', 3), ('expansion', 3), ('Mr', 3), ('expected', 3), ('record', 3), ('rises', 3), ('2018', 3), ('three', 3), ('figures', 3), ('yesterday', 3), ('Modi', 3), ('minister', 3), ('2016', 3), ('triggered', 2), ('banks', 2), ('As', 2), ('London', 2), ('buses', 2), ('don', 2), ('t', 2), ('worry', 2), ('you', 2), ('miss', 2), ('along', 2), ('study', 2), ('long-term', 2), ('asset', 2), ('returns', 2), ('shows', 2), ('crises', 2), ('common', 2), ('decades', 2), ('bode', 2), ('well', 2), ('defines', 2), ('suffers', 2), ('15', 2), ('decline', 2), ('equities', 2), ('fall', 2), ('bonds', 2), ('default', 2), ('national', 2), ('double-digit', 2), ('inflation', 2), ('During', 2), ('19th', 2), ('century', 2), ('only', 2), ('occasionally', 2), ('there', 2), ('such', 2), ('shock', 2), ('single', 2), ('1980s', 2), ('numerous', 2), ('years', 2), ('kind', 2), ('main', 2), ('reason', 2), ('this', 2), ('argues', 2), ('Under', 2), ('gold', 2), ('standard', 2), ('Bretton', 2), ('Woods', 2), ('fixed', 2), ('amount', 2), ('creation', 2), ('limited', 2), ('expanded', 2), ('money', 2), ('supply', 2), ('too', 2), ('quickly', 2), ('react', 2), ('slamming', 2), ('brakes', 2), ('harder', 2), ('bubbles', 2), ('inflate', 2), ('early', 2), ('1970s', 2), ('moved', 2), ('floating', 2), ('exchange-rate', 2), ('gives', 2), ('governments', 2), ('flexibility', 2), ('deal', 2), ('means', 2), ('do', 2), ('subordinate', 2), ('other', 2), ('goals', 2), ('maintaining', 2), ('peg', 2), ('created', 2), ('trend', 2), ('towards', 2), ('greater', 2), ('imbalances', 2), ('no', 2), ('longer', 2), ('constrain', 2), ('policymakers—the', 2), ('often', 2), ('allowed', 2), ('strain', 2), ('Similarly', 2), ('risen', 2), ('steadily', 2), ('proportion', 2), ('mid-1970s', 2), ('balance', 2), ('Japan', 2), ('every', 2), ('1966', 2), ('France', 2), ('1993', 2), ('Italy', 2), ('managed', 2), ('surplus', 2), ('1950', 2), ('consumers', 2), ('companies', 2), ('taken', 2), ('cycle', 2), ('but', 2), ('Zhang', 2), ('Yesui', 2), ('National', 2), ('over', 2), ('Trump', 2), ('tariffs', 2), ('steel', 2), ('aluminium', 2), ('imports', 2), ('president', 2), ('EU-made', 2), ('cars', 2), ('strongly', 2), ('$', 2), ('because', 2), ('very', 2), ('deals', 2), ('came', 2), ('announced', 2), ('between', 2), ('momentum', 2), ('arguments', 2), ('interest', 2), ('Federal', 2), ('number', 2), ('participants', 2), ('bank', 2), ('month', 2), ('increased', 2), ('according', 2), ('minutes', 2), ('stronger', 2), ('raised', 2), ('further', 2), ('gradual', 2), ('released', 2), ('first', 2), ('December', 2), ('funds', 2), ('while', 2), ('forecast', 2), ('both', 2), ('annualised', 2), ('basis', 2), ('months', 2), ('7.2', 2), ('2017', 2), ('6.8', 2), ('who', 2), ('come', 2), ('under', 2), ('—', 2), ('?', 2), ('demonetisation', 2), ('grow', 2), ('collapse.China', 1), ('warned', 1), ('want', 1), ('war', 1), ('sit', 1), ('idly', 1), ('hurt', 1), ('spokesperson', 1), ('People', 1), ('Congress', 1), ('made', 1), ('comments', 1), ('amid', 1), ('controversy', 1), ('Donald', 1), ('announcement', 1), ('threatened', 1), ('impose', 1), ('earlier', 1), ('wars', 1), ('good', 1), ('trading', 1), ('partners', 1), ('IMF', 1), ('WTO', 1), ('criticised', 1), ('decried', 1), ('800', 1), ('Billion', 1), ('Dollar', 1), ('Yearly', 1), ('Trade', 1), ('Deficit', 1), ('our', 1), ('stupid', 1), ('policies', 1), ('vowed', 1), ('end', 1), ('On', 1), ('Thursday', 1), ('face', 1), ('25', 1), ('tariff', 1), ('Then', 1), ('Saturday', 1), ('threat', 1), ('already', 1), ('solar', 1), ('panels', 1), ('washing', 1), ('machines', 1), ('natural', 1), ('friction', 1), ('exist', 1), ('given', 1), ('volume', 1), ('surpassed', 1), ('580bn', 1), ('necessary', 1), ('measures', 1), ('interests', 1), ('hurt.The', 1), ('set', 1), ('gain', 1), ('hardening', 1), ('increases', 1), ('short-term', 1), ('Reserve', 1), ('policymakers', 1), ('30-31', 1), ('marked', 1), ('up', 1), ('forecasts', 1), ('previous', 1), ('encouraged', 1), ('firm', 1), ('global', 1), ('supportive', 1), ('potential', 1), ('cuts', 1), ('Others', 1), ('upside', 1), ('risks', 1), ('gathering', 1), ('majority', 1), ('noted', 1), ('outlook', 1), ('likelihood', 1), ('firming', 1), ('appropriate', 1), ('Wednesday', 1), ('rate-setters', 1), ('reflected', 1), ('changing', 1), ('language', 1), ('post-meeting', 1), ('statement', 1), ('point', 1), ('held', 1), ('before', 1), ('departure', 1), ('Janet', 1), ('Yellen', 1), ('chair', 1), ('outbreak', 1), ('volatility', 1), ('greeted', 1), ('Jay', 1), ('Powell', 1), ('her', 1), ('during', 1), ('days', 1), ('job', 1), ('Policymakers', 1), ('including', 1), ('Bill', 1), ('Dudley', 1), ('New', 1), ('York', 1), ('stressed', 1), ('gyrations', 1), ('equity', 1), ('unlikely', 1), ('shake', 1), ('plans', 1), ('continue', 1), ('programme', 1), ('While', 1), ('deliberations', 1), ('predated', 1), ('worst', 1), ('fluctuations', 1), ('suggests', 1), ('officials', 1), ('confident', 1), ('about', 1), ('Open', 1), ('Market', 1), ('Committee', 1), ('left', 1), ('target', 1), ('range', 1), ('federal', 1), ('hold', 1), ('1.25', 1), ('1.5', 1), ('laying', 1), ('ground', 1), ('move', 1), ('March', 1), ('20-21', 1), ('key', 1), ('question', 1), ('now', 1), ('whether', 1), ('could', 1), ('opt', 1), ('four', 1), ('times', 1), ('rather', 1), ('currently', 1), ('immediate', 1), ('response', 1), ('suggested', 1), ('significantly', 1), ('advance', 1), ('debate', 1), ('yield', 1), ('10-year', 1), ('Treasury', 1), ('declined', 1), ('modestly', 1), ('dollar', 1), ('softened', 1), ('muted', 1), ('futures', 1), ('changed.The', 1), ('collapse.India', 1), ('regained', 1), ('title', 1), ('fastest-growing', 1), ('major', 1), ('after', 1), ('confirmed', 1), ('7', 1), ('overtaking', 1), ('once', 1), ('Data', 1), ('show', 1), ('final', 1), ('continuing', 1), ('bounceback', 1), ('sharp', 1), ('middle', 1), ('Chinese', 1), ('same', 1), ('Narendra', 1), ('prime', 1), ('ahead', 1), ('general', 1), ('election', 1), ('due', 1), ('news', 1), ('comes', 1), ('welcome', 1), ('relief', 1), ('week', 1), ('administration', 1), ('attacked', 1), ('failing', 1), ('prevent', 1), ('1.8bn', 1), ('fraud', 1), ('state-owned', 1), ('Punjab', 1), ('Piyush', 1), ('Goyal', 1), ('railways', 1), ('seen', 1), ('close', 1), ('welcomed', 1), ('tweeting', 1), ('continues', 1), ('&', 1), ('sustainably', 1), ('jumps', 1), ('3rd', 1), ('2017-18', 1), ('makes', 1), ('fastest', 1), ('growing', 1), ('large', 1), ('world.', 1), ('Pronab', 1), ('Sen', 1), ('former', 1), ('chief', 1), ('statistician', 1), ('called', 1), ('strong', 1), ('power', 1), ('2014', 1), ('promising', 1), ('reforms', 1), ('help', 1), ('create', 1), ('10m', 1), ('jobs', 1), ('shy', 1), ('estimated', 1), ('13m', 1), ('needs', 1), ('account', 1), ('young', 1), ('people', 1), ('entering', 1), ('workforce', 1), ('each', 1), ('fire', 1), ('sudden', 1), ('decision', 1), ('cancel', 1), ('banknotes', 1), ('followed', 1), ('botched', 1), ('attempt', 1), ('reform', 1), ('complex', 1), ('sales', 1), ('problems', 1), ('arising', 1), ('these', 1), ('helped', 1), ('knock', 1), ('off', 1), ('course', 1), ('fell', 1), ('9.1', 1), ('5.7', 1), ('June', 1), ('Last', 1), ('Arun', 1), ('Jaitley', 1), ('finance', 1), ('attempted', 1), ('mitigate', 1), ('effects', 1), ('included', 1), ('higher', 1), ('minimum', 1), ('prices', 1), ('farmers', 1), ('free', 1), ('health', 1), ('insurance', 1), ('100m', 1), ('poor', 1), ('families', 1), ('reversed', 1), ('third', 1), ('showed', 1), ('improvement', 1), ('con', 1), ('tinued', 1), ('boosted', 1), ('particular', 1), ('recovery', 1), ('construction', 1), ('ex', 1), ('panded', 1), ('sectors', 1), ('wake', 1), ('many', 1), ('property', 1), ('having', 1), ('previously', 1), ('paid', 1), ('cash', 1), ('way', 1), ('avoid', 1), ('Manufacturing', 1), ('meanwhile', 1), ('8.1', 1), ('important', 1), ('agricultural', 1), ('sector', 1), ('4.1', 1), ('larger', 1), ('Earlier', 1), ('day', 1), ('rating', 1), ('agency', 1), ('Moody', 1), ('7.6', 1), ('signs', 1), ('Indian', 1), ('starting', 1), ('recover', 1), ('soft', 1), ('patch', 1), ('attributed', 1), ('negative', 1), ('impact', 1), ('undertaken', 1), ('disruption', 1), ('related', 1), ('rollout', 1), ('Goods', 1), ('Service', 1), ('Tax.', 1), ('International', 1), ('Monetary', 1), ('Fund', 1), ('7.4', 1), ('7.8', 1), ('2019', 1)]\n"
     ]
    }
   ],
   "source": [
    "print(wl_sorted_desc)"
   ]
  },
  {
   "cell_type": "code",
   "execution_count": 19,
   "metadata": {
    "collapsed": true
   },
   "outputs": [],
   "source": [
    "obj = {\"a\":1,\"b\":2}"
   ]
  },
  {
   "cell_type": "code",
   "execution_count": 20,
   "metadata": {
    "collapsed": true
   },
   "outputs": [],
   "source": [
    "import json"
   ]
  },
  {
   "cell_type": "code",
   "execution_count": 21,
   "metadata": {
    "collapsed": false
   },
   "outputs": [
    {
     "data": {
      "text/plain": [
       "'{\"a\": 1, \"b\": 2}'"
      ]
     },
     "execution_count": 21,
     "metadata": {},
     "output_type": "execute_result"
    }
   ],
   "source": [
    "json.dumps(obj)"
   ]
  },
  {
   "cell_type": "code",
   "execution_count": 23,
   "metadata": {
    "collapsed": true
   },
   "outputs": [],
   "source": [
    "with open('dump_text.txt','w+')as f:\n",
    "    json.dump(obj,f)                  #将obj写入文档"
   ]
  },
  {
   "cell_type": "code",
   "execution_count": 29,
   "metadata": {
    "collapsed": false
   },
   "outputs": [],
   "source": [
    "import requests"
   ]
  },
  {
   "cell_type": "code",
   "execution_count": 30,
   "metadata": {
    "collapsed": false
   },
   "outputs": [],
   "source": [
    "url=\"http://sti.blcu.edu.cn\"\n",
    "reps=requests.get(url)"
   ]
  },
  {
   "cell_type": "code",
   "execution_count": 31,
   "metadata": {
    "collapsed": false
   },
   "outputs": [
    {
     "data": {
      "text/plain": [
       "<Response [200]>"
      ]
     },
     "execution_count": 31,
     "metadata": {},
     "output_type": "execute_result"
    }
   ],
   "source": [
    "reps"
   ]
  },
  {
   "cell_type": "code",
   "execution_count": 32,
   "metadata": {
    "collapsed": false
   },
   "outputs": [
    {
     "data": {
      "text/plain": [
       "'\\n\\n<!-- THEME DEBUG -->\\n<!-- THEME HOOK: \\'html\\' -->\\n<!-- FILE NAME SUGGESTIONS:\\n   * html--front.html.twig\\n   * html--node.html.twig\\n   x html.html.twig\\n-->\\n<!-- BEGIN OUTPUT from \\'core/themes/classy/templates/layout/html.html.twig\\' -->\\n<!DOCTYPE html>\\n<html lang=\"zh-hans\" dir=\"ltr\" prefix=\"content: http://purl.org/rss/1.0/modules/content/  dc: http://purl.org/dc/terms/  foaf: http://xmlns.com/foaf/0.1/  og: http://ogp.me/ns#  rdfs: http://www.w3.org/2000/01/rdf-schema#  schema: http://schema.org/  sioc: http://rdfs.org/sioc/ns#  sioct: http://rdfs.org/sioc/types#  skos: http://www.w3.org/2004/02/skos/core#  xsd: http://www.w3.org/2001/XMLSchema# \">\\n  <head>\\n    <meta charset=\"utf-8\" />\\n<meta name=\"Generator\" content=\"Drupal 8 (https://www.drupal.org)\" />\\n<meta name=\"MobileOptimized\" content=\"width\" />\\n<meta name=\"HandheldFriendly\" content=\"true\" />\\n<meta name=\"viewport\" content=\"width=device-width, initial-scale=1.0\" />\\n<link rel=\"shortcut icon\" href=\"/core/misc/favicon.ico\" type=\"image/vnd.microsoft.icon\" />\\n\\n    <title>首页 | 北京语言大学高级翻译学院</title>\\n    <style media=\"all\">\\n@import url(\"/core/assets/vendor/normalize-css/normalize.css?p8wy9l\");\\n@import url(\"/core/themes/stable/css/system/components/ajax-progress.module.css?p8wy9l\");\\n@import url(\"/core/themes/stable/css/system/components/align.module.css?p8wy9l\");\\n@import url(\"/core/themes/stable/css/system/components/autocomplete-loading.module.css?p8wy9l\");\\n@import url(\"/core/themes/stable/css/system/components/fieldgroup.module.css?p8wy9l\");\\n@import url(\"/core/themes/stable/css/system/components/container-inline.module.css?p8wy9l\");\\n@import url(\"/core/themes/stable/css/system/components/clearfix.module.css?p8wy9l\");\\n@import url(\"/core/themes/stable/css/system/components/details.module.css?p8wy9l\");\\n@import url(\"/core/themes/stable/css/system/components/hidden.module.css?p8wy9l\");\\n@import url(\"/core/themes/stable/css/system/components/item-list.module.css?p8wy9l\");\\n@import url(\"/core/themes/stable/css/system/components/js.module.css?p8wy9l\");\\n@import url(\"/core/themes/stable/css/system/components/nowrap.module.css?p8wy9l\");\\n@import url(\"/core/themes/stable/css/system/components/position-container.module.css?p8wy9l\");\\n@import url(\"/core/themes/stable/css/system/components/progress.module.css?p8wy9l\");\\n@import url(\"/core/themes/stable/css/system/components/reset-appearance.module.css?p8wy9l\");\\n@import url(\"/core/themes/stable/css/system/components/resize.module.css?p8wy9l\");\\n@import url(\"/core/themes/stable/css/system/components/sticky-header.module.css?p8wy9l\");\\n@import url(\"/core/themes/stable/css/system/components/system-status-counter.css?p8wy9l\");\\n@import url(\"/core/themes/stable/css/system/components/system-status-report-counters.css?p8wy9l\");\\n@import url(\"/core/themes/stable/css/system/components/system-status-report-general-info.css?p8wy9l\");\\n@import url(\"/core/themes/stable/css/system/components/tabledrag.module.css?p8wy9l\");\\n@import url(\"/core/themes/stable/css/system/components/tablesort.module.css?p8wy9l\");\\n@import url(\"/core/themes/stable/css/system/components/tree-child.module.css?p8wy9l\");\\n@import url(\"/core/themes/stable/css/views/views.module.css?p8wy9l\");\\n</style>\\n<style media=\"all\">\\n@import url(\"/core/themes/classy/css/components/action-links.css?p8wy9l\");\\n@import url(\"/core/themes/classy/css/components/breadcrumb.css?p8wy9l\");\\n@import url(\"/core/themes/classy/css/components/button.css?p8wy9l\");\\n@import url(\"/core/themes/classy/css/components/collapse-processed.css?p8wy9l\");\\n@import url(\"/core/themes/classy/css/components/container-inline.css?p8wy9l\");\\n@import url(\"/core/themes/classy/css/components/details.css?p8wy9l\");\\n@import url(\"/core/themes/classy/css/components/exposed-filters.css?p8wy9l\");\\n@import url(\"/core/themes/classy/css/components/field.css?p8wy9l\");\\n@import url(\"/core/themes/classy/css/components/form.css?p8wy9l\");\\n@import url(\"/core/themes/classy/css/components/icons.css?p8wy9l\");\\n@import url(\"/core/themes/classy/css/components/inline-form.css?p8wy9l\");\\n@import url(\"/core/themes/classy/css/components/item-list.css?p8wy9l\");\\n@import url(\"/core/themes/classy/css/components/link.css?p8wy9l\");\\n@import url(\"/core/themes/classy/css/components/links.css?p8wy9l\");\\n@import url(\"/core/themes/classy/css/components/menu.css?p8wy9l\");\\n@import url(\"/core/themes/classy/css/components/more-link.css?p8wy9l\");\\n@import url(\"/core/themes/classy/css/components/pager.css?p8wy9l\");\\n@import url(\"/core/themes/classy/css/components/tabledrag.css?p8wy9l\");\\n@import url(\"/core/themes/classy/css/components/tableselect.css?p8wy9l\");\\n@import url(\"/core/themes/classy/css/components/tablesort.css?p8wy9l\");\\n@import url(\"/core/themes/classy/css/components/tabs.css?p8wy9l\");\\n@import url(\"/core/themes/classy/css/components/textarea.css?p8wy9l\");\\n@import url(\"/core/themes/classy/css/components/ui-dialog.css?p8wy9l\");\\n@import url(\"/themes/gaofan/css/bootstrap.css?p8wy9l\");\\n@import url(\"/themes/gaofan/css/owl.carousel.css?p8wy9l\");\\n@import url(\"/themes/gaofan/css/onepage-revslider.css?p8wy9l\");\\n@import url(\"/themes/gaofan/css/style.min.css?p8wy9l\");\\n@import url(\"/themes/gaofan/css/responsive.min.css?p8wy9l\");\\n@import url(\"/themes/gaofan/css/font-icons.css?p8wy9l\");\\n@import url(\"/themes/gaofan/include/rs-plugin/css/settings.css?p8wy9l\");\\n@import url(\"/themes/gaofan/css/custom.css?p8wy9l\");\\n</style>\\n<style media=\"all\">\\n@import url(\"/themes/gaofan/css/custom2.css?p8wy9l\");\\n@import url(\"/themes/gaofan/css/custom3.css?p8wy9l\");\\n@import url(\"/themes/gaofan/css/gaofan.css?p8wy9l\");\\n@import url(\"/themes/gaofan/css/td.css?p8wy9l\");\\n@import url(\"/themes/gaofan/includes/owl/assets/owl.carousel.css?p8wy9l\");\\n@import url(\"/themes/gaofan/includes/owl/assets/owl.theme.default.min.css?p8wy9l\");\\n</style>\\n\\n    \\n<!--[if lte IE 8]>\\n<script src=\"/sites/default/files/js/js_VtafjXmRvoUgAzqzYTA3Wrjkx9wcWhjP0G4ZnnqRamA.js\"></script>\\n<![endif]-->\\n<script src=\"/sites/default/files/js/js_hetGjO3q1VeQrVadXt4UWKvJBWyH2ekvtHJN5M3UgNs.js\"></script>\\n\\n  </head>\\n  <body class=\"path-frontpage\">\\n        <a href=\"#main-content\" class=\"visually-hidden focusable skip-link\">\\n      跳转到主要内容\\n    </a>\\n    \\n    \\n\\n<!-- THEME DEBUG -->\\n<!-- THEME HOOK: \\'page\\' -->\\n<!-- FILE NAME SUGGESTIONS:\\n   x page--front.html.twig\\n   * page--node.html.twig\\n   * page.html.twig\\n-->\\n<!-- BEGIN OUTPUT from \\'themes/gaofan/templates/page--front.html.twig\\' -->\\n\\n<section id=\"wrapper\">\\n    <header id=\"header\">\\n        <div id=\"header-wrapper\">\\n            \\n\\n<!-- THEME DEBUG -->\\n<!-- THEME HOOK: \\'region\\' -->\\n<!-- FILE NAME SUGGESTIONS:\\n   * region--header.html.twig\\n   x region.html.twig\\n-->\\n<!-- BEGIN OUTPUT from \\'core/themes/classy/templates/layout/region.html.twig\\' -->\\n  <div class=\"region region-header\">\\n    \\n\\n<!-- THEME DEBUG -->\\n<!-- THEME HOOK: \\'block\\' -->\\n<!-- FILE NAME SUGGESTIONS:\\n   * block--yemianbiaoti.html.twig\\n   * block--page-title-block.html.twig\\n   * block--core.html.twig\\n   x block.html.twig\\n-->\\n<!-- BEGIN OUTPUT from \\'core/themes/classy/templates/block/block.html.twig\\' -->\\n<div id=\"block-yemianbiaoti\" class=\"block block-core block-page-title-block\">\\n  \\n    \\n      \\n\\n<!-- THEME DEBUG -->\\n<!-- THEME HOOK: \\'page_title\\' -->\\n<!-- BEGIN OUTPUT from \\'core/themes/classy/templates/content/page-title.html.twig\\' -->\\n\\n  <h1 class=\"page-title\"></h1>\\n\\n\\n<!-- END OUTPUT from \\'core/themes/classy/templates/content/page-title.html.twig\\' -->\\n\\n\\n  </div>\\n\\n<!-- END OUTPUT from \\'core/themes/classy/templates/block/block.html.twig\\' -->\\n\\n\\n  </div>\\n\\n<!-- END OUTPUT from \\'core/themes/classy/templates/layout/region.html.twig\\' -->\\n\\n\\n            <h1 class=\"logo\">\\n                <span>北京语言大学高级翻译学院</span>\\n                <a href=\"/\" title=\"北京语言大学高级翻译学院\">\\n                    <img src=\"/themes/gaofan/images/logo.png\" alt=\"北京语言大学高级翻译学院\">\\n                </a>\\n            </h1>\\n            <h1 class=\"logo-1\">\\n                <span>北京语言大学高级翻译学院</span>\\n                <a href=\"/\" title=\"北京语言大学高级翻译学院\">\\n                    <img src=\"/themes/gaofan/images/mentou.png\" alt=\"北京语言大学高级翻译学院\">\\n                </a>\\n            </h1>\\n\\n            <div class=\"nav-container\">\\n                <nav id=\"nav\">\\n                    \\n\\n<!-- THEME DEBUG -->\\n<!-- THEME HOOK: \\'region\\' -->\\n<!-- FILE NAME SUGGESTIONS:\\n   * region--menu.html.twig\\n   x region.html.twig\\n-->\\n<!-- BEGIN OUTPUT from \\'core/themes/classy/templates/layout/region.html.twig\\' -->\\n  <div class=\"region region-menu\">\\n    \\n\\n<!-- THEME DEBUG -->\\n<!-- THEME HOOK: \\'block\\' -->\\n<!-- FILE NAME SUGGESTIONS:\\n   * block--gaofan-langswitch.html.twig\\n   * block--language-block--language-interface.html.twig\\n   * block--language-block.html.twig\\n   * block--language.html.twig\\n   x block.html.twig\\n-->\\n<!-- BEGIN OUTPUT from \\'core/themes/classy/templates/block/block.html.twig\\' -->\\n<div class=\"language-switcher-language-url block block-language block-language-blocklanguage-interface\" id=\"block-gaofan-langswitch\" role=\"navigation\">\\n  \\n    \\n      \\n\\n<!-- THEME DEBUG -->\\n<!-- THEME HOOK: \\'links__language_block\\' -->\\n<!-- FILE NAME SUGGESTIONS:\\n   x links--language-block.html.twig\\n   x links--language-block.html.twig\\n   * links.html.twig\\n-->\\n<!-- BEGIN OUTPUT from \\'themes/gaofan/templates/links--language-block.html.twig\\' -->\\n<div class=\"language\">\\n  <ul class=\"links\"><li hreflang=\"zh-hans\" data-drupal-link-system-path=\"&lt;front&gt;\" class=\"zh-hans is-active\"><a href=\"/zh-hans\" class=\"language-link is-active\" hreflang=\"zh-hans\" data-drupal-link-system-path=\"&lt;front&gt;\">简体中文</a></li><li hreflang=\"en\" data-drupal-link-system-path=\"&lt;front&gt;\" class=\"en\"><a href=\"/en\" class=\"language-link\" hreflang=\"en\" data-drupal-link-system-path=\"&lt;front&gt;\">English</a></li><li hreflang=\"fr\" data-drupal-link-system-path=\"&lt;front&gt;\" class=\"fr\"><a href=\"/fr\" class=\"language-link\" hreflang=\"fr\" data-drupal-link-system-path=\"&lt;front&gt;\">Français</a></li></ul>\\n</div>\\n<!-- END OUTPUT from \\'themes/gaofan/templates/links--language-block.html.twig\\' -->\\n\\n\\n  </div>\\n\\n<!-- END OUTPUT from \\'core/themes/classy/templates/block/block.html.twig\\' -->\\n\\n\\n\\n<!-- THEME DEBUG -->\\n<!-- THEME HOOK: \\'block\\' -->\\n<!-- FILE NAME SUGGESTIONS:\\n   * block--gaofan-main-menu.html.twig\\n   * block--system-menu-block--main.html.twig\\n   x block--system-menu-block.html.twig\\n   * block--system.html.twig\\n   * block.html.twig\\n-->\\n<!-- BEGIN OUTPUT from \\'themes/gaofan/templates/block--system-menu-block.html.twig\\' -->\\n<nav id=\"nav\">\\n  \\n  <a href=\"#\" id=\"menu-btn\" title=\"Menu\">导航\\n    <span id=\"menu-btn-icon\"></span>\\n  </a>\\n            \\n  <h2 class=\"visually-hidden\" id=\"block-gaofan-main-menu-menu\">主导航</h2>\\n  \\n\\n        \\n\\n<!-- THEME DEBUG -->\\n<!-- THEME HOOK: \\'menu__main\\' -->\\n<!-- FILE NAME SUGGESTIONS:\\n   * menu--main.html.twig\\n   x menu.html.twig\\n-->\\n<!-- BEGIN OUTPUT from \\'themes/gaofan/templates/menu.html.twig\\' -->\\n\\n\\n\\n\\n\\n\\n\\n\\n              <ul class=\"menu\">\\n                    <li class=\"menu-item--expanded\">\\n        <a href=\"/zh-hans/overview/brief\" data-drupal-link-system-path=\"node/229\">学院概况</a>\\n                                <ul >\\n                    <li>\\n        <a href=\"/zh-hans/overview/introduce\" data-drupal-link-system-path=\"node/2\">学院简介</a>\\n        \\n        \\n      </li>\\n                <li>\\n        <a href=\"/zh-hans/overview/history\" data-drupal-link-system-path=\"node/14\">历史发展</a>\\n        \\n        \\n      </li>\\n                <li>\\n        <a href=\"/zh-hans/overview/leader\" data-drupal-link-system-path=\"node/15\">学院领导</a>\\n        \\n        \\n      </li>\\n                <li>\\n        <a href=\"/zh-hans/node/275\" data-drupal-link-system-path=\"node/275\">管理团队</a>\\n        \\n        \\n      </li>\\n                <li>\\n        <a href=\"/zh-hans/node/59\" data-drupal-link-system-path=\"node/59\">联系我们</a>\\n        \\n        \\n      </li>\\n        </ul>\\n  \\n        \\n                  <span class=\"responsive-toggle\"></span>\\n        \\n      </li>\\n                <li class=\"menu-item--expanded\">\\n        <a href=\"/zh-hans/teachers\" data-drupal-link-system-path=\"node/537\">师资力量</a>\\n                                <ul >\\n                    <li>\\n        <a href=\"/zh-hans/core_team\" data-drupal-link-system-path=\"core_team\">专业教学团队</a>\\n        \\n        \\n      </li>\\n                <li>\\n        <a href=\"/zh-hans/external_teaching_team\" data-drupal-link-system-path=\"external_teaching_team\">外聘教学团队</a>\\n        \\n        \\n      </li>\\n        </ul>\\n  \\n        \\n                  <span class=\"responsive-toggle\"></span>\\n        \\n      </li>\\n                <li class=\"menu-item--expanded\">\\n        <a href=\"/zh-hans/talent_training\" data-drupal-link-system-path=\"node/113\">人才培养</a>\\n                                <ul >\\n                    <li class=\"menu-item--expanded\">\\n        <a href=\"/zh-hans/train/bachelor\" data-drupal-link-system-path=\"node/217\">本科</a>\\n                                <ul >\\n                    <li>\\n        <a href=\"/zh-hans/node/284\" data-drupal-link-system-path=\"node/284\">英语方向</a>\\n        \\n        \\n      </li>\\n                <li>\\n        <a href=\"/zh-hans/node/340\" data-drupal-link-system-path=\"node/340\">汉英法方向</a>\\n        \\n        \\n      </li>\\n                <li>\\n        <a href=\"/zh-hans/node/365\" data-drupal-link-system-path=\"node/365\">本地化方向</a>\\n        \\n        \\n      </li>\\n        </ul>\\n  \\n        \\n                  <span class=\"responsive-toggle\"></span>\\n        \\n      </li>\\n                <li class=\"menu-item--expanded\">\\n        <a href=\"/zh-hans/train/master\" data-drupal-link-system-path=\"node/218\">硕士\\t</a>\\n                                <ul >\\n                    <li>\\n        <a href=\"/zh-hans/node/321\" data-drupal-link-system-path=\"node/321\">翻译专业硕士</a>\\n        \\n        \\n      </li>\\n                <li>\\n        <a href=\"/zh-hans/node/325\" data-drupal-link-system-path=\"node/325\">翻译学硕士</a>\\n        \\n        \\n      </li>\\n        </ul>\\n  \\n        \\n                  <span class=\"responsive-toggle\"></span>\\n        \\n      </li>\\n                <li class=\"menu-item--expanded\">\\n        <a href=\"/zh-hans/node/315\" data-drupal-link-system-path=\"node/315\">博士</a>\\n                                <ul >\\n                    <li>\\n        <a href=\"/zh-hans/node/558\" data-drupal-link-system-path=\"node/558\"> 翻译理论与教学法</a>\\n        \\n        \\n      </li>\\n                <li>\\n        <a href=\"/zh-hans/node/563\" data-drupal-link-system-path=\"node/563\">翻译与跨学科研究</a>\\n        \\n        \\n      </li>\\n                <li>\\n        <a href=\"/zh-hans/node/564\" data-drupal-link-system-path=\"node/564\">翻译与跨文化研究</a>\\n        \\n        \\n      </li>\\n                <li>\\n        <a href=\"/zh-hans/node/565\" data-drupal-link-system-path=\"node/565\">翻译技术与本地化</a>\\n        \\n        \\n      </li>\\n        </ul>\\n  \\n        \\n                  <span class=\"responsive-toggle\"></span>\\n        \\n      </li>\\n        </ul>\\n  \\n        \\n                  <span class=\"responsive-toggle\"></span>\\n        \\n      </li>\\n                <li class=\"menu-item--expanded\">\\n        <a href=\"/zh-hans/pulish_works\" data-drupal-link-system-path=\"node/114\">教学科研</a>\\n                                <ul >\\n                    <li>\\n        <a href=\"/zh-hans/node/264\" data-drupal-link-system-path=\"node/264\">教学管理</a>\\n        \\n        \\n      </li>\\n                <li>\\n        <a href=\"/zh-hans/node/265\" data-drupal-link-system-path=\"node/265\">科研管理</a>\\n        \\n        \\n      </li>\\n        </ul>\\n  \\n        \\n                  <span class=\"responsive-toggle\"></span>\\n        \\n      </li>\\n                <li class=\"menu-item--expanded\">\\n        <a href=\"/zh-hans/taxonomy/term/102\" data-drupal-link-system-path=\"taxonomy/term/102\">学生管理</a>\\n                                <ul >\\n                    <li class=\"menu-item--expanded\">\\n        <a href=\"/zh-hans/taxonomy/term/103\" data-drupal-link-system-path=\"taxonomy/term/103\">本科</a>\\n                                <ul >\\n                    <li>\\n        <a href=\"/zh-hans/taxonomy/term/106\" data-drupal-link-system-path=\"taxonomy/term/106\">党宣党建</a>\\n        \\n        \\n      </li>\\n                <li>\\n        <a href=\"/zh-hans/taxonomy/term/107\" data-drupal-link-system-path=\"taxonomy/term/107\">团学风采（院刊）</a>\\n        \\n        \\n      </li>\\n                <li>\\n        <a href=\"/zh-hans/taxonomy/term/108\" data-drupal-link-system-path=\"taxonomy/term/108\">实习就业</a>\\n        \\n        \\n      </li>\\n                <li class=\"menu-item--collapsed\">\\n        <a href=\"/zh-hans/taxonomy/term/109\" data-drupal-link-system-path=\"taxonomy/term/109\">规章制度</a>\\n        \\n        \\n      </li>\\n        </ul>\\n  \\n        \\n                  <span class=\"responsive-toggle\"></span>\\n        \\n      </li>\\n                <li class=\"menu-item--expanded\">\\n        <a href=\"/zh-hans/taxonomy/term/104\" data-drupal-link-system-path=\"taxonomy/term/104\">硕士</a>\\n                                <ul >\\n                    <li>\\n        <a href=\"/zh-hans/taxonomy/term/110\" data-drupal-link-system-path=\"taxonomy/term/110\">实习就业</a>\\n        \\n        \\n      </li>\\n                <li>\\n        <a href=\"/zh-hans/taxonomy/term/111\" data-drupal-link-system-path=\"taxonomy/term/111\">规章制度</a>\\n        \\n        \\n      </li>\\n        </ul>\\n  \\n        \\n                  <span class=\"responsive-toggle\"></span>\\n        \\n      </li>\\n                <li class=\"menu-item--expanded\">\\n        <a href=\"/zh-hans/taxonomy/term/105\" data-drupal-link-system-path=\"taxonomy/term/105\">博士\\t</a>\\n                                <ul >\\n                    <li>\\n        <a href=\"/zh-hans/taxonomy/term/112\" data-drupal-link-system-path=\"taxonomy/term/112\">实习就业</a>\\n        \\n        \\n      </li>\\n                <li>\\n        <a href=\"/zh-hans/taxonomy/term/113\" data-drupal-link-system-path=\"taxonomy/term/113\">规章制度</a>\\n        \\n        \\n      </li>\\n        </ul>\\n  \\n        \\n                  <span class=\"responsive-toggle\"></span>\\n        \\n      </li>\\n        </ul>\\n  \\n        \\n                  <span class=\"responsive-toggle\"></span>\\n        \\n      </li>\\n                <li class=\"menu-item--expanded\">\\n        <a href=\"/zh-hans/taxonomy/term/118\" data-drupal-link-system-path=\"taxonomy/term/118\">社会服务</a>\\n                                <ul >\\n                    <li>\\n        <a href=\"/zh-hans/taxonomy/term/119\" data-drupal-link-system-path=\"taxonomy/term/119\">舆情资讯</a>\\n        \\n        \\n      </li>\\n                <li>\\n        <a href=\"/zh-hans/taxonomy/term/120\" data-drupal-link-system-path=\"taxonomy/term/120\">翻译培训</a>\\n        \\n        \\n      </li>\\n                <li>\\n        <a href=\"/zh-hans/taxonomy/term/121\" data-drupal-link-system-path=\"taxonomy/term/121\">口译服务</a>\\n        \\n        \\n      </li>\\n                <li>\\n        <a href=\"/zh-hans/taxonomy/term/122\" data-drupal-link-system-path=\"taxonomy/term/122\">笔译服务</a>\\n        \\n        \\n      </li>\\n                <li>\\n        <a href=\"/zh-hans/taxonomy/term/123\" data-drupal-link-system-path=\"taxonomy/term/123\">本地化服务</a>\\n        \\n        \\n      </li>\\n        </ul>\\n  \\n        \\n                  <span class=\"responsive-toggle\"></span>\\n        \\n      </li>\\n                <li class=\"menu-item--expanded\">\\n        <a href=\"/zh-hans/taxonomy/term/98\" data-drupal-link-system-path=\"taxonomy/term/98\">政产学研</a>\\n                                <ul >\\n                    <li>\\n        <a href=\"/zh-hans/taxonomy/term/99\" data-drupal-link-system-path=\"taxonomy/term/99\">实习实践</a>\\n        \\n        \\n      </li>\\n                <li>\\n        <a href=\"/zh-hans/taxonomy/term/100\" data-drupal-link-system-path=\"taxonomy/term/100\">MTI教育</a>\\n        \\n        \\n      </li>\\n                <li>\\n        <a href=\"/zh-hans/taxonomy/term/101\" data-drupal-link-system-path=\"taxonomy/term/101\">翻译研究</a>\\n        \\n        \\n      </li>\\n        </ul>\\n  \\n        \\n                  <span class=\"responsive-toggle\"></span>\\n        \\n      </li>\\n                <li class=\"menu-item--expanded\">\\n        <a href=\"/zh-hans/online-service\" data-drupal-link-system-path=\"node/538\">在线服务</a>\\n                                <ul >\\n                    <li class=\"menu-item--collapsed\">\\n        <a href=\"/zh-hans/taxonomy/term/114\" data-drupal-link-system-path=\"taxonomy/term/114\">下载中心</a>\\n        \\n        \\n      </li>\\n                <li>\\n        <a href=\"http://stimooc.blcu.edu.cn/\">高翻学堂</a>\\n        \\n        \\n      </li>\\n                <li>\\n        <a href=\"/zh-hans/alumnis\" data-drupal-link-system-path=\"alumnis\">校友风采</a>\\n        \\n        \\n      </li>\\n        </ul>\\n  \\n        \\n                  <span class=\"responsive-toggle\"></span>\\n        \\n      </li>\\n        </ul>\\n  \\n\\n\\n<!-- END OUTPUT from \\'themes/gaofan/templates/menu.html.twig\\' -->\\n\\n\\n  \\n</nav>\\n\\n<!-- END OUTPUT from \\'themes/gaofan/templates/block--system-menu-block.html.twig\\' -->\\n\\n\\n  </div>\\n\\n<!-- END OUTPUT from \\'core/themes/classy/templates/layout/region.html.twig\\' -->\\n\\n\\n                </nav>\\n            </div>\\n            <div id=\"search-container\">\\n                \\n            </div>\\n            <div id=\"header-footer\">\\n                \\n            </div>\\n        </div>\\n    </header>\\n\\n    <section id=\"home\">\\n        <div id=\"revslider-container\">\\n            \\n\\n<!-- THEME DEBUG -->\\n<!-- THEME HOOK: \\'container\\' -->\\n<!-- BEGIN OUTPUT from \\'core/themes/classy/templates/form/container.html.twig\\' -->\\n<div class=\"views-element-container\">\\n\\n<!-- THEME DEBUG -->\\n<!-- THEME HOOK: \\'views_view__slideshow\\' -->\\n<!-- FILE NAME SUGGESTIONS:\\n   x views-view--slideshow.html.twig\\n   x views-view--slideshow.html.twig\\n   * views-view.html.twig\\n-->\\n<!-- BEGIN OUTPUT from \\'themes/gaofan/templates/views/slideshow/views-view--slideshow.html.twig\\' -->\\n<div id=\"revslider\">\\n  \\n    \\n      \\n      <ul>\\n      \\n\\n<!-- THEME DEBUG -->\\n<!-- THEME HOOK: \\'views_view_unformatted__slideshow\\' -->\\n<!-- FILE NAME SUGGESTIONS:\\n   x views-view-unformatted--slideshow.html.twig\\n   x views-view-unformatted--slideshow.html.twig\\n   * views-view-unformatted.html.twig\\n-->\\n<!-- BEGIN OUTPUT from \\'themes/gaofan/templates/views/slideshow/views-view-unformatted--slideshow.html.twig\\' -->\\n  \\n    \\n\\n<!-- THEME DEBUG -->\\n<!-- THEME HOOK: \\'views_view_fields\\' -->\\n<!-- BEGIN OUTPUT from \\'core/themes/stable/templates/views/views-view-fields.html.twig\\' -->\\n\\n\\n<!-- THEME DEBUG -->\\n<!-- THEME HOOK: \\'views_view_field\\' -->\\n<!-- BEGIN OUTPUT from \\'core/themes/stable/templates/views/views-view-field.html.twig\\' -->\\n<li data-transition=\"random-premium\" data-slotamount=\"10\" data-masterspeed=\"400\">\\n                                        \\n\\n\\n\\n\\n  \\n\\n\\n\\n\\n\\n\\n\\n\\n\\n<img src=\"/sites/default/files/styles/2000/public/slideshow/2016-07/ht1history2_2.jpg?itok=luvIiHBq\" alt=\"\" typeof=\"Image\" class=\"image-style-_000\" />\\n\\n\\n\\n\\n\\n\\n\\n\\n\\n\\n\\n\\n                                        <div class=\"caption-wrapper\"><div class=\"tp-caption rev-title3 lft ltt\" data-x=\"center\" data-y=\"bottom\">\\n                                          <p class=\"p-title\"> 2011年5月20日北京语言大学高级翻译学院正式成立 </p>\\n                                         <p class=\"p-desciption\">  </p>\\n                                        </div></div>\\n               \\n                                      \\n                                        \\n                                    </li>\\n<!-- END OUTPUT from \\'core/themes/stable/templates/views/views-view-field.html.twig\\' -->\\n\\n\\n<!-- END OUTPUT from \\'core/themes/stable/templates/views/views-view-fields.html.twig\\' -->\\n\\n\\n\\n  \\n    \\n\\n<!-- THEME DEBUG -->\\n<!-- THEME HOOK: \\'views_view_fields\\' -->\\n<!-- BEGIN OUTPUT from \\'core/themes/stable/templates/views/views-view-fields.html.twig\\' -->\\n\\n\\n<!-- THEME DEBUG -->\\n<!-- THEME HOOK: \\'views_view_field\\' -->\\n<!-- BEGIN OUTPUT from \\'core/themes/stable/templates/views/views-view-field.html.twig\\' -->\\n<li data-transition=\"random-premium\" data-slotamount=\"10\" data-masterspeed=\"400\">\\n                                        \\n\\n\\n\\n\\n  \\n\\n\\n\\n\\n\\n\\n\\n\\n\\n<img src=\"/sites/default/files/styles/2000/public/slideshow/2016-07/slide0090_image00008.jpg?itok=9_TVLXJJ\" alt=\"\" typeof=\"Image\" class=\"image-style-_000\" />\\n\\n\\n\\n\\n\\n\\n\\n\\n\\n\\n\\n\\n                                        <div class=\"caption-wrapper\"><div class=\"tp-caption rev-title3 lft ltt\" data-x=\"center\" data-y=\"bottom\">\\n                                          <p class=\"p-title\"> 2015年3月CIUTI专家莅临北语考察我校翻译人才培养状况 </p>\\n                                         <p class=\"p-desciption\">  </p>\\n                                        </div></div>\\n               \\n                                      \\n                                        \\n                                    </li>\\n<!-- END OUTPUT from \\'core/themes/stable/templates/views/views-view-field.html.twig\\' -->\\n\\n\\n<!-- END OUTPUT from \\'core/themes/stable/templates/views/views-view-fields.html.twig\\' -->\\n\\n\\n\\n  \\n    \\n\\n<!-- THEME DEBUG -->\\n<!-- THEME HOOK: \\'views_view_fields\\' -->\\n<!-- BEGIN OUTPUT from \\'core/themes/stable/templates/views/views-view-fields.html.twig\\' -->\\n\\n\\n<!-- THEME DEBUG -->\\n<!-- THEME HOOK: \\'views_view_field\\' -->\\n<!-- BEGIN OUTPUT from \\'core/themes/stable/templates/views/views-view-field.html.twig\\' -->\\n<li data-transition=\"random-premium\" data-slotamount=\"10\" data-masterspeed=\"400\">\\n                                        \\n\\n\\n\\n\\n  \\n\\n\\n\\n\\n\\n\\n\\n\\n\\n<img src=\"/sites/default/files/styles/2000/public/slideshow/2016-07/%E6%9C%AA%E6%A0%87%E9%A2%98000-1.jpg?itok=0J2XqFIs\" alt=\"\" typeof=\"Image\" class=\"image-style-_000\" />\\n\\n\\n\\n\\n\\n\\n\\n\\n\\n\\n\\n\\n                                        <div class=\"caption-wrapper\"><div class=\"tp-caption rev-title3 lft ltt\" data-x=\"center\" data-y=\"bottom\">\\n                                          <p class=\"p-title\"> 2015年5月北京语言大学全票加入国际翻译院校联盟 </p>\\n                                         <p class=\"p-desciption\">  </p>\\n                                        </div></div>\\n               \\n                                      \\n                                        \\n                                    </li>\\n<!-- END OUTPUT from \\'core/themes/stable/templates/views/views-view-field.html.twig\\' -->\\n\\n\\n<!-- END OUTPUT from \\'core/themes/stable/templates/views/views-view-fields.html.twig\\' -->\\n\\n\\n\\n  \\n    \\n\\n<!-- THEME DEBUG -->\\n<!-- THEME HOOK: \\'views_view_fields\\' -->\\n<!-- BEGIN OUTPUT from \\'core/themes/stable/templates/views/views-view-fields.html.twig\\' -->\\n\\n\\n<!-- THEME DEBUG -->\\n<!-- THEME HOOK: \\'views_view_field\\' -->\\n<!-- BEGIN OUTPUT from \\'core/themes/stable/templates/views/views-view-field.html.twig\\' -->\\n<li data-transition=\"random-premium\" data-slotamount=\"10\" data-masterspeed=\"400\">\\n                                        \\n\\n\\n\\n\\n  \\n\\n\\n\\n\\n\\n\\n\\n\\n\\n<img src=\"/sites/default/files/styles/2000/public/slideshow/2016-07/jiepai-2.jpg?itok=G_QwGd_7\" alt=\"\" typeof=\"Image\" class=\"image-style-_000\" />\\n\\n\\n\\n\\n\\n\\n\\n\\n\\n\\n\\n\\n                                        <div class=\"caption-wrapper\"><div class=\"tp-caption rev-title3 lft ltt\" data-x=\"center\" data-y=\"bottom\">\\n                                          <p class=\"p-title\"> 2016年5月19日北京语言大学中外语言服务人才培养基地正式成立 </p>\\n                                         <p class=\"p-desciption\">  </p>\\n                                        </div></div>\\n               \\n                                      \\n                                        \\n                                    </li>\\n<!-- END OUTPUT from \\'core/themes/stable/templates/views/views-view-field.html.twig\\' -->\\n\\n\\n<!-- END OUTPUT from \\'core/themes/stable/templates/views/views-view-fields.html.twig\\' -->\\n\\n\\n\\n  \\n    \\n\\n<!-- THEME DEBUG -->\\n<!-- THEME HOOK: \\'views_view_fields\\' -->\\n<!-- BEGIN OUTPUT from \\'core/themes/stable/templates/views/views-view-fields.html.twig\\' -->\\n\\n\\n<!-- THEME DEBUG -->\\n<!-- THEME HOOK: \\'views_view_field\\' -->\\n<!-- BEGIN OUTPUT from \\'core/themes/stable/templates/views/views-view-field.html.twig\\' -->\\n<li data-transition=\"random-premium\" data-slotamount=\"10\" data-masterspeed=\"400\">\\n                                        \\n\\n\\n\\n\\n  \\n\\n\\n\\n\\n\\n\\n\\n\\n\\n<img src=\"/sites/default/files/styles/2000/public/slideshow/2016-07/jiaoshiheying.jpg?itok=cl1O8oZW\" alt=\"\" typeof=\"Image\" class=\"image-style-_000\" />\\n\\n\\n\\n\\n\\n\\n\\n\\n\\n\\n\\n\\n                                        <div class=\"caption-wrapper\"><div class=\"tp-caption rev-title3 lft ltt\" data-x=\"center\" data-y=\"bottom\">\\n                                          <p class=\"p-title\"> 高级翻译学院全体教师合影 </p>\\n                                         <p class=\"p-desciption\">  </p>\\n                                        </div></div>\\n               \\n                                      \\n                                        \\n                                    </li>\\n<!-- END OUTPUT from \\'core/themes/stable/templates/views/views-view-field.html.twig\\' -->\\n\\n\\n<!-- END OUTPUT from \\'core/themes/stable/templates/views/views-view-fields.html.twig\\' -->\\n\\n\\n\\n  \\n    \\n\\n<!-- THEME DEBUG -->\\n<!-- THEME HOOK: \\'views_view_fields\\' -->\\n<!-- BEGIN OUTPUT from \\'core/themes/stable/templates/views/views-view-fields.html.twig\\' -->\\n\\n\\n<!-- THEME DEBUG -->\\n<!-- THEME HOOK: \\'views_view_field\\' -->\\n<!-- BEGIN OUTPUT from \\'core/themes/stable/templates/views/views-view-field.html.twig\\' -->\\n<li data-transition=\"random-premium\" data-slotamount=\"10\" data-masterspeed=\"400\">\\n                                        \\n\\n\\n\\n\\n  \\n\\n\\n\\n\\n\\n\\n\\n\\n\\n<img src=\"/sites/default/files/styles/2000/public/slideshow/2016-07/%E6%9C%AA%E6%A0%87%E9%A2%98-1%20%E6%8B%B70000%E8%B4%9D.jpg?itok=Yd1dPDpI\" alt=\"\" typeof=\"Image\" class=\"image-style-_000\" />\\n\\n\\n\\n\\n\\n\\n\\n\\n\\n\\n\\n\\n                                        <div class=\"caption-wrapper\"><div class=\"tp-caption rev-title3 lft ltt\" data-x=\"center\" data-y=\"bottom\">\\n                                          <p class=\"p-title\"> 高级翻译学院部分中外学生合影 </p>\\n                                         <p class=\"p-desciption\">  </p>\\n                                        </div></div>\\n               \\n                                      \\n                                        \\n                                    </li>\\n<!-- END OUTPUT from \\'core/themes/stable/templates/views/views-view-field.html.twig\\' -->\\n\\n\\n<!-- END OUTPUT from \\'core/themes/stable/templates/views/views-view-fields.html.twig\\' -->\\n\\n\\n\\n\\n\\n<!-- END OUTPUT from \\'themes/gaofan/templates/views/slideshow/views-view-unformatted--slideshow.html.twig\\' -->\\n\\n\\n    </ul>\\n  \\n          </div>\\n\\n<!-- END OUTPUT from \\'themes/gaofan/templates/views/slideshow/views-view--slideshow.html.twig\\' -->\\n\\n</div>\\n\\n<!-- END OUTPUT from \\'core/themes/classy/templates/form/container.html.twig\\' -->\\n\\n\\n        </div>\\n\\n        <div class=\"onepage-section\">\\n            <div class=\"section-inner\">\\n                <div class=\"notice\">\\n                    <div class=\"row col-1\">\\n                        <header class=\"section-header\">\\n                            <h2 class=\"section-title\">\\n                                通知公告\\n                        <span class=\"section-title-border\">\\n                        </span>\\n                            </h2>\\n                        </header>\\n                        <div class=\"md-margin\"></div>\\n                        \\n\\n<!-- THEME DEBUG -->\\n<!-- THEME HOOK: \\'container\\' -->\\n<!-- BEGIN OUTPUT from \\'core/themes/classy/templates/form/container.html.twig\\' -->\\n<div class=\"views-element-container\">\\n\\n<!-- THEME DEBUG -->\\n<!-- THEME HOOK: \\'views_view\\' -->\\n<!-- BEGIN OUTPUT from \\'core/themes/classy/templates/views/views-view.html.twig\\' -->\\n<div class=\"view view-news view-id-news view-display-id-block_1 js-view-dom-id-42be0e4bdca44e8ba3d20af54237f645114fe102db31adf2f5e2115676bffcf5\">\\n  \\n    \\n      \\n      <div class=\"view-content\">\\n      \\n\\n<!-- THEME DEBUG -->\\n<!-- THEME HOOK: \\'views_view_unformatted\\' -->\\n<!-- BEGIN OUTPUT from \\'core/themes/classy/templates/views/views-view-unformatted.html.twig\\' -->\\n    <div>\\n    \\n\\n<!-- THEME DEBUG -->\\n<!-- THEME HOOK: \\'views_view_fields\\' -->\\n<!-- BEGIN OUTPUT from \\'core/themes/stable/templates/views/views-view-fields.html.twig\\' -->\\n\\n\\n<!-- THEME DEBUG -->\\n<!-- THEME HOOK: \\'views_view_field\\' -->\\n<!-- BEGIN OUTPUT from \\'core/themes/stable/templates/views/views-view-field.html.twig\\' -->\\n<div class=\"accordion-group panel\">\\n                                                    <div class=\"accordion-title\">\\n                                                      <h3> <a href=\"/zh-hans/node/6850\" hreflang=\"zh-hans\">北京语言大学第六届国际口笔译大赛火热来袭</a></h5>\\n                                                      <a class=\"accordion-btn\" data-toggle=\"collapse\" data-parent=\"#accordion\" href=\"#6850\">\\n                                                      </a>\\n                                                    </div>\\n                                                    <div class=\"accordion-body collapse \" id=\"6850\">\\n                                                      <div class=\"accordion-body-wrapper\">\\n                                                        <p>一、大赛背景</p>\\n\\n<p><strong>举办目的：</strong>为提高中外大学生的文化交流能力、发掘优秀翻译人才、促进翻译行业的繁荣与发展，北京语言大学自2011年开始举办国际口笔译大赛。大赛由北京语言大学主办，外国语学部高级翻译学院承办，意在展示北语国际化、专业化的学术氛围和多元化的办学特色，引导公众关注时事热点，拓宽译者视野并增强其文化沟通能力。</p>\\n                                                        <h4 class=\"float_right readmore\">\\n                                                            <a href=\"/zh-hans/node/6850 \" target=\"_blank\">\\n                                                                查看详情&gt;\\n                                                            </a>\\n                                                        </h4>\\n                                                      </div>\\n                                                    </div>\\n                                                  </div>\\n<!-- END OUTPUT from \\'core/themes/stable/templates/views/views-view-field.html.twig\\' -->\\n\\n\\n<!-- END OUTPUT from \\'core/themes/stable/templates/views/views-view-fields.html.twig\\' -->\\n\\n\\n  </div>\\n    <div>\\n    \\n\\n<!-- THEME DEBUG -->\\n<!-- THEME HOOK: \\'views_view_fields\\' -->\\n<!-- BEGIN OUTPUT from \\'core/themes/stable/templates/views/views-view-fields.html.twig\\' -->\\n\\n\\n<!-- THEME DEBUG -->\\n<!-- THEME HOOK: \\'views_view_field\\' -->\\n<!-- BEGIN OUTPUT from \\'core/themes/stable/templates/views/views-view-field.html.twig\\' -->\\n<div class=\"accordion-group panel\">\\n                                                    <div class=\"accordion-title\">\\n                                                      <h3> <a href=\"/zh-hans/node/6841\" hreflang=\"zh-hans\">翻译学讲座：谢天振教授</a></h5>\\n                                                      <a class=\"accordion-btn\" data-toggle=\"collapse\" data-parent=\"#accordion\" href=\"#6841\">\\n                                                      </a>\\n                                                    </div>\\n                                                    <div class=\"accordion-body collapse \" id=\"6841\">\\n                                                      <div class=\"accordion-body-wrapper\">\\n                                                        <p><strong>主讲人简介：</strong></p>\\n                                                        <h4 class=\"float_right readmore\">\\n                                                            <a href=\"/zh-hans/node/6841 \" target=\"_blank\">\\n                                                                查看详情&gt;\\n                                                            </a>\\n                                                        </h4>\\n                                                      </div>\\n                                                    </div>\\n                                                  </div>\\n<!-- END OUTPUT from \\'core/themes/stable/templates/views/views-view-field.html.twig\\' -->\\n\\n\\n<!-- END OUTPUT from \\'core/themes/stable/templates/views/views-view-fields.html.twig\\' -->\\n\\n\\n  </div>\\n    <div>\\n    \\n\\n<!-- THEME DEBUG -->\\n<!-- THEME HOOK: \\'views_view_fields\\' -->\\n<!-- BEGIN OUTPUT from \\'core/themes/stable/templates/views/views-view-fields.html.twig\\' -->\\n\\n\\n<!-- THEME DEBUG -->\\n<!-- THEME HOOK: \\'views_view_field\\' -->\\n<!-- BEGIN OUTPUT from \\'core/themes/stable/templates/views/views-view-field.html.twig\\' -->\\n<div class=\"accordion-group panel\">\\n                                                    <div class=\"accordion-title\">\\n                                                      <h3> <a href=\"/zh-hans/node/6826\" hreflang=\"zh-hans\">翻译学讲座：Degueldre C. </a></h5>\\n                                                      <a class=\"accordion-btn\" data-toggle=\"collapse\" data-parent=\"#accordion\" href=\"#6826\">\\n                                                      </a>\\n                                                    </div>\\n                                                    <div class=\"accordion-body collapse \" id=\"6826\">\\n                                                      <div class=\"accordion-body-wrapper\">\\n                                                        <img alt=\"Christian\" data-entity-type=\"file\" data-entity-uuid=\"bdcce3da-1035-4d86-9d9c-482b6174dd74\" src=\"/sites/default/files/inline-images/image002.jpg\" class=\"align-center\" /><ul><li class=\"text-al&lt;/body&gt;&lt;/html&gt;\"></li></ul>\\n                                                        <h4 class=\"float_right readmore\">\\n                                                            <a href=\"/zh-hans/node/6826 \" target=\"_blank\">\\n                                                                查看详情&gt;\\n                                                            </a>\\n                                                        </h4>\\n                                                      </div>\\n                                                    </div>\\n                                                  </div>\\n<!-- END OUTPUT from \\'core/themes/stable/templates/views/views-view-field.html.twig\\' -->\\n\\n\\n<!-- END OUTPUT from \\'core/themes/stable/templates/views/views-view-fields.html.twig\\' -->\\n\\n\\n  </div>\\n    <div>\\n    \\n\\n<!-- THEME DEBUG -->\\n<!-- THEME HOOK: \\'views_view_fields\\' -->\\n<!-- BEGIN OUTPUT from \\'core/themes/stable/templates/views/views-view-fields.html.twig\\' -->\\n\\n\\n<!-- THEME DEBUG -->\\n<!-- THEME HOOK: \\'views_view_field\\' -->\\n<!-- BEGIN OUTPUT from \\'core/themes/stable/templates/views/views-view-field.html.twig\\' -->\\n<div class=\"accordion-group panel\">\\n                                                    <div class=\"accordion-title\">\\n                                                      <h3> <a href=\"/zh-hans/node/6825\" hreflang=\"zh-hans\">翻译学讲座：Angelelli C. V. </a></h5>\\n                                                      <a class=\"accordion-btn\" data-toggle=\"collapse\" data-parent=\"#accordion\" href=\"#6825\">\\n                                                      </a>\\n                                                    </div>\\n                                                    <div class=\"accordion-body collapse \" id=\"6825\">\\n                                                      <div class=\"accordion-body-wrapper\">\\n                                                        <img alt=\"Claudia\" data-entity-type=\"file\" data-entity-uuid=\"b39da95f-8745-472b-9c01-ed52f74ff466\" src=\"/sites/default/files/inline-images/image001.jpg\" class=\"align-center\" /><ul></ul>\\n                                                        <h4 class=\"float_right readmore\">\\n                                                            <a href=\"/zh-hans/node/6825 \" target=\"_blank\">\\n                                                                查看详情&gt;\\n                                                            </a>\\n                                                        </h4>\\n                                                      </div>\\n                                                    </div>\\n                                                  </div>\\n<!-- END OUTPUT from \\'core/themes/stable/templates/views/views-view-field.html.twig\\' -->\\n\\n\\n<!-- END OUTPUT from \\'core/themes/stable/templates/views/views-view-fields.html.twig\\' -->\\n\\n\\n  </div>\\n    <div>\\n    \\n\\n<!-- THEME DEBUG -->\\n<!-- THEME HOOK: \\'views_view_fields\\' -->\\n<!-- BEGIN OUTPUT from \\'core/themes/stable/templates/views/views-view-fields.html.twig\\' -->\\n\\n\\n<!-- THEME DEBUG -->\\n<!-- THEME HOOK: \\'views_view_field\\' -->\\n<!-- BEGIN OUTPUT from \\'core/themes/stable/templates/views/views-view-field.html.twig\\' -->\\n<div class=\"accordion-group panel\">\\n                                                    <div class=\"accordion-title\">\\n                                                      <h3> <a href=\"/zh-hans/node/6811\" hreflang=\"zh-hans\">翻译学讲座：Gile D. </a></h5>\\n                                                      <a class=\"accordion-btn\" data-toggle=\"collapse\" data-parent=\"#accordion\" href=\"#6811\">\\n                                                      </a>\\n                                                    </div>\\n                                                    <div class=\"accordion-body collapse \" id=\"6811\">\\n                                                      <div class=\"accordion-body-wrapper\">\\n                                                        <p>巴黎新索邦第三大学高等翻译学校终身教授、国际著名口译研究学者Daniel\\xa0GILE先生将于10月8日至14日莅临北语，并于10月10日、11日为我校师生做讲座。</p>\\n                                                        <h4 class=\"float_right readmore\">\\n                                                            <a href=\"/zh-hans/node/6811 \" target=\"_blank\">\\n                                                                查看详情&gt;\\n                                                            </a>\\n                                                        </h4>\\n                                                      </div>\\n                                                    </div>\\n                                                  </div>\\n<!-- END OUTPUT from \\'core/themes/stable/templates/views/views-view-field.html.twig\\' -->\\n\\n\\n<!-- END OUTPUT from \\'core/themes/stable/templates/views/views-view-fields.html.twig\\' -->\\n\\n\\n  </div>\\n    <div>\\n    \\n\\n<!-- THEME DEBUG -->\\n<!-- THEME HOOK: \\'views_view_fields\\' -->\\n<!-- BEGIN OUTPUT from \\'core/themes/stable/templates/views/views-view-fields.html.twig\\' -->\\n\\n\\n<!-- THEME DEBUG -->\\n<!-- THEME HOOK: \\'views_view_field\\' -->\\n<!-- BEGIN OUTPUT from \\'core/themes/stable/templates/views/views-view-field.html.twig\\' -->\\n<div class=\"accordion-group panel\">\\n                                                    <div class=\"accordion-title\">\\n                                                      <h3> <a href=\"/zh-hans/node/243\" hreflang=\"zh-hans\">高级翻译学院首届新生口语风采大赛顺利举行</a></h5>\\n                                                      <a class=\"accordion-btn\" data-toggle=\"collapse\" data-parent=\"#accordion\" href=\"#243\">\\n                                                      </a>\\n                                                    </div>\\n                                                    <div class=\"accordion-body collapse \" id=\"243\">\\n                                                      <div class=\"accordion-body-wrapper\">\\n                                                        <p>\\xa0\\xa0\\xa0\\xa0\\xa0 9月29日晚7时，外国语学部高级翻译学院2015级新生口语风采大赛在教二楼408准时开始。刘丹老师、韩林涛老师和研二MTI英语笔译学生潘鑫应邀出席担任评委。本场比赛由14翻译（英语）班袁浩鹏担任主持。15翻译（英语）班宋喆、施梦泽、郑怀宇，15翻译（汉英法）班申以松、刘俊如、周涵宇，15翻译（本地化）班徐越方洲、易可可、余杨名参加比赛。</p>\\n                                                        <h4 class=\"float_right readmore\">\\n                                                            <a href=\"/zh-hans/node/243 \" target=\"_blank\">\\n                                                                查看详情&gt;\\n                                                            </a>\\n                                                        </h4>\\n                                                      </div>\\n                                                    </div>\\n                                                  </div>\\n<!-- END OUTPUT from \\'core/themes/stable/templates/views/views-view-field.html.twig\\' -->\\n\\n\\n<!-- END OUTPUT from \\'core/themes/stable/templates/views/views-view-fields.html.twig\\' -->\\n\\n\\n  </div>\\n    <div>\\n    \\n\\n<!-- THEME DEBUG -->\\n<!-- THEME HOOK: \\'views_view_fields\\' -->\\n<!-- BEGIN OUTPUT from \\'core/themes/stable/templates/views/views-view-fields.html.twig\\' -->\\n\\n\\n<!-- THEME DEBUG -->\\n<!-- THEME HOOK: \\'views_view_field\\' -->\\n<!-- BEGIN OUTPUT from \\'core/themes/stable/templates/views/views-view-field.html.twig\\' -->\\n<div class=\"accordion-group panel\">\\n                                                    <div class=\"accordion-title\">\\n                                                      <h3> <a href=\"/zh-hans/node/242\" hreflang=\"zh-hans\">外国语学部高级翻译学院与新华社《摄影世界》翻译项目总结会顺利召开</a></h5>\\n                                                      <a class=\"accordion-btn\" data-toggle=\"collapse\" data-parent=\"#accordion\" href=\"#242\">\\n                                                      </a>\\n                                                    </div>\\n                                                    <div class=\"accordion-body collapse \" id=\"242\">\\n                                                      <div class=\"accordion-body-wrapper\">\\n                                                        <p>2015年9月23日上午，由外国语学部高级翻译学院与新华通讯社《摄影世界》杂志社合作的“摄影世界翻译项目”总结会在教二楼401召开。到会人员有：原《摄影世界》编辑张曦、高翻学院卢宁老师以及18名项目组成员。2015级MTI研一英语笔译方向的学生观摩了此次总结会。</p>\\n                                                        <h4 class=\"float_right readmore\">\\n                                                            <a href=\"/zh-hans/node/242 \" target=\"_blank\">\\n                                                                查看详情&gt;\\n                                                            </a>\\n                                                        </h4>\\n                                                      </div>\\n                                                    </div>\\n                                                  </div>\\n<!-- END OUTPUT from \\'core/themes/stable/templates/views/views-view-field.html.twig\\' -->\\n\\n\\n<!-- END OUTPUT from \\'core/themes/stable/templates/views/views-view-fields.html.twig\\' -->\\n\\n\\n  </div>\\n    <div>\\n    \\n\\n<!-- THEME DEBUG -->\\n<!-- THEME HOOK: \\'views_view_fields\\' -->\\n<!-- BEGIN OUTPUT from \\'core/themes/stable/templates/views/views-view-fields.html.twig\\' -->\\n\\n\\n<!-- THEME DEBUG -->\\n<!-- THEME HOOK: \\'views_view_field\\' -->\\n<!-- BEGIN OUTPUT from \\'core/themes/stable/templates/views/views-view-field.html.twig\\' -->\\n<div class=\"accordion-group panel\">\\n                                                    <div class=\"accordion-title\">\\n                                                      <h3> <a href=\"/zh-hans/node/241\" hreflang=\"zh-hans\">“译”路同行，与你并肩</a></h5>\\n                                                      <a class=\"accordion-btn\" data-toggle=\"collapse\" data-parent=\"#accordion\" href=\"#241\">\\n                                                      </a>\\n                                                    </div>\\n                                                    <div class=\"accordion-body collapse \" id=\"241\">\\n                                                      <div class=\"accordion-body-wrapper\">\\n                                                        <p align=\"right\">——记外国语学部高级翻译学院2015-2016学年新老生交流会</p>\\n\\n<p align=\"left\">\\xa0\\xa0\\xa0\\xa0\\xa0 9月22日18:30，外国语学部高级翻译学院2015-2016学年新老生交流会在教二楼201顺利举行。高级翻译学院2015级本科生新生及本科生、研究生学长学姐代表准时到场，大家共同度过了一个温馨而难忘的夜晚。</p>\\n                                                        <h4 class=\"float_right readmore\">\\n                                                            <a href=\"/zh-hans/node/241 \" target=\"_blank\">\\n                                                                查看详情&gt;\\n                                                            </a>\\n                                                        </h4>\\n                                                      </div>\\n                                                    </div>\\n                                                  </div>\\n<!-- END OUTPUT from \\'core/themes/stable/templates/views/views-view-field.html.twig\\' -->\\n\\n\\n<!-- END OUTPUT from \\'core/themes/stable/templates/views/views-view-fields.html.twig\\' -->\\n\\n\\n  </div>\\n\\n<!-- END OUTPUT from \\'core/themes/classy/templates/views/views-view-unformatted.html.twig\\' -->\\n\\n\\n    </div>\\n  \\n          </div>\\n\\n<!-- END OUTPUT from \\'core/themes/classy/templates/views/views-view.html.twig\\' -->\\n\\n</div>\\n\\n<!-- END OUTPUT from \\'core/themes/classy/templates/form/container.html.twig\\' -->\\n\\n\\n                    </div>\\n\\n                </div>\\n            </div>\\n        </div>\\n    </section>\\n\\n\\n\\n    <section id=\"aboutus\">\\n        <div class=\"onepage-section\">\\n            <div class=\"section-inner\">\\n                <div class=\"aboutus-content\">\\n                    <div class=\"row\">\\n                        <div class=\"col-2\">\\n                            <header class=\"section-header\">\\n                                <h2 class=\"section-title\">\\n                                    院长寄语\\n                           <span class=\"section-title-border\">\\n                           </span>\\n                                </h2>\\n                            </header>\\n                            <div class=\"md-margin\"></div>\\n                            <div class=\"testimonials-slider-container\">\\n                                <div class=\"flexslider testimonials-slider\">\\n                                    <ul class=\"slides\">\\n                                        \\n\\n<!-- THEME DEBUG -->\\n<!-- THEME HOOK: \\'container\\' -->\\n<!-- BEGIN OUTPUT from \\'core/themes/classy/templates/form/container.html.twig\\' -->\\n<div class=\"views-element-container\">\\n\\n<!-- THEME DEBUG -->\\n<!-- THEME HOOK: \\'views_view__teacher_word\\' -->\\n<!-- FILE NAME SUGGESTIONS:\\n   x views-view--teacher-word.html.twig\\n   x views-view--teacher-word.html.twig\\n   * views-view.html.twig\\n-->\\n<!-- BEGIN OUTPUT from \\'themes/gaofan/templates/views/teacher_word/views-view--teacher-word.html.twig\\' -->\\n<div class=\"view view-teacher-word view-id-teacher_word view-display-id-embed_2 js-view-dom-id-7d81302e22857eadb66b653d1f22dbbc214cb87a07fe675ee82864f18a1705c5\">\\n  \\n    \\n      \\n      <ul class=\"slides\">\\n      \\n\\n<!-- THEME DEBUG -->\\n<!-- THEME HOOK: \\'views_view_unformatted__teacher_word\\' -->\\n<!-- FILE NAME SUGGESTIONS:\\n   x views-view-unformatted--teacher-word.html.twig\\n   x views-view-unformatted--teacher-word.html.twig\\n   * views-view-unformatted.html.twig\\n-->\\n<!-- BEGIN OUTPUT from \\'themes/gaofan/templates/views/teacher_word/views-view-unformatted--teacher-word.html.twig\\' -->\\n  \\n    \\n\\n<!-- THEME DEBUG -->\\n<!-- THEME HOOK: \\'views_view_fields\\' -->\\n<!-- BEGIN OUTPUT from \\'core/themes/stable/templates/views/views-view-fields.html.twig\\' -->\\n\\n\\n<!-- THEME DEBUG -->\\n<!-- THEME HOOK: \\'views_view_field\\' -->\\n<!-- BEGIN OUTPUT from \\'core/themes/stable/templates/views/views-view-field.html.twig\\' -->\\n<li>\\n\\t<div class=\"testimonial-content\">\\n\\t\\t<p class=\"text-align-center\">五年光阴飞如箭，翻译界内添后生。<br />\\n专家学者贺声起，呵护雏儿渐成鹰。<br />\\n而今孩童双臂展，笑迎挚友与高朋。<br />\\n群英阔论译大业，携手踏上新征程。</p>\\n\\n<p class=\"text-align-justify\">\\xa0 \\xa0 翻译、专业翻译、翻译教育、翻译产业；本地化、语言服务、语言服务产业、语言服务贸易……五年… <a href=\"/zh-hans/node/6813\" hreflang=\"zh-hans\">更多</a>\\n\\t</div>\\n\\t\\n\\n\\n\\n\\n  \\n\\n\\n\\n\\n<img src=\"/sites/default/files/2016-09/liuheping_0.jpg\" alt=\"刘和平\" typeof=\"Image\" />\\n\\n\\n\\n\\n\\n\\n\\n\\n\\t<div class=\"testimonial-owner\">\\n\\t\\t<a href=\"/zh-hans/node/6813\" hreflang=\"zh-hans\">名誉院长 刘和平</a> \\n\\t</div>\\n</li>\\n<!-- END OUTPUT from \\'core/themes/stable/templates/views/views-view-field.html.twig\\' -->\\n\\n\\n<!-- END OUTPUT from \\'core/themes/stable/templates/views/views-view-fields.html.twig\\' -->\\n\\n\\n\\n  \\n    \\n\\n<!-- THEME DEBUG -->\\n<!-- THEME HOOK: \\'views_view_fields\\' -->\\n<!-- BEGIN OUTPUT from \\'core/themes/stable/templates/views/views-view-fields.html.twig\\' -->\\n\\n\\n<!-- THEME DEBUG -->\\n<!-- THEME HOOK: \\'views_view_field\\' -->\\n<!-- BEGIN OUTPUT from \\'core/themes/stable/templates/views/views-view-field.html.twig\\' -->\\n<li>\\n\\t<div class=\"testimonial-content\">\\n\\t\\t<p class=\"text-align-justify\">欢迎各位同学带着青春洋溢的笑脸、怀揣着梦想与希望，来到北语高翻，来感受北语小联合国的豁达、开朗和包容！期待大家，在四年大学生活里，能与时俱进、笃学诚行、矢志不渝。在专攻术业的同时，别忘了锤炼自己的品行、涵养自己的情怀。当遇到困难时，要学会不断地调整自己，勇往无前；要有指点江山的豪情壮志，也要有编织梦想、构造明天的坚定信念！相信在四年时光的尽头，大家会在这里收获知识、能力、涵养、友情，尤其是通向未来的光明之路。期待着每一位同学都成为胸怀天… <a href=\"/zh-hans/node/6814\" hreflang=\"zh-hans\">更多</a>\\n\\t</div>\\n\\t\\n\\n\\n\\n\\n  \\n\\n\\n\\n\\n<img src=\"/sites/default/files/2016-10/%E6%9C%AA%E6%A0%87%E9%A2%98-500%20%E6%8B%B7%E8%B4%9D_0.jpg\" alt=\"xuming\" typeof=\"Image\" />\\n\\n\\n\\n\\n\\n\\n\\n\\n\\t<div class=\"testimonial-owner\">\\n\\t\\t<a href=\"/zh-hans/node/6814\" hreflang=\"zh-hans\">副院长 许明</a> \\n\\t</div>\\n</li>\\n<!-- END OUTPUT from \\'core/themes/stable/templates/views/views-view-field.html.twig\\' -->\\n\\n\\n<!-- END OUTPUT from \\'core/themes/stable/templates/views/views-view-fields.html.twig\\' -->\\n\\n\\n\\n\\n<!-- END OUTPUT from \\'themes/gaofan/templates/views/teacher_word/views-view-unformatted--teacher-word.html.twig\\' -->\\n\\n\\n    </ul>\\n  \\n          </div>\\n\\n<!-- END OUTPUT from \\'themes/gaofan/templates/views/teacher_word/views-view--teacher-word.html.twig\\' -->\\n\\n</div>\\n\\n<!-- END OUTPUT from \\'core/themes/classy/templates/form/container.html.twig\\' -->\\n\\n\\n                                    </ul>\\n                                </div>\\n                            </div>\\n                        </div>\\n                        <div class=\"col-2\">\\n                            <header class=\"section-header\">\\n                                <h2 class=\"section-title\">\\n                                    教师寄语\\n                           <span class=\"section-title-border\">\\n                           </span>\\n                                </h2>\\n                            </header>\\n                            <div class=\"md-margin\"></div>\\n                            <div class=\"testimonials-slider-container\">\\n                                <div class=\"flexslider testimonials-slider\">\\n                                    <ul class=\"slides\">\\n                                        \\n\\n<!-- THEME DEBUG -->\\n<!-- THEME HOOK: \\'container\\' -->\\n<!-- BEGIN OUTPUT from \\'core/themes/classy/templates/form/container.html.twig\\' -->\\n<div class=\"views-element-container\">\\n\\n<!-- THEME DEBUG -->\\n<!-- THEME HOOK: \\'views_view__teacher_word\\' -->\\n<!-- FILE NAME SUGGESTIONS:\\n   x views-view--teacher-word.html.twig\\n   x views-view--teacher-word.html.twig\\n   * views-view.html.twig\\n-->\\n<!-- BEGIN OUTPUT from \\'themes/gaofan/templates/views/teacher_word/views-view--teacher-word.html.twig\\' -->\\n<div class=\"view view-teacher-word view-id-teacher_word view-display-id-embed_1 js-view-dom-id-b4ad33e833001436320d700a509616beebc5c024a556207182ae4f9e31c94d96\">\\n  \\n    \\n      \\n      <ul class=\"slides\">\\n      \\n\\n<!-- THEME DEBUG -->\\n<!-- THEME HOOK: \\'views_view_unformatted__teacher_word\\' -->\\n<!-- FILE NAME SUGGESTIONS:\\n   x views-view-unformatted--teacher-word.html.twig\\n   x views-view-unformatted--teacher-word.html.twig\\n   * views-view-unformatted.html.twig\\n-->\\n<!-- BEGIN OUTPUT from \\'themes/gaofan/templates/views/teacher_word/views-view-unformatted--teacher-word.html.twig\\' -->\\n  \\n    \\n\\n<!-- THEME DEBUG -->\\n<!-- THEME HOOK: \\'views_view_fields\\' -->\\n<!-- BEGIN OUTPUT from \\'core/themes/stable/templates/views/views-view-fields.html.twig\\' -->\\n\\n\\n<!-- THEME DEBUG -->\\n<!-- THEME HOOK: \\'views_view_field\\' -->\\n<!-- BEGIN OUTPUT from \\'core/themes/stable/templates/views/views-view-field.html.twig\\' -->\\n<li>\\n\\t<div class=\"testimonial-content\">\\n\\t\\t<p class=\"text-align-justify\">翻译，一个内涵很丰富的词。<a name=\"_GoBack\" id=\"_GoBack\"></a>我做翻译；我教翻译；我研究翻译。我热爱翻译；我担心翻译得不好；我生怕完不成翻译。我在各门翻译课程中游走，穿梭在各个水平的学生之间，从语言基础到专业素养，每天都在纠结中度过。从兴趣出发，在自己与学生的翻译实践中发现问题，由学生的提问到自己的思考，翻译研究未必是那么高大上而不可为之事。</p>…  <a href=\"/zh-hans/node/6815\" hreflang=\"zh-hans\">更多</a>\\n\\t</div>\\n\\t\\n\\n\\n\\n\\n  \\n\\n\\n\\n\\n<img src=\"/sites/default/files/2016-10/yaohong.jpg\" alt=\"姚虹\" typeof=\"Image\" />\\n\\n\\n\\n\\n\\n\\n\\n\\n\\t<div class=\"testimonial-owner\">\\n\\t\\t<a href=\"/zh-hans/node/6815\" hreflang=\"zh-hans\">姚虹</a> \\n\\t</div>\\n</li>\\n<!-- END OUTPUT from \\'core/themes/stable/templates/views/views-view-field.html.twig\\' -->\\n\\n\\n<!-- END OUTPUT from \\'core/themes/stable/templates/views/views-view-fields.html.twig\\' -->\\n\\n\\n\\n  \\n    \\n\\n<!-- THEME DEBUG -->\\n<!-- THEME HOOK: \\'views_view_fields\\' -->\\n<!-- BEGIN OUTPUT from \\'core/themes/stable/templates/views/views-view-fields.html.twig\\' -->\\n\\n\\n<!-- THEME DEBUG -->\\n<!-- THEME HOOK: \\'views_view_field\\' -->\\n<!-- BEGIN OUTPUT from \\'core/themes/stable/templates/views/views-view-field.html.twig\\' -->\\n<li>\\n\\t<div class=\"testimonial-content\">\\n\\t\\t<p class=\"text-align-justify\">翻译专业的学习虽如同行走在布满荆棘的小路上，但一路走来却也总能发现美好，就像艾米莉·狄金森那首诗歌所描绘的：</p>\\n\\n<p>A SEPAL, petal, and a thorn</p>\\n\\n<p>Upon a common summer’s morn,</p>…  <a href=\"/zh-hans/node/6816\" hreflang=\"zh-hans\">更多</a>\\n\\t</div>\\n\\t\\n\\n\\n\\n\\n  \\n\\n\\n\\n\\n<img src=\"/sites/default/files/2016-10/liudan.jpg\" alt=\"刘丹\" typeof=\"Image\" />\\n\\n\\n\\n\\n\\n\\n\\n\\n\\t<div class=\"testimonial-owner\">\\n\\t\\t<a href=\"/zh-hans/node/6816\" hreflang=\"zh-hans\">刘丹</a> \\n\\t</div>\\n</li>\\n<!-- END OUTPUT from \\'core/themes/stable/templates/views/views-view-field.html.twig\\' -->\\n\\n\\n<!-- END OUTPUT from \\'core/themes/stable/templates/views/views-view-fields.html.twig\\' -->\\n\\n\\n\\n  \\n    \\n\\n<!-- THEME DEBUG -->\\n<!-- THEME HOOK: \\'views_view_fields\\' -->\\n<!-- BEGIN OUTPUT from \\'core/themes/stable/templates/views/views-view-fields.html.twig\\' -->\\n\\n\\n<!-- THEME DEBUG -->\\n<!-- THEME HOOK: \\'views_view_field\\' -->\\n<!-- BEGIN OUTPUT from \\'core/themes/stable/templates/views/views-view-field.html.twig\\' -->\\n<li>\\n\\t<div class=\"testimonial-content\">\\n\\t\\t<p class=\"text-align-justify\">德国哲学家雅斯贝尔斯在《大学的理念》里表示：人类对知识有一种原初的渴望。这种渴望与热忱，是一切学科的永恒基础。</p>\\n\\n<p class=\"text-align-justify\">在电子时代，巨额财富可以瞬间转移，海量资料也能轻松复制。唯有智识经验，必须通过系统严格的训练才能渐次领悟。这是现代大学教育的公平之处，是它在日益物质化的商品社会面前得以存续的理由。</p>\\n\\n<p class=\"text-align-justify\">世界变…  <a href=\"/zh-hans/node/6817\" hreflang=\"zh-hans\">更多</a>\\n\\t</div>\\n\\t\\n\\n\\n\\n\\n  \\n\\n\\n\\n\\n<img src=\"/sites/default/files/2016-10/DSC_868431.jpg\" alt=\"李晖\" typeof=\"Image\" />\\n\\n\\n\\n\\n\\n\\n\\n\\n\\t<div class=\"testimonial-owner\">\\n\\t\\t<a href=\"/zh-hans/node/6817\" hreflang=\"zh-hans\">李晖</a> \\n\\t</div>\\n</li>\\n<!-- END OUTPUT from \\'core/themes/stable/templates/views/views-view-field.html.twig\\' -->\\n\\n\\n<!-- END OUTPUT from \\'core/themes/stable/templates/views/views-view-fields.html.twig\\' -->\\n\\n\\n\\n  \\n    \\n\\n<!-- THEME DEBUG -->\\n<!-- THEME HOOK: \\'views_view_fields\\' -->\\n<!-- BEGIN OUTPUT from \\'core/themes/stable/templates/views/views-view-fields.html.twig\\' -->\\n\\n\\n<!-- THEME DEBUG -->\\n<!-- THEME HOOK: \\'views_view_field\\' -->\\n<!-- BEGIN OUTPUT from \\'core/themes/stable/templates/views/views-view-field.html.twig\\' -->\\n<li>\\n\\t<div class=\"testimonial-content\">\\n\\t\\t<p></p>\\n\\n<p class=\"text-align-justify\">希望高翻学子保有敏锐、好奇的求知欲，拥有开放、包容的心灵。广泛阅读，勤于探索，勇于创新，锻炼坚韧的意志，获得坚定的态度。愿大家在贡献社会中实现自己的价值，获得幸福美满的生活、充实自足的人生。</p>\\n\\n<p class=\"text-align-justify\">\\xa0</p>\\n\\n<p class=\"text-align-justify\">\\xa0</p>  <a href=\"/zh-hans/node/6820\" hreflang=\"zh-hans\">更多</a>\\n\\t</div>\\n\\t\\n\\n\\n\\n\\n  \\n\\n\\n\\n\\n<img src=\"/sites/default/files/2016-10/wangqian_2.jpg\" alt=\"王茜\" typeof=\"Image\" />\\n\\n\\n\\n\\n\\n\\n\\n\\n\\t<div class=\"testimonial-owner\">\\n\\t\\t<a href=\"/zh-hans/node/6820\" hreflang=\"zh-hans\">王茜</a> \\n\\t</div>\\n</li>\\n<!-- END OUTPUT from \\'core/themes/stable/templates/views/views-view-field.html.twig\\' -->\\n\\n\\n<!-- END OUTPUT from \\'core/themes/stable/templates/views/views-view-fields.html.twig\\' -->\\n\\n\\n\\n  \\n    \\n\\n<!-- THEME DEBUG -->\\n<!-- THEME HOOK: \\'views_view_fields\\' -->\\n<!-- BEGIN OUTPUT from \\'core/themes/stable/templates/views/views-view-fields.html.twig\\' -->\\n\\n\\n<!-- THEME DEBUG -->\\n<!-- THEME HOOK: \\'views_view_field\\' -->\\n<!-- BEGIN OUTPUT from \\'core/themes/stable/templates/views/views-view-field.html.twig\\' -->\\n<li>\\n\\t<div class=\"testimonial-content\">\\n\\t\\t<p></p>\\n\\n<p>北语高翻，年幼，生于无名，筚路蓝缕。幸根正，天资聪颖，机敏好学，视野高远，扎实向上，历经五载，已体系完瑾，发育实硕，跻身世界高手之林。风霜雨露降，日月星辰转，仍未有歇，挑战未几。当昂扬奋发，来者无往，扎深根，繁茂叶，广结伴，上高台，散其实满人间，联通海外，敦睦天下。幸伴其生，共扶共携其生长，愿与同仁勉力，成其奇，成其伟，成其博，成其深！<br />\\n\\xa0\\xa0</p>  <a href=\"/zh-hans/node/6821\" hreflang=\"zh-hans\">更多</a>\\n\\t</div>\\n\\t\\n\\n\\n\\n\\n  \\n\\n\\n\\n\\n<img src=\"/sites/default/files/2016-10/DSC_868%E9%9B%B7%E4%B8%AD%E5%8D%8E.jpg\" alt=\"雷中华\" typeof=\"Image\" />\\n\\n\\n\\n\\n\\n\\n\\n\\n\\t<div class=\"testimonial-owner\">\\n\\t\\t<a href=\"/zh-hans/node/6821\" hreflang=\"zh-hans\">雷中华</a> \\n\\t</div>\\n</li>\\n<!-- END OUTPUT from \\'core/themes/stable/templates/views/views-view-field.html.twig\\' -->\\n\\n\\n<!-- END OUTPUT from \\'core/themes/stable/templates/views/views-view-fields.html.twig\\' -->\\n\\n\\n\\n  \\n    \\n\\n<!-- THEME DEBUG -->\\n<!-- THEME HOOK: \\'views_view_fields\\' -->\\n<!-- BEGIN OUTPUT from \\'core/themes/stable/templates/views/views-view-fields.html.twig\\' -->\\n\\n\\n<!-- THEME DEBUG -->\\n<!-- THEME HOOK: \\'views_view_field\\' -->\\n<!-- BEGIN OUTPUT from \\'core/themes/stable/templates/views/views-view-field.html.twig\\' -->\\n<li>\\n\\t<div class=\"testimonial-content\">\\n\\t\\t<p class=\"text-align-center\">\\xa0</p>\\n\\n<p class=\"text-align-center\">书山有路勤为径</p>\\n\\n<p class=\"text-align-center\">学海无涯苦作舟</p>\\n\\n<p class=\"text-align-center\">\\xa0</p>\\n\\n<p class=\"text-align-center\">\\xa0</p>  <a href=\"/zh-hans/node/6822\" hreflang=\"zh-hans\">更多</a>\\n\\t</div>\\n\\t\\n\\n\\n\\n\\n  \\n\\n\\n\\n\\n<img src=\"/sites/default/files/2016-10/DSC_8881_0.JPG\" alt=\"王菲菲\" typeof=\"Image\" />\\n\\n\\n\\n\\n\\n\\n\\n\\n\\t<div class=\"testimonial-owner\">\\n\\t\\t<a href=\"/zh-hans/node/6822\" hreflang=\"zh-hans\">王菲菲</a> \\n\\t</div>\\n</li>\\n<!-- END OUTPUT from \\'core/themes/stable/templates/views/views-view-field.html.twig\\' -->\\n\\n\\n<!-- END OUTPUT from \\'core/themes/stable/templates/views/views-view-fields.html.twig\\' -->\\n\\n\\n\\n  \\n    \\n\\n<!-- THEME DEBUG -->\\n<!-- THEME HOOK: \\'views_view_fields\\' -->\\n<!-- BEGIN OUTPUT from \\'core/themes/stable/templates/views/views-view-fields.html.twig\\' -->\\n\\n\\n<!-- THEME DEBUG -->\\n<!-- THEME HOOK: \\'views_view_field\\' -->\\n<!-- BEGIN OUTPUT from \\'core/themes/stable/templates/views/views-view-field.html.twig\\' -->\\n<li>\\n\\t<div class=\"testimonial-content\">\\n\\t\\t<p>引用三例名言，共勉：</p>\\n\\n<p>“The lyf so short, the craft so long to lerne.”\\xa0―\\xa0Geoffrey Chaucer</p>\\n\\n<p>“A loving heart is the beginning of all knowledge.”\\xa0―\\xa0Thomas Carlyle</p>\\n\\n<p>“For me, I am driven by two main philosophies: know more today about the wor…  <a href=\"/zh-hans/node/6827\" hreflang=\"zh-hans\">更多</a>\\n\\t</div>\\n\\t\\n\\n\\n\\n\\n  \\n\\n\\n\\n\\n<img src=\"/sites/default/files/2016-10/DSC_8606%E4%BB%BB%E6%B5%B7%E9%BE%99.jpg\" alt=\"ren\" typeof=\"Image\" />\\n\\n\\n\\n\\n\\n\\n\\n\\n\\t<div class=\"testimonial-owner\">\\n\\t\\t<a href=\"/zh-hans/node/6827\" hreflang=\"zh-hans\">任海龙</a> \\n\\t</div>\\n</li>\\n<!-- END OUTPUT from \\'core/themes/stable/templates/views/views-view-field.html.twig\\' -->\\n\\n\\n<!-- END OUTPUT from \\'core/themes/stable/templates/views/views-view-fields.html.twig\\' -->\\n\\n\\n\\n  \\n    \\n\\n<!-- THEME DEBUG -->\\n<!-- THEME HOOK: \\'views_view_fields\\' -->\\n<!-- BEGIN OUTPUT from \\'core/themes/stable/templates/views/views-view-fields.html.twig\\' -->\\n\\n\\n<!-- THEME DEBUG -->\\n<!-- THEME HOOK: \\'views_view_field\\' -->\\n<!-- BEGIN OUTPUT from \\'core/themes/stable/templates/views/views-view-field.html.twig\\' -->\\n<li>\\n\\t<div class=\"testimonial-content\">\\n\\t\\t<p>\\xa0</p>\\n\\n<p><span>正如翻译研究有语言学与文学路径、功能路径、<wbr></wbr>文化研究路径和哲学路径，翻译可以是一个专业、一个职业、一种生活方式，<wbr></wbr>甚至就是人生本身。希望大家在北语高翻学习的期间都能学到专业知识，养成职业态度，<wbr></wbr>收获充实而快乐的几年生活，无悔于这段青春。</span></p>\\n\\n<p>\\xa0</p>\\n\\n<p>\\xa0</p>  <a href=\"/zh-hans/node/6828\" hreflang=\"zh-hans\">更多</a>\\n\\t</div>\\n\\t\\n\\n\\n\\n\\n  \\n\\n\\n\\n\\n<img src=\"/sites/default/files/2016-10/DSC_8658%E5%8D%A2%E5%AE%81.jpg\" alt=\"Luning\" typeof=\"Image\" />\\n\\n\\n\\n\\n\\n\\n\\n\\n\\t<div class=\"testimonial-owner\">\\n\\t\\t<a href=\"/zh-hans/node/6828\" hreflang=\"zh-hans\">卢宁</a> \\n\\t</div>\\n</li>\\n<!-- END OUTPUT from \\'core/themes/stable/templates/views/views-view-field.html.twig\\' -->\\n\\n\\n<!-- END OUTPUT from \\'core/themes/stable/templates/views/views-view-fields.html.twig\\' -->\\n\\n\\n\\n  \\n    \\n\\n<!-- THEME DEBUG -->\\n<!-- THEME HOOK: \\'views_view_fields\\' -->\\n<!-- BEGIN OUTPUT from \\'core/themes/stable/templates/views/views-view-fields.html.twig\\' -->\\n\\n\\n<!-- THEME DEBUG -->\\n<!-- THEME HOOK: \\'views_view_field\\' -->\\n<!-- BEGIN OUTPUT from \\'core/themes/stable/templates/views/views-view-field.html.twig\\' -->\\n<li>\\n\\t<div class=\"testimonial-content\">\\n\\t\\t<p class=\"text-align-justify\">人生是一条加速流淌的河流，总以为未来很遥远，不知不觉中时光从指尖，从自己的眼皮底下，悄悄地溜走，自己也不再年轻，已经到了做事情翻来覆去考虑又考虑的年纪。年轻的人呵，你可要抓得紧，莫让年轻的豪情只停留在记忆的年轮里，留下万千的惆怅。\\xa0踏踏实实每一天，普通的灵魂也能走远。有缘师生相聚，共创美好明天。</p>\\n\\n<p class=\"text-align-justify\">\\xa0</p>…  <a href=\"/zh-hans/node/6809\" hreflang=\"zh-hans\">更多</a>\\n\\t</div>\\n\\t\\n\\n\\n\\n\\n  \\n\\n\\n\\n\\n<img src=\"/sites/default/files/2016-09/guanxingzhong1_0.jpg\" alt=\"管兴忠\" typeof=\"Image\" />\\n\\n\\n\\n\\n\\n\\n\\n\\n\\t<div class=\"testimonial-owner\">\\n\\t\\t<a href=\"/zh-hans/node/6809\" hreflang=\"zh-hans\">管兴忠</a> \\n\\t</div>\\n</li>\\n<!-- END OUTPUT from \\'core/themes/stable/templates/views/views-view-field.html.twig\\' -->\\n\\n\\n<!-- END OUTPUT from \\'core/themes/stable/templates/views/views-view-fields.html.twig\\' -->\\n\\n\\n\\n  \\n    \\n\\n<!-- THEME DEBUG -->\\n<!-- THEME HOOK: \\'views_view_fields\\' -->\\n<!-- BEGIN OUTPUT from \\'core/themes/stable/templates/views/views-view-fields.html.twig\\' -->\\n\\n\\n<!-- THEME DEBUG -->\\n<!-- THEME HOOK: \\'views_view_field\\' -->\\n<!-- BEGIN OUTPUT from \\'core/themes/stable/templates/views/views-view-field.html.twig\\' -->\\n<li>\\n\\t<div class=\"testimonial-content\">\\n\\t\\t<div align=\"center\">\\n<p>高 \\xa0山 \\xa0景 \\xa0行</p>\\n\\n<p>翻 \\xa0陈 \\xa0出 \\xa0新</p>\\n\\n<p>学 \\xa0贯 \\xa0中 \\xa0西</p>\\n\\n<p>生 \\xa0花 \\xa0妙 \\xa0笔</p>\\n\\n<p>\\xa0</p>\\n</div>  <a href=\"/zh-hans/node/6810\" hreflang=\"zh-hans\">更多</a>\\n\\t</div>\\n\\t\\n\\n\\n\\n\\n  \\n\\n\\n\\n\\n<img src=\"/sites/default/files/2016-09/%E5%87%89%E7%88%BD.JPG\" alt=\"凉爽\" typeof=\"Image\" />\\n\\n\\n\\n\\n\\n\\n\\n\\n\\t<div class=\"testimonial-owner\">\\n\\t\\t<a href=\"/zh-hans/node/6810\" hreflang=\"zh-hans\">梁爽</a> \\n\\t</div>\\n</li>\\n<!-- END OUTPUT from \\'core/themes/stable/templates/views/views-view-field.html.twig\\' -->\\n\\n\\n<!-- END OUTPUT from \\'core/themes/stable/templates/views/views-view-fields.html.twig\\' -->\\n\\n\\n\\n\\n<!-- END OUTPUT from \\'themes/gaofan/templates/views/teacher_word/views-view-unformatted--teacher-word.html.twig\\' -->\\n\\n\\n    </ul>\\n  \\n          </div>\\n\\n<!-- END OUTPUT from \\'themes/gaofan/templates/views/teacher_word/views-view--teacher-word.html.twig\\' -->\\n\\n</div>\\n\\n<!-- END OUTPUT from \\'core/themes/classy/templates/form/container.html.twig\\' -->\\n\\n\\n                                    </ul>\\n                                </div>\\n                            </div>\\n                        </div>\\n                    </div>\\n                </div>\\n            </div>\\n    </section>\\n\\n\\n    <div class=\"newslist fullwidth-section\">\\n        <div class=\"onepage-section\">\\n            <div class=\"sm-margin\"></div>\\n            <div class=\"section-inner\">\\n                <div class=\"row\">\\n                    <div class=\"col-3 \">\\n                        <header class=\"section-header\">\\n                            <h2 class=\"section-title\">\\n                                教学科研\\n                                                <span class=\"section-title-border\">\\n                                                </span>\\n                            </h2>\\n\\n                        </header>\\n                        <div class=\"md-margin\"></div>\\n                        \\n\\n<!-- THEME DEBUG -->\\n<!-- THEME HOOK: \\'container\\' -->\\n<!-- BEGIN OUTPUT from \\'core/themes/classy/templates/form/container.html.twig\\' -->\\n<div class=\"views-element-container\">\\n\\n<!-- THEME DEBUG -->\\n<!-- THEME HOOK: \\'views_view\\' -->\\n<!-- BEGIN OUTPUT from \\'core/themes/classy/templates/views/views-view.html.twig\\' -->\\n<div class=\"view view-news33 view-id-news33 view-display-id-block_1 js-view-dom-id-ece59bd50d9c899fc6d593dbd0a292dca848ad6f6d839444ec4cac2e8f05b2ae\">\\n  \\n    \\n      \\n      <div class=\"view-content\">\\n      \\n\\n<!-- THEME DEBUG -->\\n<!-- THEME HOOK: \\'views_view_unformatted\\' -->\\n<!-- BEGIN OUTPUT from \\'core/themes/classy/templates/views/views-view-unformatted.html.twig\\' -->\\n    <div>\\n    \\n\\n<!-- THEME DEBUG -->\\n<!-- THEME HOOK: \\'views_view_fields\\' -->\\n<!-- BEGIN OUTPUT from \\'core/themes/stable/templates/views/views-view-fields.html.twig\\' -->\\n\\n\\n<!-- THEME DEBUG -->\\n<!-- THEME HOOK: \\'views_view_field\\' -->\\n<!-- BEGIN OUTPUT from \\'core/themes/stable/templates/views/views-view-field.html.twig\\' -->\\n<div class=\"sidebar-recent-posts\">\\n                                                        <div class=\"article clearfix\">\\n                                                            \\n                                                            <h5>\\n                                                                <a href=\"/zh-hans/node/6849\" hreflang=\"zh-hans\">高校文学翻译人才培养：翻越母语坎闯过创新关2016</a>\\n                                                            </h5>\\n                                                            <div class=\"article-meta-container\">\\n                                                                <span>\\n\\n\\n\\n\\n<time datetime=\"44Z\" class=\"datetime\">2016-12-13</time>\\n\\n\\n\\n </span>\\n                                                            </div>\\n                                                        </div>\\n                                                        \\n                                                </div> \\n<!-- END OUTPUT from \\'core/themes/stable/templates/views/views-view-field.html.twig\\' -->\\n\\n\\n<!-- END OUTPUT from \\'core/themes/stable/templates/views/views-view-fields.html.twig\\' -->\\n\\n\\n  </div>\\n    <div>\\n    \\n\\n<!-- THEME DEBUG -->\\n<!-- THEME HOOK: \\'views_view_fields\\' -->\\n<!-- BEGIN OUTPUT from \\'core/themes/stable/templates/views/views-view-fields.html.twig\\' -->\\n\\n\\n<!-- THEME DEBUG -->\\n<!-- THEME HOOK: \\'views_view_field\\' -->\\n<!-- BEGIN OUTPUT from \\'core/themes/stable/templates/views/views-view-field.html.twig\\' -->\\n<div class=\"sidebar-recent-posts\">\\n                                                        <div class=\"article clearfix\">\\n                                                            \\n                                                            <h5>\\n                                                                <a href=\"/zh-hans/node/6835\" hreflang=\"zh-hans\">北京语言大学高级翻译学院教师参加第十一届全国口译大会暨国际口译研讨会 </a>\\n                                                            </h5>\\n                                                            <div class=\"article-meta-container\">\\n                                                                <span>\\n\\n\\n\\n\\n<time datetime=\"00Z\" class=\"datetime\">2016-10-23</time>\\n\\n\\n\\n </span>\\n                                                            </div>\\n                                                        </div>\\n                                                        \\n                                                </div> \\n<!-- END OUTPUT from \\'core/themes/stable/templates/views/views-view-field.html.twig\\' -->\\n\\n\\n<!-- END OUTPUT from \\'core/themes/stable/templates/views/views-view-fields.html.twig\\' -->\\n\\n\\n  </div>\\n    <div>\\n    \\n\\n<!-- THEME DEBUG -->\\n<!-- THEME HOOK: \\'views_view_fields\\' -->\\n<!-- BEGIN OUTPUT from \\'core/themes/stable/templates/views/views-view-fields.html.twig\\' -->\\n\\n\\n<!-- THEME DEBUG -->\\n<!-- THEME HOOK: \\'views_view_field\\' -->\\n<!-- BEGIN OUTPUT from \\'core/themes/stable/templates/views/views-view-field.html.twig\\' -->\\n<div class=\"sidebar-recent-posts\">\\n                                                        <div class=\"article clearfix\">\\n                                                            \\n                                                            <h5>\\n                                                                <a href=\"/zh-hans/node/6830\" hreflang=\"zh-hans\">“北语夜话”第十二届青年口译学者学术沙龙成功举办</a>\\n                                                            </h5>\\n                                                            <div class=\"article-meta-container\">\\n                                                                <span>\\n\\n\\n\\n\\n<time datetime=\"00Z\" class=\"datetime\">2016-10-13</time>\\n\\n\\n\\n </span>\\n                                                            </div>\\n                                                        </div>\\n                                                        \\n                                                </div> \\n<!-- END OUTPUT from \\'core/themes/stable/templates/views/views-view-field.html.twig\\' -->\\n\\n\\n<!-- END OUTPUT from \\'core/themes/stable/templates/views/views-view-fields.html.twig\\' -->\\n\\n\\n  </div>\\n    <div>\\n    \\n\\n<!-- THEME DEBUG -->\\n<!-- THEME HOOK: \\'views_view_fields\\' -->\\n<!-- BEGIN OUTPUT from \\'core/themes/stable/templates/views/views-view-fields.html.twig\\' -->\\n\\n\\n<!-- THEME DEBUG -->\\n<!-- THEME HOOK: \\'views_view_field\\' -->\\n<!-- BEGIN OUTPUT from \\'core/themes/stable/templates/views/views-view-field.html.twig\\' -->\\n<div class=\"sidebar-recent-posts\">\\n                                                        <div class=\"article clearfix\">\\n                                                            \\n                                                            <h5>\\n                                                                <a href=\"/zh-hans/node/6800\" hreflang=\"zh-hans\">第三届全国翻译专业学位研究生教育指导委员会第一次工作会议在哈尔滨召开</a>\\n                                                            </h5>\\n                                                            <div class=\"article-meta-container\">\\n                                                                <span> </span>\\n                                                            </div>\\n                                                        </div>\\n                                                        \\n                                                </div> \\n<!-- END OUTPUT from \\'core/themes/stable/templates/views/views-view-field.html.twig\\' -->\\n\\n\\n<!-- END OUTPUT from \\'core/themes/stable/templates/views/views-view-fields.html.twig\\' -->\\n\\n\\n  </div>\\n    <div>\\n    \\n\\n<!-- THEME DEBUG -->\\n<!-- THEME HOOK: \\'views_view_fields\\' -->\\n<!-- BEGIN OUTPUT from \\'core/themes/stable/templates/views/views-view-fields.html.twig\\' -->\\n\\n\\n<!-- THEME DEBUG -->\\n<!-- THEME HOOK: \\'views_view_field\\' -->\\n<!-- BEGIN OUTPUT from \\'core/themes/stable/templates/views/views-view-field.html.twig\\' -->\\n<div class=\"sidebar-recent-posts\">\\n                                                        <div class=\"article clearfix\">\\n                                                            \\n                                                            <h5>\\n                                                                <a href=\"/zh-hans/node/6798\" hreflang=\"zh-hans\">2016年暑期全国高等院校翻译专业师资培训圆满落幕</a>\\n                                                            </h5>\\n                                                            <div class=\"article-meta-container\">\\n                                                                <span>\\n\\n\\n\\n\\n<time datetime=\"47Z\" class=\"datetime\">2016-08-02</time>\\n\\n\\n\\n </span>\\n                                                            </div>\\n                                                        </div>\\n                                                        \\n                                                </div> \\n<!-- END OUTPUT from \\'core/themes/stable/templates/views/views-view-field.html.twig\\' -->\\n\\n\\n<!-- END OUTPUT from \\'core/themes/stable/templates/views/views-view-fields.html.twig\\' -->\\n\\n\\n  </div>\\n\\n<!-- END OUTPUT from \\'core/themes/classy/templates/views/views-view-unformatted.html.twig\\' -->\\n\\n\\n    </div>\\n  \\n          \\n\\n<!-- THEME DEBUG -->\\n<!-- THEME HOOK: \\'container\\' -->\\n<!-- FILE NAME SUGGESTIONS:\\n   * container--more-link.html.twig\\n   * container--more-link--news33.html.twig\\n   * container--more-link--block.html.twig\\n   * container--more-link--news33--block.html.twig\\n   * container--more-link--block-1.html.twig\\n   * container--more-link--news33--block-1.html.twig\\n   x container.html.twig\\n-->\\n<!-- BEGIN OUTPUT from \\'core/themes/classy/templates/form/container.html.twig\\' -->\\n<div class=\"more-link\"><a href=\"/zh-hans/news/jxky\">查看更多&gt;&gt;</a></div>\\n\\n<!-- END OUTPUT from \\'core/themes/classy/templates/form/container.html.twig\\' -->\\n\\n\\n      </div>\\n\\n<!-- END OUTPUT from \\'core/themes/classy/templates/views/views-view.html.twig\\' -->\\n\\n</div>\\n\\n<!-- END OUTPUT from \\'core/themes/classy/templates/form/container.html.twig\\' -->\\n\\n\\n\\n                        <!--<h4 class=\"float_right readmore\">\\n                            <a href=\"#\" >\\n                                查看更多>\\n                            </a>\\n                        </h4>-->\\n                    </div>\\n\\n                    <div class=\"col-3 \">\\n                        <header class=\"section-header\">\\n                            <h2 class=\"section-title\">\\n                                对外交流\\n                                                <span class=\"section-title-border\">\\n                                                </span>\\n                            </h2>\\n\\n                        </header>\\n                        <div class=\"md-margin\"></div>\\n                        \\n\\n<!-- THEME DEBUG -->\\n<!-- THEME HOOK: \\'container\\' -->\\n<!-- BEGIN OUTPUT from \\'core/themes/classy/templates/form/container.html.twig\\' -->\\n<div class=\"views-element-container\">\\n\\n<!-- THEME DEBUG -->\\n<!-- THEME HOOK: \\'views_view\\' -->\\n<!-- BEGIN OUTPUT from \\'core/themes/classy/templates/views/views-view.html.twig\\' -->\\n<div class=\"view view-news33 view-id-news33 view-display-id-block_2 js-view-dom-id-bb0197c1d31f9ba50a75d4796582cf1153afa423b0494c5022f2593fc560df7e\">\\n  \\n    \\n      \\n      <div class=\"view-content\">\\n      \\n\\n<!-- THEME DEBUG -->\\n<!-- THEME HOOK: \\'views_view_unformatted\\' -->\\n<!-- BEGIN OUTPUT from \\'core/themes/classy/templates/views/views-view-unformatted.html.twig\\' -->\\n    <div>\\n    \\n\\n<!-- THEME DEBUG -->\\n<!-- THEME HOOK: \\'views_view_fields\\' -->\\n<!-- BEGIN OUTPUT from \\'core/themes/stable/templates/views/views-view-fields.html.twig\\' -->\\n\\n\\n<!-- THEME DEBUG -->\\n<!-- THEME HOOK: \\'views_view_field\\' -->\\n<!-- BEGIN OUTPUT from \\'core/themes/stable/templates/views/views-view-field.html.twig\\' -->\\n<div class=\"sidebar-recent-posts\">\\n                                                        <div class=\"article clearfix\">\\n                                                            \\n                                                            <h5>\\n                                                                <a href=\"/zh-hans/node/6838\" hreflang=\"zh-hans\">口笔译研究中的跨学科性——Claudia V. Angelelli教授北语讲座</a>\\n                                                            </h5>\\n                                                            <div class=\"article-meta-container\">\\n                                                                <span>\\n\\n\\n\\n\\n<time datetime=\"30Z\" class=\"datetime\">2016-10-30</time>\\n\\n\\n\\n </span>\\n                                                            </div>\\n                                                        </div>\\n                                                        \\n                                                </div> \\n<!-- END OUTPUT from \\'core/themes/stable/templates/views/views-view-field.html.twig\\' -->\\n\\n\\n<!-- END OUTPUT from \\'core/themes/stable/templates/views/views-view-fields.html.twig\\' -->\\n\\n\\n  </div>\\n    <div>\\n    \\n\\n<!-- THEME DEBUG -->\\n<!-- THEME HOOK: \\'views_view_fields\\' -->\\n<!-- BEGIN OUTPUT from \\'core/themes/stable/templates/views/views-view-fields.html.twig\\' -->\\n\\n\\n<!-- THEME DEBUG -->\\n<!-- THEME HOOK: \\'views_view_field\\' -->\\n<!-- BEGIN OUTPUT from \\'core/themes/stable/templates/views/views-view-field.html.twig\\' -->\\n<div class=\"sidebar-recent-posts\">\\n                                                        <div class=\"article clearfix\">\\n                                                            \\n                                                            <h5>\\n                                                                <a href=\"/zh-hans/node/6837\" hreflang=\"zh-hans\">21世纪口笔译课程设计——Claudia V. Angelelli教授北语讲座（二）</a>\\n                                                            </h5>\\n                                                            <div class=\"article-meta-container\">\\n                                                                <span>\\n\\n\\n\\n\\n<time datetime=\"02Z\" class=\"datetime\">2016-10-31</time>\\n\\n\\n\\n </span>\\n                                                            </div>\\n                                                        </div>\\n                                                        \\n                                                </div> \\n<!-- END OUTPUT from \\'core/themes/stable/templates/views/views-view-field.html.twig\\' -->\\n\\n\\n<!-- END OUTPUT from \\'core/themes/stable/templates/views/views-view-fields.html.twig\\' -->\\n\\n\\n  </div>\\n    <div>\\n    \\n\\n<!-- THEME DEBUG -->\\n<!-- THEME HOOK: \\'views_view_fields\\' -->\\n<!-- BEGIN OUTPUT from \\'core/themes/stable/templates/views/views-view-fields.html.twig\\' -->\\n\\n\\n<!-- THEME DEBUG -->\\n<!-- THEME HOOK: \\'views_view_field\\' -->\\n<!-- BEGIN OUTPUT from \\'core/themes/stable/templates/views/views-view-field.html.twig\\' -->\\n<div class=\"sidebar-recent-posts\">\\n                                                        <div class=\"article clearfix\">\\n                                                            \\n                                                            <h5>\\n                                                                <a href=\"/zh-hans/node/6831\" hreflang=\"zh-hans\">“Be patient and enthusiastic”——记Christian Degueldre教授讲座 </a>\\n                                                            </h5>\\n                                                            <div class=\"article-meta-container\">\\n                                                                <span>\\n\\n\\n\\n\\n<time datetime=\"20Z\" class=\"datetime\">2016-10-19</time>\\n\\n\\n\\n </span>\\n                                                            </div>\\n                                                        </div>\\n                                                        \\n                                                </div> \\n<!-- END OUTPUT from \\'core/themes/stable/templates/views/views-view-field.html.twig\\' -->\\n\\n\\n<!-- END OUTPUT from \\'core/themes/stable/templates/views/views-view-fields.html.twig\\' -->\\n\\n\\n  </div>\\n    <div>\\n    \\n\\n<!-- THEME DEBUG -->\\n<!-- THEME HOOK: \\'views_view_fields\\' -->\\n<!-- BEGIN OUTPUT from \\'core/themes/stable/templates/views/views-view-fields.html.twig\\' -->\\n\\n\\n<!-- THEME DEBUG -->\\n<!-- THEME HOOK: \\'views_view_field\\' -->\\n<!-- BEGIN OUTPUT from \\'core/themes/stable/templates/views/views-view-field.html.twig\\' -->\\n<div class=\"sidebar-recent-posts\">\\n                                                        <div class=\"article clearfix\">\\n                                                            \\n                                                            <h5>\\n                                                                <a href=\"/zh-hans/node/6829\" hreflang=\"zh-hans\">“译”海知航，积微成著——记Daniel Gile教授北语讲座（二） </a>\\n                                                            </h5>\\n                                                            <div class=\"article-meta-container\">\\n                                                                <span>\\n\\n\\n\\n\\n<time datetime=\"20Z\" class=\"datetime\">2016-10-11</time>\\n\\n\\n\\n </span>\\n                                                            </div>\\n                                                        </div>\\n                                                        \\n                                                </div> \\n<!-- END OUTPUT from \\'core/themes/stable/templates/views/views-view-field.html.twig\\' -->\\n\\n\\n<!-- END OUTPUT from \\'core/themes/stable/templates/views/views-view-fields.html.twig\\' -->\\n\\n\\n  </div>\\n    <div>\\n    \\n\\n<!-- THEME DEBUG -->\\n<!-- THEME HOOK: \\'views_view_fields\\' -->\\n<!-- BEGIN OUTPUT from \\'core/themes/stable/templates/views/views-view-fields.html.twig\\' -->\\n\\n\\n<!-- THEME DEBUG -->\\n<!-- THEME HOOK: \\'views_view_field\\' -->\\n<!-- BEGIN OUTPUT from \\'core/themes/stable/templates/views/views-view-field.html.twig\\' -->\\n<div class=\"sidebar-recent-posts\">\\n                                                        <div class=\"article clearfix\">\\n                                                            \\n                                                            <h5>\\n                                                                <a href=\"/zh-hans/node/6823\" hreflang=\"zh-hans\">“译”思博智，指点迷津——Daniel Gile教授北语讲座（一） </a>\\n                                                            </h5>\\n                                                            <div class=\"article-meta-container\">\\n                                                                <span>\\n\\n\\n\\n\\n<time datetime=\"20Z\" class=\"datetime\">2016-10-10</time>\\n\\n\\n\\n </span>\\n                                                            </div>\\n                                                        </div>\\n                                                        \\n                                                </div> \\n<!-- END OUTPUT from \\'core/themes/stable/templates/views/views-view-field.html.twig\\' -->\\n\\n\\n<!-- END OUTPUT from \\'core/themes/stable/templates/views/views-view-fields.html.twig\\' -->\\n\\n\\n  </div>\\n\\n<!-- END OUTPUT from \\'core/themes/classy/templates/views/views-view-unformatted.html.twig\\' -->\\n\\n\\n    </div>\\n  \\n          \\n\\n<!-- THEME DEBUG -->\\n<!-- THEME HOOK: \\'container\\' -->\\n<!-- FILE NAME SUGGESTIONS:\\n   * container--more-link.html.twig\\n   * container--more-link--news33.html.twig\\n   * container--more-link--block.html.twig\\n   * container--more-link--news33--block.html.twig\\n   * container--more-link--block-2.html.twig\\n   * container--more-link--news33--block-2.html.twig\\n   x container.html.twig\\n-->\\n<!-- BEGIN OUTPUT from \\'core/themes/classy/templates/form/container.html.twig\\' -->\\n<div class=\"more-link\"><a href=\"/zh-hans/news/dwjl\">查看更多&gt;&gt;</a></div>\\n\\n<!-- END OUTPUT from \\'core/themes/classy/templates/form/container.html.twig\\' -->\\n\\n\\n      </div>\\n\\n<!-- END OUTPUT from \\'core/themes/classy/templates/views/views-view.html.twig\\' -->\\n\\n</div>\\n\\n<!-- END OUTPUT from \\'core/themes/classy/templates/form/container.html.twig\\' -->\\n\\n\\n\\n\\n                    </div>\\n\\n                    <div class=\"col-3 \">\\n                        <header class=\"section-header\">\\n                            <h2 class=\"section-title\">\\n                                学生活动\\n                                                <span class=\"section-title-border\">\\n                                                </span>\\n                            </h2>\\n\\n                        </header>\\n                        <div class=\"md-margin\"></div>\\n                        \\n\\n<!-- THEME DEBUG -->\\n<!-- THEME HOOK: \\'container\\' -->\\n<!-- BEGIN OUTPUT from \\'core/themes/classy/templates/form/container.html.twig\\' -->\\n<div class=\"views-element-container\">\\n\\n<!-- THEME DEBUG -->\\n<!-- THEME HOOK: \\'views_view\\' -->\\n<!-- BEGIN OUTPUT from \\'core/themes/classy/templates/views/views-view.html.twig\\' -->\\n<div class=\"view view-news33 view-id-news33 view-display-id-block_3 js-view-dom-id-03f34e4af900bb7112fbcbd0beb9631497099a14ff14026ff511d3c6383bc302\">\\n  \\n    \\n      \\n      <div class=\"view-content\">\\n      \\n\\n<!-- THEME DEBUG -->\\n<!-- THEME HOOK: \\'views_view_unformatted\\' -->\\n<!-- BEGIN OUTPUT from \\'core/themes/classy/templates/views/views-view-unformatted.html.twig\\' -->\\n    <div>\\n    \\n\\n<!-- THEME DEBUG -->\\n<!-- THEME HOOK: \\'views_view_fields\\' -->\\n<!-- BEGIN OUTPUT from \\'core/themes/stable/templates/views/views-view-fields.html.twig\\' -->\\n\\n\\n<!-- THEME DEBUG -->\\n<!-- THEME HOOK: \\'views_view_field\\' -->\\n<!-- BEGIN OUTPUT from \\'core/themes/stable/templates/views/views-view-field.html.twig\\' -->\\n<div class=\"sidebar-recent-posts\">\\n                                                        <div class=\"article clearfix\">\\n                                                            \\n                                                            <h5>\\n                                                                <a href=\"/zh-hans/node/6851\" hreflang=\"zh-hans\">银色圣诞，“译”起翻滚 ——高级翻译学院成功举办2016年“‘译’起翻滚吧”圣诞晚会</a>\\n                                                            </h5>\\n                                                            <div class=\"article-meta-container\">\\n                                                                <span>\\n\\n\\n\\n\\n<time datetime=\"00Z\" class=\"datetime\">2016-12-22</time>\\n\\n\\n\\n </span>\\n                                                            </div>\\n                                                        </div>\\n                                                        \\n                                                </div> \\n<!-- END OUTPUT from \\'core/themes/stable/templates/views/views-view-field.html.twig\\' -->\\n\\n\\n<!-- END OUTPUT from \\'core/themes/stable/templates/views/views-view-fields.html.twig\\' -->\\n\\n\\n  </div>\\n    <div>\\n    \\n\\n<!-- THEME DEBUG -->\\n<!-- THEME HOOK: \\'views_view_fields\\' -->\\n<!-- BEGIN OUTPUT from \\'core/themes/stable/templates/views/views-view-fields.html.twig\\' -->\\n\\n\\n<!-- THEME DEBUG -->\\n<!-- THEME HOOK: \\'views_view_field\\' -->\\n<!-- BEGIN OUTPUT from \\'core/themes/stable/templates/views/views-view-field.html.twig\\' -->\\n<div class=\"sidebar-recent-posts\">\\n                                                        <div class=\"article clearfix\">\\n                                                            \\n                                                            <h5>\\n                                                                <a href=\"/zh-hans/node/6848\" hreflang=\"zh-hans\">“走近新闻”——团学新闻培训顺利开讲</a>\\n                                                            </h5>\\n                                                            <div class=\"article-meta-container\">\\n                                                                <span>\\n\\n\\n\\n\\n<time datetime=\"02Z\" class=\"datetime\">2016-11-19</time>\\n\\n\\n\\n </span>\\n                                                            </div>\\n                                                        </div>\\n                                                        \\n                                                </div> \\n<!-- END OUTPUT from \\'core/themes/stable/templates/views/views-view-field.html.twig\\' -->\\n\\n\\n<!-- END OUTPUT from \\'core/themes/stable/templates/views/views-view-fields.html.twig\\' -->\\n\\n\\n  </div>\\n    <div>\\n    \\n\\n<!-- THEME DEBUG -->\\n<!-- THEME HOOK: \\'views_view_fields\\' -->\\n<!-- BEGIN OUTPUT from \\'core/themes/stable/templates/views/views-view-fields.html.twig\\' -->\\n\\n\\n<!-- THEME DEBUG -->\\n<!-- THEME HOOK: \\'views_view_field\\' -->\\n<!-- BEGIN OUTPUT from \\'core/themes/stable/templates/views/views-view-field.html.twig\\' -->\\n<div class=\"sidebar-recent-posts\">\\n                                                        <div class=\"article clearfix\">\\n                                                            \\n                                                            <h5>\\n                                                                <a href=\"/zh-hans/node/6845\" hreflang=\"zh-hans\">对话汤颖——不要在该奋斗的年龄选择安逸</a>\\n                                                            </h5>\\n                                                            <div class=\"article-meta-container\">\\n                                                                <span>\\n\\n\\n\\n\\n<time datetime=\"58Z\" class=\"datetime\">2016-11-19</time>\\n\\n\\n\\n </span>\\n                                                            </div>\\n                                                        </div>\\n                                                        \\n                                                </div> \\n<!-- END OUTPUT from \\'core/themes/stable/templates/views/views-view-field.html.twig\\' -->\\n\\n\\n<!-- END OUTPUT from \\'core/themes/stable/templates/views/views-view-fields.html.twig\\' -->\\n\\n\\n  </div>\\n    <div>\\n    \\n\\n<!-- THEME DEBUG -->\\n<!-- THEME HOOK: \\'views_view_fields\\' -->\\n<!-- BEGIN OUTPUT from \\'core/themes/stable/templates/views/views-view-fields.html.twig\\' -->\\n\\n\\n<!-- THEME DEBUG -->\\n<!-- THEME HOOK: \\'views_view_field\\' -->\\n<!-- BEGIN OUTPUT from \\'core/themes/stable/templates/views/views-view-field.html.twig\\' -->\\n<div class=\"sidebar-recent-posts\">\\n                                                        <div class=\"article clearfix\">\\n                                                            \\n                                                            <h5>\\n                                                                <a href=\"/zh-hans/node/6844\" hreflang=\"zh-hans\">【语音语调】 五语同台展北语风采——第七届「你好，先‘声’」语音语调大赛圆满举行</a>\\n                                                            </h5>\\n                                                            <div class=\"article-meta-container\">\\n                                                                <span>\\n\\n\\n\\n\\n<time datetime=\"21Z\" class=\"datetime\">2016-11-10</time>\\n\\n\\n\\n </span>\\n                                                            </div>\\n                                                        </div>\\n                                                        \\n                                                </div> \\n<!-- END OUTPUT from \\'core/themes/stable/templates/views/views-view-field.html.twig\\' -->\\n\\n\\n<!-- END OUTPUT from \\'core/themes/stable/templates/views/views-view-fields.html.twig\\' -->\\n\\n\\n  </div>\\n    <div>\\n    \\n\\n<!-- THEME DEBUG -->\\n<!-- THEME HOOK: \\'views_view_fields\\' -->\\n<!-- BEGIN OUTPUT from \\'core/themes/stable/templates/views/views-view-fields.html.twig\\' -->\\n\\n\\n<!-- THEME DEBUG -->\\n<!-- THEME HOOK: \\'views_view_field\\' -->\\n<!-- BEGIN OUTPUT from \\'core/themes/stable/templates/views/views-view-field.html.twig\\' -->\\n<div class=\"sidebar-recent-posts\">\\n                                                        <div class=\"article clearfix\">\\n                                                            \\n                                                            <h5>\\n                                                                <a href=\"/zh-hans/node/6842\" hreflang=\"zh-hans\">【语音语调】北京语言大学第六届「你好，先‘声’」语音语调大赛选手祝福</a>\\n                                                            </h5>\\n                                                            <div class=\"article-meta-container\">\\n                                                                <span>\\n\\n\\n\\n\\n<time datetime=\"41Z\" class=\"datetime\">2016-11-03</time>\\n\\n\\n\\n </span>\\n                                                            </div>\\n                                                        </div>\\n                                                        \\n                                                </div> \\n<!-- END OUTPUT from \\'core/themes/stable/templates/views/views-view-field.html.twig\\' -->\\n\\n\\n<!-- END OUTPUT from \\'core/themes/stable/templates/views/views-view-fields.html.twig\\' -->\\n\\n\\n  </div>\\n\\n<!-- END OUTPUT from \\'core/themes/classy/templates/views/views-view-unformatted.html.twig\\' -->\\n\\n\\n    </div>\\n  \\n          \\n\\n<!-- THEME DEBUG -->\\n<!-- THEME HOOK: \\'container\\' -->\\n<!-- FILE NAME SUGGESTIONS:\\n   * container--more-link.html.twig\\n   * container--more-link--news33.html.twig\\n   * container--more-link--block.html.twig\\n   * container--more-link--news33--block.html.twig\\n   * container--more-link--block-3.html.twig\\n   * container--more-link--news33--block-3.html.twig\\n   x container.html.twig\\n-->\\n<!-- BEGIN OUTPUT from \\'core/themes/classy/templates/form/container.html.twig\\' -->\\n<div class=\"more-link\"><a href=\"/zh-hans/news/students\">查看更多&gt;&gt;</a></div>\\n\\n<!-- END OUTPUT from \\'core/themes/classy/templates/form/container.html.twig\\' -->\\n\\n\\n      </div>\\n\\n<!-- END OUTPUT from \\'core/themes/classy/templates/views/views-view.html.twig\\' -->\\n\\n</div>\\n\\n<!-- END OUTPUT from \\'core/themes/classy/templates/form/container.html.twig\\' -->\\n\\n\\n\\n\\n\\n                    </div>\\n\\n                </div>\\n            </div>\\n        </div>\\n    </div>\\n    </div>\\n\\n\\n\\n    <section id=\"services\">\\n        <div class=\"onepage-section\">\\n            \\n\\n<!-- THEME DEBUG -->\\n<!-- THEME HOOK: \\'region\\' -->\\n<!-- FILE NAME SUGGESTIONS:\\n   * region--service.html.twig\\n   x region.html.twig\\n-->\\n<!-- BEGIN OUTPUT from \\'core/themes/classy/templates/layout/region.html.twig\\' -->\\n  <div class=\"region region-service\">\\n    \\n\\n<!-- THEME DEBUG -->\\n<!-- THEME HOOK: \\'block\\' -->\\n<!-- FILE NAME SUGGESTIONS:\\n   * block--zhengchanxueyan.html.twig\\n   * block--block-content--26e55feb-d508-48c8-a21f-b21c4caed6c2.html.twig\\n   * block--block-content.html.twig\\n   * block--block-content.html.twig\\n   x block.html.twig\\n-->\\n<!-- BEGIN OUTPUT from \\'core/themes/classy/templates/block/block.html.twig\\' -->\\n<div id=\"block-zhengchanxueyan\" class=\"block block-block-content block-block-content26e55feb-d508-48c8-a21f-b21c4caed6c2\">\\n  \\n    \\n      \\n\\n<!-- THEME DEBUG -->\\n<!-- THEME HOOK: \\'field\\' -->\\n<!-- FILE NAME SUGGESTIONS:\\n   * field--block-content--body--basic.html.twig\\n   * field--block-content--body.html.twig\\n   * field--block-content--basic.html.twig\\n   * field--body.html.twig\\n   x field--text-with-summary.html.twig\\n   * field.html.twig\\n-->\\n<!-- BEGIN OUTPUT from \\'core/themes/classy/templates/field/field--text-with-summary.html.twig\\' -->\\n\\n            <div class=\"clearfix text-formatted field field--name-body field--type-text-with-summary field--label-hidden field__item\"><div class=\"section-inner\">\\n\\n\\n                                <header class=\"section-header\"><h2 class=\"section-title\">\\n                                        政产学研\\n                                        <span class=\"section-title-border\">\\n                                        </span>\\n                                    </h2>\\n                                    \\n                                </header><div class=\"lg-margin2x\">\\n                                </div>\\n                                <div class=\"services-icons-container services-icons-container2\">\\n                                    <div class=\"row\">\\n                                        <div class=\"col-3 services-icon\">\\n                                            <div class=\"service-icon-box\">\\n                                                <div class=\"service-icon2 service-icon-dev\">\\n                                                    <a href=\"#\" title=\"\"><i class=\"icon-tasks\"></i></a>\\n                                                </div>\\n                                                <h3 class=\"service-title\">\\n                                                    <a href=\"#\" title=\"\">实习实践</a>\\n                                                    <br /><span>Language Services </span>\\n                                                </h3>\\n                                                <p class=\"service-content\">\\n                                                    依托中外语言服务人才培养基地展开，该基地由口译实习实训平台、笔译实习实训平台和协同创新研究平台三部分组成，是一个教育教学、实习实践和科学研究三位一体的综合实践平台。\\n                                                </p>\\n                                            </div>\\n                                        </div>\\n                                        <div class=\"col-3 services-icon \">\\n                                            <div class=\"service-icon-box\">\\n                                                <div class=\"service-icon2 service-icon-brand\">\\n                                                    <a href=\"#\" title=\"\"><i class=\"icon-line2-book-open\"></i></a>\\n                                                </div>\\n                                                <h3 class=\"service-title\">\\n                                                    <a href=\"#\" title=\"\">MTI教育</a>\\n                                                    <br /><span>MTI Education </span>\\n                                                </h3>\\n                                                <p class=\"service-content\">\\n依托MIT教育中心展开，该中心隶属于外国语学部，面向英、法、日、韩、德、阿、西七个语种招生口、笔译两个方向的学生。\\n                                                </p>\\n                                            </div>\\n                                        </div>\\n                                        <div class=\"col-3 services-icon \">\\n                                            <div class=\"service-icon-box\">\\n                                                <div class=\"service-icon2 service-icon-market\">\\n                                                    <a href=\"#\" title=\"\"><i class=\"icon-globe\"></i></a>\\n                                                </div>\\n                                                <h3 class=\"service-title\">\\n                                                    <a href=\"#\" title=\"\">翻译研究</a>\\n                                                    <br /><span>Translation Studies </span>\\n                                                </h3>\\n                                                <p class=\"service-content\">\\n依托翻译学研究所展开，研究所继承和发扬北京语言大学大学五十多年翻译教学及研究的优良传统，致力于打造中国乃至国际一流的翻译学研究机构。\\n                                                </p>\\n                                            </div>\\n                                        </div>\\n                                    </div>\\n                                </div>\\n                            </div></div>\\n      \\n<!-- END OUTPUT from \\'core/themes/classy/templates/field/field--text-with-summary.html.twig\\' -->\\n\\n\\n  </div>\\n\\n<!-- END OUTPUT from \\'core/themes/classy/templates/block/block.html.twig\\' -->\\n\\n\\n\\n<!-- THEME DEBUG -->\\n<!-- THEME HOOK: \\'block\\' -->\\n<!-- FILE NAME SUGGESTIONS:\\n   * block--zaixianfuwu.html.twig\\n   * block--block-content--8adf465f-c253-4499-bdc5-a0da89087f9a.html.twig\\n   * block--block-content.html.twig\\n   * block--block-content.html.twig\\n   x block.html.twig\\n-->\\n<!-- BEGIN OUTPUT from \\'core/themes/classy/templates/block/block.html.twig\\' -->\\n<div id=\"block-zaixianfuwu\" class=\"block block-block-content block-block-content8adf465f-c253-4499-bdc5-a0da89087f9a\">\\n  \\n    \\n      \\n\\n<!-- THEME DEBUG -->\\n<!-- THEME HOOK: \\'field\\' -->\\n<!-- FILE NAME SUGGESTIONS:\\n   * field--block-content--body--basic.html.twig\\n   * field--block-content--body.html.twig\\n   * field--block-content--basic.html.twig\\n   * field--body.html.twig\\n   x field--text-with-summary.html.twig\\n   * field.html.twig\\n-->\\n<!-- BEGIN OUTPUT from \\'core/themes/classy/templates/field/field--text-with-summary.html.twig\\' -->\\n\\n            <div class=\"clearfix text-formatted field field--name-body field--type-text-with-summary field--label-hidden field__item\"><div class=\"section-inner\">\\n\\n\\n                                <header class=\"section-header\"><h2 class=\"section-title\">\\n                                        在线服务\\n                                        <span class=\"section-title-border\">\\n                                        </span>\\n                                    </h2>\\n                                    \\n                                </header><div class=\"lg-margin2x\">\\n                                </div>\\n                                <div class=\"services-icons-container\">\\n                                    <div class=\"row\">\\n                                        <div class=\"col-3 services-icon \">\\n                                            <div class=\"service-icon-box\">\\n                                                <div class=\"service-icon2 service-icon-dev\">\\n                                                    <a href=\"/taxonomy/term/114\" title=\"\"><i class=\"icon-download-alt\"></i></a>\\n                                                </div>\\n                                                <h3 class=\"service-title\">\\n                                                    <a href=\"/taxonomy/term/114\" title=\"\">下载中心</a><br /><span>Download Center</span>\\n                                                </h3>\\n                                                <p class=\"service-content\">\\n                                                   <a href=\"/node/264\" title=\" 教学管理\">教学管理</a><a> | </a><a href=\"/taxonomy/term/102\" title=\" 学生管理\">学生管理</a><a> | </a><a href=\"/node/265\" title=\" 科研管理\">科研管理</a><a>\\n                                                </a></p>\\n                                            </div>\\n                                        </div>\\n                                        <div class=\"col-3 services-icon \">\\n                                            <div class=\"service-icon-box\">\\n                                                <div class=\"service-icon2 service-icon-brand\">\\n                                                    <a href=\"http://stimooc.blcu.edu.cn\" title=\"\"><i class=\"icon-users\"></i></a>\\n                                                </div>\\n                                                <h3 class=\"service-title\">\\n                                                    <a href=\"http://stimooc.blcu.edu.cn\" title=\"\">高翻学堂</a><br /><span>STI MOOC</span>\\n                                                </h3>\\n                                                <p class=\"service-content\">\\n                                                    欢迎选修高翻学院的网上公开课\\n                                                </p>\\n                                            </div>\\n                                        </div>\\n                                        <div class=\"col-3 services-icon \">\\n                                            <div class=\"service-icon-box\">\\n                                                <div class=\"service-icon2 service-icon-market\">\\n                                                    <a href=\"/alumnis\" title=\"\"><i class=\"icon-quote-right\"></i></a>\\n                                                </div>\\n                                                <h3 class=\"service-title\">\\n                                                   \\t 校友风采<br /><span>Alumni</span>\\n                                                </h3>\\n                                                <p class=\"service-content\">\\n                                                     <a href=\"/alumnis\" title=\" 校友展示\"> 校友展示</a><a> | </a><a href=\"/graduation_career\" title=\"毕业去向\">毕业去向 </a><a> | </a><a href=\"/node/add/alumni_style\" title=\"添加校友\">校友注册</a><a>\\n                                                </a></p>\\n                                            </div>\\n                                        </div>\\n                                    </div>\\n                                </div>\\t\\t\\t\\t\\t\\t\\t\\t\\n\\n                            </div></div>\\n      \\n<!-- END OUTPUT from \\'core/themes/classy/templates/field/field--text-with-summary.html.twig\\' -->\\n\\n\\n  </div>\\n\\n<!-- END OUTPUT from \\'core/themes/classy/templates/block/block.html.twig\\' -->\\n\\n\\n  </div>\\n\\n<!-- END OUTPUT from \\'core/themes/classy/templates/layout/region.html.twig\\' -->\\n\\n\\n        </div>\\n    </section>\\n\\n    <section id=\"portfolio\">\\n        <div class=\"onepage-section\">\\n            \\n\\n<!-- THEME DEBUG -->\\n<!-- THEME HOOK: \\'region\\' -->\\n<!-- FILE NAME SUGGESTIONS:\\n   * region--portfolio.html.twig\\n   x region.html.twig\\n-->\\n<!-- BEGIN OUTPUT from \\'core/themes/classy/templates/layout/region.html.twig\\' -->\\n  <div class=\"region region-portfolio\">\\n    \\n\\n<!-- THEME DEBUG -->\\n<!-- THEME HOOK: \\'block\\' -->\\n<!-- FILE NAME SUGGESTIONS:\\n   * block--youqinglianjie.html.twig\\n   * block--block-content--ec0e7891-51c3-47d4-a400-d675eb8871d2.html.twig\\n   * block--block-content.html.twig\\n   * block--block-content.html.twig\\n   x block.html.twig\\n-->\\n<!-- BEGIN OUTPUT from \\'core/themes/classy/templates/block/block.html.twig\\' -->\\n<div id=\"block-youqinglianjie\" class=\"block block-block-content block-block-contentec0e7891-51c3-47d4-a400-d675eb8871d2\">\\n  \\n    \\n      \\n\\n<!-- THEME DEBUG -->\\n<!-- THEME HOOK: \\'field\\' -->\\n<!-- FILE NAME SUGGESTIONS:\\n   * field--block-content--body--basic.html.twig\\n   * field--block-content--body.html.twig\\n   * field--block-content--basic.html.twig\\n   * field--body.html.twig\\n   x field--text-with-summary.html.twig\\n   * field.html.twig\\n-->\\n<!-- BEGIN OUTPUT from \\'core/themes/classy/templates/field/field--text-with-summary.html.twig\\' -->\\n\\n            <div class=\"clearfix text-formatted field field--name-body field--type-text-with-summary field--label-hidden field__item\"><div class=\"section-inner\">\\n                                <header class=\"section-header\">\\n                                    <h2 class=\"section-title\">友情链接</h2>\\n                                </header>\\n\\n                                <div class=\"section-his-pic-container\">\\n\\n                                    <div class=\"row\">\\n                                        <div class=\"owl-carousel section-his-pic\">\\n                                            <div class=\"his-pic-item\">\\n                                                <div class=\"pic-frame\">\\n                                                    <figure><a href=\"http://www.cipg.org.cn/\" target=\"_blank\"> <img src=\"http://sti.blcu.edu.cn/themes/gaofan/images/c1.jpg\" alt=\"中国外文出版发行事业局\"></a></figure>\\n                                                    <!--<a href=\"#\"><h5 class=\"member-name\">图片标题</h5></a>-->\\n                                                </div>    \\n                                            </div>\\n                                            <div class=\"his-pic-item\">\\n                                                <div class=\"pic-frame\">\\n                                                    <figure><a href=\"http://www.ciuti.org/\" target=\"_blank\"> <img src=\"http://sti.blcu.edu.cn/themes/gaofan/images/c4.jpg\" alt=\"CIUTI\"></a></figure>\\n                                                    <!--<a href=\"#\"><h5 class=\"member-name\">图片标题</h5></a>-->\\n                                                </div>    \\n                                            </div>\\n                                            <div class=\"his-pic-item\">\\n                                                <div class=\"pic-frame\">\\n                                                    <figure><a href=\"http://www.ctpc.com.cn\" target=\"_blank\"> <img src=\"http://sti.blcu.edu.cn/themes/gaofan/images/c2.jpg\" alt=\"中国对外翻译出版有限公司\"></a></figure>\\n                                                    <!--<a href=\"#\"><h5 class=\"member-name\">图片标题</h5></a>-->\\n                                                </div>    \\n                                            </div>\\n                                            <div class=\"his-pic-item\">\\n                                                <div class=\"pic-frame\">\\n                                                    <figure><a href=\"http://www.blcu.edu.cn\" target=\"_blank\"> <img src=\"http://sti.blcu.edu.cn/themes/gaofan/images/c3.jpg\" alt=\"北京语言大学\"></a></figure>\\n                                                    <!--<a href=\"#\"><h5 class=\"member-name\">图片标题</h5></a>-->\\n                                                </div>    \\n                                            </div>\\n\\t\\t\\t\\t\\t\\t\\t\\t\\t\\t\\t\\n                                            <div class=\"his-pic-item\">\\n                                                <div class=\"pic-frame\">\\n                                                    <figure><a href=\"http://cnmti.gdufs.edu.cn/\" target=\"_blank\"> <img src=\"http://sti.blcu.edu.cn/themes/gaofan/images/c5.jpg\" alt=\"全国翻译专业学位研究生教育指导委员会\"></a></figure>\\n                                                    <!--<a href=\"#\"><h5 class=\"member-name\">图片标题</h5></a>-->\\n                                                </div>    \\n                                            </div>\\n\\t\\t\\t\\t\\t\\t\\t\\t\\t\\t\\t<div class=\"his-pic-item\">\\n                                                <div class=\"pic-frame\">\\n                                                    <figure><a href=\"http://www.fit-ift.org/\" target=\"_blank\"> <img src=\"http://sti.blcu.edu.cn/themes/gaofan/images/c6.jpg\" alt=\"FIT (Fédération Internationale des Traducteurs / International Federation of Translators)\"></a></figure>\\n                                                    <!--<a href=\"#\"><h5 class=\"member-name\">图片标题</h5></a>-->\\n                                                </div>    \\n                                            </div>\\n\\n\\n                                            \\n                                        </div>\\n                                    </div>\\n\\n\\n\\n                                    <a href=\"#\" id=\"home-prev\" class=\"carousel-btn carousel-btn-prev\">Prev</a>\\n                                    <a href=\"#\" id=\"home-next\" class=\"carousel-btn carousel-btn-next\">Next</a>\\n\\n\\n                                </div>\\n                            </div></div>\\n      \\n<!-- END OUTPUT from \\'core/themes/classy/templates/field/field--text-with-summary.html.twig\\' -->\\n\\n\\n  </div>\\n\\n<!-- END OUTPUT from \\'core/themes/classy/templates/block/block.html.twig\\' -->\\n\\n\\n  </div>\\n\\n<!-- END OUTPUT from \\'core/themes/classy/templates/layout/region.html.twig\\' -->\\n\\n\\n        </div>\\n        <div class=\"xlg-margin3s\"></div>\\n    </section>\\n\\n    <section id=\"contactus\">\\n        \\n\\n<!-- THEME DEBUG -->\\n<!-- THEME HOOK: \\'region\\' -->\\n<!-- FILE NAME SUGGESTIONS:\\n   * region--contact.html.twig\\n   x region.html.twig\\n-->\\n<!-- BEGIN OUTPUT from \\'core/themes/classy/templates/layout/region.html.twig\\' -->\\n  <div class=\"region region-contact\">\\n    \\n\\n<!-- THEME DEBUG -->\\n<!-- THEME HOOK: \\'block\\' -->\\n<!-- FILE NAME SUGGESTIONS:\\n   * block--lianxiwomen-2.html.twig\\n   * block--block-content--ac70763d-6d60-4e6f-9800-c77c0b5391c8.html.twig\\n   * block--block-content.html.twig\\n   * block--block-content.html.twig\\n   x block.html.twig\\n-->\\n<!-- BEGIN OUTPUT from \\'core/themes/classy/templates/block/block.html.twig\\' -->\\n<div id=\"block-lianxiwomen-2\" class=\"block block-block-content block-block-contentac70763d-6d60-4e6f-9800-c77c0b5391c8\">\\n  \\n    \\n      \\n\\n<!-- THEME DEBUG -->\\n<!-- THEME HOOK: \\'field\\' -->\\n<!-- FILE NAME SUGGESTIONS:\\n   * field--block-content--body--basic.html.twig\\n   * field--block-content--body.html.twig\\n   * field--block-content--basic.html.twig\\n   * field--body.html.twig\\n   x field--text-with-summary.html.twig\\n   * field.html.twig\\n-->\\n<!-- BEGIN OUTPUT from \\'core/themes/classy/templates/field/field--text-with-summary.html.twig\\' -->\\n\\n            <div class=\"clearfix text-formatted field field--name-body field--type-text-with-summary field--label-hidden field__item\"><div class=\"onepage-section\">\\n                            <div class=\"section-inner\">\\n\\n                                <!--<div class=\"md-margin2x\">\\n                                </div>-->\\n\\n                            <div class=\"section-inner section-contact-infos\">\\n                                <div class=\"row-xs\">\\n                                    <div class=\"col-3\">\\n                                        <img src=\"http://sti.blcu.edu.cn/themes/gaofan/images/contact-pin.png\" alt=\"contact-pin\">\\n                                        <p>\\n                                            北京市海淀区学院路15号 邮编 ：100083\\n                                        </p>\\n\\n                                    </div>\\n                                    <div class=\"col-3\">\\n                                        <img src=\"http://sti.blcu.edu.cn/themes/gaofan/images/contact-phone.png\" alt=\"contact-pin\">\\n                                        <p>\\n                                            010-82303852\\n                                        </p>\\n\\n                                    </div>\\n                                    <div class=\"col-3\">\\n                                        <img src=\"http://sti.blcu.edu.cn/themes/gaofan/images/contact-email.png\" alt=\"contact-pin\">\\n                                        <p>\\n                                            sti.blcu@gmail.com\\n                                        </p>\\n\\n                                    </div>\\n                                </div>\\n                            </div>\\n                        </div></div>\\n      \\n<!-- END OUTPUT from \\'core/themes/classy/templates/field/field--text-with-summary.html.twig\\' -->\\n\\n\\n  </div>\\n\\n<!-- END OUTPUT from \\'core/themes/classy/templates/block/block.html.twig\\' -->\\n\\n\\n  </div>\\n\\n<!-- END OUTPUT from \\'core/themes/classy/templates/layout/region.html.twig\\' -->\\n\\n\\n    </section>\\n\\n    <a id=\"scroll-top\" class=\"onepage-scoll-top\" href=\"#\" title=\"Go to Top\">\\n        Top\\n    </a>\\n\\n\\n</section>\\n\\n<!-- END OUTPUT from \\'themes/gaofan/templates/page--front.html.twig\\' -->\\n\\n\\n    \\n    <script src=\"/sites/default/files/js/js_DyVrGWnkaySvrdudNvC7agpbBAk7otN9SbUbS6c7Q2s.js\"></script>\\n\\n  </body>\\n</html>\\n\\n<!-- END OUTPUT from \\'core/themes/classy/templates/layout/html.html.twig\\' -->\\n\\n'"
      ]
     },
     "execution_count": 32,
     "metadata": {},
     "output_type": "execute_result"
    }
   ],
   "source": [
    "reps.text"
   ]
  },
  {
   "cell_type": "code",
   "execution_count": 33,
   "metadata": {
    "collapsed": true
   },
   "outputs": [],
   "source": [
    "from pyquery import PyQuery as pq       #选择器\n",
    "doc=pq(reps.text)"
   ]
  },
  {
   "cell_type": "code",
   "execution_count": 34,
   "metadata": {
    "collapsed": false
   },
   "outputs": [
    {
     "data": {
      "text/plain": [
       "[<head>]"
      ]
     },
     "execution_count": 34,
     "metadata": {},
     "output_type": "execute_result"
    }
   ],
   "source": [
    "doc('head')"
   ]
  },
  {
   "cell_type": "code",
   "execution_count": 35,
   "metadata": {
    "collapsed": false
   },
   "outputs": [
    {
     "data": {
      "text/plain": [
       "'首页 | 北京语言大学高级翻译学院\\n@import url(\"/core/assets/vendor/normalize-css/normalize.css?p8wy9l\"); @import url(\"/core/themes/stable/css/system/components/ajax-progress.module.css?p8wy9l\"); @import url(\"/core/themes/stable/css/system/components/align.module.css?p8wy9l\"); @import url(\"/core/themes/stable/css/system/components/autocomplete-loading.module.css?p8wy9l\"); @import url(\"/core/themes/stable/css/system/components/fieldgroup.module.css?p8wy9l\"); @import url(\"/core/themes/stable/css/system/components/container-inline.module.css?p8wy9l\"); @import url(\"/core/themes/stable/css/system/components/clearfix.module.css?p8wy9l\"); @import url(\"/core/themes/stable/css/system/components/details.module.css?p8wy9l\"); @import url(\"/core/themes/stable/css/system/components/hidden.module.css?p8wy9l\"); @import url(\"/core/themes/stable/css/system/components/item-list.module.css?p8wy9l\"); @import url(\"/core/themes/stable/css/system/components/js.module.css?p8wy9l\"); @import url(\"/core/themes/stable/css/system/components/nowrap.module.css?p8wy9l\"); @import url(\"/core/themes/stable/css/system/components/position-container.module.css?p8wy9l\"); @import url(\"/core/themes/stable/css/system/components/progress.module.css?p8wy9l\"); @import url(\"/core/themes/stable/css/system/components/reset-appearance.module.css?p8wy9l\"); @import url(\"/core/themes/stable/css/system/components/resize.module.css?p8wy9l\"); @import url(\"/core/themes/stable/css/system/components/sticky-header.module.css?p8wy9l\"); @import url(\"/core/themes/stable/css/system/components/system-status-counter.css?p8wy9l\"); @import url(\"/core/themes/stable/css/system/components/system-status-report-counters.css?p8wy9l\"); @import url(\"/core/themes/stable/css/system/components/system-status-report-general-info.css?p8wy9l\"); @import url(\"/core/themes/stable/css/system/components/tabledrag.module.css?p8wy9l\"); @import url(\"/core/themes/stable/css/system/components/tablesort.module.css?p8wy9l\"); @import url(\"/core/themes/stable/css/system/components/tree-child.module.css?p8wy9l\"); @import url(\"/core/themes/stable/css/views/views.module.css?p8wy9l\");\\n@import url(\"/core/themes/classy/css/components/action-links.css?p8wy9l\"); @import url(\"/core/themes/classy/css/components/breadcrumb.css?p8wy9l\"); @import url(\"/core/themes/classy/css/components/button.css?p8wy9l\"); @import url(\"/core/themes/classy/css/components/collapse-processed.css?p8wy9l\"); @import url(\"/core/themes/classy/css/components/container-inline.css?p8wy9l\"); @import url(\"/core/themes/classy/css/components/details.css?p8wy9l\"); @import url(\"/core/themes/classy/css/components/exposed-filters.css?p8wy9l\"); @import url(\"/core/themes/classy/css/components/field.css?p8wy9l\"); @import url(\"/core/themes/classy/css/components/form.css?p8wy9l\"); @import url(\"/core/themes/classy/css/components/icons.css?p8wy9l\"); @import url(\"/core/themes/classy/css/components/inline-form.css?p8wy9l\"); @import url(\"/core/themes/classy/css/components/item-list.css?p8wy9l\"); @import url(\"/core/themes/classy/css/components/link.css?p8wy9l\"); @import url(\"/core/themes/classy/css/components/links.css?p8wy9l\"); @import url(\"/core/themes/classy/css/components/menu.css?p8wy9l\"); @import url(\"/core/themes/classy/css/components/more-link.css?p8wy9l\"); @import url(\"/core/themes/classy/css/components/pager.css?p8wy9l\"); @import url(\"/core/themes/classy/css/components/tabledrag.css?p8wy9l\"); @import url(\"/core/themes/classy/css/components/tableselect.css?p8wy9l\"); @import url(\"/core/themes/classy/css/components/tablesort.css?p8wy9l\"); @import url(\"/core/themes/classy/css/components/tabs.css?p8wy9l\"); @import url(\"/core/themes/classy/css/components/textarea.css?p8wy9l\"); @import url(\"/core/themes/classy/css/components/ui-dialog.css?p8wy9l\"); @import url(\"/themes/gaofan/css/bootstrap.css?p8wy9l\"); @import url(\"/themes/gaofan/css/owl.carousel.css?p8wy9l\"); @import url(\"/themes/gaofan/css/onepage-revslider.css?p8wy9l\"); @import url(\"/themes/gaofan/css/style.min.css?p8wy9l\"); @import url(\"/themes/gaofan/css/responsive.min.css?p8wy9l\"); @import url(\"/themes/gaofan/css/font-icons.css?p8wy9l\"); @import url(\"/themes/gaofan/include/rs-plugin/css/settings.css?p8wy9l\"); @import url(\"/themes/gaofan/css/custom.css?p8wy9l\");\\n@import url(\"/themes/gaofan/css/custom2.css?p8wy9l\"); @import url(\"/themes/gaofan/css/custom3.css?p8wy9l\"); @import url(\"/themes/gaofan/css/gaofan.css?p8wy9l\"); @import url(\"/themes/gaofan/css/td.css?p8wy9l\"); @import url(\"/themes/gaofan/includes/owl/assets/owl.carousel.css?p8wy9l\"); @import url(\"/themes/gaofan/includes/owl/assets/owl.theme.default.min.css?p8wy9l\");'"
      ]
     },
     "execution_count": 35,
     "metadata": {},
     "output_type": "execute_result"
    }
   ],
   "source": [
    "doc('head').text()                   #打印head中的内容"
   ]
  },
  {
   "cell_type": "code",
   "execution_count": 36,
   "metadata": {
    "collapsed": false
   },
   "outputs": [
    {
     "data": {
      "text/plain": [
       "[<ul.slides>, <ul.slides>, <ul.slides>, <ul.slides>]"
      ]
     },
     "execution_count": 36,
     "metadata": {},
     "output_type": "execute_result"
    }
   ],
   "source": [
    "doc('ul.slides')                 #找和括号中相同的标签"
   ]
  },
  {
   "cell_type": "code",
   "execution_count": 37,
   "metadata": {
    "collapsed": false
   },
   "outputs": [
    {
     "data": {
      "text/plain": [
       "[<ul.slides>]"
      ]
     },
     "execution_count": 37,
     "metadata": {},
     "output_type": "execute_result"
    }
   ],
   "source": [
    "doc('ul.slides:first')               #找第一个标签"
   ]
  },
  {
   "cell_type": "code",
   "execution_count": 38,
   "metadata": {
    "collapsed": false
   },
   "outputs": [
    {
     "data": {
      "text/plain": [
       "<Element img at 0x1e00d9dbef8>"
      ]
     },
     "execution_count": 38,
     "metadata": {},
     "output_type": "execute_result"
    }
   ],
   "source": [
    "doc('ul.slides:first img:first')[0]"
   ]
  },
  {
   "cell_type": "code",
   "execution_count": 50,
   "metadata": {
    "collapsed": false
   },
   "outputs": [],
   "source": [
    "imgelem=pq(doc('ul.slides:first img:first'))"
   ]
  },
  {
   "cell_type": "code",
   "execution_count": 40,
   "metadata": {
    "collapsed": false
   },
   "outputs": [
    {
     "data": {
      "text/plain": [
       "'/sites/default/files/2016-09/liuheping_0.jpg'"
      ]
     },
     "execution_count": 40,
     "metadata": {},
     "output_type": "execute_result"
    }
   ],
   "source": [
    "imgelem.attr('src')"
   ]
  },
  {
   "cell_type": "code",
   "execution_count": 41,
   "metadata": {
    "collapsed": true
   },
   "outputs": [],
   "source": [
    "url='http://www.ftchinese.com/story/001079687'"
   ]
  },
  {
   "cell_type": "code",
   "execution_count": 42,
   "metadata": {
    "collapsed": true
   },
   "outputs": [],
   "source": [
    "reps=requests.get(url)"
   ]
  },
  {
   "cell_type": "code",
   "execution_count": 43,
   "metadata": {
    "collapsed": true
   },
   "outputs": [],
   "source": [
    "doc=pq(reps.text)"
   ]
  },
  {
   "cell_type": "code",
   "execution_count": 44,
   "metadata": {
    "collapsed": false
   },
   "outputs": [
    {
     "data": {
      "text/plain": [
       "'中国指责特朗普“错误言行” - - FT中文网\\nwindow.cutsTheMustard = (typeof Function.prototype.bind !== \\'undefined\\'); if (window.cutsTheMustard) { document.documentElement.className = document.documentElement.className.replace(/\\\\bno-js\\\\b/, \\'js\\').replace(/\\\\bcore\\\\b/, \\'enhanced\\'); }\\n@charset \"UTF-8\";*{margin:0;padding:0;box-sizing:border-box}body{font-family:Helvetica Neue,Verdana,Arial,Hiragino Sans GB,WenQuanYi Micro Hei,Heiti SC,STHeiti,Microsoft Yahei,SimSun,sans-serif;font-size:16px;margin:0 auto;display:block;background:#fff1e5 none repeat scroll 0 0}div{text-align:left;line-height:140%}img{border:medium none;max-width:100%}a{color:#0a5e66;text-decoration:none}a:active,a:hover{color:#333}a.highlight{color:#9e2f50}li,ul{list-style-position:outside;list-style-type:none;margin:0;padding:0}.clearfloat{clear:both}.blue-link{color:#2e6e9e}.blue-link:active,.blue-link:hover{color:#333}.hide{display:none}.block-container .warn a,.warn,.warn a{color:#c00}.warn a{text-decoration:underline;font-weight:700}.audio-placeholder{height:44px}.language-switch-container{display:none}.audio-sticky .audio-container,.audio-sticky .language-switch-container{position:fixed;width:100%;height:44px;left:0;right:0;background-color:#fff1e5;box-shadow:0 1px 3px rgba(77,72,69,.2),0 6px 10px rgba(77,72,69,.15);border:0;z-index:9999999;display:block}.audio-sticky .audio-container{top:44px}.audio-sticky .language-switch-container{top:0;padding-top:8px}.sticky-element-on .sticky-element-inner{position:fixed;top:44px;background-color:#fff1e5;border-width:0 1px 1px 0;border-style:solid;border-color:#cec6b9;z-index:1}.language-switch-inner{margin:0 auto;text-align:center;display:table;border-collapse:collapse;position:relative}a.language-switch{color:#0d7680;display:table-cell;height:26px;line-height:26px;padding:0 15px;border:1px solid #0d7680}a.language-switch.on{color:#fff;background-color:#0d7680}a.language-switch-left,a.language-switch-right{display:block;position:absolute;height:44px;width:44px;top:0}a.language-switch-left{left:0}a.language-switch-right{right:0}a.language-switch-menu{background-image:url(\"https://www.ft.com/__origami/service/image/v2/images/raw/fticon-v1:hamburger?source=o-icons&tint=%2333302E,%2333302E&format=svg\")}a.language-switch-share{background-image:url(\"https://www.ft.com/__origami/service/image/v2/images/raw/fticon-v1:share?source=o-icons&tint=%23000000,%23000000&format=svg\")}.show-language-switch-only .header-container,.show-language-switch-only .o-nav__placeholder,.show-language-switch-only .subscription-promo-container{display:none}.show-language-switch-only body{padding-top:44px}.show-language-switch-only .toprecommend-part{margin-top:0}audio{width:100%}button{display:inline-block;box-sizing:border-box;vertical-align:middle;margin:0;outline:0;text-align:center;text-decoration:none;font-weight:600;cursor:pointer;-webkit-transition:background-color .3s,color .15s ease-out,border-color .15s ease-out;transition:background-color .3s,color .15s ease-out,border-color .15s ease-out;-moz-appearance:none;-webkit-appearance:none;-webkit-user-select:none;-moz-user-select:none;-ms-user-select:none;user-select:none;background-clip:padding-box;-webkit-font-smoothing:antialiased;-moz-osx-font-smoothing:grayscale;background-size:16px;min-height:26px;min-width:26px;padding:0 8px;font-size:14px;line-height:26px;color:#0a5e66;background-color:hsla(0,0%,100%,.4);border:1px solid rgba(39,117,123,.15)}button:active,button:hover{background-color:rgba(39,117,123,.08);border-color:rgba(39,117,123,.3)}button.myft-follow{position:relative;padding-left:28px;margin:0 0 0 15px}button.myft-follow:before{display:inline-block;width:12px;height:12px;background-repeat:no-repeat;background-size:contain;background-position:50%;background-color:transparent;content:\" \";left:8px;margin:-6px 4px 0 0;position:absolute;top:50%}button.myft-follow.plus:before{background-image:url(\"https://static.ftimg.net/images/plus.svg\");background-image:url(\"https://static.ftimg.net/images/png/plus.png\")\\\\9}button.myft-follow.tick:before{background-image:url(\"https://static.ftimg.net/images/tick-thin.svg\");background-image:url(\"https://static.ftimg.net/images/png/tick-thin.png\")\\\\9}.header-container{background-color:#272b33;color:#fff;height:57px}.header-inner{height:57px;padding:0 30px;position:relative;max-width:1260px;margin:auto}.header-inner a{color:#fff}.masthead{text-align:center;height:57px;font-size:20px;line-height:57px;width:336px;max-width:100%;background-size:auto 36px;background-repeat:no-repeat;background-position:50%;background-image:url(https://static.ftimg.net/images/masthead36.png)}.header-side,.masthead{display:block;margin:auto}.header-side{position:absolute;top:0;bottom:0;height:100%;font-size:14px}.header-side a{color:#fff;height:100%;line-height:57px;cursor:pointer}.header-side a:active,.header-side a:hover{text-decoration:underline}.header-left{left:30px;width:120px}.current-edition{height:100%;line-height:57px;cursor:pointer}.current-edition span:after{content:\"\";display:inline-block;margin-left:10px;border-top:8px solid #fff;border-left:6px solid transparent;border-right:6px solid transparent}.expandable.header-left{overflow:visible}.expandable.header-left a{display:none}.expandable.header-left.on .current-edition{position:absolute;background-color:#505050;height:auto;left:-10px;padding-left:10px;padding-right:10px;z-index:9999999999999}.expandable.header-left.on .current-edition a{display:block;height:auto;line-height:140%;border-top:1px dotted #fff;padding:15px 0}.header-right{right:30px;text-align:right}.header-right a{display:inline-block;padding:0 5px;position:relative;border-width:0}.header-right a.more:before{content:\" \";position:absolute;width:2px;height:14px;top:50%;left:-3px;margin-top:-7px;background-color:#fdf8f2}.header-right a.last{padding-right:0}.input-oneline{box-sizing:border-box;-moz-appearance:none;-webkit-appearance:none;margin:0;height:36px;border:1px solid #cec6b9;border-radius:5px;padding:7px 5px 8px;width:100%;background-color:#fff;color:#333;font-family:BentonSans,sans-serif;font-size:16px;outline:0;-webkit-transition:box-shadow .15s ease-in;transition:box-shadow .15s ease-in;background-clip:padding-box}.input-submit-container{line-height:36px}.input-submit{display:block;float:right;box-sizing:border-box;vertical-align:middle;margin:0;outline:0;border-radius:5px;text-align:center;text-decoration:none;font-family:BentonSans,sans-serif;cursor:pointer;-webkit-transition:background-color .3s,box-shadow .15s ease-in;transition:background-color .3s,box-shadow .15s ease-in;-moz-appearance:none;-webkit-appearance:none;-webkit-user-select:none;-moz-user-select:none;-ms-user-select:none;user-select:none;background-clip:padding-box;padding:3px 14px;font-size:14px;line-height:16px;border-width:1px;color:#2e6e9e;background:0 0;border-color:#2e6e9e;color:#fff;background:#2e6e9e;border:1px solid #2e6e9e;padding:8px 18px;font-size:16px;line-height:18px}.member-box{display:none}.is-member .member-box{display:block}.is-member .visitor-box{display:none}@media only screen and (max-width:490px){.header-side{display:none}.header-container{height:44px}.header-inner{position:fixed;top:0;height:44px;z-index:999999999;width:100%;background-color:#333}.masthead{height:44px;background-size:auto 27px;background-image:url(https://static.ftimg.net/images/masthead1.png)}.is-wechat .o-nav{position:relative;overflow:hidden}}@media (-webkit-min-device-pixel-ratio:2),(min-resolution:192dpi){.masthead{background-image:url(https://static.ftimg.net/images/masthead72.png)}}@media only screen and (-webkit-min-device-pixel-ratio:2) and (max-width:490px),only screen and (min-resolution:192dpi) and (max-width:490px){.masthead{background-image:url(https://static.ftimg.net/images/masthead2.png)}}body{margin:0;padding:0}@media (max-width:61.24em){.header-container{display:none}}.hide-on-large-screen{display:none}@media (max-width:61.24em){.hide-on-large-screen{display:block}}.o-nav__placeholder{padding:0;margin:0;border:0}@media (max-width:61.24em){.o-nav__placeholder{height:44px;background-color:transparent}}@media (min-width:61.25em){.o-nav__placeholder{position:relative;z-index:99999999;height:104px;background-color:transparent}}@media \\\\0screen{.o-nav__placeholder{position:relative;z-index:1}}.o-nav{background-color:#272b33;color:#fff;position:relative}@media (max-width:61.24em){.o-nav{position:fixed;top:0;left:0;right:0;z-index:1;height:44px}}@media (min-width:61.25em){.o-nav:after{content:\"\";position:absolute;left:0;right:0;height:30px;-webkit-transition:height .3s;transition:height .3s;background-color:#505050}.o-nav-sticky .o-nav{position:fixed;top:0;left:0;right:0;z-index:999999}.o-nav-sticky .o-nav:after{height:0}}.o-nav__meganav-placeholder{display:none}.o-nav__outer{position:relative;box-sizing:border-box;margin-left:auto;margin-right:auto;min-width:240px;max-width:1260px;padding-left:10px;padding-right:10px}@media (min-width:61.25em){.o-nav__outer{padding:0 30px}}@media \\\\0screen{.o-nav__outer{padding-left:20px;padding-right:20px;width:980px}}.o-nav__inner{position:relative;box-sizing:border-box;display:block;min-width:100%;max-width:100%;width:100%}.site-map{box-sizing:border-box;margin-left:auto;margin-right:auto;min-width:240px;max-width:1260px;padding:5px 10px 10px}@media (min-width:61.25em){.site-map{display:none}}.site-map__container{box-sizing:border-box;display:block;min-width:100%;max-width:100%;width:100%}.site-map__items li{display:inline-block;background-image:url(\"http://s.ftimg.net/img/png/arrow-right.png\");background-image:url(\"http://s.ftimg.net/img/svg/arrow-right.svg\");background-repeat:no-repeat;background-position:0;background-size:15px;padding-left:15px}.site-map__items li a{font-size:1.05em;line-height:120%}.site-map__items li a:hover{color:#2e6e9e}.site-map__items li:first-child{background-image:none;padding-left:0}.warn-content{background-color:#f6e9d9;display:none;-webkit-box-pack:center;-ms-flex-pack:center;justify-content:center;-webkit-box-align:center;-ms-flex-align:center;align-items:center;text-align:center;font-size:12px;padding:10px;position:relative;z-index:1}.warn-content span{color:#514f4e;vertical-align:middle}.warn-content .close-img{display:inline-block;width:15px;height:15px;margin:0 0 0 10px;background-size:contain;background-repeat:no-repeat;background-image:url(data:image/png;base64,iVBORw0KGgoAAAANSUhEUgAAABUAAAAUCAIAAADtKeFkAAAAGXRFWHRTb2Z0d2FyZQBBZG9iZSBJbWFnZVJlYWR5ccllPAAAAyRpVFh0WE1MOmNvbS5hZG9iZS54bXAAAAAAADw/eHBhY2tldCBiZWdpbj0i77u/IiBpZD0iVzVNME1wQ2VoaUh6cmVTek5UY3prYzlkIj8+IDx4OnhtcG1ldGEgeG1sbnM6eD0iYWRvYmU6bnM6bWV0YS8iIHg6eG1wdGs9IkFkb2JlIFhNUCBDb3JlIDUuMy1jMDExIDY2LjE0NTY2MSwgMjAxMi8wMi8wNi0xNDo1NjoyNyAgICAgICAgIj4gPHJkZjpSREYgeG1sbnM6cmRmPSJodHRwOi8vd3d3LnczLm9yZy8xOTk5LzAyLzIyLXJkZi1zeW50YXgtbnMjIj4gPHJkZjpEZXNjcmlwdGlvbiByZGY6YWJvdXQ9IiIgeG1sbnM6eG1wPSJodHRwOi8vbnMuYWRvYmUuY29tL3hhcC8xLjAvIiB4bWxuczp4bXBNTT0iaHR0cDovL25zLmFkb2JlLmNvbS94YXAvMS4wL21tLyIgeG1sbnM6c3RSZWY9Imh0dHA6Ly9ucy5hZG9iZS5jb20veGFwLzEuMC9zVHlwZS9SZXNvdXJjZVJlZiMiIHhtcDpDcmVhdG9yVG9vbD0iQWRvYmUgUGhvdG9zaG9wIENTNiAoTWFjaW50b3NoKSIgeG1wTU06SW5zdGFuY2VJRD0ieG1wLmlpZDpFRUQ1MkM3RDcxMTUxMUU4ODRDNkRFOEYxODUwQTY1RiIgeG1wTU06RG9jdW1lbnRJRD0ieG1wLmRpZDpFRUQ1MkM3RTcxMTUxMUU4ODRDNkRFOEYxODUwQTY1RiI+IDx4bXBNTTpEZXJpdmVkRnJvbSBzdFJlZjppbnN0YW5jZUlEPSJ4bXAuaWlkOkVFRDUyQzdCNzExNTExRTg4NEM2REU4RjE4NTBBNjVGIiBzdFJlZjpkb2N1bWVudElEPSJ4bXAuZGlkOkVFRDUyQzdDNzExNTExRTg4NEM2REU4RjE4NTBBNjVGIi8+IDwvcmRmOkRlc2NyaXB0aW9uPiA8L3JkZjpSREY+IDwveDp4bXBtZXRhPiA8P3hwYWNrZXQgZW5kPSJyIj8+MrgCiAAAAUhJREFUeNpibNy6QVWQl4EscP/jVxY1QV5/ZWny9O98+JKJgTJAVf3ZxXUPHz/Foxoom1VUi1N/Y1VBSXXrrTv3sWoGigNlgWpw6hcRFpo9qaOmuefajdtomoEiQHGgrKiIMD7/CwjwzZ3a1dQ56cKlq3BBIBsoAhQHyhIOP14e7nnTunqnzDlx+jyQe/zUOSAbKAIUx1TMgtWrXJycQNvS86pOnrlw4dI1IJuNlZW0+ANqCAnwnLtoZWiAJy7N+PRv2LJz597DZw5u2r7n0Matu0jTv3zNpiMnzk7srGNjY5vUVX/4+JkVazcTq3/e4pXXb97paaliZGQEcoEkkA2MP6A4Yf1TZy9++fpdU3URmjhQ5MWrt0BZfPr3HTr2+/fvyqJMrE6tKs4CygLVIAsyLj+2dyjnX5Z7n77ueviSPM13PnwGCDAAL2yWYf4XJakAAAAASUVORK5CYII=)}@media (min-width:46.25em){.warn-content{margin:50px 0 -50px}}@media only screen and (max-width:690px){.warn-content{line-height:160%;margin:50px 0 -50px}}@media (min-width:61.25em){.warn-content{margin:0}}@media only screen and (max-width:690px){.is-subscriber .warn-content{display:none!important}}.o-header__masthead-mobile{padding:11.5px 0;margin:0}@media (min-width:61.25em){.o-header__masthead-mobile{display:none}}.o-header__masthead-mobile>a{display:block;margin:0 auto;padding:0;height:21px;width:98.7px;background-image:url(\"http://s.ftimg.net/img/png/brand-ftc-masthead-white.png\");background-image:url(\"http://s.ftimg.net/img/svg/brand-ftc-masthead-white.svg\");background-repeat:no-repeat;background-position:50%;background-size:contain}.o-header__masthead-mobile>a span{display:none}@media (max-width:46.24em){.o-nav--open{overflow-y:hidden;height:100%}}.o-nav__container{position:absolute;top:0;height:44px}.o-nav__meganav{list-style:none;margin:0;padding:0}@media (max-width:61.24em){.o-nav__meganav{background-color:#fff1e0;color:#272b33;position:absolute;display:none}.o-nav__meganav:before{content:\"\";display:block;box-sizing:border-box;position:absolute;top:0;left:0;bottom:0;width:41.6666666667%;background-color:#272b33;color:#fff;z-index:-1}.nav-toggle[aria-pressed=true]~.o-nav__meganav{position:fixed;top:44px;bottom:0;right:0;left:0;z-index:1;overflow-y:scroll;width:100%;display:block}}@media (max-width:61.24em){.is-member .nav-section.login,.nav-section.logout{display:none}.is-member .nav-section.logout{display:block}}.nav-section-head{box-sizing:border-box}@media (max-width:61.24em){.nav-section-head{border:0;border-radius:0;outline:none;padding:0 15px;margin:0;display:block;min-width:41.6666666667%;max-width:41.6666666667%;width:41.6666666667%;height:40px;line-height:40px;text-align:right;text-decoration:none;background-color:#272b33;color:#fff;font-size:14px;font-weight:700}.nav-section-head:after{content:\"\";padding-left:1em;margin-right:-15px;background-image:url(\"https://static.ftimg.net/ftc-icons/png/white/arrow-right-white.png\");background-image:url(\"https://static.ftimg.net/ftc-icons/svg/white/arrow-right-white.svg\");display:inline-block;width:10px;height:10px;background-size:contain;background-repeat:no-repeat;background-position:50%}.nav-section-head[aria-selected=true]{background-color:#fff1e0;color:#272b33;font-weight:700}.nav-section-head[aria-selected=true]:after{background-image:url(\"https://static.ftimg.net/ftc-icons/png/arrow-right.png\");background-image:url(\"https://static.ftimg.net/ftc-icons/svg/arrow-right.svg\");display:inline-block;width:10px;height:10px;background-size:contain;background-repeat:no-repeat;background-position:50%}}.nav-section-head.desktop{display:none}.nav-section-head.mobile{display:block}@media (min-width:61.25em){.nav-section-head.mobile{display:none}}.nav-items{box-sizing:border-box;list-style:none;margin:0;padding:0}@media (max-width:61.24em){.nav-items{padding-left:10px;min-width:58.3333333333%;max-width:58.3333333333%;width:58.3333333333%;position:fixed;right:0;top:44px;bottom:0;padding:0 0 0 15px;min-height:340px;overflow-y:scroll;background-color:#fff1e0;color:#272b33}.nav-section-head~.nav-items{display:none}.nav-section-head[aria-selected=true]~.nav-items{display:block}}.nav-link{box-sizing:border-box;text-decoration:none}@media (max-width:61.24em){.nav-link{border:0;border-radius:0;outline:none;padding:0 15px;margin:0;display:block;min-width:41.6666666667%;max-width:41.6666666667%;width:41.6666666667%;height:40px;line-height:40px;text-align:right;text-decoration:none;background-color:#272b33;font-size:14px;font-weight:700}.nav-link,.nav-link:hover{color:#fff}.nav-items .nav-link{display:block;padding-left:0;padding-right:0;min-width:0;max-width:none;width:auto;height:32px;line-height:32px;text-align:left;background-color:#fff1e0;color:#272b33;font-size:16px;font-weight:400}.nav-items .nav-link:focus,.nav-items .nav-link:hover{text-decoration:underline}}.nav-sub-items{display:none}.nav-toggle{background-color:#272b33;color:#fff;box-sizing:border-box;border:0;padding:0;margin:0;outline:none;cursor:pointer;display:inline-block;line-height:44px;height:100%;width:44px;text-align:left;vertical-align:middle}@media (min-width:61.25em){.nav-toggle{display:none}}.nav-toggle span{display:none}@media (max-width:61.24em){.nav-toggle:before{content:\"\";vertical-align:middle;background-image:url(\"https://static.ftimg.net/ftc-icons/png/white/hamburger-white.png\");background-image:url(\"https://static.ftimg.net/ftc-icons/svg/white/hamburger-white.svg\")}.nav-toggle:before,.nav-toggle[aria-pressed=true]:before{display:inline-block;width:20px;height:20px;background-size:contain;background-repeat:no-repeat;background-position:50%}.nav-toggle[aria-pressed=true]:before{background-image:url(\"https://static.ftimg.net/ftc-icons/png/white/cross-white.png\");background-image:url(\"https://static.ftimg.net/ftc-icons/svg/white/cross-white.svg\")}}@media (min-width:61.25em){.o-nav__container{position:relative}}@media \\\\0screen{.o-nav__container{position:relative}}@media (min-width:61.25em){.o-nav__meganav{background-color:#272b33;color:#fff;white-space:nowrap}}@media (min-width:61.25em){.nav-section{display:inline-block;position:relative}.nav-section:hover,.nav-section[aria-selected=true]{background-color:#505050}.nav-section.mobile{display:none}.nav-section[aria-selected=true]{position:static}.nav-section.nav-section-new .nav-section-head{position:relative}.nav-section.nav-section-new .nav-section-head:before{content:\"\";position:absolute;right:0;top:2px;height:9px;width:21px;background-image:url(https://static.ftimg.net/ftc-icons/png/new-nav.png);background-size:contain;background-repeat:no-repeat;background-position:50%}}@media (min-width:61.25em){.nav-section-head.desktop{border:0;border-radius:0;padding:0 15px;margin:0;line-height:44px;display:block;text-decoration:none;background-color:inherit;color:#fff;font-size:17px;-webkit-transition:background-color .3s;transition:background-color .3s}}@media (min-width:61.25em){.nav-items,.nav-section-head.desktop:hover{background-color:#505050;color:#fff}.nav-items{position:absolute;left:0;min-width:100%;z-index:1;display:none}.nav-section-head.desktop:hover~.nav-items,.nav-section:hover .nav-items{z-index:5;display:block}.o-nav-sticky .nav-section-head.desktop:hover~.nav-items,.o-nav-sticky .nav-section:hover .nav-items{display:none}.nav-section[aria-selected=true] .nav-items{display:inline;height:30px;-webkit-transition:height .3s;transition:height .3s}.o-nav-sticky .nav-section[aria-selected=true] .nav-items{height:0;overflow:hidden}}@media (min-width:61.25em){.nav-item{box-sizing:border-box;position:relative;min-width:100%;display:block;border-top:1px solid #666}.nav-section[aria-selected=true] .nav-item{display:inline-block;width:auto;min-width:0;border:0}.nav-item.mobile,.nav-section[aria-selected=true] .nav-item.mobile{display:none}}@media (min-width:61.25em){.nav-link{margin:0;display:block;word-break:keep-all;white-space:nowrap;line-height:30px;height:30px;font-size:14px;cursor:pointer;color:#fff;padding:0 25px 0 15px;position:relative}.nav-section[aria-selected=true] .nav-link{padding:0 6px}.nav-item[aria-selected=true] .nav-link,.nav-link:hover{background-color:#0a5e66;color:#fff}.nav-item[aria-haspopup=true] .nav-link:after{content:\"\";background-image:url(\"https://static.ftimg.net/ftc-icons/png/white/arrow-down-white.png\");background-image:url(\"https://static.ftimg.net/ftc-icons/svg/white/arrow-down-white.svg\");display:inline-block;width:10px;height:10px;background-size:contain;background-repeat:no-repeat;background-position:50%;position:absolute;right:10px;top:50%;margin-top:-5px}.nav-section[aria-selected=true] .nav-item[aria-haspopup=true] .nav-link:after{position:static;right:auto;top:auto;margin:0 0 0 5px}.nav-item[aria-haspopup=true] .nav-link:hover:after,.nav-item[aria-haspopup=true]:hover .nav-link:after{background-image:url(\"https://static.ftimg.net/ftc-icons/png/white/arrow-right-white.png\");background-image:url(\"https://static.ftimg.net/ftc-icons/svg/white/arrow-right-white.svg\")}.nav-section[aria-selected=true] .nav-item[aria-haspopup=true] .nav-link:hover:after,.nav-section[aria-selected=true] .nav-item[aria-haspopup=true]:hover .nav-link:after{background-image:url(\"https://static.ftimg.net/ftc-icons/png/white/arrow-up-white.png\");background-image:url(\"https://static.ftimg.net/ftc-icons/svg/white/arrow-up-white.svg\")}}@media (min-width:61.25em){.nav-sub-items{list-style-type:none;margin:0;padding:0;position:absolute;left:100%;top:0;min-width:100%;display:none;background-color:#505050}.nav-sub-items li{border-top:1px solid #666}.nav-sub-items a{color:#fff;padding:0 20px;height:30px;line-height:30px;font-size:12px;display:block;text-decoration:none;white-space:nowrap}.nav-sub-items a:hover{background-color:#0a5e66}.nav-item:hover .nav-sub-items,.nav-link:hover~.nav-sub-items{display:block}.nav-section[aria-selected=true] .nav-sub-items{left:0;top:100%}}.o-nav__extra-tools{display:none;list-style-type:none;margin:0;padding:0}@media (min-width:76.25em){.o-nav__extra-tools{display:block;height:30px;-webkit-transition:height .3s;transition:height .3s;position:absolute;right:0;top:100%;z-index:10}.o-nav-sticky .o-nav__extra-tools{height:0;overflow:hidden}.o-nav__extra-tools .tools-section{display:inline-block;position:relative;height:30px}.o-nav__extra-tools .tools-section[aria-haspopup=true] .tools-section-head:after{content:\"\";padding-left:5px;background-image:url(\"https://static.ftimg.net/ftc-icons/png/white/arrow-down-white.png\");background-image:url(\"https://static.ftimg.net/ftc-icons/svg/white/arrow-down-white.svg\");display:inline-block;width:10px;height:10px;background-size:contain;background-repeat:no-repeat;background-position:50%}.o-nav__extra-tools .tools-section-head{text-decoration:none;display:block;word-break:keep-all;white-space:nowrap;line-height:30px;font-size:14px;color:#fff;padding:0 5px 0 0}.o-nav__extra-tools .follow__rss span{text-indent:-999em;background-image:url(\"https://static.ftimg.net/ftc-icons/png/rss.png\");background-image:url(\"https://static.ftimg.net/ftc-icons/svg/rss.svg\");display:inline-block;width:20px;height:20px;background-size:contain;background-repeat:no-repeat;background-position:50%;display:block;height:30px}.o-nav__extra-tools .tools-section-head:hover:after,.o-nav__extra-tools .tools-section:hover .tools-section-head:after{background-image:url(\"https://static.ftimg.net/ftc-icons/png/white/arrow-up-white.png\");background-image:url(\"https://static.ftimg.net/ftc-icons/svg/white/arrow-up-white.svg\")}.o-nav__extra-tools .tools-items{list-style-type:none;margin:0;padding:0;position:absolute;right:0;min-width:100%;z-index:1;display:none;background-color:#505050}.o-nav__extra-tools .tools-items li{border-top:1px solid #666}.o-nav__extra-tools .tools-items a{color:#fff;padding:0 10px;height:30px;line-height:30px;font-size:12px;display:block;text-decoration:none;white-space:nowrap}.o-nav__extra-tools .tools-items a:hover{background-color:#0a5e66}.o-nav__extra-tools .tools-section-head:hover~.tools-items,.o-nav__extra-tools .tools-section:hover .tools-items{z-index:5;display:block}}@media (max-width:61.24em){.o-nav__placeholder{position:relative}}.current-page{position:absolute;left:0;bottom:0}.o-nav__search{z-index:10;height:44px;float:right}.o-nav__search,.o-nav__search button{background-color:transparent;box-sizing:border-box;padding:0;margin:0;width:44px}.o-nav__search button{border:none;outline:none;cursor:pointer;text-align:center;height:100%}.o-nav__search button span{color:#fff}.o-nav__search-toggle{width:44px;height:44px;display:inline-block;position:relative;z-index:10}.o-nav__search-toggle .search-toggle--close,.o-nav__search-toggle .search-toggle--open{display:none}.o-nav__search-toggle:after{content:\"\";vertical-align:middle;background-image:url(\"https://static.ftimg.net/ftc-icons/png/white/search-white.png\");background-image:url(\"https://static.ftimg.net/ftc-icons/svg/white/search-white.svg\")}.o-nav__search-toggle:after,.o-nav__search-toggle[aria-expanded=true]:after{display:inline-block;width:20px;height:20px;background-size:contain;background-repeat:no-repeat;background-position:50%}.o-nav__search-toggle[aria-expanded=true]:after{background-image:url(\"https://static.ftimg.net/ftc-icons/png/white/cross-white.png\");background-image:url(\"https://static.ftimg.net/ftc-icons/svg/white/cross-white.svg\")}#search-form{box-sizing:border-box;background-color:#272b33;padding:0 44px;position:absolute;top:0;right:-10px;z-index:9;height:44px;width:0;visibility:hidden}#search-form[aria-hidden=false]{width:100%;right:44px;visibility:visible}.search-input{box-sizing:border-box;color:#fff;background-color:transparent;border:1px solid transparent;border-radius:0;margin:0 0 0 44px;padding:2px 26px 1px 12px;height:100%;outline:none;-moz-appearance:none;-webkit-appearance:none;font-size:inherit;display:block;cursor:text;width:100%;background-color:#272b33;border:1px solid #a7a59b;padding-right:49px;padding-left:5px;-webkit-transition:width .2s;transition:width .2s}.search-button{position:absolute;left:44px;top:0}.search-button:after{content:\"\";vertical-align:middle;background-image:url(\"https://static.ftimg.net/ftc-icons/png/white/search-white.png\");background-image:url(\"https://static.ftimg.net/ftc-icons/svg/white/search-white.svg\");display:inline-block;width:20px;height:20px;background-size:contain;background-repeat:no-repeat;background-position:50%}.search-button span{display:none;z-index:0}.toprecommend-part{box-sizing:content-box;background-color:#f2e5da;padding-top:8px;height:96px;margin-top:-30px;margin-bottom:30px}@media only screen and (max-width:980px){.toprecommend-part{display:none}}.toprecommend-container{margin:0 auto;max-width:1220px;padding:0 20px;height:100%}.toprecommend-title{font-size:16px;line-height:20px;margin-top:0;margin-bottom:8px;padding-bottom:8px;border-bottom:1px solid #ccc1b7;font-weight:600}.toprecommend-title a{color:#000;text-decoration:none;cursor:pointer}.toprecommend-list{font-size:0;margin-top:8px;margin-bottom:0;height:59px}@media only screen and (min-width:740px){.toprecommend-list{margin-left:-20px}}.toprecommend-item{display:inline-block;width:25%;height:100%;padding-left:20px}.toprecommend-item-content{padding-bottom:12px;font-size:14px;line-height:16px;position:relative;width:100%;text-rendering:optimizeLegibility;-webkit-font-smoothing:antialiased}.toprecommend-item-title{width:70%;left:30%;position:absolute}.toprecommend-item-title a{font-size:14px;line-height:16px;font-weight:600;color:#000}.toprecommend-item-title a:visited{color:#66605c}.toprecommend-item-title a:hover{color:#736c67}.toprecommend-item-image{width:30%;left:0;position:absolute;padding:4px 10px 0 0}.toprecommend-item-image img{display:block}.toprecommend-item-image a{display:block;text-decoration:none;cursor:pointer}.adsbox{position:absolute}.bn-ph{position:relative;margin-bottom:30px}.banner-container{width:100%}.banner-container.is-fix{position:fixed;top:44px;z-index:5}.banner-inner{max-width:1260px;margin:0 auto}.banner-iframe>div{margin:0 auto!important}.banner-content{margin:0 30px;padding:15px;background:#f6e9d8;text-align:center;font-size:0;position:relative}.banner-content>div{margin:0 auto!important;padding-top:15px;display:block!important;text-align:center}.banner-content figure{position:relative}.banner-content figure img{position:absolute;width:100%;height:100%;top:0;left:0;right:0;bottom:0}.banner-content:before,.is-ad figure:after{content:\"广告\";position:absolute;top:100%;right:7.5px;font-size:12px;height:20px;line-height:20px;text-align:right;color:#505050}.hide-sign.banner-content:before{display:none}.sponsor-container,.table-container{padding:0 15px}video::-internal-media-controls-download-button{display:none}.mpu-container{width:300px;margin:0 auto 50px;position:relative}.mpu-container:before{content:\"广告\";position:absolute;top:100%;right:7.5px;font-size:12px;text-align:right;color:#505050}.mpu-container figure{height:250px;margin-bottom:30px}.high-impact.banner-container iframe{margin-top:0}.high-impact iframe{height:100%!important}.high-impact .banner-content{padding:0;background:#000;height:240px}.full-width.bn-ph,.highimpact.bn-ph,.standard.bn-ph{height:auto;margin-bottom:30px}.full-width .banner-content,.highimpact .banner-content,.standard .banner-content{padding:0}.full-width .banner-content>.banner-iframe,.highimpact .banner-content>.banner-iframe,.standard .banner-content>.banner-iframe{margin-top:0}.highimpact .banner-content{height:240px}.standard figure{padding-bottom:10%}.highimpact figure{padding-bottom:20%}.highimpact .P-only figure{padding-bottom:25%}.full-width .banner-content{margin:0}.full-width .banner-content>div{padding-top:0}.full-width.bn-ph{margin-bottom:15px}.oneStory{margin:0 -7.5px!important}.storyInner{padding:15px 22.5px!important;border-top:1px solid #e9decf}.storyInner .headline{font-weight:700;font-size:1.2em;padding-bottom:7.5px}.storyInner .leftimage{float:left;margin:4px 15px 15px 0}.storyInner .lead{color:#777;padding-bottom:15px;line-height:161.8%;font-size:.8em!important}.hide-iframe .banner-iframe,.hide-iframe iframe{display:none}@media only screen and (min-width:490px) and (max-width:1059px){.bn-ph{margin-bottom:45px}.banner-content{margin:0;padding:0;background:transparent;height:90px}.banner-content>.banner-iframe{margin-top:0}}@media only screen and (max-width:490px){.bn-ph{width:100%;padding-top:25%;position:relative;background:#f6e9d8;height:0;margin-bottom:30px}.bn-ph .banner-content{margin:auto;position:absolute;display:block;top:0;left:0;right:0;bottom:0;width:100%;height:100%;padding:0}.bn-ph .banner-iframe{margin:0;height:100%!important}}@media only screen and (max-width:320px){.storyInner .leftimage,.storyInner .leftimage img{width:150px!important;height:84px!important}}.db-ad>div{text-align:center}.subscription-promo-container{height:56px;background:#14bdcc}.subscription-promo-inner{display:table;height:56px;margin:0 auto}.subscription-promo-box{cursor:pointer;font-size:16px;line-height:20px;display:table-cell;vertical-align:middle;text-align:right;padding-right:310px;background:url(\"https://www.ft.com/__origami/service/image/v2/images/raw/http%3A%2F%2Fwww.ft.com%2F__assets%2Fcreatives%2Fproduct%2FPrintPackshot-2017-09-07_smallest.png?source=next\") 100% 100% no-repeat;background-size:auto 56px;border-bottom:0}.subscription-promo-text{display:inline-block;box-sizing:border-box;vertical-align:middle;margin:0;text-align:center;text-decoration:none;background-clip:border-box;background-size:21px 21px;min-height:28px;min-width:60px;padding:6px 8px;font-size:14px;line-height:14px;background-color:#000;color:#fff;border:1px solid #0d7680;word-spacing:1px}.is-subscriber .subscription-promo-container,.subscription-promo-container.premium,.subscription-promo-container.standard{display:none}.is-subscriber.is-premium .subscription-promo-container.premium,.is-subscriber.is-standard .subscription-promo-container.standard{display:block}@media only screen and (max-width:980px){.subscription-promo-container{position:fixed;width:100%;bottom:0;z-index:999999999}.subscription-promo-container.premium,.subscription-promo-container.standard{position:static}}@media only screen and (max-width:490px){.subscription-promo-container{display:none}.subscription-promo-container.show-image-in-mobile{display:block}.is-subscriber .show-image-in-mobile.subscription-promo-container,.subscription-promo-container.show-image-in-mobile.premium,.subscription-promo-container.show-image-in-mobile.standard{display:none}.is-subscriber.is-premium .show-image-in-mobile.subscription-promo-container.premium,.is-subscriber.is-standard .show-image-in-mobile.subscription-promo-container.standard{display:block;margin-top:51.5px;margin-bottom:-51.5px}.is-subscriber.is-premium .show-image-in-mobile.subscription-promo-container.premium.in-app,.is-subscriber.is-standard .show-image-in-mobile.subscription-promo-container.standard.in-app{margin-top:15px;margin-bottom:15px}.subscription-promo-box{padding-right:180px}}.block-container{margin-bottom:15px}.block-container.side-video{margin-bottom:30px}.block-container a{color:#333}.block-container.fixside .side-inner{position:fixed;bottom:30px;width:360px}.block-container.fixside.sticktop .side-inner{bottom:auto;top:74px}.block-container.fixside.side-left .side-inner{bottom:0}.block-container.bottomside .side-inner{position:absolute;bottom:30px;width:360px}.block-container.bottomside.side-left .side-inner{bottom:0}.block-container.fixmain .content-container{position:fixed;bottom:0;max-width:855px}.block-container.fixmain.sticktop .content-container{bottom:auto;top:74px}.block-container.fixmain .content-inner{border-width:0}.block-container.fixmain.side-left .content-container{position:static;float:right}.block-container.fixmain.side-left .content-inner{position:fixed;max-width:840px;border-width:0;bottom:0;padding-left:0;padding-right:0}.block-container.fixmain.side-left .side-container{float:left;margin-right:0;margin-left:0}.block-container.bottommain .content-container{position:absolute;bottom:0;max-width:855px}.block-container.bottommain .content-inner{border-width:0}.block-container.bottommain.side-left .content-container{position:static;float:right}.block-container.bottommain.side-left .content-inner{position:absolute;max-width:840px;border-width:0;bottom:0;padding-left:0;padding-right:0}.block-container.bottommain.side-left .side-container{float:left;margin-right:0;margin-left:0}.block-container.no-side.narrow-block{max-width:728px;margin-left:auto;margin-right:auto}.block-inner{max-width:1260px;padding:0 15px;margin:auto}.block-image-container{text-align:center;padding:0 15px 30px}.block-title{display:none}.list-title{font-size:1.2em;position:relative;height:20px;margin:0 15px 15px;clear:both}.list-title a.list-link{line-height:20px;position:absolute;height:100%;left:0;padding-right:10px;background-color:#fff1e5}.list-title a.list-link:active,.list-title a.list-link:hover{color:#9e2f50}.list-title a.list-link.empty{background-color:transparent}.list-title a.sponsor-link figure{height:30px;background-color:#fff1e5;position:absolute;right:0;top:-5px;padding-left:5px}.list-title a.sponsor-link figure img{height:30px}.list-title:before{content:\"\";position:absolute;height:9px;top:0;bottom:0;width:100%;margin:auto;background:url(\"https://static.ftimg.net/img/front-page-section-header.png\") repeat transparent}.item-container{float:left}.item-inner{padding:56.25% 15px 30px;position:relative}.ebook .item-inner{padding:133.333333333% 15px 0}.ebook .image{padding-bottom:0}.item-headline a,.relative-container a{border-bottom:1px dotted transparent}.item-headline a:active,.item-headline a:hover,.relative-container a:active,.relative-container a:hover{border-bottom-color:#2e6e9e;color:#2e6e9e}.item-headline{font-weight:700;font-size:1.05em;line-height:120%;margin-bottom:10px}.headline-only .item-headline{margin-bottom:0}.item-lead{color:#505050;font-size:.9em}.item-lead img,.item-lead p{margin-bottom:1em}.item-tag{color:#9e2f50;font-size:14px;font-weight:700;padding-bottom:15px}.item-tag a{color:#9e2f50;vertical-align:middle}.item-tag a:active,.item-tag a:hover{border-bottom-color:#333;color:#333}.item-time{color:#8b572a;font-weight:400;font-size:12px;padding-top:15px}.item-time.highlight{color:#9e2f50}.item-bottom{clear:both}.image{display:block}.relative-container{margin-top:15px}.relative{font-size:.9em;font-weight:400}.relative:before{content:\"•\";padding-right:5px;color:#505050}.no-image .item-inner,.static-image .item-inner{padding-top:0}.no-image .image,.static-image .image{position:static;margin-bottom:1em}.no-image .image{display:none}.no-lead .item-headline{margin-bottom:0}.side-list{padding-bottom:30px}.image{position:absolute;top:0;left:15px;right:15px;padding-bottom:5px}.image figure{position:relative;padding-bottom:56.25%;background-color:#f6e9d8;background-size:cover;background-repeat:no-repeat;-webkit-transition:opacity 1s ease-in;transition:opacity 1s ease-in;overflow:hidden;display:block}.image figure img{position:absolute;left:0;right:0;max-width:none}.image figure.is-retina img{width:100%}.image img{-webkit-transition:-webkit-transform .5s ease;transition:-webkit-transform .5s ease;transition:transform .5s ease;transition:transform .5s ease,-webkit-transform .5s ease}.image:active img,.image:hover img{-webkit-transform:scale(1.05);transform:scale(1.05)}.image.leftPic,.image.rightPic{position:static}.image.portrait-img figure{padding-bottom:133.33333333%}.image.wide-image figure{padding-bottom:33.333333333%}.resized .image figure img{width:100%}.icon-title .item-inner{padding:0 15px 30px 54px}.icon-title.no-image .item-inner{padding-left:15px}.icon-title .image{width:24px;height:24px}.icon-title .image figure{padding-bottom:100%;background-color:transparent}.icon-title .item-headline{height:24px;line-height:24px}.headshot-title .item-inner{padding:0 15px 30px 90px}.headshot-title.no-image .item-inner{padding-left:15px}.headshot-title .image{width:60px;height:60px;overflow:hidden}.headshot-title .image figure{padding-bottom:100%;background-color:transparent}.headshot-title .item-headline{height:60px;line-height:60px}.headshot-lead .item-inner{padding:0 15px 30px}.headshot-lead .image{width:120px;height:160px;margin-right:15px;position:static;float:left;overflow:hidden}.headshot-lead .image figure{background-color:transparent}.has-side .block-inner{padding-right:30px;position:relative}.has-side .content-container{float:left;width:100%}.has-side .content-inner{border-right:360px solid #f6e9d8;padding-right:15px}.has-side.side-left .block-inner{padding-right:0;padding-left:30px}.has-side.side-left .content-container{float:right}.has-side.side-left .content-inner{border-right:0;border-left:360px solid #f6e9d8;padding-right:15px;padding-left:15px}.has-side.side-left .side-container{float:right;margin-right:-360px}.side-container{float:right;width:360px;background-color:#f6e9d8;margin-left:-360px}.side-container iframe{margin:0 auto 30px;display:block}.side-container iframe.ad-hidden{margin:0 auto}.side-container iframe#ribbon{margin:15px auto}.side-container .list-title{position:static;padding:7px 14px;background:#e9decf;border-style:solid;border-color:#a7a59b;border-width:1px 0;border-bottom-style:dotted;clear:both;display:block;height:auto;margin:0 0 15px;font-weight:400}.side-container .list-title a{color:#000;position:static;background-color:transparent;display:block}.side-container .list-title:before{display:none}.side-container .item-container{float:none;width:100%}.side-container .item-inner{padding:0 0 15px;position:static;border-top:1px dotted #cec6b9}.side-container .item-headline{padding:15px 15px 0;margin-bottom:0;font-size:.9em;font-weight:400}.side-container .first-headline .item-inner{border-top-width:0}.side-container .first-headline .item-headline{padding-top:0}.side-container .interactives{padding-bottom:30px}.side-container .interactives .item-headline{padding:15px 15px 0}.side-container .videos{padding-bottom:30px}.side-container .image{position:static;float:right;width:82px;padding:2px 0 0 5px;clear:right}.side-container .image.first-child{float:none;width:100%;padding:0}.side-container .image.square-icon figure{padding-bottom:100%}.side-container .item-container.first{position:relative;margin-bottom:15px}.side-container .item-container.first .item-inner{padding:0;border:0}.side-container .item-container.first .image{float:none;width:100%;padding:0}.side-container .item-container.first .item-headline{font-size:1em;position:absolute;bottom:0;background-color:rgba(0,0,0,.7);color:#fff;padding-bottom:15px;width:100%}.side-container .item-container.first .item-headline a{color:#fff;font-weight:400}.side-container .imageAndLead .item-container.first,.side-container .imageAndText .item-container.first{margin-bottom:0}.side-container .imageAndLead .item-container.first .item-headline,.side-container .imageAndText .item-container.first .item-headline{position:static;background-color:transparent;color:inherit}.side-container .imageAndLead .item-container.first .item-headline a,.side-container .imageAndText .item-container.first .item-headline a{color:inherit}.side-container .imageAndLead .item-container.first .item-headline{padding-bottom:7.5px}.side-container .imageAndLead .item-container.first .item-headline a{font-weight:800}@media only screen and (max-width:490px){.side-container .headShot .item-inner{margin:0 15px 15px!important}}.side-container .portrait-img-right{float:left;margin:15px 15px 0;padding:0!important}@media only screen and (max-width:490px){.side-container .portrait-img-right{margin:15px 15px 0 0}.side-container .item-headline-lead-right{margin-right:0}}@media only screen and (min-width:490px){.side-container .item-headline-lead-right{margin-right:15px}.side-container .item-headline-lead-right .item-lead{padding-left:15px}}.side-container .item-headline-lead-right .item-headline{padding:15px 0 10px 15px}.side-container .item-headline-lead-right .item-headline a{color:#000;font-weight:600}.item-description{padding:0 15px}.smallest{font-size:.8em}.smaller{font-size:.9em}.bigger{font-size:1.2em}.biggest{font-size:1.6em}.selected{position:relative;background-color:#f6e9d8}.selected:before{content:\"\";display:block;position:absolute;right:15px;top:0;bottom:0;width:44px;background-size:20px;background-position:100%;background-repeat:no-repeat;background-image:url(https://www.ft.com/__origami/service/image/v2/images/raw/fticon:tick-thin?format=svg&source=o-icons);background-image:url(https://www.ft.com/__origami/service/image/v2/images/raw/fticon:plus?width=32&format=png&source=o-icons)\\\\9}.top10{padding:0 15px 15px}.top10 li{padding:15px 0;border-top:1px dotted #cec6b9}.top10 li.mp1{padding-top:0;border:0}.top10 li span{color:#9e2f50}.video-package .items{padding:0 7.5px}.video-package .item-inner{padding:56.25% 7.5px 30px}.video-package.last-child .item-container>.item-inner{padding-bottom:0}.video-package .item-headline{font-size:.75em;font-weight:400}.video-package .image{left:7.5px;right:7.5px;border:2px solid transparent;padding-bottom:0}.video-package .image.active,.video-package .image:hover,.video-package .on .image{border-color:#2e6e9e}.video-package-inner.item-inner{position:relative;padding:0 7.5px 15px}.video-package-inner .image{position:static;border-width:0;margin-bottom:0}.video-package-inner .image figure{background-color:#000;color:#fff}.video-package-title{background-color:#000;padding:7.5px}.video-package-title a{color:#fff}.video-package-title a:active,.video-package-title a:hover{text-decoration:underline}.P-only{display:none}.side-by-side{float:left}.side-by-side .item-container{float:none;width:100%;position:relative}.side-by-side .item-container.first .item-inner{padding:56.25% 15px 15px;border:0}.side-by-side .item-container.first.no-image .item-inner{padding:0 15px 15px}.side-by-side .item-container.first .item-headline{font-size:1em;border:0;padding-top:0;margin-bottom:15px}.side-by-side .item-inner{padding:0 15px 15px;position:static}.side-by-side .item-headline{padding:15px 15px 0 0;margin-bottom:0;border-top:1px dotted #cec6b9;font-size:.9em}.links{padding:0 30px 30px;font-size:.75em}.links a{display:block;padding-top:15px;margin-top:15px;border-top:1px dotted #cec6b9;overflow:hidden;width:100%;max-width:100%;text-overflow:ellipsis;white-space:nowrap}.links a:first-child{border:0;margin-top:0;padding-top:0}.links a:active,.links a:hover{text-decoration:underline}.more-link{text-align:right;padding-right:15px}.more-link a{color:#2e6e9e}.footer-container{font-size:16px;background-color:#272b33;color:#fff;border-top:1px solid #000}.footer-inner{padding:15px 30px;position:relative;max-width:1260px;margin:auto}.footer-inner a{color:#fff;display:inline-block;padding:0 30px 15px 0}.footer-inner a:active,.footer-inner a:hover{text-decoration:underline}.footer-inner p{font-size:14px;clear:both}.footer-inner .copyright{padding-right:30px}@media only screen and (max-width:900px){.footer-inner a{width:33.3333%}}@media only screen and (max-width:600px){.footer-inner a{float:left;padding-right:0;display:block;width:20%}.footer-inner p span{display:block}}@media only screen and (max-width:490px){.footer-inner a{width:50%}}.app-download-container{display:none;width:110px;top:160px;_top:expression(documentElement.scrollTop + 160);left:49%;margin:0 0 0 630px;position:fixed;_position:absolute;z-index:100;overflow:hidden;font:12px/22px Arial;color:#333}.app-download-container.wechat{top:330px;_top:expression(documentElement.scrollTop + 330)}.app-download-container a{display:block;width:110px;background:#f6e9d8;line-height:0;text-align:center;position:relative;zoom:1;color:#333}.app-download-container figure{display:block;margin:auto;width:90px;height:90px}.app-download-container div{display:block;text-align:center;line-height:25px}@media only screen and (min-width:1480px){.app-download-container{display:block}}.app-download-bar-container{display:none;position:fixed;width:100%;height:57px;bottom:0;background-color:#0a5e66;z-index:2}.app-download-bar-inner{padding:5px}.app-download-bar-image{float:left;width:47px;height:47px;margin-right:5px}.app-download-bar-image figure{width:47px;height:47px}.app-download-bar-text{padding-left:5px;line-height:23.5px;color:#fff;font-size:15px}.app-download-bar-text b{display:block}.app-download-bar-button{float:right;background-color:#fff1e0;height:36px;line-height:36px;margin-top:5.5px;margin-right:5px}@media only screen and (max-width:490px){.is-wechat .app-download-bar-container{display:block}}.overlay-container{position:fixed;top:0;left:0;bottom:0;right:0;display:none;z-index:999999999999}.overlay-container.on{display:block}.overlay-inner{position:relative;width:100%;height:100%}.overlay-bg{background-color:rgba(0,0,0,.7);filter:progid:DXImageTransform.Microsoft.gradient(GradientType=0,startColorstr=\"rgba(238, 0, 0, 0)\",endColorstr=\"rgba(238, 0, 0, 0)\");z-index:9999999}.overlay-bg,.overlay-content-outer{position:absolute;left:0;right:0;top:0;bottom:0}.overlay-content-outer{z-index:99999999;width:300px;display:table;margin:auto}.overlay-content-inner{display:table-cell;vertical-align:middle}.overlay-content{background-color:#fff1e5;width:300px;margin:auto}.overlay-content div{padding:15px}.overlay-content div.first-child,.overlay-content div.overlay-title{border-top:0}.overlay-content div.input-title{border-top:0;padding:15px 15px 7.5px}.overlay-content div.input-container{border-top:0;padding:0 15px}.register-find{padding:10px 7.5px}.center{text-align:center}.center span{margin:0 15px;border:.5px solid #cec6b9}.login-btn{display:block;background-color:#658bac;margin:0 15px;padding:0!important}.login-btn input,.n-button-inner,a.n-button-inner{width:100%;height:100%;background-color:#658bac;border:0;padding:8px;font-size:16px;color:#fff}.login-btn input.subscription-button,.n-button-inner.subscription-button,a.n-button-inner.subscription-button{background-color:#0d7680;padding:10px 30px;cursor:pointer}.login-btn input.subscription-button.disabled,.n-button-inner.subscription-button.disabled,a.n-button-inner.subscription-button.disabled{background-color:#ccc1b7}.wx-login-container{padding:0 0 20px!important;margin:0 15px}.wx-login-container .wx-login{padding:8px;background-color:#6eb153}.wx-login-container .wx-login a{color:#fff}.overlay-title{background-color:#918f83;color:#fff;position:relative}.overlay-close{display:block;position:absolute;padding:0;top:15px;right:15px;font-size:43px;font-family:Arial;font-weight:400;cursor:pointer}.story-container{padding:0 15px;max-width:700px;margin:auto}.story-container.bigger,.story-container.biggest,.story-container.ce{max-width:100%}.story-headline{font-size:1.6em}.story-headline,.story-lead{padding-bottom:15px;line-height:161.8%}.story-lead{font-size:1.2em;color:#777}.story-body{font-size:1.1em;color:#333;line-height:161.8%;overflow:hidden}.story-body p{line-height:161.8%;padding-bottom:1em}.story-body p img{display:block;margin:auto}.story-body a:link,.story-body a:visited{color:#2e6e9e}.story-body a:active,.story-body a:hover{color:#333}.story-action-placeholder{height:38px}.story-action{overflow:hidden;padding:5px 0;border-top:1px solid #cec6b9;border-bottom:1px solid #cec6b9}.tool-sticky .story-action{position:fixed;top:0;width:100%;height:44px;left:0;right:0;background-color:#333;border:0;z-index:9999999}.tool-sticky .action-inner{max-width:1260px;padding:0 30px;margin:5px auto 0}.tool-sticky .action-inner .icon-right button{background-color:#fff;color:#0a5e66}.tool-sticky .action-inner .icon-right button:active,.tool-sticky .action-inner .icon-right button:hover{background-color:#fff;color:#333}.tool-sticky .icon-comments{background-image:url(https://static.ftimg.net/img/svg/comments-white.svg);background-image:url(https://static.ftimg.net/img/png/comments-white.png)\\\\9}.tool-sticky .icon-print{background-image:url(https://static.ftimg.net/img/svg/print-white.svg);background-image:url(https://static.ftimg.net/img/png/print-white.png)\\\\9}.tool-sticky .icon-font-size{background-image:url(https://static.ftimg.net/img/svg/font-size-white.svg);background-image:url(https://static.ftimg.net/img/png/font-size-white.png)\\\\9}.tool-sticky .icon-share{background-image:url(https://static.ftimg.net/img/svg/share-white-1.svg);background-image:url(https://static.ftimg.net/img/png/share-white.png)\\\\9}.action-icon{float:left;background-size:100% 100%;width:24px;height:24px;overflow:hidden;display:block;margin-right:12px}.icon-twitter{background-image:url(https://www.ft.com/__origami/service/image/v2/images/raw/ftsocial:twitter?source=o-share&format=png&width=24);background:rgba(0,0,0,.0001) url(https://www.ft.com/__origami/service/image/v2/images/raw/ftsocial:twitter?source=o-share&format=svg) 50%/100% no-repeat}.icon-facebook{background-image:url(https://www.ft.com/__origami/service/image/v2/images/raw/ftsocial:facebook?source=o-share&format=png&width=24);background:rgba(0,0,0,.0001) url(https://www.ft.com/__origami/service/image/v2/images/raw/ftsocial:facebook?source=o-share&format=svg) 50%/100% no-repeat}.icon-linkedin{background-image:url(https://www.ft.com/__origami/service/image/v2/images/raw/ftsocial:linkedin?source=o-share&format=png&width=24);background:rgba(0,0,0,.0001) url(https://www.ft.com/__origami/service/image/v2/images/raw/ftsocial:linkedin?source=o-share&format=svg) 50%/100% no-repeat}.icon-wechat{background-image:url(https://www.ft.com/__origami/service/image/v2/images/raw/http%3A%2F%2Fstatic.ftchinese.com%2Fimg%2Fpng%2Fsocial-wechat.png?source=ftchinese&width=24);background:rgba(0,0,0,.0001) url(https://static.ftimg.net/img/svg/social-wechat.svg) 50%/100% no-repeat}.icon-weibo{background-image:url(https://www.ft.com/__origami/service/image/v2/images/raw/http%3A%2F%2Fstatic.ftchinese.com%2Fimg%2Fpng%2Fsocial-weibo.png?source=ftchinese&width=24);background:rgba(0,0,0,.0001) url(https://static.ftimg.net/img/svg/social-weibo.svg) 50%/100% no-repeat}.icon-right{float:right;margin-left:12px;display:block;font-size:14px;line-height:140%}.icon-action{width:25px;height:25px;background-repeat:no-repeat;background-size:contain;background-position:50%;background-color:transparent}.icon-comments{background-size:20px 20px;background-image:url(https://static.ftimg.net/img/svg/comments.svg);background-image:url(https://static.ftimg.net/img/png/comments.png)\\\\9}.icon-print{background-image:url(https://static.ftimg.net/img/svg/print.svg);background-image:url(https://static.ftimg.net/img/png/print.png)\\\\9}.icon-font-size{background-image:url(https://static.ftimg.net/img/svg/font-size.svg);background-image:url(https://static.ftimg.net/img/png/font-size.png)\\\\9}.icon-share{background-image:url(https://static.ftimg.net/img/svg/share-grey-1.svg);background-image:url(https://static.ftimg.net/img/png/share-grey.png)\\\\9}.story-theme{font-weight:700;color:#9e2f50;padding-bottom:15px}.story-theme a{color:#9e2f50;font-size:18px;display:inline-block;vertical-align:middle}.story-theme a:active,.story-theme a:hover{color:#000}.story-byline{padding:15px 0}.story-time{color:#8b572a}.story-author,.story-time{font-size:.8em}.story-author a{color:#9e2f50;font-weight:700}.story-author a:active,.story-author a:hover{color:#000}#sharelinks{font-size:14px;display:block;height:300px;overflow:scroll}#sharelinks div img{margin-right:15px}.image.story-image{position:static;margin:0 auto 15px;padding-bottom:0}.image:active img,.image:hover img{-webkit-transform:none;transform:none}.image.right-image{float:right;width:50%;margin:0 0 0 15px}.image.right-image figure{padding-bottom:161.8%}@media screen and (max-width:490px){.icon-facebook,.icon-print,.icon-twitter{display:none}.story-headline{font-size:1.2em}.image.story-image{margin-left:-15px;margin-right:-15px}}@media screen and (min-width:691px) and (max-width:795px){.icon-facebook,.icon-print,.icon-twitter{display:none}}a.button,button,input.button{border-radius:0;display:inline-block;box-sizing:border-box;vertical-align:middle;outline:0;text-align:center;text-decoration:none;font-weight:600;cursor:pointer;-webkit-transition:background-color .3s,color .15s ease-out,border-color .15s ease-out;transition:background-color .3s,color .15s ease-out,border-color .15s ease-out;-moz-appearance:none;-webkit-appearance:none;-webkit-user-select:none;-moz-user-select:none;-ms-user-select:none;user-select:none;background-clip:padding-box;-webkit-font-smoothing:antialiased;-moz-osx-font-smoothing:grayscale;border-width:0}#allcomments{padding:0 15px 15px;font-size:.85em}#allcomments .commentcontainer,.commentcontainer{background:#f6eada;color:#333;margin:15px 0;padding:10px;border:1px solid #a4a4a4}#allcomments dt b a:link,#commoncomments dt b a:link{text-decoration:underline}#allcomments,#commoncomments,dd.all{display:block;line-height:150%}dd.all{text-align:right;margin-bottom:15px}#allcomments dt,#commoncomments dt{position:relative}#allcomments dt span,#commoncomments dt span{font-weight:400;display:block;float:right;font-size:.8em;color:#777}#allcomments dt font.grey,#commoncomments dt font.grey{font-size:.8em}#allcomments dd,#commoncomments dd{margin:10px 0;display:block;clear:both;font-size:1.2em;line-height:161.8%}#allcomments .replycomment,#commoncomments .replycomment{text-align:right;font-weight:400;font-size:1.1em}.cmt_quote{border-radius:3px;background:#ecdece;border:1px solid #a4a4a4;margin-bottom:15px;overflow:hidden;padding:5px;line-height:161.8%}#reply-input-container{margin-bottom:10px}.commentsortby,.viewfullcomments{font-size:1.1em}.cmt_oldautherinfo{font-size:.9em;line-height:161.8%;margin:0 3px;overflow:hidden;position:relative}.cmt_oldauther{color:#666;padding:5px 3px 0 0}.cmt_oldcmt{clear:both;color:#000;font-size:.9em;line-height:161.8%;margin:9px 3px}.showcmt{background:#f6eada;border:1px solid #e9decf;margin-bottom:15px;overflow:hidden;padding:5px;line-height:161.8%;color:#9b164f;cursor:pointer}.commentTextArea{width:100%;font-size:1.2em;padding:7.5px;border:1px solid #e9decf;margin:7.5px 0;-webkit-appearance:none;border-radius:0}.container{padding:0 15px 15px;font-size:.9em}.centerButton,.container{text-align:center}.ui-light-btn{background:#658abc;color:#fff;width:100%;font-size:19px;line-height:161.8%;height:auto;padding:10px 9px;margin-bottom:15px;max-width:300px}.ui-light-btn.stress{background:#316b82}.ui-light-btn.wechat-login{background:#6eb153}.user_id{-webkit-appearance:none;background-color:#fff;-o-border-image:none;border-image:none;-o-border-image:initial;border-image:initial;-webkit-rtl-ordering:logical;-webkit-user-select:text;cursor:auto;font-size:1.2em;height:28px;width:100%;padding:15px 2%;border:1px solid #e9decf;margin-bottom:8px}.user_id.password{margin-bottom:30px}.side-container{width:300px;margin-left:-300px}.has-side .content-inner{border-right:300px solid #f6e9d8}.has-side.side-left .content-inner{border-left:300px solid #f6e9d8}.has-side.side-left .side-container{margin-right:-300px}.block-container.bottomside .side-inner,.block-container.fixside .side-inner{width:300px}.block-container.fixmain .content-container{max-width:915px}.block-container.fixmain.side-left .content-inner{max-width:900px}.block-container.bottommain .content-container{max-width:915px}.block-container.bottommain.side-left .content-inner{max-width:900px}.is-current{color:#0a5e66;border-bottom:2px solid #ced4cc;text-decoration:none}.has-side .content-inner{border-color:transparent}.side-container{background-color:transparent}.story-page .mpu-container.first-child{padding-top:0}.ce .story-body p{text-indent:0}.ce .story-body p:first-child:first-letter{display:inline;float:none;margin:0;font-size:1em;line-height:100%;font-weight:400}.story-box{border:1px solid #cec6b9;margin-bottom:30px}.box-title{margin:-10px 0 15px 10px;font-size:16px}.box-title a{background-color:#fff1e5;padding:0 10px}#story_main_mpu,.mpu-container-instory,.story_main_mpu_vw{width:100%;padding:30px 0;margin-bottom:30px;border-width:1px 0;border-color:#cec6b9;border-style:solid;clear:both;position:relative}#story_main_mpu .banner-iframe,.mpu-container-instory .banner-iframe,.story_main_mpu_vw .banner-iframe{margin:auto;display:block}#story_main_mpu div,.mpu-container-instory div,.story_main_mpu_vw div{text-align:center}#story_main_mpu:before,.mpu-container-instory:before,.story_main_mpu_vw:before{content:\"广告\";position:absolute;top:0;right:0;font-size:12px;text-align:center;color:#505050}.pagination-inner{text-align:right;line-height:36px;padding-bottom:15px}.pagination-inner a,.pagination-inner span{padding-left:30px;font-weight:700}.pagination-inner a{color:#0a5e66}.pagination-inner a:active,.pagination-inner a:hover{color:#000}.pic{text-align:center;color:#d66d06;line-height:200%}.pic img{display:block;margin:auto}.rightPic{line-height:200%;margin:10px 0 0 6px;float:right}.leftPic{line-height:200%;margin:3px 15px 0 0;float:left}.leftPic,.rightPic{font-size:12px;color:#d66d06;width:300px}.leftPic img,.rightPic img{display:block;width:300px;margin:0 auto 10px}.left-pic-small{margin:3px 15px 0 0;float:left;font-size:12px;color:#d66d06;width:100px}.left-pic-small.image{position:static}.left-pic-small img{width:100px}.leftp,.rightp{width:48%}.leftp{float:left;font-family:Georgia,serif}.rightp{float:right}.story-body .leftp,.story-body .rightp{padding-bottom:1em}.story-body .leftp p,.story-body .rightp p{padding-bottom:0}.en{font-family:Georgia,serif}#story-recommend-container{display:none}.o-responsive-video-container{width:100%;max-width:960px;margin:0 auto 14px;zoom:1;overflow:hidden;position:relative;background-color:#000}.o-responsive-video-wrapper-outer{position:relative;padding-top:56.25%;height:0}.o-responsive-video-wrapper-inner{position:absolute;top:0;left:0;width:100%;height:100%}.o-responsive-video-caption{display:block;background-color:#000;color:#fff;font-size:14px;line-height:30px;padding-left:14px}a.o-responsive-video-caption:active,a.o-responsive-video-caption:hover,a.o-responsive-video-caption:link,a.o-responsive-video-caption:visited{color:#fff}.story_main_mpu_vw{display:none}.in-story-recommend{padding-bottom:30px}.in-story-recommend.leftPic,.in-story-recommend.rightPic{font-size:1em}.recommend-header{color:#333;font-weight:700;font-size:.85em;padding-bottom:7.5px;display:block}.recommend-header:after{content:\"\";display:block;width:60px;margin-top:5px;border-bottom:4px solid;position:absolute;z-index:1}.recommend-content{display:block;border-width:1px 1px 0;border-style:solid;border-color:#cec6b9;padding:7.5px}.recommend-content .headline{font-weight:700;padding-bottom:7.5px}.recommend-content .lead{color:#505050;font-size:.85em;padding-bottom:7.5px}.recommend-content a:active,.recommend-content a:hover,.recommend-content a:link,.recommend-content a:visited{color:#333;display:block}.recommend-image{position:relative;float:none;width:100%;margin-top:-1px;padding-left:25%;display:block}.recommend-image figure{width:100%;height:0;padding-bottom:56.25%;z-index:1;position:relative}.recommend-image:after{position:absolute;top:0;left:0;content:\"\";display:block;width:100%;height:50%;border-left:1px solid #cec6b9;border-bottom:1px solid #cec6b9}.copyrightstatement-container{padding:15px 0;font-size:.9em}@media only screen and (max-width:490px){.leftPic,.rightPic{margin:10px auto;text-align:center;font-size:.9em;color:#d66d06;float:none;width:100%}.leftPic img,.rightPic img{width:auto;display:block;margin:auto}.story_main_mpu_vw{display:block}.leftp,.rightp{width:100%;float:none}.story-headline,.story-lead,.story-theme{padding-bottom:7.5px}.story-lead{font-size:1em}.story-byline{padding:7.5px 0}.pagination-inner{text-align:left;font-size:.9em;height:auto;line-height:36px}.pagination-inner a,.pagination-inner span{padding-left:0;padding-right:7.5px;font-weight:400}}@media only screen and (max-width:690px){.story-box{border:medium none;font-size:.9em}.box-title{padding:7px 14px;background:#e9decf;border-style:solid;border-color:#a7a59b;border-width:1px 0;border-bottom-style:dotted;display:block;height:auto;margin:0 0 15px;font-weight:400;font-size:1.1em;clear:both;position:relative}.box-title a{background-color:transparent;padding:0}}.subscribe-lock-container{position:relative;background:#faeadd;left:0;width:100%;height:280px;margin:10px 0 20px}.subscribe-lock-container .lock-block{position:absolute;width:100%;top:25%;height:50%}.subscribe-lock-container .lock-content{width:100%;text-align:center;padding-bottom:5px}.subscribe-lock-container .lock-content a{color:#26747a}.subscribe-lock-container .lock-download-hint{padding:10px 0 0}.subscribe-lock-container .subscribe-btn{position:absolute;bottom:10px;text-align:center;width:100%;color:#fff}.subscribe-lock-container .subscribe-btn a{color:#fff;background-color:#0d7680;display:inline-block;letter-spacing:3px;height:30px;line-height:30px;width:150px;text-align:center;font-size:14px;border-radius:1px}.full-grid-story .side-container{display:none}.full-grid-story .story-container{max-width:100%}.full-grid-story .story-container .story-action-placeholder,.full-grid-story .story-container .story-byline,.full-grid-story .story-container .story-headline,.full-grid-story .story-container .story-image,.full-grid-story .story-container .story-lead,.full-grid-story .story-container .story-theme,.full-grid-story .story-container p{max-width:700px;margin-left:auto;margin-right:auto}.full-grid-story .content-inner{border:0;padding:0}@media print{#story-recommend-container,.allcomments,.bn-ph,.footer-container,.header-container,.language-switch-placeholder,.list-title,.logincomment,.mpu-container,.mpu-container-instory,.myft-follow,.nologincomment,.o-ads,.o-nav__placeholder,.side-container,.story-action-placeholder,.subscription-promo-container,.toprecommend-part{display:none!important}.content-inner{border:0!important;padding:0!important}}.tag-about{padding:15px 30px;font-size:.9em;line-height:161.8%;color:#505050}.mpu-container.first-child{padding-top:30px}.mpu-container.last-child iframe{margin:0 auto}.story-box.last-child{margin-bottom:0}@media only screen and (min-width:1221px){.XL2{width:16.6666666667%}.XL3{width:25%}.XL4{width:33.333333333%}.XL6{width:50%}.XL6 .item-headline{font-size:1.4em}.XL8{width:66.666666667%}.XL8 .item-headline{font-size:1.4em}.XL8 .relative{font-size:1em;line-height:200%}.XL12{float:none;width:100%}.XL12 .item-headline{font-size:1.4em}.XL-half{font-size:.9em}.XL-half .item-inner{padding-top:0}.XL-half .image{position:static;float:left;width:115px;padding:3px 6px 3px 0}.XL-half.no-image .image{display:none}.XL-lower .item-headline{border-top:1px dotted #cec6b9;padding-top:30px}.XL-right{clear:right;float:right}.XLT{border-top:1px dotted #cec6b9;padding:30px 0 0;margin:0 15px}.XLC,.XLT{clear:both}.XLC{padding-top:15px}.XLT-clear-right{clear:right;width:66.6666667%;float:left}.XL-double-width .item-inner{padding-top:0}.XL-double-width .image{position:static;float:left;width:50%;padding:0 15px 0 0}.XL-double-width .item-headline,.XL-double-width .item-lead,.XL-double-width .item-time,.XL-double-width .relatives{float:right;width:50%;padding-left:15px;clear:right}.XL-no-image .image{display:none}.XL-no-image .item-inner{padding-top:0}.XL-no-tag .item-tag{display:none}.XL-main{width:66.66666667%}.XL-main .XL6 .item-headline{font-size:1.15em}.XL-main .XL-cover .item-headline{font-size:1.4em}.XL-side{width:33.3333333%}.XL-side .list-inner{border-right:1px solid #cec6b9;padding-right:15px;margin-right:15px}.XL-side .item-inner{padding-bottom:15px}.XL-side .XLT{padding-top:15px}.XL-list-oneline{width:100%;float:left}.XL-list-left{float:left}.XL-list-right{float:right}.no-side .XL6 .item-inner{padding-top:0}.no-side .XL6 .image{position:static;float:left;width:50%;padding:0 15px 0 0}.no-side .XL6 .item-headline,.no-side .XL6 .item-lead,.no-side .XL6 .item-time,.no-side .XL6 .relatives{float:right;width:50%;padding-left:15px;clear:right}.block-container.bottommain.side-left .content-inner,.block-container.fixmain.side-left .content-inner{width:855px}}@media only screen and (max-width:1220px) and (min-width:981px){.block-container.bottommain.side-left .content-inner,.block-container.fixmain.side-left .content-inner{left:0;right:15px}.L2{width:16.6666666667%}.L3{width:25%}.L4{width:33.33333333%}.L6{width:50%}.L8{width:66.66666667%}.L8 .item-headline{font-size:1.4em}.L8 .relative{font-size:1em;line-height:200%}.L12{width:100%;float:none}.LT{clear:both;border-top:1px dotted #cec6b9;padding:30px 0 0;margin:0 15px;padding-top:15px}.L-half{font-size:.9em}.L-half .item-inner{padding-top:0}.L-half .image{position:static;float:left;width:115px;padding:3px 6px 3px 0}.L-half.no-image .image{display:none}.L-lower .item-headline{border-top:1px dotted #cec6b9;padding-top:30px}.L-double-width .item-inner{padding-top:0}.L-double-width .image{position:static;float:left;width:50%;padding:0 15px 0 0}.L-double-width .item-headline,.L-double-width .item-lead,.L-double-width .item-time,.L-double-width .relatives{float:right;width:50%;padding-left:15px;clear:right}.LC{clear:both;padding-top:15px}.L-right{clear:right;float:right}.L-right .item-headline{font-size:1em}.L-no-image .image{display:none}.L-no-image .item-inner{padding-top:0}.L-no-tag .item-tag{display:none}.L-no-lead .item-headline{margin-bottom:0}.L-no-lead .item-lead{display:none}.L-cover .item-headline{font-size:1.4em}.video-package .LT{padding-top:10px}.item-inner{padding-bottom:15px}}@media only screen and (max-width:1024px){.item-tag{padding-bottom:7.5px}.item-inner{padding-left:7.5px;padding-right:7.5px}.image{left:7.5px;right:7.5px}.list-title{margin:0 7.5px 15px}.side-by-side .item-inner{padding:0 7.5px 15px}.has-side .block-inner{padding-right:22.5px}.has-side.side-left .block-inner{padding-left:22.5px}}@media only screen and (max-width:980px) and (min-width:691px){.M3{width:25%}.M4{width:33.33333333%}.M6{width:50%}.M8{width:66.66666667%}.M8 .item-headline{font-size:1.4em}.M12{width:100%;float:none}.MT{clear:both;border-top:1px dotted #cec6b9;padding:30px 0 0;margin:0 15px;padding-top:15px}.M-half{font-size:.9em}.M-half .item-inner{padding-top:0}.M-half .image{position:static;float:left;width:115px;padding:3px 6px 3px 0}.M-half .item-tag,.M-half .item-time,.M-half.no-image .image{display:none}.M-lower .item-headline{border-top:1px dotted #cec6b9;padding-top:30px}.M-double-width .item-inner{padding-top:0}.M-double-width .image{position:static;float:left;width:50%;padding:0 15px 0 0}.M-double-width .item-headline,.M-double-width .item-lead,.M-double-width .item-time,.M-double-width .relatives{float:right;width:50%;padding-left:15px;clear:right}.MC{clear:both;padding-top:15px}.M-right{clear:right;float:right}.M-right .item-headline{font-size:1em}.M-no-image .image{display:none}.M-no-image .item-inner{padding-top:0}.M-no-lead .item-headline{margin-bottom:0}.M-no-lead .item-lead{display:none}.M-cover .item-headline{font-size:1.4em}.video-package .MT{padding-top:10px}.item-inner{padding-bottom:15px}}@media only screen and (max-width:690px) and (min-width:491px){.S3{width:25%}.S4{width:33.33333333%}.S6{width:50%}.S12{width:100%;float:none}.ST{clear:both;border-top:1px dotted #cec6b9;padding:30px 0 0;margin:0 15px}.S-half{font-size:.9em}.S-half .item-inner{padding-top:0}.S-half .image{position:static;float:left;width:115px;padding:3px 6px 3px 0}.S-half.no-image .image{display:none}.S-double-width .item-inner{padding-top:0}.S-double-width .image{position:static;float:left;width:50%;padding:0 15px 0 0}.S-double-width .item-headline,.S-double-width .item-lead,.S-double-width .item-time,.S-double-width .relatives{float:right;width:50%;padding-left:15px;clear:right}.SC{clear:both;padding-top:15px}.S-no-image .image{display:none}.S-no-image .item-inner{padding-top:0}.S-no-lead .item-headline{margin-bottom:0}.S-no-lead .item-lead{display:none}.S-cover .item-headline{font-size:1.4em}.video-package .ST{padding-top:10px}}@media only screen and (max-width:690px){.has-side .block-inner{padding:0}.has-side .content-container{float:none}.has-side .content-inner{border-right:0;padding-right:0}.has-side.side-left .block-inner{padding:0}.has-side.side-left .content-container{float:none;padding:0 15px}.has-side.side-left .content-inner{border-left:0;padding-right:0;padding-left:0}.has-side.side-left .side-container{float:none;margin-right:0}.side-container{float:none;width:auto;background-color:transparent;margin-left:0;padding:0 0 15px}.side-container .item-inner{padding:0 15px 15px}.side-container .item-inner .item-headline{font-size:1em}.block-inner{padding:0}.item-inner{padding-left:15px;padding-right:15px}.list-title{position:static;padding:7px 14px;background:#e9decf;border-style:solid;border-color:#a7a59b;border-width:1px 0;border-bottom-style:dotted;display:block;height:auto;margin:0 0 15px;font-weight:400;font-size:1.1em;clear:both;position:relative}.list-title a{color:#000;display:block}.list-title a,.list-title a.list-link{position:static;background-color:transparent}.list-title a.list-link{line-height:20px;height:auto;left:auto;padding-right:5px}.list-title a.sponsor-link figure{height:30px;background-color:transparent;position:absolute;right:15px;top:0;bottom:0;margin:auto;padding-left:0}.list-title:before{display:none}.items,.links{padding:0 15px}.links{font-size:1em}.side-by-side .items{padding:0}.side-by-side .list-title{margin:0 15px 15px}.video-package .items{padding:0 22.5px}}@media only screen and (max-width:490px){body{font-size:18px}.item-headline{font-size:1.3em;line-height:1.2em}.item-tag{font-size:17px;padding-bottom:15px;line-height:1em}.item-tag a{display:inline-block;position:relative}.item-tag a:before{content:\"\";display:block;position:absolute;bottom:-12px;width:100%;height:5px;background:#9e2f50}.item-lead{color:#777;line-height:161.8%}.P3{width:25%}.P4{width:33.33333333%}.P6{width:50%}.P6 .item-headline{font-size:.8em;margin-bottom:0}.P12{width:100%;float:none}.PT{clear:both;border-top:1px solid #cec6b9;padding:30px 0 0;margin:0 7.5px;padding-top:15px}.P-half{font-size:.9em}.P-half .item-inner{padding-top:0}.P-half .image{position:static;float:left;width:118px;padding:3px 10px 3px 0}.P-half.no-image .image{display:none}.P-half .item-tag{padding-bottom:7.5px}.P-half .item-tag a:before{display:none}.P-half .item-lead{overflow:hidden;text-overflow:ellipsis;display:-webkit-box;-webkit-line-clamp:3;-webkit-box-orient:vertical}.PC{clear:both;padding-top:15px}.P-no-image .image{display:none}.P-no-image .item-inner{padding-top:0}.P-no-lead .item-headline{margin-bottom:0}.P-no-lead .item-lead{display:none}.P-cover .item-headline{font-size:1.4em}.P-hide{display:none}.P-only{display:block}.video-package .PT{padding-top:10px}.video-package .items{padding:0 7.5px 15px}.items{padding:0 7.5px}.item-inner{padding-bottom:15px;padding-left:7.5px;padding-right:7.5px}.image{left:7.5px;right:7.5px}.item-time{padding-top:7.5px}.list-title,.side-container .list-title{font-size:1.2em;background:transparent;border-width:8px 0 0;border-color:#333;margin-left:15px;margin-right:15px;padding-left:0;padding-right:0}.list-title a:after,.side-container .list-title a:after{background-image:url(https://www.ft.com/__origami/service/image/v2/images/raw/fticon-v1:arrow-right?source=o-icons&tint=%23000000,%23000000&format=svg);background-image:url(https://www.ft.com/__origami/service/image/v2/images/raw/fticon-v1:arrow-right?source=o-icons&tint=%23000000,%23000000&format=png&width=30)\\\\9;width:30px;height:30px;background-repeat:no-repeat;background-size:contain;background-position:50%;background-color:transparent;vertical-align:baseline;content:\"\";display:inline-block;position:relative;top:7px;right:-13px;margin-left:-13px;margin-top:-10px}.top10{font-size:1.1em;font-weight:700}.triplet-container{padding:0 7.5px}.has-side.side-left .content-container{padding:0}.side-by-side.first.item-container{font-size:.9em}.side-by-side.first.item-container .item-inner{padding-top:0}.side-by-side.first.item-container .image{position:static;float:left;width:118px;padding:3px 10px 3px 0}.side-by-side.first.item-container.no-image .image{display:none}.side-by-side.first.item-container .item-tag{padding-bottom:7.5px}.side-by-side.first.item-container .item-tag a:before{display:none}.side-by-side.first.item-container .item-lead{overflow:hidden;text-overflow:ellipsis;display:-webkit-box;-webkit-line-clamp:3;-webkit-box-orient:vertical}.side-by-side.first.item-container .item-headline{font-size:1.3em}.side-by-side .item-headline{font-size:1.1em;border-top-style:solid}.side-by-side .item-inner{padding:0 15px 15px}.headshot-title .item-inner{padding-bottom:15px}.side-container .interactives{background-color:#262a33;margin-bottom:15px}.side-container .interactives .list-title a{color:#ffec1a}.side-container .interactives .list-title a:after{background-image:url(https://www.ft.com/__origami/service/image/v2/images/raw/fticon-v1%3Aarrow-right?source=ftchinese&width=30&height=30&tint=%23ffec1a&format=svg);background-image:url(https://www.ft.com/__origami/service/image/v2/images/raw/fticon-v1%3Aarrow-right?source=ftchinese&width=30&height=30&tint=%23ffec1a&format=png)\\\\9}.side-container .interactives .item-container.first .item-headline{background:transparent}.side-container .interactives .item-container.first .item-headline a,.side-container .interactives .item-headline a,.side-container .interactives .item-lead{color:#ffec1a}.side-container .interactives .item-headline-link.locked:after{background-image:url(\\'data:image/svg+xml;utf8,<svg xmlns=\"http://www.w3.org/2000/svg\" width=\"24\" height=\"24\" viewBox=\"0 0 24 24\"><path d=\"M0 0h24v24H0z\" fill=\"none\"/><path d=\"M18 8h-1V6c0-2.76-2.24-5-5-5S7 3.24 7 6v2H6c-1.1 0-2 .9-2 2v10c0 1.1.9 2 2 2h12c1.1 0 2-.9 2-2V10c0-1.1-.9-2-2-2zm-6 9c-1.1 0-2-.9-2-2s.9-2 2-2 2 .9 2 2-.9 2-2 2zm3.1-9H8.9V6c0-1.71 1.39-3.1 3.1-3.1 1.71 0 3.1 1.39 3.1 3.1v2z\" fill=\"#ffec1a\"/></svg>\\')}.side-container .interactives .item-headline-link.unlocked:after{background-image:url(\\'data:image/svg+xml;utf8,<svg xmlns=\"http://www.w3.org/2000/svg\" width=\"24\" height=\"24\" viewBox=\"0 0 24 24\"><path d=\"M0 0h24v24H0z\" fill=\"none\"/><path d=\"M12 17c1.1 0 2-.9 2-2s-.9-2-2-2-2 .9-2 2 .9 2 2 2zm6-9h-1V6c0-2.76-2.24-5-5-5S7 3.24 7 6h1.9c0-1.71 1.39-3.1 3.1-3.1 1.71 0 3.1 1.39 3.1 3.1v2H6c-1.1 0-2 .9-2 2v10c0 1.1.9 2 2 2h12c1.1 0 2-.9 2-2V10c0-1.1-.9-2-2-2zm0 12H6V10h12v10z\" fill=\"#ffec1a\"/></svg>\\')}.side-container .item-container.first{padding:0 15px}.side-container .item-container.first .item-headline{width:auto;left:15px;right:15px;font-size:1em;padding-left:15px;position:static}.side-container .item-container.first .item-inner{border-top-style:solid;margin:0}.side-container .item-container .item-headline{font-size:1em;font-weight:700;padding:15px 15px 0 0}.side-container .item-container .item-inner{border-top-style:solid;margin:0 15px;padding:0;clear:both}.side-container .item-container .image{padding:5px 0}.side-container .interactive-inner{margin:0 15px}.side-container .interactive-inner .item-container.first{padding:0;margin-bottom:0}.side-container .interactive-inner .item-container.first .item-headline{padding-top:15px;font-size:1.1em}.side-container .interactive-inner .item-inner{border-color:#4e4f53}.side-container .interactive-inner .item-headline{padding-top:10px;font-weight:400}.side-container .interactive-inner .image{padding:10px 0}}@media only screen and (max-width:1220px){.block-container.bottommain .content-container,.block-container.fixmain .content-container{right:390px;max-width:100%}.block-container.bottommain .content-inner,.block-container.fixmain .content-inner{margin-left:405px}}.header-title{display:block;text-align:center;margin:auto;height:57px;line-height:57px;font-size:32px;max-width:100%}.header-brand figure{width:80px;height:57px;position:relative}.header-brand figure img{position:absolute;display:block;top:0;left:0;right:0;bottom:0;margin:auto 0}@media only screen and (max-width:490px){.header-title{height:44px;line-height:44px}}.o-ads div,div.o-ads{text-align:center}.o-ads[data-o-ads-loaded]{margin-bottom:30px}.o-ads[data-o-ads-loaded=false]{margin-bottom:0}.o-ads[data-o-ads-formats-large=FtcRibbon][data-o-ads-loaded]{margin-top:15px;margin-bottom:15px}.o-ads[data-o-ads-formats-large=FtcRibbon][data-o-ads-loaded=false]{margin-top:0;margin-bottom:0}.o-ads[data-o-ads-formats-large=FtcRibbon] iframe{margin-bottom:0}@media screen and (max-width:760px){.o-ads[data-o-ads-formats-small=FtcMobileBanner]{padding-top:25%;background:#f6e9d8;margin-bottom:30px}.o-ads[data-o-ads-formats-small=FtcMobileBanner][data-o-ads-loaded]{padding-top:0;background:transparent}}.o-ads[data-o-ads-loaded][data-o-ads-formats-large=FtcBanner],.o-ads[data-o-ads-loaded][data-o-ads-formats-large=FtcLeaderboard]{position:relative}.o-ads[data-o-ads-loaded][data-o-ads-formats-large=FtcBanner]:after,.o-ads[data-o-ads-loaded][data-o-ads-formats-large=FtcLeaderboard]:after{content:\"广告\";position:absolute;top:100%;right:5px;font-size:12px}@media screen and (min-width:1200px){.o-ads[data-o-ads-loaded][data-o-ads-formats-large=FtcBanner]:after,.o-ads[data-o-ads-loaded][data-o-ads-formats-large=FtcLeaderboard]:after{content:\"广告\";position:absolute;top:100%;right:calc(50% - 600px);font-size:12px}}.o-ads[data-o-ads-loaded][data-o-ads-formats-large=FtcMpu],.o-ads[data-o-ads-loaded][data-o-ads-formats-small=FtcMobileMpu]{position:relative}.o-ads[data-o-ads-loaded][data-o-ads-formats-large=FtcMpu]:after,.o-ads[data-o-ads-loaded][data-o-ads-formats-small=FtcMobileMpu]:after{content:\"广告\";position:absolute;top:100%;height:20px;right:calc(50% - 150px);font-size:12px}.o-ads[data-o-ads-loaded][data-o-ads-loaded=false]:after{content:\"\"}.o-ads[data-o-ads-name=fullscreen-pc]{margin-bottom:0}.o-ads--empty{margin-bottom:0}.fullscreen-ad{position:fixed;z-index:99999;top:0;left:0}\\nvar startTime = new Date().getTime();\\nvar gKeyTag = \\'中美贸易战,中美关系,蓬佩奥\\'; var gauthor = \\'韩碧如,宋京雅\\'.replace(/ and /g,\",\").replace(/([\\\\s\\\\_]+)[Bb]y /g,\"$1\").replace(/ in .*/g,\"\").replace(/,.*/g,\"\").replace(/\\\\s+$/g,\"\").replace(/^\\\\s+/g,\"\").replace(/\\\\s+/g,\"_\"); var ftcteam=\"Translation\"; var gPageId = \\'story\\'; var storyGenre=\"news\"; var storyArea=\"china,usa\"; var storyIndustry=\"\"; var mainTopic=\"politics\"; var subTopic=\"\"; var FTadchannelID = \\'\\'; var adPatternsPhone={FullScreen:{id:\"01\",description:\"进入手机App时看到的全屏广告。\",position:{Web:{id:\"01\",description:\"以网页形式投放的全屏广告。\"},Native:{id:\"02\",description:\"以原生形式投放的全屏广告。\"}}},Banner:{id:\"03\",description:\"手机端页面顶部、底部的带状广告。\",container:\"banner\",position:{Num1:{id:\"01\",description:\"列表页顶部的带状广告。\"},Num2:{id:\"02\",description:\"列表页底部的带状广告。\"},StoryNum1:{id:\"51\",description:\"文章页顶部的带状广告。\"},StoryNum2:{id:\"52\",description:\"文章页底部的带状广告。\"}}},MPU:{id:\"04\",description:\"页面中的块状广告。由上至下穿插。\",width:\"300\",height:\"250\",container:\"mpu\",position:{Middle1:{id:\"01\",description:\"列表页从上至下第1个MPU位。\"},Middle2:{id:\"02\",description:\"列表页从上至下第2个MPU位。\"},StoryMiddle1:{id:\"51\",description:\"文章页从上至下第1个MPU位。\"},StoryMiddle2:{id:\"52\",description:\"文章页从上至下第2个MPU位。\"}}},Information:{id:\"08\",description:\"首页文章列表中嵌入的信息流广告。\",position:{Num1:{id:\"01\",description:\"从上至下第1个Information位\"},Num2:{id:\"02\",description:\"从上至下第2个Information位\"}}},PaidpostStory:{id:\"10\",description:\"\",position:{Num1:{id:\"01\",description:\"\"}}}};var adPatternsPad={FullScreen:{id:\"01\",description:\"进入pad端App时看到的大块全屏广告。\",position:{Web:{id:\"01\",description:\"pad端网页形式的FullScreen位。\"},Native:{id:\"02\",description:\"pad端原生形式的FullScreen位。\"}}},MPU:{id:\"04\",description:\"页面右上角的块状广告。此处的页面包含首页、频道页、文章页。\",width:\"300\",height:\"250\",container:\"mpu\",position:{Right1:{id:\"11\",description:\"列表页右侧从上至下第1个MPU位。\"},Right2:{id:\"12\",description:\"列表页右侧从上至下第2个MPU位。\"},StoryRight1:{id:\"61\",description:\"文章页右侧从上至下第1个MPU位。\"},StoryRight2:{id:\"62\",description:\"文章页右侧从上至下第2个MPU位。\"}}},PaidpostStory:{id:\"10\",description:\"\",position:{Num1:{id:\"01\",description:\"\"}}}}; var adPatternsPC={FullScreen:{id:\"01\",description:\"进入网站后时首先看到的大块全屏广告。\",position:{Num1:{id:\"01\",description:\"进入网站后时的FullScreen位。\"}}},Leaderboard:{id:\"02\",description:\"页面上部导航栏下方的长带状广告。此处的页面包括首页、频道页、文章页。\",container:\"banner\",width:\"969\",height:\"90\",position:{Num1:{id:\"01\",description:\"列表页上部导航栏下方的Leaderboard位。\"},StoryNum1:{id:\"51\",description:\"文章页上部导航栏下方的Leaderboard位。\"}}},Banner:{id:\"03\",description:\"页面中部穿插的长带状广告（页面导航栏下方的长带状广告除外，其叫做LeaderBoard，见上）。此处的页面包括首页、频道页、文章页。从上到下顺序出现。\",container:\"banner\",width:\"969\",height:\"90\",position:{Num1:{id:\"01\",description:\"列表页从上至下第1个Banner位。\"},Num2:{id:\"02\",description:\"列表页从上至下第2个Banner位。\"},Num3:{id:\"03\",description:\"列表页从上至下第3个Banner位。\"},StoryNum1:{id:\"51\",description:\"文章页从上至下第1个Banner位。\"},StoryNum2:{id:\"52\",description:\"文章页从上至下第2个Banner位。\"},StoryNum3:{id:\"53\",description:\"文章页从上至下第3个Banner位。\"}}},MPU:{id:\"04\",description:\"页面中的块状广告。此处的页面包含首页、频道页、文章页。可能出现的位置包括两种：右侧侧边栏从上至下排列；页面正文由上至下穿插\",width:\"300\",height:\"250\",container:\"mpu\",position:{Right1:{id:\"11\",description:\"列表页右侧从上至下第1个MPU位。\"},Right2:{id:\"12\",description:\"列表页右侧从上至下第2个MPU位。\"},Middle1:{id:\"21\",description:\"列表页正文中间穿插的第1个MPU位。\"},Middle2:{id:\"22\",description:\"列表页正文中间穿插的第2个MPU位。\"},StoryRight1:{id:\"51\",description:\"文章页右侧从上至下第1个MPU位。\"},StoryRight2:{id:\"52\",description:\"文章页右侧从上至下第2个MPU位。\"},StoryMiddle1:{id:\"61\",description:\"文章页正文中间穿插的第1个MPU位。\"},StoryMiddle2:{id:\"62\",description:\"文章页正文中间穿插的第2个MPU位。\"}}},Ribbon:{id:\"05\",description:\"首页右侧栏顶部的端带状广告。\",width:\"100%\",height:\"90\",position:{Num1:{id:\"01\",description:\"首页右侧栏顶部Ribbon位.\"}}},TextLink:{id:\"06\",description:\"首页右侧栏的文字链广告。\",position:{Num1:{id:\"01\",description:\"页面右侧栏从上至下第1个TextLink位。\"},Num2:{id:\"02\",description:\"页面右侧栏从上至下第2个TextLink位。\"},Num3:{id:\"03\",description:\"页面右侧栏从上至下第3个TextLink位。\"}}},Event:{id:\"07\",description:\"首页“会员活动”部分的会员活动广告。出现顺序为：根据网页大小响应式从左至右、从上至下排列。\",position:{Num1:{id:\"01\",description:\"首页“会员活动”部分第1个Event位\"},Num2:{id:\"02\",description:\"首页“会员活动”部分第2个Event位\"},Num3:{id:\"03\",description:\"首页“会员活动”部分第3个Event位\"},Num4:{id:\"04\",description:\"首页“会员活动”部分第4个Event位\"}}},Inread:{id:\"09\",description:\"文章页中嵌入的、随着阅读位置的改变而出现的广告\",position:{Num1:{id:\"01\",description:\"文章页中的第1个Inread位。\"},Num2:{id:\"02\",description:\"文章页中的第2个Inread位。\"}}},PaidpostStory:{id:\"10\",description:\"\",position:{Num1:{id:\"01\",description:\"\"}}}};var deviceGotFromPhp = \\'\\'; var adchID = \\'5048\\'; function findMoreSpider(){gIsSpider===!1&&/iPhone OS 9\\\\_1 /i.test(ua)&&\"function\"!=typeof httpspv&&(gIsSpider=!0)}function GetCookie(e){var n=document.cookie.indexOf(e+\"=\"),t=n+e.length+1,i=document.cookie.indexOf(\";\",t);return n||e===document.cookie.substring(0,e.length)?n===-1?null:(i===-1&&(i=document.cookie.length),decodeURIComponent(document.cookie.substring(t,i))):null}function SetCookie(e,n,t,i,a){var o=SetCookie.arguments,d=SetCookie.arguments.length,r=new Date,c=d>5&&o[5];i=d>3?o[3]:null,a=d>4?o[4]:null,t=null===t||\"\"===t?5184e7:1e3*t,r.setTime(r.getTime()+t),document.cookie=e+\"=\"+escape(n)+(null===r?\"\":\"; expires=\"+r.toGMTString())+(null===i?\"/\":\"; path=\"+i)+(null===a?\"\":\"; domain=\"+a)+(c===!0?\"; secure\":\"\")}function DeleteCookie(e){var n=new Date,t=GetCookie(e);n.setTime(n.getTime()-1),document.cookie=e+\"=\"+t+\"; expires=\"+n.toGMTString()}function paravalue(e,n){var t,i;return e.indexOf(n+\"=\")>1?(t=e.indexOf(n+\"=\")+n.length+1,i=e.substring(t,e.length),i=i.replace(/[\\\\&\\\\#].*/g,\"\")):i=\"\",i}function guid(){function e(){return Math.floor(65536*(1+Math.random())).toString(16).substring(1)}return e()+e()+\"-\"+e()+\"-\"+e()+\"-\"+e()+\"-\"+e()+e()+e()}function updateSubscriberStatus(){var e=GetCookie(\"paywall\"),n=\"\";return null!==e?\"premium\"===e?(n=\" is-subscriber is-premium\",\"VIP\"):(n=\" is-subscriber is-standard\",\"Subscriber\"):null}function updateClientIdLinks(){ga(function(e){window.gClientId=e.get(\"clientId\");for(var n=document.querySelectorAll(\".o-client-id-link\"),t=0;t<n.length;t++){var i=n[t],a=i.href;if(a&&\"string\"==typeof a&&a.indexOf(\"/\")>=0){var o=a.indexOf(\"?\")>0?\"&\":\"?\",d=i.className;i.href=a+o+\"clientId=\"+window.gClientId,i.className=d.replace(/o-client-id-link/g,\"\")}}})}function trackerNew(){var e,n,t,i,a,o,d,r,c,s=window.location.href,l=\"\",p=\"\",u=GetCookie(\"USER_NAME\")||GetCookie(\"USER_NAME_FT\")||\"\",m=GetCookie(\"USER_ID\")||\"\",g=GetCookie(\"ccode\")||\"\",h=0,f=updateSubscriberStatus();w>0&&(h=w>1220?\"XL: above 1220\":w>980?\"Large: 981-1220\":w>690?\"Medium: 691-981\":w>490?\"Small: 491-690\":\"Phone: under 491\",ga(\"set\",\"dimension18\",h)),c=/ipad/i.test(ua)?\"iPad\":/OS [0-9]+\\\\_/i.test(ua)&&/iphone|ipod/i.test(ua)?\"iPhone\":/android/i.test(ua)?\"Android\":isTouchDevice()===!0?\"Other Touch Device\":\"Desktop\",c=\"Page by \"+c,ga(\"set\",\"contentGroup4\",c),l=paravalue(s,\"ccode\"),s.indexOf(\"isappinstalled\")>0&&s.indexOf(\"code\")<0?(n=\"marketing\",l=\"2G178002\"):s.indexOf(\"#s=d\")>0?(n=\"DailyEmail\",l=\"1D110215\"):s.indexOf(\"#s=n\")>0?(n=\"DailyEmail\",l=\"1D130201\"):s.indexOf(\"#s=o\")>0?(n=\"DailyEmail\",l=\"1D130202\"):s.indexOf(\"#s=p\")>0?(n=\"PMEmail\",l=\"1P110215\"):s.indexOf(\"#s=w\")>0?(n=\"WeeklyEmail\",l=\"1W110215\"):s.indexOf(\"?wt\")>0?(n=\"Marketing\",l=\"WeChatNewsQuiz\"):\"1D110215\"===l?n=\"DailyEmail\":\"1P110215\"===l?n=\"PMEmail\":\"1W110215\"===l?n=\"WeeklyEmail\":\"1R110215\"===l?n=\"RSS\":\"1Z120420\"===l?n=\"Zacker\":s.indexOf(\"utm_campaign\")>=0?(l=paravalue(s,\"utm_campaign\"),n=paravalue(s,\"utm_source\")):\"\"===l?(l=GetCookie(\"ccode\")||\"\",n=\"Other\"):n=\"Other\";try{\"\"!==l&&l!==g&&(SetCookie(\"ccode\",l,864e4,\"/\",\".ftchinese.com\"),SetCookie(\"ccode\",l,864e4,\"/\"))}catch(e){}i=\"marketing\",a=\"campaign\",/micromessenger/i.test(ua)?(i=\"WeChat\",a=\"Social\"):n.indexOf(\"Email\")>=0?(i=\"EmailNewsletter\",a=\"referral\"):n.indexOf(\"RSS\")>=0?(i=\"RSS\",a=\"referral\"):n.indexOf(\"Zacker\")>=0&&(i=\"Zacker\",a=\"referral\");try{ga(\"set\",\"AllowAnchor\",!0),\"\"!==l&&s.indexOf(\"utm_campaign\")<0&&(ga(\"set\",\"campaignName\",l),ga(\"set\",\"campaignSource\",i),ga(\"set\",\"campaignMedium\",a),s=window.location.href)}catch(e){}if(\"string\"==typeof window.interactiveType)try{ga(\"set\",\"contentGroup1\",window.interactiveType)}catch(e){}void 0!==window.FTAdchID&&null!==window.FTAdchID&&\"\"!==window.FTAdchID&&ga(\"set\",\"dimension1\",window.FTAdchID),t=f&&\"string\"==typeof f&&\"\"!==f?f:gIsSpider===!0?\"spider\":\"\"===u?\"visitor\":\"member\",gUserType=t,\"\"!==m&&(ga(\"set\",\"dimension14\",m),ga(\"set\",\"userId\",m)),ga(\"set\",\"dimension2\",t),ga(\"set\",\"dimension13\",n);try{e=window.gKeyTag,e=e.replace(/白底|靠右|单页|插图|透明|高清|置顶|沉底|资料|突发/g,\"\").replace(/,+/g,\",\")}catch(e){}p=\"\",r=\"\",s.indexOf(\"story\")>=0?p=\"Story\":s.indexOf(\"interactive\")>=0?(p=\"Interactive\",r=\"product\"):s.indexOf(\"photo\")>=0?(p=\"Photo\",r=\"product\"):s.indexOf(\"video\")>=0?(p=\"Video\",r=\"video\"):p=s.indexOf(\"search\")>=0?\"Search\":s.indexOf(\"channel\")>=0?\"Channel\":s.indexOf(\"comment\")>=0?\"coment\":s.indexOf(\"column\")>=0?\"Column\":s.indexOf(\"tag\")>=0?\"Tag\":s.indexOf(\"topic\")>=0?\"Topic\":\"/\"===s||\"/?refresh=\"===s||s.indexOf(\"index.php\")>=0?\"Home\":\"Other\",ga(\"set\",\"dimension4\",p),void 0===window.ftcteam||null===window.ftcteam||\"\"===window.ftcteam?\"\"!==r&&ga(\"set\",\"dimension5\",r):ga(\"set\",\"dimension5\",window.ftcteam),void 0!==window.gauthor&&null!==window.gauthor&&\"\"!==window.gauthor&&ga(\"set\",\"dimension6\",window.gauthor),void 0!==window.storyGenre&&null!==window.storyGenre&&\"\"!==window.storyGenre&&ga(\"set\",\"dimension8\",window.storyGenre),void 0!==window.storyArea&&null!==window.storyArea&&\"\"!==window.storyArea&&ga(\"set\",\"dimension9\",window.storyArea),void 0!==window.storyIndustry&&null!==window.storyIndustry&&\"\"!==window.storyIndustry&&ga(\"set\",\"dimension10\",window.storyIndustry),void 0!==window.mainTopic&&null!==window.mainTopic&&\"\"!==window.mainTopic&&ga(\"set\",\"dimension11\",window.mainTopic),void 0!==window.subTopic&&null!==window.subTopic&&\"\"!==window.subTopic&&ga(\"set\",\"dimension12\",window.subTopic),updateClientIdLinks(),setTimeout(function(){\"yes\"===window.isBlocked||\"yes\"===window.bBlocked?ga(\"set\",\"dimension16\",\"yes\"):\"no\"===window.isBlocked&&ga(\"set\",\"dimension16\",\"no\"),void 0!==window.bpage&&0!==window.bpage&&null!==window.bpage?(o=s,o=void 0!==window.virtualPage?window.virtualPage:o.replace(/^.*\\\\/story/g,\"story\"),void 0!==window.metaInfo&&(o=o+\"?\"+window.metaInfo),o=\"/barrier/\"+window.bpage+\"/\"+o,ga(\"send\",\"pageview\",o)):void 0!==window.virtualPage?(d=s,d=d.replace(/^.*\\\\/(story|video|interactive)\\\\/[0-9]+/g,\"\").replace(/^.*\\\\.com[\\\\/]*/g,\"\").replace(/search\\\\/.*$/g,\"\"),void 0!==window.metaInfo?d=/\\\\?.*\\\\#/i.test(d)?d.replace(/#/g,\"&\"+window.metaInfo+\"#\"):d.indexOf(\"?\")>=0?d+\"&\"+window.metaInfo:d.indexOf(\"#\")>=0?d.replace(/#/g,\"?\"+window.metaInfo+\"#\"):d+\"?\"+window.metaInfo:/\\\\?/i.test(d)&&(d=d.replace(/\\\\?/g,\"&\")),void 0===window.gAutoStart&&ga(\"send\",\"pageview\",window.virtualPage+d)):void 0===window.gAutoStart&&ga(\"send\",\"pageview\")},1)}function isTouchDevice(){var e=document.createElement(\"div\");return e.setAttribute(\"ongesturestart\",\"return;\"),\"function\"==typeof e.ongesturestart}function showOverlay(e){document.getElementById(e).className=\"overlay-container on\"}function closeOverlay(e){void 0!==e?document.getElementById(e).className=\"overlay-container\":(document.getElementById(\"pop-ad\").style.display=\"none\",document.getElementById(\"pop-ad\").innerHTML=\"\")}function showWarningMessage(e){var n=\"red\"===e?\"membership-red-card-prompt\":\"membership-yellow-card-prompt\",t=document.getElementById(n);if(t){t.className=t.className.replace(/ hide/g,\"\");var i=t.querySelector(\".email-link\");i&&(i.href=\"mailto: subscriber.service@ftchinese.com?subject=Appeal For \"+window.userId),ga(\"send\",\"event\",\"Subscription Warning: \"+e,\"Show\",window.userId,{nonInteraction:1})}}function checkUserWarnings(){if(\"\"!==window.userId){var e=window.gYellowCardUserIds||\"\",n=window.gRedCardUserIds||\"\";window.cardType=\"clear\",n.indexOf(window.userId)>=0?(showWarningMessage(\"red\"),window.cardType=\"red\",DeleteCookie(\"paywall\"),DeleteCookie(\"paywall_expire\")):e.indexOf(window.userId)>=0&&(window.cardType=\"yellow\",showWarningMessage(\"yellow\"));try{var t={userId:window.userId,cardType:window.cardType};webkit.messageHandlers.card.postMessage(t)}catch(e){}}}function parseUrlSearch(){var e=location.search;if(e){e=e.substring(1),e=decodeURIComponent(e);var n=e.split(\"&\");return n}}function getUrlParams(e){var n=\"\",t=parseUrlSearch();if(t&&t.length>0){for(var i=[],a=0,o=t.length;a<o;a++)t[a].indexOf(e)>-1&&(i=t[a].split(\"=\"),i.length>1&&(n=i[1]));return n}return n}function getSearchVars(){var e={};if(window.location.search.length>1)for(var n,t=window.parent.location.search,i=0,a=t.substr(1).split(\"&\");i<a.length;i++)n=a[i].split(\"=\"),e[decodeURIComponent(n[0])]=n.length>1?decodeURIComponent(n[1]):\"\";return e}function trackAd(e,n,t){}function checkAd(e,n){var t,i,a,o=!1,d=0,r=0,c=0,s=0,l=\"\",w=n.getElementsByTagName(\"div\")[0],p=\"\",u=\"\",m=1800;e.checking===!0&&(l=e.adClient+\" \"+e.adWidth+\"x\"+e.adHeight+\" \"+e.adNote,void 0!==e.thirdPartyVendor?p=e.thirdPartyVendor:/doubleclick|adsafeprotected\\\\.com\\\\/.*\\\\/dc\\\\//i.test(e.fallBackImg)&&(p=\"dcR\"),0===e.checkingTime?(\"\"!==p&&(u=GetCookie(p)||\"unknown\",e.reachabilityStatus=u),trackAd(\"Impression Track Start\",l,u)):(void 0!==e.reachabilityStatus&&(u=e.reachabilityStatus),void 0!==e.thirdPartyVendor&&(p=e.thirdPartyVendor)),null===n?o=!1:e.checkDom===!0?(d=n.getElementsByTagName(\"img\").length,r=n.getElementsByTagName(\"object\").length,c=n.getElementsByTagName(\"iframe\").length,s=n.getElementsByTagName(\"video\").length,o=d>0||c>0||r>0||s>0):o=!0,o===!0?(e.checking=!1,trackAd(\"Impression Track Success\",l,u),SetCookie(p,\"reachable\",m,\"/\")):e.checkingTime<e.checkingTimeMax?(e.checkingTime+=1,setTimeout(function(){checkAd(e,n)},1e3)):(trackAd(\"Impression Track Fail Main\",l,u),SetCookie(p,\"unreachable\",m,\"/\"),void 0!==e.fallBackImg&&\"\"!==e.fallBackImg&&(i=/[-a-zA-Z0-9@:%_\\\\+.~#?&\\\\/\\\\/=]{2,256}\\\\.[a-z]{2,4}\\\\b(\\\\/[-a-zA-Z0-9@:%_\\\\+.~#?&\\\\/\\\\/=]*)?/gi,a=new RegExp(i),e.fallBackImg.match(a)?(t=new Image,t.src=e.fallBackImg,t.onload=function(){w.innerHTML=\\'<img src=\"\\'+t.src+\\'\">\\',trackAd(\"Impression Track Success\",l,u),trackAd(\"Impression Track Fallback Image\",l,u)},t.onerror=function(){trackAd(\"Impression Track Fail Fallback\",l,u)}):(trackAd(\"Impression Track Fail Fallback Invalid\",l,u),ga(\"send\",\"event\",\"FallBack Image Error\",l,e.fallBackImg,{nonInteraction:1})))))}function checkAdLoad(){var e,n,t,i,a,o,d,r;\"5\"===window.adUnitTrack?e=document.body:document.getElementById(window.adUnitIds[window.adUnitTrack])&&(e=document.getElementById(window.adUnitIds[window.adUnitTrack])),\"object\"==typeof e?(n=e.getElementsByTagName(\"a\").length||0,t=e.getElementsByTagName(\"video\").length||0,i=e.getElementsByTagName(\"iframe\").length||0,a=e.getElementsByTagName(\"img\").length||0,o=e.getElementsByTagName(\"div\").length||0,d=e.getElementsByTagName(\"object\").length||0,r=n+t+i+a+o+d,r>0?trackAd(\"Loaded Something\",window.adPositionTrack+\" \"+window.adIdTrack):setTimeout(function(){checkAdLoad()},1e3)):trackAd(\"ID \"+window.adUnitIds[window.adUnitTrack]+\" not found\",window.adPositionTrack+\" \"+window.adIdTrack);try{}catch(e){}}function adLoadStatus(e,n){}function setDolphinSlot(e){var n,t=window.dolRand?\"&slot=\"+window.dolRand:\"\",i=GetCookie(e);if(!i)return t;window.cArray=i.split(\";\");for(n in window.cArray)window.cArray.hasOwnProperty(n)&&(window.cArray[n]=window.cArray[n].replace(\"|\",\"=\"),t+=\"&_\"+window.cArray[n]);return t}function initAds(){uaString=navigator.userAgent||navigator.vendor||\"\",isWeChat=/micromessenger/i.test(uaString),w1=Math.max(document.documentElement.clientWidth,window.innerWidth||0),w2=window.screen.availWidth||0,w2>0&&w1>w2&&(w1=w2)}function sendEvent(e,n,t,i){try{ga(\"send\",\"event\",e,n,t,i)}catch(a){eventsToSend.push({ec:e,ea:n,el:t,ei:i})}}function clearEvents(){for(var e=eventsToSend.length,n=0;n<e;n++)ga(\"send\",\"event\",eventsToSend[n].ec,eventsToSend[n].ea,eventsToSend[n].el,eventsToSend[n].ei);eventsToSend=[],window.gaLoaded=!0}function checkB(){var e=document.createElement(\"div\");e.innerHTML=\"&nbsp;\",e.className=\"adsbox\",document.body.appendChild(e),window.setTimeout(function(){0===e.offsetHeight?(isBlocked=\"yes\",showPayWall()):isBlocked=\"no\",e.remove()},100)}function showPayWall(){if(null===GetCookie(\"USER_ID\"))return void displayPayWallInBody();var e=new XMLHttpRequest;e.open(\"GET\",\"/index.php/jsapi/paywall\"),e.setRequestHeader(\"Content-Type\",\"application/json\"),e.onload=function(){if(200===e.status){var n=JSON.parse(e.responseText);1===n.paywall&&displayPayWallInBody()}},e.send()}function displayPayWallInBody(){var e=document.getElementById(\"story-body-container\");if(e){var n=window.FTStoryid||\"\";window.gSubscriptionEventLabel=\"AdBlocker/story/\"+n;var t=\\'如果已经是会员，请<a href=\"http://user.ftchinese.com/login\" class=\"o-client-id-link\">点击这里</a>登录\\',i=\"http://www.ftchinese.com/index.php/ft/subscription?el=\"+window.gSubscriptionEventLabel,a=\\'<p>亲爱的读者，我们注意到您使用了广告拦截。我们完全理解您这样做的原因！</p><p>但是维持FT中文网的正常运转是需要成本的，如果您喜欢FT中文网，可以：</p><p>1. <a class=\"highlight o-client-id-link\" href=\"\\'+i+\\'\">成为付费会员</a>。这样您可以继续使用广告拦截，同时可以跨平台阅读或收听FT中文网的独家内容、英文原文、以及音频。</p><p>或</p><p>2. 将FT中文网加到您的广告拦截的白名单中，以继续浏览FT中文网的免费内容。</p><p>根据我们了解的信息，国产的浏览器大部分都内置了这一功能，我们建议您更换一个纯净浏览器（例如：Firefox、Chrome等）来打开我们的网页，这样您就可以正常浏览我们的免费文章。感谢您的支持。</p>\\',o=\"<p></p>\",d=\"<div><div>\"+a+\"</div><div>\"+t+\"</div><div>\"+o+\"</div></div></div>\";e.innerHTML=d,updateClientIdLinks(),ga(\"send\",\"event\",\"Web Privileges\",\"Display\",window.gSubscriptionEventLabel)}}function checkLandingPage(){var e=window.location.host||\"\",n=document.referrer||\"\";gIsLandingPage=n.indexOf(e)<0}function getSearchVars(){var e={};if(window.location.search.length>1)for(var n,t=window.parent.location.search,i=0,a=t.substr(1).split(\"&\");i<a.length;i++)n=a[i].split(\"=\"),e[decodeURIComponent(n[0])]=n.length>1?decodeURIComponent(n[1]):\"\";return e}function getDeviceCategory(){var e=\"PC\";return(/iPad/i.test(uaString)||/OS [0-9]+\\\\_/i.test(uaString)&&(/iPhone/i.test(uaString)||/iPod/i.test(uaString))||/Android|micromessenger/i.test(uaString)||w1<=490||\"ftcapp\"===searchVars.webview)&&(e=\"Mobile\"),e}function getDeviceTpye(){var e=\"PC\";return/iPad/i.test(uaString)?(e=\"PadWeb\",searchVars.webview&&\"ftcapp\"===searchVars.webview&&(e=\"PadApp\")):/OS [0-9]+\\\\_/i.test(uaString)&&(/iPhone/i.test(uaString)||/iPod/i.test(uaString))?(e=\"iPhoneWeb\",searchVars.webview&&\"ftcapp\"===searchVars.webview&&(e=\"iPhoneApp\")):(/Android|micromessenger/i.test(uaString)||w1<=490)&&(e=\"AndroidWeb\"),e}function getAdChannelId(){var e=adchID,n=window.location.href.replace(/^.*adchannelID=([0-9]{4}).*$/g,\"$1\");/^[0-9]{4}$/.test(n)&&window.isAdchannelIdFinal!==!0?e=n:\"undefined\"!=typeof window.FTadchannelID&&window.FTadchannelID&&(console.log(window.FTadchannelID),e=window.FTadchannelID);var t=[\"iPhoneApp\",\"iPhoneWeb\",\"AndroidApp\",\"AndroidWeb\",\"PadApp\",\"PadWeb\"];e&&t.indexOf(deviceType)>=0&&\"50\"!==e.substring(0,2)&&\"00\"!==e.substring(2,4)&&\"1902\"!==e&&(e=e.substring(0,2)+\"00\");var i=e||\"1000\";return i}function getBannerBG(){var e=\"\";return\"luxury\"===window.pageTheme?e=\"&bg=e0cdac\":\"ebook\"===window.pageTheme&&(e=\"&bg=777777\"),e}function isLocal(){return\"localhost\"===window.location.hostname||0===window.location.hostname.indexOf(\"192.168\")||0===window.location.hostname.indexOf(\"10.113\")||0===window.location.hostname.indexOf(\"127.0\")}function writeAdNew(e){var n,t=\"\",i=\"\",a=\"\",o=\"\",d=\"\",r=\"\",c=\"\",s=\"\",l=\"\",w=\"\";if(e.devices.indexOf(deviceType)<0)return\"\";if(o=adDevices[deviceType].id,n=\"PadWeb\"===deviceType||\"PadApp\"===deviceType?window.adPatternsPad:\"iPhoneWeb\"===deviceType||\"iPhoneApp\"===deviceType||\"AndroidWeb\"===deviceType?window.adPatternsPhone:window.adPatternsPC){var p=n[e.pattern];d=p.id,r=p.position[e.position].id,c=p.width||\"100%\",s=p.height||\"50\",l=e.container||p.container||\"none\",a=o+adChannelId+d+r}var u=\"\",m=\"2018100308\";u=bannerBG?\"yes\"===searchVars.testDB?\"/a.html?v=\"+m+bannerBG+\"#testDB=yes&adid=\"+a+\"&pid=\"+a+\"&device=\"+deviceType+\"&pattern=\"+e.pattern:\"/a.html?v=2018100302\"+m+bannerBG+\"#adid=\"+a+\"&pid=\"+a+\"&device=\"+deviceType+\"&pattern=\"+e.pattern:\"yes\"===searchVars.testDB?\"/a.html?v=\"+m+\"#testDB=yes&adid=\"+a+\"&pid=\"+a+\"&device=\"+deviceType+\"&pattern=\"+e.pattern:\"/a.html?v=\"+m+\"#adid=\"+a+\"&pid=\"+a+\"&device=\"+deviceType+\"&pattern=\"+e.pattern,(location.href.indexOf(\"ad=no\")>0||window.hideAllAds===!0)&&(u=u.replace(/a\\\\.html/g,\"b.html\"));var g=\"ad-\"+a;if(t=\\'<iframe class=\"banner-iframe\" data-adch=\"\\'+adChannelId+\\'\" data-adPosition=\"\\'+d+r+\\'\" id=\"\\'+g+\\'\" width=\"\\'+c+\\'\" height=\"\\'+s+\\'\" frameborder=\"0\" scrolling=\"no\" marginwidth=\"0\" marginheight=\"0\" src=\"\\'+u+\\'\" data-src=\"\\'+u+\\'\" data-ad-type=\"\\'+d+r+\\'\" data-ad-count=0></iframe>\\',window.gDebugAd&&\"string\"==typeof window.gDebugAd){var h=\"\",f=\"\";w=deviceType+\"-\"+h+\"-\"+f+\"-\"+e.pattern+\"-\"+e.position,i=window.gDebugAd.replace(\"adcode_for_debug\",a+\": \"+w)}return t+=i,\"banner\"===l?t=\\'<div class=\"bn-ph\"><div class=\"banner-container\"><div class=\"banner-inner\"><div class=\"banner-content\">\\'+t+\"</div></div></div></div>\":\"mpu\"===l?t=\\'<div class=\"mpu-container\">\\'+t+\"</div>\":\"mpuInStory\"===l&&(t=\\'<div class=\"mpu-container-instory\">\\'+t+\"</div>\"),t}function adReachability(){var e,n={dcR:\"_dc\",mmR:\"_mm\",szR:\"_sz\",amR:\"_am\"},t=\"\";for(var i in n)if(n.hasOwnProperty(i)){try{e=\"function\"==typeof window.GetCookie?GetCookie(i):getCookie(i)}catch(n){e=null}\"reachable\"===e?t+=\"&\"+n[i]+\"=1\":window.gIsSpider!==!0||\"dcR\"!==i&&\"amR\"!==i?null===e&&(t+=\"&\"+n[i]+\"=2\"):t+=\"&\"+n[i]+\"=0\"}return\"string\"!=typeof window.gUserType&&(window.gUserType=\"visitor\"),t+=\"&_ut=\"+window.gUserType}function showTextImageForAd(e){if(gCanReplaceInstoryWithAd===!0&&gReplacedInstroyWithAd===!1){var n=decodeURIComponent(e.adLink)||\"https://www.hennessy.com/zh-cn/hennessyparadisimperial/campaign.htm?utm_source=Ftchinese%20homepage%20top%20banner&utm_campaign=HPI2017OcttoNovCampaignDigital&utm_content=Ad&utm_term=OcttoNovCampaign&smtid=509415688z2906z1cm6gzacz0z\",t=e.adTitle||\"轩尼诗顶通20171031\",i=Math.random();if(console.log(\"random number is \"+i),i<.005&&void 0===window.footerMoreShowed){var a=window.innerWidth||document.documentElement.clientWidth||document.body.clientWidth,o=window.innerHeight||document.documentElement.clientHeight||document.body.clientHeight,d=document.querySelector(\".footer-container\");d.innerHTML+=\\'<div id=\"footer-more\"></div>\\';var r=document.getElementById(\"footer-more\");r.innerHTML=\\'<div><iframe id=\"footer-more-frame\" width=\"\\'+a+\\'\" height=\"\\'+o+\\'\" frameborder=\"0\" scrolling=\"no\" marginwidth=\"0\" marginheight=\"0\" style=\"\" src=\"\\'+n+\\'\"></iframe></div>\\',ga(\"send\",\"event\",\"Text and Image Ad\",\"click footer\",t),window.footerMoreShowed=!0,gReplacedInstroyWithAd=!0}}}function getRandomInt(e,n){return e=Math.ceil(e),n=Math.floor(n),Math.floor(Math.random()*(n-e))+e}function sendImpToThirdParty(e,n,t){if(\"string\"==typeof e){\"object\"!=typeof window.parent.gTrackThirdParyImpression&&(window.parent.gTrackThirdParyImpression={});var i=0,a=e,o=!1,d=3,r=function(){var e=arguments[0]||\"\",n=arguments[1]||\"\",i=arguments[2]||\"\",a=\"G\"+Math.round(1e12*Math.random());try{window.parent.ga(\"send\",\"event\",e,n,i,{nonInteraction:1})}catch(d){var o=new Image;o.src=\"http://www.ftchinese.com/index.php/ft/hit/\"+t+\"/2?ec=\"+e+\"&ea=\"+n+\"&el=\"+encodeURIComponent(i)+\"&r=\"+a}},c=function(){var s,l=\"IMG\"+Math.round(1e12*Math.random()),w=(new Date).getTime(),p=e;try{s=arguments[0]||\"\"}catch(e){s=\"\"}p.indexOf(\"?\")<0&&(p+=\"?\"),p=p.replace(\"ord=[timestamp]\",\"ord=\"+w)+\"&\"+l+\"&ftctime=\"+w,i>0&&(0===a.indexOf(\"https\")?(p=p.replace(\"https://ad.doubleclick.net\",\"http://ad.doubleclick.net\"),p=p.replace(\"https://v.admaster.com.cn\",\"http://v.admaster.com.cn\")):(p=p.replace(\"http://ad.doubleclick.net\",\"https://ad.doubleclick.net\"),p=p.replace(\"http://v.admaster.com.cn\",\"https://v.admaster.com.cn\"))),a=p,window.parent.gTrackThirdParyImpression[l]=new Image,window.parent.gTrackThirdParyImpression[l].src=p,window.parent.gTrackThirdParyImpression[l].title=n+\" (\"+t+\")\",window.parent.gTrackThirdParyImpression[l].alt=e,window.parent.gTrackThirdParyImpression[l].onload=function(){var e=\"\";e=0===i?\"Success\":\"\"!==s?\"Success on Retry\"+s:\"Success on Retry\"+i,r(this.title,e,this.alt),delete window.parent.gTrackThirdParyImpression[l],o=!0},window.parent.gTrackThirdParyImpression[l].onerror=function(){var e=\"\";if(e=0===i?\"Fail\":\"\"!==s?\"Fail on Retry\"+s:\"Fail on Retry\"+i,r(this.title,e,this.alt),\"string\"==typeof window.uaString)try{window.parent._hmt.push([\"_trackEvent\",this.title,\"Fail\",window.uaString])}catch(e){}i++,i<=d&&setTimeout(c,100*i*i*i)}};c(),setTimeout(function(){if(o===!1&&0===i){i=d-1;var a=\" from Pending\";c(a),r(n+\" (\"+t+\")\",\"Request\"+a,e)}},1e4),r(n+\" (\"+t+\")\",\"Request\",e)}}function postVal(e){var n=GetCookie(\"USER_ID\")||\"\";if(n){var t=new XMLHttpRequest;t.open(\"post\",\"/engagement.php\"),t.setRequestHeader(\"Content-Type\",\"application/text\"),t.onload=function(){},t.send(JSON.stringify(e))}}function updateDisplay(e){if(!(e in addrs)){addrs[e]=!0;for(var n=Object.keys(addrs).filter(function(e){return addrs[e]}),t=0;t<n.length;t++)n[t].length>16&&(n.splice(t,1),t--);return ipAddress=n[0],n[0]}}function grepSDP(e){e.split(\"\\\\r\\\\n\").forEach(function(e,n,t){if(~e.indexOf(\"a=candidate\")){var i=e.split(\" \"),a=i[4],o=i[7];\"host\"===o&&updateDisplay(a)}else if(~e.indexOf(\"c=\")){var i=e.split(\" \"),a=i[2];updateDisplay(a)}})}function getRTC(){var e=window.RTCPeerConnection||window.webkitRTCPeerConnection||window.mozRTCPeerConnection;if(e){var n=new e({iceServers:[]});n.createDataChannel(\"\",{reliable:!1}),n.onicecandidate=function(e){e.candidate&&grepSDP(\"a=\"+e.candidate.candidate)},n.createOffer(function(e){grepSDP(e.sdp),n.setLocalDescription(e)},function(e){console.warn(\"offer failed\",e)})}else console.log(\"不支持RTCPeerConnection\")}function getBrowserTime(){function e(){n=(new Date).getTime()}var n=\"\";document.addEventListener?document.addEventListener(\"DOMContentLoaded\",e,!1):document.attachEvent&&document.attachEvent(\"onreadystatechange\",function(){n=(new Date).getTime()}),window.onload=function(){getRTC();var e=(new Date).getTime(),t={ipAddress:ipAddress,url:location.href,refer:document.referrer,timeIn:n,timeOut:e,userId:GetCookie(\"USER_ID\")||null,functionName:\"onload\"};postVal(t)},window.onbeforeunload=function(){var e={ipAddress:ipAddress,url:location.href,refer:document.referrer,timeIn:n,timeOut:(new Date).getTime(),userId:GetCookie(\"USER_ID\")||null,functionName:\"onbeforeunload\"};postVal(e)}}var w=window.innerWidth||document.documentElement.clientWidth||document.body.clientWidth,ua=navigator.userAgent||navigator.vendor||\"\",gIsSpider=!!/spider|baidu|bidu|bot|crawler|crawling/i.test(ua),gUserType=\"visitor\",username=GetCookie(\"USER_NAME\")||GetCookie(\"USER_NAME_FT\")||\"\",userId=GetCookie(\"USER_ID\")||\"\",ccodeCookie=GetCookie(\"ccode\")||\"\",user_name=GetCookie(\"USER_NAME\")||GetCookie(\"USER_NAME_FT\");null!==user_name&&(document.documentElement.className+=\" is-member\"),findMoreSpider(),window.ccodeValue=getUrlParams(\"ccode\")||getUrlParams(\"utm_campaign\")||GetCookie(\"ccode\");var adDevices={PC:{id:\"1000\",description:\"在PC上看到的网页\",patterns:\"adPatternsPC\",channels:\"adChannelsPC\"},iPhoneApp:{id:\"2000\",description:\"在iPhone手机上看到的App\",patterns:\"adPatternsPhone\",channels:\"adChannelsMobile\"},iPhoneWeb:{id:\"3000\",description:\"在iPhone手机上看到的网页\",patterns:\"adPatternsPhone\",channels:\"adChannelsMobile\"},AndroidApp:{id:\"4000\",description:\"在android手机上看到的App\",patterns:\"adPatternsPhone\",channels:\"adChannelsMobile\"},AndroidWeb:{id:\"5000\",description:\"在android手机上看到的网页\",patterns:\"adPatternsPhone\",channels:\"adChannelsMobile\"},PadApp:{id:\"6000\",description:\"在pad上看到的App\",patterns:\"adPatternsPad\",channels:\"adChannelsMobile\"},PadWeb:{id:\"7000\",description:\"在pad上看到的网页\",patterns:\"adPatternsPad\",channels:\"adChannelsMobile\"}},gIsLandingPage=!1;window.dolRand=Math.round(1e6*Math.random());var slotStr=setDolphinSlot(\"USER_KV\"),uaString,w1,w2,isWeChat;window.gaLoaded=!1;var eventsToSend=[],isBlocked=\"unknown\";initAds(),isWeChat===!0&&(document.documentElement.className+=\" is-wechat\"),checkLandingPage();var searchVars=getSearchVars(),deviceCategory=getDeviceCategory(),deviceType=getDeviceTpye(),adChannelId=getAdChannelId(),bannerBG=getBannerBG(),isLocal=isLocal(),gCanReplaceInstoryWithAd=!1,gReplacedInstroyWithAd=!1,ipAddress=\"\",addrs=Object.create(null);addrs[\"0.0.0.0\"]=!1,getRTC(),getBrowserTime(); if(typeof startTime === \"undefined\"){ var startTime=new Date().getTime(); } var FTStoryid = \\'001079687\\'; (function(i,s,o,g,r,a,m){i[\\'GoogleAnalyticsObject\\']=r;i[r]=i[r]||function(){ (i[r].q=i[r].q||[]).push(arguments)},i[r].l=1*new Date();a=s.createElement(o), m=s.getElementsByTagName(o)[0];a.async=1;a.src=g;m.parentNode.insertBefore(a,m);a.onload=function(){if(typeof clearEvents===\\'function\\'){clearEvents()}} })(window,document,\\'script\\',\\'https://www.google-analytics.com/analytics.js\\',\\'ga\\'); var userIdForGA = GetCookie(\\'USER_ID\\'); var clientId; try { clientId = paravalue(window.location.href, \\'clientId\\'); var url = window.location.href.replace(/&clientId=.*/g, \\'\\') var stateObj = { foo: \"bar\" }; history.replaceState(stateObj, \"page 3\", url); } catch(ignore) {} var gaMore = {hasValue: false}; if (userIdForGA !== null) { gaMore.userId = userIdForGA; gaMore.hasValue = true; } if (clientId !== \\'\\') { gaMore.clientId = clientId; gaMore.hasValue = true; } if (gaMore.hasValue) { ga(\\'create\\', \\'UA-1608715-1\\', \\'auto\\', gaMore); } else { ga(\\'create\\', \\'UA-1608715-1\\', \\'auto\\'); } ga(\\'require\\', \\'displayfeatures\\'); ga(\\'require\\', \\'ec\\'); if (window.gAutoStart === undefined) { try { trackerNew(); }catch(err){ ga(\\'send\\', \\'pageview\\'); } } function linkClickGa(e){ // MARK: - Stop Tracking for Lack of GA Quota //ga(\\'send\\',\\'event\\',\\'AdClick\\', $(e).attr(\"href\"), \"An\"); } if (window.gAutoStart === undefined) { (function(d, s, u, j, x) { j = d.createElement(s), x = d.getElementsByTagName(s)[0]; j.async = true; j.src = u; x.parentNode.insertBefore(j, x) })(document, \\'script\\', \\'https://static.ftimg.net/js/log.js?v=1539086624656\\'); } var _hmt = _hmt || []; (function() { var hm = document.createElement(\"script\"); hm.src = \"https://hm.baidu.com/hm.js?6f808c64c1308274ef22324b340e40af\"; var s = document.getElementsByTagName(\"script\")[0]; s.parentNode.insertBefore(hm, s); })();\\nvar gIsCurrentAdchFinal = true; !function(a,b,c){var d=b.getElementsByTagName(c)[0],e=b.createElement(c);e.async=!0,e.src=\"http://uluai.com.cn/api/sc/j/moni.min.js\",d.parentNode.insertBefore(e,d)}(window,document,\"script\");\\nvar gUaOfPage = navigator.userAgent || navigator.vendor || \"\";checkB();\\n@charset \"UTF-8\";#pop-ad .o-overlay__close{padding:10px;position:absolute;right:-23px;top:-25px}#pop-ad .o-overlay__close-icon{width:24px;height:24px;font-size:12px;line-height:15px;font-family:ft-icons;display:inline-block;vertical-align:middle;font-weight:400!important;font-style:normal!important;text-decoration:inherit;text-transform:none;text-rendering:optimizeLegibility;-webkit-font-smoothing:antialiased;border:1px solid;border-radius:50%;background-color:#2e6e9e;color:#fff;border-color:#2e6e9e;background-clip:padding-box}#pop-ad .o-overlay__close-icon:before{content:\"x\";font-size:28px;width:24px;height:32px;text-align:center;line-height:32px;display:block;font-style:normal;padding-top:0;margin-top:-6px}#pop-ad .cell{display:table-cell;vertical-align:middle}.overlay_close-btn{position:relative}.overlay_close-btn:after{content:\"×\";font-size:43px;position:absolute;font-family:Arial;font-weight:400;color:#fff;top:0;left:0;right:0;bottom:0;display:block;margin:auto;text-align:center}.mobile-landscape{display:none}@media only screen and (min-width:450px){.mobile-landscape{display:block}.mobile-portrait{display:none}}.overlay,.overlayBG{width:100%;height:100%;position:absolute;top:0;left:0}.overlay{display:none;z-index:3}.overlayBG{opacity:.7;background:#54534d;z-index:1}.overlay.on{display:block;color:#333;background:transparent;position:fixed}.overlay .inner{width:100%;height:100%;position:absolute;top:0;left:0;background:transparent;z-index:2;display:table}.pop-ad-code{display:none}\\nif (typeof GetCookie === \\'function\\') { var fullSC = GetCookie(\"fs0\"); var paywallType = GetCookie(\\'paywall\\'); var loadFullAtEnd = false; // MARK: - Display the full screen ad for every visit fullSC = null; var canPopAd = (fullSC === null && w <= 490 && paywallType !== \\'premium\\' && paywallType !== \\'standard\\'); if (canPopAd) { //document.write (writeAd(\\'fullpage\\')); document.write (writeAdNew({ devices: [\\'iPhoneApp\\',\\'iPhoneWeb\\',\\'AndroidApp\\',\\'AndroidWeb\\'], pattern:\\'FullScreen\\', position:\\'Web\\' })); SetCookie(\"fs0\",1,5*60*60,\"/\"); } }\\n.noneSubscriber.subscription-promo-container { background-color: #14bdcc; } .noneSubscriber .subscription-promo-box { background-image: url(http://i.ftimg.net/picture/0/000079340_piclink.jpg); } @media only screen and (max-width: 490px) { .noneSubscriber .subscription-promo-box { background-image: url(http://i.ftimg.net/picture/1/000079341_piclink.jpg); } }\\n付费专享中美贸易战专题\\nfunction addUserId(ele) { if (ele === null) { return; } var userId; if (typeof GetCookie === \\'function\\') { userId = GetCookie(\\'USER_ID\\'); } else { userId = getCookie(\\'USER_ID\\'); } if (userId && typeof userId === \\'string\\' && userId !== \\'\\') { var link = ele.href; var connector = (link.indexOf(\\'?\\') >= 0) ? \\'&\\' : \\'?\\'; ele.href = link + connector + \\'u=\\' + userId; } } var premiumLink = document.querySelector(\\'[data-promo-target=premium]\\'); addUserId(premiumLink);\\n简体中文 繁体中文 FT.com\\n登录 免费注册 我的FT 设置 登出\\n登录×\\n电子邮件/用户名\\n密码\\n记住我\\n免费注册找回密码\\n微信登录\\n搜索 关闭\\n搜索\\nFT中文网\\nMenu\\n切换版本\\n繁体中文版\\nFT.com\\n首页 首页\\n中国 中国\\n频道首页\\n政经\\n商业\\n金融市场\\n股市\\n房地产\\n社会与文化\\n观点\\n全球 全球\\n经济 经济\\n金融市场 金融市场\\n商业 商业\\n创新经济 创新经济\\n教育 教育\\n观点 观点\\n管理 管理\\n生活时尚 生活时尚\\n视频 视频\\n每日英语 每日英语\\n登录\\n免费注册\\n我的FT\\n会员中心\\n设置\\n登出\\n关注我们\\n微信公众号\\n新浪微博\\nQQ空间\\n读读日报\\nFlipboard\\nTwitter\\nFacebook\\nLinkedIn\\n工具\\n移动应用大全\\n基本设置\\n会员中心\\n修改头像\\n邮件订阅\\n同步微博\\n我的评论\\n管理收藏\\nRSS\\n中国\\n政经\\n中文英文对照\\n为您推荐\\ndocument.write(writeAdNew({ devices: [\\'PC\\'], pattern:\\'Leaderboard\\', position:\\'Num1\\' })); document.write(writeAdNew({ devices: [\\'iPhoneWeb\\', \\'AndroidWeb\\',\\'iPhoneApp\\',\\'AndroidApp\\'], pattern:\\'Banner\\', position:\\'Num1\\' })); ga(\\'send\\', \\'event\\', \\'Ad Switch Tracker\\', \\'Dolphine\\', \\'banner1\\', {\\'nonInteraction\\': 1}); //sendJSONToFTC({ec: \\'Ad Switch Tracker\\', ea: \\'Dolphine\\', el: \\'banner1\\'});\\n中美贸易战\\n中国指责特朗普“错误言行”\\n突显美中之间紧张局面超出贸易范畴的是，中国外长王毅在美国国务卿访华期间批评美方“无端”指责中国的内外政策。\\n对照英文\\n收藏\\n更新于2018年10月9日 05:55 英国《金融时报》 韩碧如 北京 ， 宋京雅 首尔报道\\n中国指责唐纳德•特朗普(Donald Trump)表现出“错误言行”，这一表态暴露出世界上两个最大经济体之间日益紧张的局面，突显它们之间的贸易战可能升级为涉及面更广的区域对抗。\\n对美国总统的谴责是在美国国务卿迈克•蓬佩奥(Mike Pompeo)北京访问期间发表的，而就在几天前，美国副总统迈克•彭斯(Mike Pence)发表一篇措辞犀利的演讲，指责中国干涉美国的中期选举。\\n中国外交部长王毅指责特朗普“不断升级”对华贸易摩擦，同时在台湾等问题上“损害中方权益”，还“无端”指责中国的内外政策。\\n“我们要求美方立即停止错误言行。”王毅表示。他提醒蓬佩奥，北京方面是美国与朝鲜达成任何协议的关键。“两个大国，两个安理会常任理事国，需要也应该加强沟通合作，承担起国际社会赋予我们的职责。”\\ndocument.write (writeAdNew({devices: [\\'PC\\',\\'iPhoneWeb\\',\\'AndroidWeb\\',\\'iPhoneApp\\',\\'AndroidApp\\'],pattern:\\'MPU\\',position:\\'Middle1\\',container:\\'mpuInStory\\'}));\\n特朗普对北京方面祭出的关税边缘政策，其中包括对近一半中国输美产品加征关税，已在国际市场引发不安，国际货币基金组织(IMF)警告称，这可能会损害已经陷入艰难处境的新兴市场。\\n中国央行周一再次向国内银行体系注入资金，以便在美国贸易压力减缓中国经济增长的情况下刺激放贷。但此举未能安抚投资者，上证综指(Shanghai Composite)下跌3.7%，而人民币对美元汇率下跌0.9%。\\n然而，近日的外交争端是一个迹象，表明双边紧张局势已远远超出贸易范畴，此前白宫还批准3.3亿美元对台湾军售。\\n蓬佩奥周一表示，美中在王毅提出的几个问题上存在“根本分歧”。他告诉王毅：“我感到遗憾的是，你们选择取消我们两国之间的战略对话。”\\n预计未来几个月各方将在朝鲜问题上展开一波旋风式高层外交，蓬佩奥表示，朝鲜领导人金正恩(Kim Jong Un)已同意“尽快”与特朗普举行第二次峰会。他补充说，朝鲜愿意允许国际检查员评估该国迈向无核化的步骤。\\n据韩国国家元首文在寅(Moon Jae-in)透露，中国国家主席习近平预计也将前往平壤。文在寅还称，朝鲜和日本之间的峰会也是可能的。但分析人士表示，美国和中国之间日益扩大的分歧可能会给进展蒙上阴影。\\ndocument.write (writeAdNew({devices: [\\'iPhoneWeb\\',\\'AndroidWeb\\',\\'iPhoneApp\\',\\'AndroidApp\\'],pattern:\\'MPU\\',position:\\'Middle2\\',container:\\'mpuInStory\\'}));\\n“美国与中国之间的战略竞争已变得越来越激烈，这也成为中国最关切的地缘政治问题。”北京清华-卡内基全球政策中心(Carnegie-Tsinghua Center)的赵通表示，“在这种情况下，中国外交工作的核心目标不可避免地转向在对美竞争中取得优势地位。”\\n蓬佩奥是在访问平壤后抵达北京的。据朝鲜官方的朝中社(KCNA)报道，他在平壤期间与金正恩进行了“富有成效和融洽的”会谈。\\n克里姆林宫表示，俄罗斯已邀请金正恩进行国事访问，但尚未就具体安排达成一致。\\n“朝鲜领导人已接到邀请。在通过外交渠道商定具体的访问安排后，我方将适当地宣布此事。”弗拉基米尔•普京(Vladimir Putin)的发言人德米特里•佩斯科夫(Dmitry Peskov)表示。\\n译者/何黎\\n版权声明：本文版权归FT中文网所有，未经允许任何单位或个人不得转载，复制或以任何其他方式使用本文全部或部分，侵权必究。\\ndocument.write (writeAdNew({ devices: [\\'PC\\',\\'PadWeb\\',\\'PadApp\\'], pattern:\\'MPU\\', position:\\'Right1\\' }));\\n相关文章\\n特朗普寻求阻止中国与美贸易伙伴谈判自贸协定\\n美中进入新冷战？\\n如何避免贸易战变冷战\\n中国重新强调“自力更生”\\n中国指责特朗普“错误言行”\\ndocument.write (writeAdNew({ devices: [\\'PC\\',\\'PadWeb\\',\\'PadApp\\'], pattern:\\'MPU\\', position:\\'Right2\\' }));\\n相关话题\\n中美贸易战\\n关注\\n中美关系\\n关注\\n蓬佩奥\\n关注\\n您可能感兴趣的文章\\ndocument.write(writeAdNew({ devices: [\\'PC\\'], pattern:\\'Banner\\', position:\\'Num1\\' })); document.write(writeAdNew({ devices: [\\'iPhoneWeb\\',\\'AndroidWeb\\',\\'iPhoneApp\\',\\'AndroidApp\\'], pattern:\\'Banner\\', position:\\'Num2\\' })); ga(\\'send\\', \\'event\\', \\'Ad Switch Tracker\\', \\'Dolphine\\', \\'banner2\\', {\\'nonInteraction\\': 1}); //sendJSONToFTC({ec: \\'Ad Switch Tracker\\', ea: \\'Dolphine\\', el: \\'banner2\\'});\\n关于我们 加入我们 问题回馈 联系方式 合作伙伴 服务条款 广告业务 版权声明 最新动态\\n© The Financial Times Ltd 2018 FT and \\'Financial Times\\' are trademarks of The Financial Times Ltd.\\n(function(w,d,s,l,i){w[l]=w[l]||[];w[l].push({\\'gtm.start\\': new Date().getTime(),event:\\'gtm.js\\'});var f=d.getElementsByTagName(s)[0],j=d.createElement(s),dl=l!=\\'dataLayer\\'?\\'&l=\\'+l:\\'\\';j.async=true;j.src=\\'//www.googletagmanager.com/gtm.js?id=\\'+i+dl;f.parentNode.insertBefore(j,f);})(window,document,\\'script\\',\\'dataLayer\\',\\'GTM-KP4V3G\\')\\n设置字号×\\n最小\\n较小\\n默认\\n较大\\n最大\\n分享×\\n\"use strict\";function Delegate(e){this.listenerMap=[{},{}],e&&this.root(e),this.handle=Delegate.prototype.handle.bind(this)}function matchesTag(e,t){return e.toLowerCase()===t.tagName.toLowerCase()}function matchesRoot(e,t){return this.rootElement===window?t===document:this.rootElement===t}function matchesId(e,t){return e===t.id}function findTop(e){var t=0;if(e&&e.offsetParent){do t+=e.offsetTop;while(e=e.offsetParent);return t}}function getBodyHeight(){var e=window,t=document,o=t.documentElement,n=t.getElementsByTagName(\"body\")[0],a=e.innerHeight||o.clientHeight||n.clientHeight;return a}function stickyAdsPrepare(){if(\"object\"==typeof stickyAds&&stickyAds.length>0)for(var e=0;e<stickyAds.length;e++){var t=document.getElementById(stickyAds[e].BannerId).parentNode.parentNode.parentNode.parentNode,o=document.getElementById(stickyAds[e].BannerId).parentNode.parentNode.parentNode;stickyAds[e].oTop=findTop(t),stickyAds[e].currentClass=o.className}}function loadImagesLazy(){if(1!==figuresLoadStatus){for(var e=0,t=0;t<figuresLazy.length;t++)\"\"!==figuresLazy[t]&&(void 0===scrollTop&&(scrollTop=window.scrollY||document.documentElement.scrollTop),scrollTop+2*bodyHeight>figuresLazy[t].imageTop&&(figures[t].innerHTML=\\'<img src=\"\\'+figuresLazy[t].imageUrl+\\'\" data-backupimage=\"\\'+figuresLazy[t].imageUrlBack+\\'\">\\',figures[t].className=figuresLazy[t].loadedClass,figuresLazy[t]=\"\"),e++);0===e&&(figuresLoadStatus=1)}}function loadVideosLazy(){if(1!==videosLoadStatus){for(var e=0,t=0;t<videosLazy.length;t++)\"\"!==videosLazy[t]&&(scrollTop+2*bodyHeight>videosLazy[t].videoTop&&(videos[t].innerHTML=videosLazy[t].ih,videos[t].className=\"\",videosLazy[t]=\"\"),e++);0===e&&(videosLoadStatus=1)}}function trackViewables(){}function loadImages(){var e,t=window.location.search,o=!1,n=100;figures=document.querySelectorAll(\"figure.loading\"),figuresLazy=[],figuresLoadStatus=0;try{(360===w||375===w||320===w||414===w||768===w||1024===w||w>1220)&&(o=!0)}catch(e){}for(e=0;e<figures.length;e++){var a,i=figures[e],s=i.offsetWidth,r=i.offsetHeight,c=findTop(i),l=i.getAttribute(\"data-url\")||\"\",d=i.className||\"\",m=\"cover\",u=i.parentNode.className||\"\",g=!1,f=\"\",h=\"https://www.ft.com/__origami/service/image/v2/images/raw/\",p=!0;if(\"\"===l&&(p=!1),isRetinaDevice===!0&&(s=2*s,r=2*r,f=\"is-retina\"),(!t||t.indexOf(\"?ad=no\")===-1)&&o===!1){var y=s%n;if(0!==y){var v=r/s,b=parseInt(s/n,10);s=(b+1)*n,r=parseInt(s*v,10),f=\"is-retina\"}}/brand/.test(u)&&(m=\"contain\"),l=encodeURIComponent(l),/sponsor/.test(d)?(l=h+l+\"?source=ftchinese&height=\"+r+\"&fit=\"+m+\"&from=next001\",g=!0):s>0&&r>0&&(l=h+l+\"?source=ftchinese&width=\"+s+\"&height=\"+r+\"&fit=\"+m+\"&from=next001\",g=!0),\"On\"===window.gNoImageWithData&&\"data\"===window.gConnectionType&&(g=!1),p===!1&&(g=!1),g===!0?(a=l.replace(\"i.ftimg.net\",\"i.ftmailbox.com\"),figuresLazy[e]={imageTop:c,imageUrl:l,imageUrlBack:a,loadedClass:f}):figuresLazy[e]=\"\"}for(videos=document.querySelectorAll(\"figure.loading-video\"),videosLazy=[],videosLoadStatus=0,hostForVideo=\"\",\"localhost\"!==window.location.hostname&&0!==window.location.hostname.indexOf(\"192.168\")&&0!==window.location.hostname.indexOf(\"10.113\")&&0!==window.location.hostname.indexOf(\"127.0\")||(hostForVideo=\"http://www.ftchinese.com\"),e=0;e<videos.length;e++){var N=videos[e],k=findTop(N),S=N.offsetWidth,T=N.offsetHeight,A=N.getAttribute(\"data-vid\"),I=N.getAttribute(\"data-type\")||N.getAttribute(\"data-item-type\")||\"video\",E=N.getAttribute(\"data-autoplay\")||\"\",L=N.getAttribute(\"data-third-party-frame-url\"),O=\"\";if(\"yes\"===E?(E=\"true\",O=\"&videowall=yes\"):E=\"false\",S>0&&T>0&&t.indexOf(\"?ad=no\")===-1&&\"http://www.ftchinese.com\"!==hostForVideo){var H;H=L?L:hostForVideo+\"/\"+I+\"/\"+A+\"?i=2&w=\"+S+\"&h=\"+T+\"&autostart=\"+E+O,videosLazy[e]={ih:\\'<iframe name=\"video-frame\" id=\"video-frame\" style=\"width:100%;height:100%;position:absolute;\" src=\"\\'+H+\\'\" scrolling=\"no\" frameborder=\"0\" allowfullscreen=true></iframe>\\',videoTop:k}}else videosLazy[e]=\"\"}loadImagesLazy(),loadVideosLazy(),trackViewables()}function viewablesInit(){if(sections.length>0&&\"string\"==typeof window.gPageId&&\"\"!==window.gPageId){var e={block:0,banner:0,mpu:0,storympu:0,footer:0,\"in-story-recommend\":0};window.bBlocked=\"unknown\";for(var t=0;t<sections.length;t++){var o,n,a=findTop(sections[t]),i=sections[t].offsetHeight,s=\"other\",r=0,c=1e3,l=\"\",d=\"\",m=!1;o=!(\"object\"!=typeof viewables[t]||!viewables[t].viewed)&&viewables[t].viewed,sections[t].className.indexOf(\"bn-ph\")>=0?(0===t&&\"number\"!=typeof a&&document.getElementById(\"topad\")&&sections[t].previousSibling.offsetTop>0&&(a=sections[t].previousSibling.offsetTop,i=sections[t].previousSibling.offsetHeight),s=\"banner\",r=.5,m=!0):\"story_main_mpu\"===sections[t].id?(s=\"storympu\",r=.5,m=!0):sections[t].className.indexOf(\"mpu-container\")>=0?(s=\"mpu\",r=.5,m=!0):sections[t].className.indexOf(\"footer\")>=0?s=\"footer\":sections[t].className.indexOf(\"block\")>=0?s=\"block\":sections[t].className.indexOf(\"in-story-recommend\")>=0&&(s=\"in-story-recommend\"),m===!0&&(n=sections[t].querySelector(\".banner-iframe\"),null!==n&&(l=n.getAttribute(\"data-adch\")||\"\",d=n.getAttribute(\"data-adPosition\")||\"\")),e[s]++,\"number\"==typeof a?(viewables[t]={id:s+\"-\"+e[s],top:a,height:i,minimum:r,time:c,viewed:o,adch:l,adPosition:d},0===t&&(window.bBlocked=\"no\")):(viewables[t]=\"\",0===t&&(window.bBlocked=\"yes\")),sections[t].setAttribute(\"data-id\",s+\"-\"+e[s]),\"in-story-recommend\"===s&&window.gReplacedInstroyWithAd&&viewables[t]&&(viewables[t].id=\"instoryAd\"+textIndex,gInstoryAdHasTrackInview===!1?(viewables[t].viewed=!1,gInstoryAdHasTrackInview=!0):viewables[t].viewed=!0)}}}function stickyBottomPrepare(){var e=document.querySelector(\".o-nav__placeholder\");void 0===e&&(e=document.body),gNavOffsetY=findTop(e),bodyHeight=getBodyHeight(gNavOffsetY),\"object\"==typeof recommendInner&&(gRecomendOffsetY=findTop(recommendInner)),document.getElementById(\"story-action-placeholder\")&&(gShareOffsetY=findTop(document.getElementById(\"story-action-placeholder\"))),document.getElementById(\"audio-placeholder\")&&(gAudioOffsetY=findTop(document.getElementById(\"audio-placeholder\")));var t,o=document.querySelectorAll(\".sticky-element\").length,n=document.querySelector(\".sticky-element\");if(n&&(t=n.querySelector(\".sticky-element-inner\")),1===o&&n&&t){n.style.height=\"auto\",t.style.height=\"auto\",gStickyElementOffsetY=findTop(n);var a=n.offsetHeight,i=t.offsetWidth;a>0&&i>0&&(n.style.height=a+\"px\",t.style.height=a+\"px\",t.style.width=i+\"px\")}var s=document.getElementById(\"language-switch-placeholder\");if(s&&(gLanguageSwitchOffsetY=findTop(s)),w=window.innerWidth||document.documentElement.clientWidth||document.body.clientWidth,sectionsWithSide&&sectionsWithSide.length>0)for(var r=0;r<sectionsWithSide.length;r++)sectionClassName[r]=sectionsWithSide[r].className,w<hasSideWidth?(sectionClassNameNew[r]=sectionClassName[r].replace(/ fixmain| fixside| bottommain| bottomside| sticktop/g,\"\"),sectionClassNameNew[r]!==sectionClassName[r]&&(sectionClassName[r]=sectionClassNameNew[r],sectionsWithSide[r].className=sectionClassNameNew[r])):/fixmain|fixside|bottommain|bottomside|sticktop/.test(sectionClassName[r])||(containerTop[r]=findTop(sectionsWithSide[r]),mainHeight[r]=sectionsWithSide[r].querySelector(\".content-inner\").offsetHeight,sideHeight[r]=sectionsWithSide[r].querySelector(\".side-inner\").offsetHeight+defaultPadding,minHeight[r]=Math.min(mainHeight[r],sideHeight[r]),maxHeight[r]=Math.max(mainHeight[r],sideHeight[r]));viewablesInit()}function stickyBottomUpdate(){var e=htmlClass.replace(/( o-nav-sticky)|( tool-sticky)|( audio-sticky)|( sticky-element-on)/g,\"\");if(\"function\"==typeof requestAnimationFrame&&requestAnimationFrame(stickyBottomUpdate),\"number\"==typeof gLanguageSwitchOffsetY&&gLanguageSwitchOffsetY>gNavOffsetY?scrollTop+gNavOffsetY>=gLanguageSwitchOffsetY&&(e+=\" audio-sticky\"):\"number\"==typeof gShareOffsetY&&gShareOffsetY>gNavOffsetY?scrollTop>=gShareOffsetY?e+=\" tool-sticky\":scrollTop>=gNavHeight&&(e+=\" o-nav-sticky\"):scrollTop>=gNavOffsetY&&(e+=\" o-nav-sticky\"),\"number\"==typeof gAudioOffsetY&&gAudioOffsetY>gNavOffsetY&&scrollTop+gNavOffsetY>=gAudioOffsetY&&(e+=\" audio-sticky\"),\"number\"==typeof gStickyElementOffsetY&&gStickyElementOffsetY>gNavOffsetY&&scrollTop+gNavHeight>=gStickyElementOffsetY&&(e+=\" sticky-element-on\"),e!==htmlClass&&(htmlClass=e,document.documentElement.className=htmlClass),sectionsWithSideLength>0&&w>hasSideWidth)for(var t=0;t<sectionsWithSideLength;t++){sectionClassNameNew[t]=sectionClassName[t].replace(/fixmain|fixside|bottommain|bottomside|sticktop/g,\"\");var o=0,n=0,a=\"\";maxHeight[t]+gNavHeight+defaultPadding>=bodyHeight&&maxHeight[t]-minHeight[t]>=100&&(minHeight[t]+gNavHeight+defaultPadding<bodyHeight?(a=\" sticktop\",o=containerTop[t]+maxHeight[t]-minHeight[t]-scrollTop-gNavHeight-defaultPadding,n=containerTop[t]-gNavHeight-scrollTop-defaultPadding,/side-left/.test(sectionClassName[t])&&(o+=defaultPadding)):(o=containerTop[t]+maxHeight[t]-bodyHeight-scrollTop,n=containerTop[t]+minHeight[t]-bodyHeight-scrollTop,/side-left/.test(sectionClassName[t])&&(o+=defaultPadding/2)),mainHeight[t]>sideHeight[t]?o<=0?sectionClassNameNew[t]+=\" bottomside\":n<=0&&(sectionClassNameNew[t]+=\" fixside\"+a):mainHeight[t]<sideHeight[t]&&(o<30?sectionClassNameNew[t]+=\" bottommain\":n<0&&(sectionClassNameNew[t]+=\" fixmain\"+a))),sectionClassNameNew[t]=sectionClassNameNew[t].replace(/[\\\\s]+/g,\" \"),sectionClassNameNew[t]!==sectionClassName[t]&&(sectionClassName[t]=sectionClassNameNew[t],sectionsWithSide[t].className=sectionClassNameNew[t])}if(\"object\"==typeof stickyAds&&stickyAds.length>0)for(var i=0;i<stickyAds.length;i++){var s=stickyAds[i].oTop-scrollTop-gNavHeight,r=s+stickyAds[i].stickyHeight,c=\"\";c=s<=0&&r>0?\" is-fix\":\"\",c=\"banner-container\"+c,c!==stickyAds[i].currentClass&&(stickyAds[i].currentClass=c,document.getElementById(stickyAds[i].BannerId).parentNode.parentNode.parentNode.className=c)}gRecomendInViewNoted===!1&&window.recommendLoaded===!0&&\"object\"==typeof window.recommendInner&&gRecomendOffsetY>0&&scrollTop+bodyHeight>gRecomendOffsetY&&(void 0===window.ftItemId&&(window.ftItemId=\"\"),gRecomendInViewNoted=!0),\"object\"==typeof inreadAd&&inreadAd.h>0&&inreadAd.t>0&&inreadAd.displayed===!1&&scrollTop+bodyHeight>inreadAd.t+inreadAd.h&&showInreadAd(),loadImagesLazy(),loadVideosLazy(),trackViewables()}function requestTick(){ticking||requestAnimationFrame(stickyBottomUpdate),ticking=!0}function stickyBottom(){scrollTop=window.scrollY||document.documentElement.scrollTop,\"function\"==typeof requestAnimationFrame?requestTick():stickyBottomUpdate()}function setResizeClass(){htmlClass.indexOf(\" resized\")<0&&gShowLanguageSwitchOnly===!1&&(htmlClass+=\" resized\",document.documentElement.className=htmlClass)}function validHTMLCode(){if(!/print|findpassword|search|corp|marketing|event|innotree|webview=ftcapp|newad=yes/.test(window.location.href)){var e=!1;document.querySelectorAll&&(\"home\"===window.gPageId?0===document.querySelectorAll(\".item-container\").length&&(e=!0):\"story\"===window.gPageId?0===document.querySelectorAll(\".story-body, .subscribe-lock-container\").length&&(e=!0):\"string\"==typeof window.gPageId&&0===document.querySelectorAll(\".item-container\").length&&(e=!0),e===!0&&ga(\"send\",\"event\",\"CatchError\",\"Page Validation Fail\",\"Some Page\",{nonInteraction:1}))}}function checkLanguageSwitch(){var e,t=document.referrer||\"\",o=window.location.hostname||\"\",n=\"\"!==t&&\"\"!==o&&t.indexOf(o)>=0;e=!!document.querySelector(\".language-switch-inner\"),(n||isTouchDevice())&&e?(document.documentElement.className+=\" show-language-switch-only audio-sticky\",gShowLanguageSwitchOnly=!0):gShowLanguageSwitchOnly=!1}function isHidden(e){return null===e.offsetParent}function openLink(e){try{webkit.messageHandlers.link.postMessage(e)}catch(t){document.location=e}}function trackInternalPromos(){setTimeout(function(){for(var e=document.querySelectorAll(\".n-internal-promo\"),t=0;t<e.length;t++){var o=e[t],n=o.getAttribute(\"data-promo-id\"),a=o.getAttribute(\"data-promo-name\"),i=o.getAttribute(\"data-promo-creative\"),s=o.getAttribute(\"data-promo-position\");isHidden(o)===!1&&(ga(\"ec:addPromo\",{id:n,name:a,creative:i,position:s}),ga(\"send\",\"event\",\"Web Privileges\",\"Display\",\"From:\"+n,{nonInteraction:1}),o.onclick=function(){var e=this.getAttribute(\"data-promo-id\"),t=this.getAttribute(\"data-promo-name\"),o=this.getAttribute(\"data-promo-creative\"),n=this.getAttribute(\"data-promo-position\");ga(\"ec:addPromo\",{id:e,name:t,creative:o,position:n}),ga(\"ec:setAction\",\"promo_click\");var a=this.href;return ga(\"send\",\"event\",\"Web Privileges\",\"Tap\",\"From:\"+e,{hitCallback:function(){openLink(a)}}),!ga.loaded})}},3e3)}function changeFontSize(){fontOptionsEle=document.getElementById(\"font-options\"),fontOptionsEle.onclick=function(e){var t,o=e.target.className||\"\",n=document.querySelector(\".story-container\").className;o.indexOf(\"selected\")<0&&(t=fontOptionsEle.querySelector(\".selected\")?fontOptionsEle.querySelector(\".selected\").className||\"\":\"\",t=t.replace(/ selected/g,\"\"),fontOptionsEle.querySelector(\".selected\")&&(fontOptionsEle.querySelector(\".selected\").className=t),e.target.className=o+\" selected\",SetCookie(\"fs\",o,\"\",\"/\"),n=n.replace(/ (normal|bigger|biggest|smaller|smallest)/g,\"\"),document.querySelector(\".story-container\").className=n+\" \"+o,stickyBottomPrepare(),stickyAdsPrepare(),setResizeClass())}}function checkFontSize(e){if(fs=e||GetCookie(\"fs\"),SetCookie(fs),\"string\"==typeof fs&&null!==fs&&\"\"!==fs&&document.getElementById(\"font-options\")&&document.querySelector(\".story-container\")){document.getElementById(\"font-options\").querySelector(\".\"+fs.replace(/ /g,\".\")).className=fs+\" selected\";for(var t=[\"smallest\",\"smaller\",\"normal\",\"bigger\",\"biggest\"],o=document.querySelector(\".story-container\").className,n=0;n<t.length;n++)o=o.replace(\" \"+t[n],\"\");document.querySelector(\".story-container\").className=o+\" \"+fs,setResizeClass()}else document.getElementById(\"font-setting\").querySelector(\".normal\").className=\"normal selected\"}function getRec(e){if(\"object\"==typeof e&&e.length>0){for(var t=\"\",o=\"\",n=0,a=e.length;n<a;n++)if(e[n])if(1===e[n].isAd)adData=e[n];else{var i=e[n].id,s=e[n].parameter;i&&s&&(t+=o+i,o=\",\",thirdPartData[i]=s)}t&&t.length>0&&(message.head={},message.head.transactiontype=\"10002\",message.head.source=\"web\",message.body={},message.body.ielement={},message.body.ielement.storyid=t,message.body.ielement.withpic=1,ftc_api.method=ajaxMethod,ftc_api.server_url=ajaxUrl,ftc_api.call(message,getThirdPartRecommendSuccess,getThirdPartRecommendFailed))}}function getThirdPartRecommendSuccess(e){e=JSON.parse(e),\"0\"===e.body.oelement.errorcode&&e.body.odatalist&&e.body.odatalist.length>0&&(recommendData=e.body.odatalist,recommendPayLoad(recommendData,adData))}function getThirdPartRecommendFailed(){console.log(\"getThirdPartRecommendFaild\")}function recommendPayLoad(e,t){if(console.log(e),window.suppressRecommendation!==!0){for(var o,n,a,i,s,r,c,l,d=8,m=0,u=\"\",g=\"\",f=\"Click\"+recommendVersion,h=0,p=0,y=0;y<e.length;y++){var v=\"XL3 L3 M6 S6 P12\",w=\"\",b=\"PT\";if(p%4===0&&(b+=\" XLT LT\"),p%2===0&&(b+=\" MT ST\"),\"\"!==b&&p>0&&(w=\\'<div class=\"\\'+b+\\'\"></div>\\'),o=e[y].cheadline,n=e[y].piclink,a=e[y].storyid,i=e[y].t,s=e[y].lead||e[y].clongleadbody||e[y].cshortleadbody||\"\",r=e[y].tag||\"为您推荐\",r=r.replace(/[,，].*$/g,\"\"),void 0!==i&&null!==i||(i=\"\"),c=\"/story/\"+a+\"?tcode=smartrecommend&ulu-rcmd=\"+thirdPartData[a],m<d)if(console.log(h),0===h&&1===t.isAd&&y===uluAdPosition){console.log(\"b\"),console.log(\"uluAdPosition:\"+uluAdPosition);var N,k,S,T;N=t.title,k=t.pic,S=t.url,T=w+\\'<div class=\"item-container \\'+v+\\' has-image no-lead is-ad\" ><div class=\"item-inner\"><h2 class=\"item-headline\"><a data-ec=\"Story Recommend\" data-ea=\"\\'+f+\\'\" data-el= \"uluAd\" target=\"_blank\" href=\"\\'+S+\\'\">\\'+N+\\'</a></h2><a data-ec=\"Story Recommend\" data-ea=\"\\'+f+\\'\" data-el= \"uluAd\" class=\"image\" target=\"_blank\" href=\"\\'+S+\\'\"><figure class=\"loading\" data-url=\"\\'+k+\\'\"></figure></a><div class=\"item-bottom\"></div></div></div>\\',k&&\"\"!==k&&(console.log(\"c\"),g+=T,m++,gThereIsUluAd=1),h=1,y--,p++}else if(e[y]&&n&&\"\"!==n){if(showRecommendTop&&y<=3){var A=\"https://www.ft.com/__origami/service/image/v2/images/raw/\"+encodeURIComponent(n)+\"?source=ftchinese&width=74\";l=\\'<li class=\"toprecommend-item\"><div class=\"toprecommend-item-content\"><div class=\"toprecommend-item-title\"><a href=\"\\'+c+\\'\">\\'+o+\\'</a></div><div class=\"toprecommend-item-image\"><a href=\"\\'+c+\\'\"><img src=\"\\'+A+\\'\"></a></div></div></li>\\',u+=l}else l=w+\\'<div class=\"item-container \\'+v+\\' has-image no-lead\"><div class=\"item-inner\"><h2 class=\"item-headline\"><a data-ec=\"Story Recommend\" data-ea=\"\\'+f+\\'\" data-el=\"\\'+i+\"/story/\"+a+\\'\" target=\"_blank\" href=\"\\'+c+\\'\">\\'+o+\\'</a></h2><a data-ec=\"Story Recommend\" data-ea=\"\\'+f+\\'\" data-el=\"\\'+i+\"/story/\"+a+\\'\" class=\"image\" target=\"_blank\" href=\"\\'+c+\\'\"><figure class=\"loading\" data-url=\"\\'+n+\\'\"></figure></a><div class=\"item-bottom\"></div></div></div>\\',g+=l,p++;m+=1}}showRecommendTop&&(recommendTop.innerHTML=u),recommendBottom&&(recommendBottom.innerHTML=g),bindFeedbackEvent(),document.getElementById(\"story-recommend-container\").style.display=\"block\",loadImages();try{stickyBottomPrepare()}catch(e){}recommendLoaded=!0}}function bindFeedbackEvent(){var e=new Delegate(document.getElementById(\"story-recommend\"));\"-002\"===recommendVersion&&e.on(\"click\",\"a\",function(e,t){try{var o=t.getAttribute(\"href\"),n=o.replace(/^\\\\/story\\\\/([0-9]+)\\\\?.*$/g,\"$1\"),a=o.replace(/^.*ulu-rcmd=([^&]+).*$/g,\"$1\");ftc_api.jsonp(thirdPartFeedbackUrl+\"&recId=\"+n+\"&cki=\"+userId+\"&parameter=\"+a)}catch(e){}})}function getRandomInt(e,t){return e=Math.ceil(e),t=Math.floor(t),Math.floor(Math.random()*(t-e))+e}function getDeviceSpecie(){var e=navigator.userAgent||navigator.vendor||\"\",t=\"PC\";return/iPad/i.test(e)?t=\"iPad\":/OS [0-9]+\\\\_/i.test(e)&&(/iPhone/i.test(e)||/iPod/i.test(e))?t=\"iPhone\":/Android|micromessenger/i.test(e)&&(t=\"android\"),t}function Toggler(e){function t(){i.isOpen=!i.isOpen,i.isOpen?(i.button.setAttribute(\"aria-expanded\",\"true\"),i.target.setAttribute(\"aria-hidden\",\"false\")):(i.button.setAttribute(\"aria-expanded\",\"false\"),i.target.setAttribute(\"aria-hidden\",\"true\"))}function o(e){i.isOpen&&27===e.keyCode&&t()}function n(o){i.isOpen&&!e.contains(o.target)&&t()}function a(){e||(e=document.body);var a=e.querySelector(s),c=e.querySelector(r);a&&(i.rootEl=e,i.button=a,i.target=c,i.isOpen=!1,i.button.addEventListener(\"click\",t),document.body.addEventListener(\"click\",n),document.body.addEventListener(\"keydown\",o))}var i=this,s=\"[data-o-toggler-button]\",r=\"[data-o-toggler-target]\";a()}function Nav(e){function t(){e||(e=document.body);var t=new Delegate(e);s.delegate=t,s.rootEl=e}function o(){var e=\".nav-section-head.mobile\",t=s.rootEl.querySelectorAll(e);s.delegate.on(\"click\",e,function(e,o){for(var n=0;n<t.length;n++)t[n].setAttribute(\"aria-selected\",\"false\");o.setAttribute(\"aria-selected\",\"true\")})}function n(){var e=s.rootEl.querySelector(\"[data-o-nav-togglable]\"),t=i.navClassName+\"--open\";e&&e.addEventListener(\"click\",function(){document.documentElement.classList.toggle(t),document.body.classList.toggle(t)})}function a(){var e=\"[data-o-nav-togglable]\";s.delegate.on(\"click\",e,function(e,t){var o=t.getAttribute(\"aria-pressed\");\"true\"===o?t.setAttribute(\"aria-pressed\",\"false\"):\"false\"!==o&&o||t.setAttribute(\"aria-pressed\",\"true\")})}var i={navClassName:\"o-nav\"},s=this;t(),n(),a(),o()}function searchRedirect(e){if(\"string\"==typeof e&&(e=document.querySelector(e)),e){var t=e.querySelector(\".search-input\"),o=window.location.protocol+\"//\"+window.location.hostname+\"/archiver/\",n=/^(20\\\\d{2})[-\\\\s\\\\/](0[1-9]|1[012])[-\\\\s\\\\/](0[1-9]|[12][0-9]|3[01])$/;e.addEventListener(\"submit\",function(e){var a=t.value,i=a.match(n);if(i){e.preventDefault();var s=i.slice(1).join(\"-\");console.log(s),window.location.assign(o+s)}})}}function getEmptyNavSections(e){for(var t=\".nav-section\",o=e.querySelectorAll(t),n={},a=0,i=o.length;a<i;a++){var s=o[a],r=s.getAttribute(\"aria-selected\"),c=s.getAttribute(\"data-section\");!r&&c&&(n[c]=s)}return n}function zipObject(e,t){for(var o in e)e.hasOwnProperty(o)&&o in t&&e[o].appendChild(t[o])}function stringToDOM(e){var t=document.createElement(\"ol\");t.innerHTML=e;var o={},n=t.querySelectorAll(\".nav-section\");if(n.length>0)for(var a=0,i=n.length;a<i;a++){var s=n[a],r=s.getAttribute(\"data-section\"),c=s.querySelector(\".nav-items\");o[r]=c}else for(var l=t.getElementsByTagName(\"li\"),d=0;d<l.length;d++){var m=l[d];if(m.className.search(/nav-section/)>-1)for(var u=m.getAttribute(\"data-section\"),g=m.getElementsByTagName(\"ol\"),f=0;f<g.length;f++){var h=g[f];if(h.className.search(/nav-items/)!==-1){var p=h;o[u]=p}}}return o}function contains(e,t){if(e&&e.length>0&&t&&t.value&&t.tag)for(var o=0;o<e.length;o++)if(e[o].value===t.value&&e[o].tag===t.tag)return!0;return!1}function checkFollow(){var e,t,o=new XMLHttpRequest,n={};n.head={},n.head.transactiontype=\"31004\",n.head.source=\"web\",n.body={},n.body.ielement={},/127\\\\.0|localhost|192\\\\.168/.test(window.location.href)?(e=\"GET\",t=\"/api/page/recommend.json\"):(e=\"POST\",t=\"/eaclient/apijson.php\"),o.open(e,encodeURI(t)),o.setRequestHeader(\"Content-Type\",\"application/json\"),o.onload=function(){if(200===o.status)for(var e=JSON.parse(o.responseText),t=document.querySelectorAll(\"button.myft-follow\"),n=0;n<t.length;n++){var a={};a.type=t[n].getAttribute(\"data-type\"),a.value=t[n].getAttribute(\"data-tag\"),contains(e.body.odatalist,a)===!0&&(t[n].innerHTML=\"已关注\",t[n].className=t[n].className.replace(/ plus/g,\" tick\"))}},o.send(JSON.stringify(n))}Delegate.prototype.root=function(e){var t,o=this.listenerMap;if(this.rootElement){for(t in o[1])o[1].hasOwnProperty(t)&&this.rootElement.removeEventListener(t,this.handle,!0);for(t in o[0])o[0].hasOwnProperty(t)&&this.rootElement.removeEventListener(t,this.handle,!1)}if(!e||!e.addEventListener)return this.rootElement&&delete this.rootElement,this;this.rootElement=e;for(t in o[1])o[1].hasOwnProperty(t)&&this.rootElement.addEventListener(t,this.handle,!0);for(t in o[0])o[0].hasOwnProperty(t)&&this.rootElement.addEventListener(t,this.handle,!1);return this},Delegate.prototype.captureForType=function(e){return[\"blur\",\"error\",\"focus\",\"load\",\"resize\",\"scroll\"].indexOf(e)!==-1},Delegate.prototype.on=function(e,t,o,n){var a,i,s,r;if(!e)throw new TypeError(\"Invalid event type: \"+e);if(\"function\"==typeof t&&(n=o,o=t,t=null),void 0===n&&(n=this.captureForType(e)),\"function\"!=typeof o)throw new TypeError(\"Handler must be a type of Function\");return a=this.rootElement,i=this.listenerMap[n?1:0],i[e]||(a&&a.addEventListener(e,this.handle,n),i[e]=[]),t?/^[a-z]+$/i.test(t)?(r=t,s=matchesTag):/^#[a-z0-9\\\\-_]+$/i.test(t)?(r=t.slice(1),s=matchesId):(r=t,s=matches):(r=null,s=matchesRoot.bind(this)),i[e].push({selector:t,handler:o,matcher:s,matcherParam:r}),this},Delegate.prototype.off=function(e,t,o,n){var a,i,s,r,c;if(\"function\"==typeof t&&(n=o,o=t,t=null),void 0===n)return this.off(e,t,o,!0),this.off(e,t,o,!1),this;if(s=this.listenerMap[n?1:0],!e){for(c in s)s.hasOwnProperty(c)&&this.off(c,t,o);return this}if(r=s[e],!r||!r.length)return this;for(a=r.length-1;a>=0;a--)i=r[a],t&&t!==i.selector||o&&o!==i.handler||r.splice(a,1);return r.length||(delete s[e],this.rootElement&&this.rootElement.removeEventListener(e,this.handle,n)),this},Delegate.prototype.handle=function(e){var t,o,n,a,i,s,r,c=e.type,l=[],d=\"ftLabsDelegateIgnore\";if(e[d]!==!0){switch(r=e.target,3===r.nodeType&&(r=r.parentNode),n=this.rootElement,a=e.eventPhase||(e.target!==e.currentTarget?3:2)){case 1:l=this.listenerMap[1][c];break;case 2:this.listenerMap[0]&&this.listenerMap[0][c]&&(l=l.concat(this.listenerMap[0][c])),this.listenerMap[1]&&this.listenerMap[1][c]&&(l=l.concat(this.listenerMap[1][c]));break;case 3:l=this.listenerMap[0][c]}for(o=l.length;r&&o;){for(t=0;t<o&&(i=l[t],i);t++)if(i.matcher.call(r,i.matcherParam,r)&&(s=this.fire(e,r,i)),s===!1)return e[d]=!0,void e.preventDefault();if(r===n)break;o=l.length,r=r.parentElement}}},Delegate.prototype.fire=function(e,t,o){return o.handler.call(t,e,t)};var matches=function(e){if(e){var t=e.prototype;return t.matches||t.matchesSelector||t.webkitMatchesSelector||t.mozMatchesSelector||t.msMatchesSelector||t.oMatchesSelector}}(Element);Delegate.prototype.destroy=function(){this.off(),this.root()};var containerTop=[],mainHeight=[],sideHeight=[],bodyHeight,gNavOffsetY=0,gNavHeight=44,gShareOffsetY,gStickyElementOffsetY,gAudioOffsetY,gLanguageSwitchOffsetY,gRecomendOffsetY,gRecomendInViewNoted=!1,gInstoryAdHasTrackInview=!1,ftItemId=window.FTStoryid||window.interactiveId||\"\",defaultPadding=30,hasSideWidth=690,sectionsWithSide=document.querySelectorAll(\".block-container.has-side\"),sections=document.querySelectorAll(\".block-container, .footer-container, .bn-ph, .mpu-container, #story_main_mpu, .in-story-recommend\"),delegate,htmlClass=document.documentElement.className,sectionsWithSideLength=sectionsWithSide.length,sectionClassName=[],sectionClassNameNew=[],minHeight=[],maxHeight=[],isRetinaDevice=window.devicePixelRatio>1,scrollTop=window.scrollY||document.documentElement.scrollTop,ticking=!1,hostForVideo=\"\",currentFavButton,figures=document.querySelectorAll(\"figure.loading\"),figuresLazy=[],figuresLoadStatus=0,videos=document.querySelectorAll(\"figure.loading-video\"),videosLazy=[],videosLoadStatus=0,viewables=[],gShowLanguageSwitchOnly;try{delegate=new Delegate(document.body)}catch(e){}try{validHTMLCode()}catch(e){}gNavOffsetY=findTop(document.querySelector(\".o-nav__placeholder\")),0===gNavOffsetY&&(gNavOffsetY=findTop(document.querySelector(\".site-map\")));var addEvent=window.attachEvent||window.addEventListener,eventResize=window.attachEvent?\"onresize\":\"resize\",eventScroll=window.attachEvent?\"onscroll\":\"scroll\";if(checkLanguageSwitch(),(gNavOffsetY>30&&w>490&&isTouchDevice()===!1||document.getElementById(\"audio-placeholder\"))&&gShowLanguageSwitchOnly===!1)try{stickyBottomPrepare(),stickyAdsPrepare(),addEvent(eventScroll,function(){stickyBottom()}),addEvent(eventResize,function(){stickyBottomPrepare(),stickyAdsPrepare(),setResizeClass(),loadImages()}),setInterval(function(){stickyBottomPrepare(),stickyAdsPrepare()},1e4)}catch(e){}else bodyHeight=getBodyHeight(),addEvent(eventResize,function(){console.log(\"test:onresize\"),bodyHeight=getBodyHeight(),loadImages(),setResizeClass()}),addEvent(eventScroll,function(){scrollTop=window.scrollY||document.documentElement.scrollTop,loadImagesLazy(),loadVideosLazy(),trackViewables()});\"undefined\"==typeof SVGRect&&(document.documentElement.className+=\" no-svg\"),loadImages(),viewablesInit();try{delegate.on(\"error\",\"img\",function(){if(\"\"!==this.getAttribute(\"src\")){var e=this.getAttribute(\"data-backupimage\")||\"\";\"\"!==e?(this.setAttribute(\"data-backupimage\",\"\"),this.src=e):(this.setAttribute(\"data-hide-image-reason\",\"failed to load\"),this.style.display=\"none\")}})}catch(e){}try{delegate.on(\"click\",\".video-package .XL2 a.image\",function(){var e=hostForVideo+this.getAttribute(\"href\"),t=this.parentNode.parentNode.parentNode,o=t.querySelector(\"#video-package-play\"),n=o.offsetWidth,a=o.offsetHeight,i=this.parentNode.parentNode,s=i.querySelector(\".item-headline a\").innerHTML,r=this.parentNode.parentNode.parentNode.querySelectorAll(\".video-package .XL2\");e=e.replace(/#.*$/g,\"\");for(var c=0;c<r.length;c++){var l=r[c].className;l.indexOf(\" on\")>=0&&(l=l.replace(\" on\",\"\"),r[c].className=l)}return this.parentNode.parentNode.className+=\" on\",o.querySelector(\"iframe\").src=e+\"?i=2&k=1&w=\"+n+\"&h=\"+a+\"&autostart=true\",t.querySelector(\".video-package-title a\").innerHTML=s,t.querySelector(\".video-package-title a\").href=e,!1}),delegate.on(\"click\",\"a, .track-click\",function(){var e=this.getAttribute(\"data-ec\")||\"\",t=this.getAttribute(\"data-ea\")||\"\",o=this.getAttribute(\"data-el\")||\"\";if(\"\"!==e&&\"\"!==t&&(console.log(\"yes\"),console.log(this.className),this.className.indexOf(\"track-click\")>=0&&ga(\"send\",\"event\",e,t,o),\"uluAd\"===o)){var n=new Image,a=\"http://e.cn.miaozhen.com/r/k=2049651&p=76w3I&dx=__IPDX__&rt=2&ns=__IP__&ni=__IESID__&v=__LOC__&xa=__ADPLATFORM__&tr=__REQUESTID__&mo=__OS__&m0=__OPENUDID__&m0a=__DUID__&m1=__ANDROIDID1__&m1a=__ANDROIDID__&m2=__IMEI__&m4=__AAID__&m5=__IDFA__&m6=__MAC1__&m6a=__MAC__&o=\",i=0,s=\"Success\",r=\"Fail\",c=function(){i>0&&(s=\"Success\"+i,r=\"Fail\"+i),n.onload=function(){},n.onerror=function(){i++,i<=5&&c()},n.src=a};c()}}),delegate.on(\"click\",\".overlay\",function(e){\"cell\"===e.target.className&&closeOverlay()})}catch(e){}delegate.on(\"click\",\".overlay-close, .overlay-bg\",function(){var e=this.getAttribute(\"data-parentid\");closeOverlay(e)}),delegate.on(\"click\",\".current-edition span\",function(){var e=this.parentNode.parentNode.className;e.indexOf(\" on\")>0?e=e.replace(/ on/g,\"\"):e+=\" on\",this.parentNode.parentNode.className=e}),delegate.on(\"click\",\".icon-save button\",function(){if(\"\"===username||null===username)return void alert(\"您必须登录后能才能收藏文章!\");var e,t=this.id.replace(/addfavlink/g,\"\");if(\"收藏\"===this.innerHTML)e=\"add\";else{if(\"删除\"!==this.innerHTML)return;e=\"remove\"}currentFavButton=document.getElementById(\"addfavlink\"+t)||document.getElementById(\"addfavlink\"),currentFavButton.innerHTML=\"add\"===e?\"保存...\":\"删除...\";var o=new XMLHttpRequest;o.open(\"POST\",\"/users/\"+e+\"favstory/\"+t),o.setRequestHeader(\"Content-Type\",\"application/text\"),o.onload=function(){if(200===o.status){var t=o.responseText;\"ok\"!==t&&\"\"!==t||(currentFavButton.innerHTML=\"add\"===e?\"删除\":\"收藏\")}else 200!==o.status},o.send(JSON.stringify({storyid:t}))}),delegate.on(\"click\",\".close-img\",function(){var e=document.querySelector(\".warn-content\");e&&(e.style.display=\"none\",SetCookie(\"DSW\",\"1\",\"\",\"/\",null))}),trackInternalPromos();var deleteWarn=GetCookie(\"DSW\")||\"\",warnContent=document.querySelector(\".warn-content\");warnContent&&(deleteWarn?warnContent.style.display=\"none\":warnContent.style.display=\"block\");var fontOptionsEle,fs,ajaxMethod,ajaxUrl,message={},recommendLoaded=!1,recommendTop=document.getElementById(\"story-recommend-top\"),recommendTopPart=document.getElementById(\"recommend-top-part\"),showRecommendTop=recommendTopPart&&recommendTopPart.offsetHeight>0&&recommendTop,recommendBottom=document.getElementById(\"story-recommend-bottom\"),recommendVersion,uluAdPosition=getRandomInt(1,5),thirdPartAPIUrl=\"//uluai.com.cn/rcmd/getRtCmd?siteId=5002&num=12&itemId=\"+ftItemId+\"&position=\"+uluAdPosition,thirdPartFeedbackUrl=\"//uluai.com.cn/rcmd/rec/click?siteId=5002&itemId=\"+ftItemId+\"&position=\"+uluAdPosition,thirdPartData=[],userId,recommendData=[],adData={};recommendVersion=\"-002\",/127\\\\.0|localhost|192\\\\.168/.test(window.location.href)?(ajaxMethod=\"GET\",ajaxUrl=\"/api/page/recommend.json\"):(ajaxMethod=\"POST\",ajaxUrl=\"/eaclient/apijson.php\");var ftc_api={server_url:\"\",method:\"POST\",call:function(e,t,o){var n=new XMLHttpRequest;try{if(\"\"===this.server_url)throw\"The server address is empty!\";n.open(this.method,encodeURI(this.server_url),!0),n.setRequestHeader(\"Content-Type\",\"application/json\"),n.onreadystatechange=function(){4===n.readyState&&(200===n.status?\"function\"==typeof t&&t(n.responseText):\"function\"==typeof o&&o(n.status))},n.send(JSON.stringify(e))}catch(e){}},jsonp:function(e){var t=document.createElement(\"script\");t.type=\"text/javascript\",t.async=!0,t.src=e;var o=document.getElementsByTagName(\"script\")[0];o.parentNode.insertBefore(t,o)}},userIdForYoulu=GetCookie(\"USER_ID\")||GetCookie(\"uniqueVisitorId\");null===userIdForYoulu&&(userIdForYoulu=guid(),SetCookie(\"uniqueVisitorId\",userIdForYoulu,\"\",\"/\")),ftc_api.jsonp(thirdPartAPIUrl+\"&callback=getRec&cki=\"+userId+\"&v=\"+(new Date).getTime());try{checkFontSize(),changeFontSize()}catch(e){}var subscribeNow=document.getElementById(\"subscribe-now\"),openApp=document.getElementById(\"open-app\");try{if(subscribeNow){var hrefLink=\"http://www.ftchinese.com/index.php/ft/subscription?el=\"+window.gSubscriptionEventLabel;subscribeNow.href=hrefLink,subscribeNow.onclick=function(){ga(\"ec:addPromo\",{id:window.gSubscriptionEventLabel,name:window.gSubscriptionEventLabel,creative:location.href,position:\"become a member\"}),ga(\"ec:setAction\",\"promo_click\"),ga(\"send\",\"event\",\"Web Privileges\",\"Tap\",window.gSubscriptionEventLabel)},updateClientIdLinks()}}catch(e){}var deviceSpecie=getDeviceSpecie();try{if(openApp){var pathname=window.location.pathname,paraArr=pathname.split(\"/\"),storyId=paraArr[paraArr.length-1]; \"iPad\"===deviceSpecie||\"iPhone\"===deviceSpecie?(openApp.innerHTML=\"App内打开\",storyId?openApp.href=\"/startapp.html?id=\"+storyId:openApp.href=\"/startapp.html\"):(openApp.innerHTML=\"下载应用&#x25BA;\",openApp.href=\"http://a.app.qq.com/o/simple.jsp?pkgname=com.ft\")}}catch(e){}searchRedirect(\"#search-form\");var ajax={getData:function(e,t){var o=new XMLHttpRequest;o.onreadystatechange=function(){4===o.readyState&&(o.status>=200&&o.status<300||304===o.status?t(null,o.responseText):t(o.status))},o.open(\"GET\",e),o.send(null)}},navEl=document.querySelector(\".o-nav\");new Nav(navEl);var searchEl=navEl.querySelector(\".o-nav__search\");new Toggler(searchEl);var emptyNavSections=getEmptyNavSections(navEl);ajax.getData(\"/m/corp/ajax-nav.html?hhhh\",function(e,t){if(e)return e;var o=stringToDOM(t);zipObject(emptyNavSections,o)});try{var eleFollow;delegate.on(\"click\",\".myft-follow\",function(){if(\"\"===window.username||null===window.username)document.getElementById(\"login-reason\").innerHTML=\"<b>请先登录再关注话题</b>\",showOverlay(\"overlay-login\");else{if(this.className.indexOf(\" pending\")>=0)return;this.className+=\" pending\";var e,t,o=this.className.indexOf(\" plus\")>0?1:0,n=this.innerHTML,a=\"pending\",i=new XMLHttpRequest,s={};s.head={},s.head.transactiontype=\"31003\",s.head.source=\"web\",s.body={},s.body.ielement={},s.body.ielement.type=this.getAttribute(\"data-type\"),s.body.ielement.value=this.getAttribute(\"data-tag\"),s.body.ielement.cmd=o,/127\\\\.0|localhost|192\\\\.168/.test(window.location.href)?(e=\"GET\",t=\"/api/page/recommend.json\"):(e=\"POST\",t=\"/eaclient/apijson.php\"),this.innerHTML=this.className.indexOf(\" plus\")>0?\"关注...\":\"取消关注...\",eleFollow=this,i.open(e,encodeURI(t)),i.setRequestHeader(\"Content-Type\",\"application/json\"),i.onload=function(){try{if(200===i.status){var e=JSON.parse(i.responseText);a=\"0\"===e.body.oelement.errorcode?\"success\":\"20101\"===e.body.oelement.errorcode?\"followed\":\"20100\"===e.body.oelement.errorcode?\"unfollowed\":\"failed\"}else 200!==i.status&&(this.innerHTML=\"操作失败\",a=\"failed\")}catch(e){a=\"failed\"}\"success\"===a?1===o?(eleFollow.innerHTML=\"已关注\",eleFollow.className=eleFollow.className.replace(\" plus\",\" tick\")):(eleFollow.innerHTML=\"关注\",eleFollow.className=eleFollow.className.replace(\" tick\",\" plus\")):\"followed\"===a?(eleFollow.innerHTML=\"已关注\",eleFollow.className=eleFollow.className.replace(\" plus\",\" tick\")):\"unfollowed\"===a?(eleFollow.innerHTML=\"关注\",eleFollow.className=eleFollow.className.replace(\" tick\",\" plus\")):(eleFollow.innerHTML=\"操作失败\",setTimeout(function(){eleFollow.innerHTML=n},1e3)),eleFollow.className=eleFollow.className.replace(/ pending/g,\"\")},i.send(JSON.stringify(s))}})}catch(e){}checkFollow(); // MARK: Don\\'t show inread ad for biligual stories if (w > 490 && isTouchDevice() === false && document.querySelectorAll(\\'.ce\\').length == 0) { var cssVersionNumber = \\'1539086624656\\'; document.write (\\'<scr\\'+\\'ipt src=\"http://dualstack.adsame-1421766300.ap-southeast-1.elb.amazonaws.com/s?z=ft&c=1000\\' + window.adChannelId + \\'0901\\' + slotStr + adReachability() + \\'\" charset=\"gbk\"></scr\\'+\\'ipt>\\'); // MARK: If a user reads more than n article in 30 days, ask hime/her to register document.write (\\'<scr\\'+\\'ipt src=\"https://static.ftimg.net/n/main-barrier.js?1539086624656\"></scr\\'+\\'ipt>\\'); }'"
      ]
     },
     "execution_count": 44,
     "metadata": {},
     "output_type": "execute_result"
    }
   ],
   "source": [
    "doc.text()"
   ]
  },
  {
   "cell_type": "code",
   "execution_count": 45,
   "metadata": {
    "collapsed": false
   },
   "outputs": [
    {
     "data": {
      "text/plain": [
       "['Fn',\n",
       " '__add__',\n",
       " '__call__',\n",
       " '__class__',\n",
       " '__contains__',\n",
       " '__delattr__',\n",
       " '__delitem__',\n",
       " '__dict__',\n",
       " '__dir__',\n",
       " '__doc__',\n",
       " '__eq__',\n",
       " '__format__',\n",
       " '__ge__',\n",
       " '__getattribute__',\n",
       " '__getitem__',\n",
       " '__gt__',\n",
       " '__hash__',\n",
       " '__html__',\n",
       " '__iadd__',\n",
       " '__imul__',\n",
       " '__init__',\n",
       " '__init_subclass__',\n",
       " '__iter__',\n",
       " '__le__',\n",
       " '__len__',\n",
       " '__lt__',\n",
       " '__module__',\n",
       " '__mul__',\n",
       " '__ne__',\n",
       " '__new__',\n",
       " '__reduce__',\n",
       " '__reduce_ex__',\n",
       " '__repr__',\n",
       " '__reversed__',\n",
       " '__rmul__',\n",
       " '__setattr__',\n",
       " '__setitem__',\n",
       " '__sizeof__',\n",
       " '__str__',\n",
       " '__subclasshook__',\n",
       " '__unicode__',\n",
       " '__weakref__',\n",
       " '_append',\n",
       " '_base_url',\n",
       " '_copy',\n",
       " '_css_to_xpath',\n",
       " '_extend',\n",
       " '_filter_only',\n",
       " '_get_root',\n",
       " '_next_all',\n",
       " '_parent',\n",
       " '_prev_all',\n",
       " '_translator',\n",
       " '_translator_class',\n",
       " '_traverse',\n",
       " '_traverse_parent_topdown',\n",
       " 'addClass',\n",
       " 'add_class',\n",
       " 'after',\n",
       " 'append',\n",
       " 'appendTo',\n",
       " 'append_to',\n",
       " 'attr',\n",
       " 'base_url',\n",
       " 'before',\n",
       " 'children',\n",
       " 'clear',\n",
       " 'clone',\n",
       " 'closest',\n",
       " 'contents',\n",
       " 'copy',\n",
       " 'count',\n",
       " 'css',\n",
       " 'each',\n",
       " 'empty',\n",
       " 'encoding',\n",
       " 'end',\n",
       " 'eq',\n",
       " 'extend',\n",
       " 'filter',\n",
       " 'find',\n",
       " 'fn',\n",
       " 'hasClass',\n",
       " 'has_class',\n",
       " 'height',\n",
       " 'hide',\n",
       " 'html',\n",
       " 'index',\n",
       " 'insert',\n",
       " 'insertAfter',\n",
       " 'insertBefore',\n",
       " 'insert_after',\n",
       " 'insert_before',\n",
       " 'is_',\n",
       " 'items',\n",
       " 'length',\n",
       " 'make_links_absolute',\n",
       " 'map',\n",
       " 'namespaces',\n",
       " 'next',\n",
       " 'nextAll',\n",
       " 'next_all',\n",
       " 'not_',\n",
       " 'outerHtml',\n",
       " 'outer_html',\n",
       " 'parent',\n",
       " 'parents',\n",
       " 'parser',\n",
       " 'pop',\n",
       " 'prepend',\n",
       " 'prependTo',\n",
       " 'prepend_to',\n",
       " 'prev',\n",
       " 'prevAll',\n",
       " 'prev_all',\n",
       " 'remove',\n",
       " 'removeAttr',\n",
       " 'removeClass',\n",
       " 'remove_attr',\n",
       " 'remove_class',\n",
       " 'remove_namespaces',\n",
       " 'replaceAll',\n",
       " 'replaceWith',\n",
       " 'replace_all',\n",
       " 'replace_with',\n",
       " 'reverse',\n",
       " 'root',\n",
       " 'show',\n",
       " 'siblings',\n",
       " 'size',\n",
       " 'sort',\n",
       " 'text',\n",
       " 'toggleClass',\n",
       " 'toggle_class',\n",
       " 'val',\n",
       " 'width',\n",
       " 'wrap',\n",
       " 'wrapAll',\n",
       " 'wrap_all',\n",
       " 'xhtml_to_html']"
      ]
     },
     "execution_count": 45,
     "metadata": {},
     "output_type": "execute_result"
    }
   ],
   "source": [
    "dir(doc)"
   ]
  },
  {
   "cell_type": "code",
   "execution_count": 46,
   "metadata": {
    "collapsed": false
   },
   "outputs": [
    {
     "data": {
      "text/plain": [
       "'story-body-container'"
      ]
     },
     "execution_count": 46,
     "metadata": {},
     "output_type": "execute_result"
    }
   ],
   "source": [
    "doc('#story-body-container').attr('id')"
   ]
  },
  {
   "cell_type": "code",
   "execution_count": 47,
   "metadata": {
    "collapsed": false
   },
   "outputs": [
    {
     "data": {
      "text/plain": [
       "'<p>中国指责唐纳德•特朗普(Donald Trump)表现出“错误言行”，这一表态暴露出世界上两个最大经济体之间日益紧张的局面，突显它们之间的贸易战可能升级为涉及面更广的区域对抗。</p><p>对美国总统的谴责是在美国国务卿迈克•蓬佩奥(Mike Pompeo)北京访问期间发表的，而就在几天前，美国副总统迈克•彭斯(Mike Pence)发表一篇措辞犀利的演讲，指责中国干涉美国的中期选举。</p><p>中国外交部长王毅指责特朗普“不断升级”对华贸易摩擦，同时在台湾等问题上“损害中方权益”，还“无端”指责中国的内外政策。</p><p>“我们要求美方立即停止错误言行。”王毅表示。他提醒蓬佩奥，北京方面是美国与朝鲜达成任何协议的关键。“两个大国，两个安理会常任理事国，需要也应该加强沟通合作，承担起国际社会赋予我们的职责。”</p><script type=\"text/javascript\">document.write (writeAdNew({devices: [\\'PC\\',\\'iPhoneWeb\\',\\'AndroidWeb\\',\\'iPhoneApp\\',\\'AndroidApp\\'],pattern:\\'MPU\\',position:\\'Middle1\\',container:\\'mpuInStory\\'}));</script><p>特朗普对北京方面祭出的关税边缘政策，其中包括对近一半中国输美产品加征关税，已在国际市场引发不安，国际货币基金组织(IMF)警告称，这可能会损害已经陷入艰难处境的新兴市场。</p><p>中国央行周一再次向国内银行体系注入资金，以便在美国贸易压力减缓中国经济增长的情况下刺激放贷。但此举未能安抚投资者，上证综指(Shanghai Composite)下跌3.7%，而人民币对美元汇率下跌0.9%。</p><p>然而，近日的外交争端是一个迹象，表明双边紧张局势已远远超出贸易范畴，此前白宫还批准3.3亿美元对台湾军售。</p><p>蓬佩奥周一表示，美中在王毅提出的几个问题上存在“根本分歧”。他告诉王毅：“我感到遗憾的是，你们选择取消我们两国之间的战略对话。”</p><p>预计未来几个月各方将在朝鲜问题上展开一波旋风式高层外交，蓬佩奥表示，朝鲜领导人金正恩(Kim Jong Un)已同意“尽快”与特朗普举行第二次峰会。他补充说，朝鲜愿意允许国际检查员评估该国迈向无核化的步骤。</p><p>据韩国国家元首文在寅(Moon Jae-in)透露，中国国家主席习近平预计也将前往平壤。文在寅还称，朝鲜和日本之间的峰会也是可能的。但分析人士表示，美国和中国之间日益扩大的分歧可能会给进展蒙上阴影。</p><script type=\"text/javascript\">document.write (writeAdNew({devices: [\\'iPhoneWeb\\',\\'AndroidWeb\\',\\'iPhoneApp\\',\\'AndroidApp\\'],pattern:\\'MPU\\',position:\\'Middle2\\',container:\\'mpuInStory\\'}));</script><p>“美国与中国之间的战略竞争已变得越来越激烈，这也成为中国最关切的地缘政治问题。”北京清华-卡内基全球政策中心(Carnegie-Tsinghua Center)的赵通表示，“在这种情况下，中国外交工作的核心目标不可避免地转向在对美竞争中取得优势地位。”</p><p>蓬佩奥是在访问平壤后抵达北京的。据朝鲜官方的朝中社(KCNA)报道，他在平壤期间与金正恩进行了“富有成效和融洽的”会谈。</p><p>克里姆林宫表示，俄罗斯已邀请金正恩进行国事访问，但尚未就具体安排达成一致。</p><p>“朝鲜领导人已接到邀请。在通过外交渠道商定具体的访问安排后，我方将适当地宣布此事。”弗拉基米尔•普京(Vladimir Putin)的发言人德米特里•佩斯科夫(Dmitry Peskov)表示。</p><p>译者/何黎</p>'"
      ]
     },
     "execution_count": 47,
     "metadata": {},
     "output_type": "execute_result"
    }
   ],
   "source": [
    "doc('#story-body-container').html()"
   ]
  },
  {
   "cell_type": "code",
   "execution_count": 48,
   "metadata": {
    "collapsed": false
   },
   "outputs": [
    {
     "data": {
      "text/plain": [
       "\"中国指责唐纳德•特朗普(Donald Trump)表现出“错误言行”，这一表态暴露出世界上两个最大经济体之间日益紧张的局面，突显它们之间的贸易战可能升级为涉及面更广的区域对抗。\\n对美国总统的谴责是在美国国务卿迈克•蓬佩奥(Mike Pompeo)北京访问期间发表的，而就在几天前，美国副总统迈克•彭斯(Mike Pence)发表一篇措辞犀利的演讲，指责中国干涉美国的中期选举。\\n中国外交部长王毅指责特朗普“不断升级”对华贸易摩擦，同时在台湾等问题上“损害中方权益”，还“无端”指责中国的内外政策。\\n“我们要求美方立即停止错误言行。”王毅表示。他提醒蓬佩奥，北京方面是美国与朝鲜达成任何协议的关键。“两个大国，两个安理会常任理事国，需要也应该加强沟通合作，承担起国际社会赋予我们的职责。”\\ndocument.write (writeAdNew({devices: ['PC','iPhoneWeb','AndroidWeb','iPhoneApp','AndroidApp'],pattern:'MPU',position:'Middle1',container:'mpuInStory'}));\\n特朗普对北京方面祭出的关税边缘政策，其中包括对近一半中国输美产品加征关税，已在国际市场引发不安，国际货币基金组织(IMF)警告称，这可能会损害已经陷入艰难处境的新兴市场。\\n中国央行周一再次向国内银行体系注入资金，以便在美国贸易压力减缓中国经济增长的情况下刺激放贷。但此举未能安抚投资者，上证综指(Shanghai Composite)下跌3.7%，而人民币对美元汇率下跌0.9%。\\n然而，近日的外交争端是一个迹象，表明双边紧张局势已远远超出贸易范畴，此前白宫还批准3.3亿美元对台湾军售。\\n蓬佩奥周一表示，美中在王毅提出的几个问题上存在“根本分歧”。他告诉王毅：“我感到遗憾的是，你们选择取消我们两国之间的战略对话。”\\n预计未来几个月各方将在朝鲜问题上展开一波旋风式高层外交，蓬佩奥表示，朝鲜领导人金正恩(Kim Jong Un)已同意“尽快”与特朗普举行第二次峰会。他补充说，朝鲜愿意允许国际检查员评估该国迈向无核化的步骤。\\n据韩国国家元首文在寅(Moon Jae-in)透露，中国国家主席习近平预计也将前往平壤。文在寅还称，朝鲜和日本之间的峰会也是可能的。但分析人士表示，美国和中国之间日益扩大的分歧可能会给进展蒙上阴影。\\ndocument.write (writeAdNew({devices: ['iPhoneWeb','AndroidWeb','iPhoneApp','AndroidApp'],pattern:'MPU',position:'Middle2',container:'mpuInStory'}));\\n“美国与中国之间的战略竞争已变得越来越激烈，这也成为中国最关切的地缘政治问题。”北京清华-卡内基全球政策中心(Carnegie-Tsinghua Center)的赵通表示，“在这种情况下，中国外交工作的核心目标不可避免地转向在对美竞争中取得优势地位。”\\n蓬佩奥是在访问平壤后抵达北京的。据朝鲜官方的朝中社(KCNA)报道，他在平壤期间与金正恩进行了“富有成效和融洽的”会谈。\\n克里姆林宫表示，俄罗斯已邀请金正恩进行国事访问，但尚未就具体安排达成一致。\\n“朝鲜领导人已接到邀请。在通过外交渠道商定具体的访问安排后，我方将适当地宣布此事。”弗拉基米尔•普京(Vladimir Putin)的发言人德米特里•佩斯科夫(Dmitry Peskov)表示。\\n译者/何黎\""
      ]
     },
     "execution_count": 48,
     "metadata": {},
     "output_type": "execute_result"
    }
   ],
   "source": [
    "doc('#story-body-container').text()"
   ]
  },
  {
   "cell_type": "code",
   "execution_count": null,
   "metadata": {
    "collapsed": true
   },
   "outputs": [],
   "source": []
  }
 ],
 "metadata": {
  "kernelspec": {
   "display_name": "Python 3",
   "language": "python",
   "name": "python3"
  },
  "language_info": {
   "codemirror_mode": {
    "name": "ipython",
    "version": 3
   },
   "file_extension": ".py",
   "mimetype": "text/x-python",
   "name": "python",
   "nbconvert_exporter": "python",
   "pygments_lexer": "ipython3",
   "version": "3.6.0"
  }
 },
 "nbformat": 4,
 "nbformat_minor": 2
}
